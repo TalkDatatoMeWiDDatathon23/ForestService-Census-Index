{
 "cells": [
  {
   "cell_type": "code",
   "execution_count": 28,
   "metadata": {
    "execution": {
     "iopub.execute_input": "2023-10-05T14:16:51.492860Z",
     "iopub.status.busy": "2023-10-05T14:16:51.490973Z",
     "iopub.status.idle": "2023-10-05T14:16:51.500804Z",
     "shell.execute_reply": "2023-10-05T14:16:51.499994Z",
     "shell.execute_reply.started": "2023-10-05T14:16:51.492789Z"
    },
    "tags": []
   },
   "outputs": [],
   "source": [
    "#trying this tutorial: https://www.natekratzer.com/posts/census_map/\n",
    "import numpy as np\n",
    "import geopandas as gpd\n",
    "import requests\n",
    "import pandas as pd"
   ]
  },
  {
   "cell_type": "code",
   "execution_count": 29,
   "metadata": {
    "execution": {
     "iopub.execute_input": "2023-10-05T14:16:53.733436Z",
     "iopub.status.busy": "2023-10-05T14:16:53.732898Z",
     "iopub.status.idle": "2023-10-05T14:16:55.638884Z",
     "shell.execute_reply": "2023-10-05T14:16:55.638200Z",
     "shell.execute_reply.started": "2023-10-05T14:16:53.733400Z"
    },
    "tags": []
   },
   "outputs": [],
   "source": [
    "#reading in file and mapping counties using WI as example\n",
    "county_shp = gpd.read_file('cb_2022_us_county_500k.zip')\n",
    "CA_counties = county_shp[county_shp.STATE_NAME == 'California']"
   ]
  },
  {
   "cell_type": "code",
   "execution_count": 30,
   "metadata": {
    "execution": {
     "iopub.execute_input": "2023-10-05T14:16:55.640443Z",
     "iopub.status.busy": "2023-10-05T14:16:55.640209Z",
     "iopub.status.idle": "2023-10-05T14:16:55.643002Z",
     "shell.execute_reply": "2023-10-05T14:16:55.642530Z",
     "shell.execute_reply.started": "2023-10-05T14:16:55.640425Z"
    },
    "tags": []
   },
   "outputs": [],
   "source": [
    "#wi_counties.explore()"
   ]
  },
  {
   "cell_type": "code",
   "execution_count": 31,
   "metadata": {
    "execution": {
     "iopub.execute_input": "2023-10-05T14:16:55.643985Z",
     "iopub.status.busy": "2023-10-05T14:16:55.643674Z",
     "iopub.status.idle": "2023-10-05T14:16:56.638074Z",
     "shell.execute_reply": "2023-10-05T14:16:56.636059Z",
     "shell.execute_reply.started": "2023-10-05T14:16:55.643966Z"
    },
    "tags": []
   },
   "outputs": [],
   "source": [
    "#load API key\n",
    "with open('/Users/isabellevea/Downloads/census_api_key.txt') as key:\n",
    "    api_key=key.read().strip()\n",
    "\n",
    "#specify the data source by year and survey\n",
    "year = '2020'\n",
    "dsource = 'dec' #Decennial Census\n",
    "dname = 'dhc' #Demographic and Housing Characteristics\n",
    "base_url = f'https://api.census.gov/data/{year}/{dsource}/{dname}'\n",
    "\n",
    "#unique to this specific data request\n",
    "cols = 'NAME,P1_001N' #NAME of geography as well as the variables I want to pull\n",
    "geo = 'county:*' #county geography level\n",
    "state = 'state:*' #all states\n",
    "\n",
    "#add unique request features to the base_url\n",
    "data_url = f'{base_url}?get={cols}&for={geo}&in={state}&key={api_key}'\n",
    "\n",
    "#go get the data\n",
    "response = requests.get(data_url)\n",
    "\n"
   ]
  },
  {
   "cell_type": "code",
   "execution_count": 32,
   "metadata": {
    "execution": {
     "iopub.execute_input": "2023-10-05T14:16:57.705487Z",
     "iopub.status.busy": "2023-10-05T14:16:57.704738Z",
     "iopub.status.idle": "2023-10-05T14:16:57.717497Z",
     "shell.execute_reply": "2023-10-05T14:16:57.716292Z",
     "shell.execute_reply.started": "2023-10-05T14:16:57.705439Z"
    },
    "tags": []
   },
   "outputs": [],
   "source": [
    "#take the data in json and format it into a dataframe\n",
    "data = response.json()"
   ]
  },
  {
   "cell_type": "code",
   "execution_count": 33,
   "metadata": {
    "execution": {
     "iopub.execute_input": "2023-10-05T14:16:58.443482Z",
     "iopub.status.busy": "2023-10-05T14:16:58.442431Z",
     "iopub.status.idle": "2023-10-05T14:16:58.464717Z",
     "shell.execute_reply": "2023-10-05T14:16:58.464074Z",
     "shell.execute_reply.started": "2023-10-05T14:16:58.443411Z"
    },
    "tags": []
   },
   "outputs": [
    {
     "data": {
      "text/html": [
       "<div>\n",
       "<style scoped>\n",
       "    .dataframe tbody tr th:only-of-type {\n",
       "        vertical-align: middle;\n",
       "    }\n",
       "\n",
       "    .dataframe tbody tr th {\n",
       "        vertical-align: top;\n",
       "    }\n",
       "\n",
       "    .dataframe thead th {\n",
       "        text-align: right;\n",
       "    }\n",
       "</style>\n",
       "<table border=\"1\" class=\"dataframe\">\n",
       "  <thead>\n",
       "    <tr style=\"text-align: right;\">\n",
       "      <th></th>\n",
       "      <th>NAME</th>\n",
       "      <th>P1_001N</th>\n",
       "      <th>state</th>\n",
       "      <th>county</th>\n",
       "    </tr>\n",
       "  </thead>\n",
       "  <tbody>\n",
       "    <tr>\n",
       "      <th>0</th>\n",
       "      <td>Madera County, California</td>\n",
       "      <td>156255</td>\n",
       "      <td>06</td>\n",
       "      <td>039</td>\n",
       "    </tr>\n",
       "    <tr>\n",
       "      <th>1</th>\n",
       "      <td>Marin County, California</td>\n",
       "      <td>262321</td>\n",
       "      <td>06</td>\n",
       "      <td>041</td>\n",
       "    </tr>\n",
       "    <tr>\n",
       "      <th>2</th>\n",
       "      <td>Mariposa County, California</td>\n",
       "      <td>17131</td>\n",
       "      <td>06</td>\n",
       "      <td>043</td>\n",
       "    </tr>\n",
       "    <tr>\n",
       "      <th>3</th>\n",
       "      <td>Mendocino County, California</td>\n",
       "      <td>91601</td>\n",
       "      <td>06</td>\n",
       "      <td>045</td>\n",
       "    </tr>\n",
       "    <tr>\n",
       "      <th>4</th>\n",
       "      <td>Merced County, California</td>\n",
       "      <td>281202</td>\n",
       "      <td>06</td>\n",
       "      <td>047</td>\n",
       "    </tr>\n",
       "  </tbody>\n",
       "</table>\n",
       "</div>"
      ],
      "text/plain": [
       "                           NAME P1_001N state county\n",
       "0     Madera County, California  156255    06    039\n",
       "1      Marin County, California  262321    06    041\n",
       "2   Mariposa County, California   17131    06    043\n",
       "3  Mendocino County, California   91601    06    045\n",
       "4     Merced County, California  281202    06    047"
      ]
     },
     "execution_count": 33,
     "metadata": {},
     "output_type": "execute_result"
    }
   ],
   "source": [
    "df = pd.DataFrame(data = data[1:], columns = data[0])\n",
    "df.head()"
   ]
  },
  {
   "cell_type": "code",
   "execution_count": 34,
   "metadata": {
    "execution": {
     "iopub.execute_input": "2023-10-05T14:16:59.647864Z",
     "iopub.status.busy": "2023-10-05T14:16:59.646760Z",
     "iopub.status.idle": "2023-10-05T14:16:59.703838Z",
     "shell.execute_reply": "2023-10-05T14:16:59.703242Z",
     "shell.execute_reply.started": "2023-10-05T14:16:59.647787Z"
    },
    "tags": []
   },
   "outputs": [],
   "source": [
    "#rename columns and convert population to numeric\n",
    "df.rename(columns = {'NAME': 'county_name', 'P1_001N': 'population', 'state': 'state_fips', 'county': 'county_fips'}, inplace=True)\n",
    "df['population'] = df['population'].apply(pd.to_numeric)"
   ]
  },
  {
   "cell_type": "code",
   "execution_count": 35,
   "metadata": {
    "execution": {
     "iopub.execute_input": "2023-10-05T14:17:00.022221Z",
     "iopub.status.busy": "2023-10-05T14:17:00.021168Z",
     "iopub.status.idle": "2023-10-05T14:17:00.056241Z",
     "shell.execute_reply": "2023-10-05T14:17:00.055142Z",
     "shell.execute_reply.started": "2023-10-05T14:17:00.022140Z"
    },
    "tags": []
   },
   "outputs": [
    {
     "name": "stdout",
     "output_type": "stream",
     "text": [
      "<class 'pandas.core.frame.DataFrame'>\n",
      "RangeIndex: 3221 entries, 0 to 3220\n",
      "Data columns (total 5 columns):\n",
      " #   Column       Non-Null Count  Dtype \n",
      "---  ------       --------------  ----- \n",
      " 0   county_name  3221 non-null   object\n",
      " 1   population   3221 non-null   int64 \n",
      " 2   state_fips   3221 non-null   object\n",
      " 3   county_fips  3221 non-null   object\n",
      " 4   fips         3221 non-null   object\n",
      "dtypes: int64(1), object(4)\n",
      "memory usage: 125.9+ KB\n"
     ]
    }
   ],
   "source": [
    "df['fips'] = df['state_fips'] + df['county_fips']\n",
    "df.info()"
   ]
  },
  {
   "cell_type": "code",
   "execution_count": 36,
   "metadata": {
    "execution": {
     "iopub.execute_input": "2023-10-05T14:17:02.238744Z",
     "iopub.status.busy": "2023-10-05T14:17:02.237988Z",
     "iopub.status.idle": "2023-10-05T14:17:02.243519Z",
     "shell.execute_reply": "2023-10-05T14:17:02.242744Z",
     "shell.execute_reply.started": "2023-10-05T14:17:02.238697Z"
    },
    "tags": []
   },
   "outputs": [],
   "source": [
    "#states = county_shp.STATE_NAME.values.tolist()\n",
    "#print(states)"
   ]
  },
  {
   "cell_type": "code",
   "execution_count": 37,
   "metadata": {
    "execution": {
     "iopub.execute_input": "2023-10-05T14:17:02.640568Z",
     "iopub.status.busy": "2023-10-05T14:17:02.639365Z",
     "iopub.status.idle": "2023-10-05T14:17:02.647327Z",
     "shell.execute_reply": "2023-10-05T14:17:02.646079Z",
     "shell.execute_reply.started": "2023-10-05T14:17:02.640487Z"
    },
    "tags": []
   },
   "outputs": [],
   "source": [
    "#creating a full US map\n",
    "#usa_counties = county_shp[county_shp.STATE_NAME == states]\n"
   ]
  },
  {
   "cell_type": "code",
   "execution_count": 38,
   "metadata": {
    "execution": {
     "iopub.execute_input": "2023-10-05T14:17:02.879890Z",
     "iopub.status.busy": "2023-10-05T14:17:02.878990Z",
     "iopub.status.idle": "2023-10-05T14:17:02.887512Z",
     "shell.execute_reply": "2023-10-05T14:17:02.885704Z",
     "shell.execute_reply.started": "2023-10-05T14:17:02.879823Z"
    },
    "tags": []
   },
   "outputs": [],
   "source": [
    "#usa_counties.explore()"
   ]
  },
  {
   "cell_type": "code",
   "execution_count": 39,
   "metadata": {
    "execution": {
     "iopub.execute_input": "2023-10-05T14:17:03.094970Z",
     "iopub.status.busy": "2023-10-05T14:17:03.093674Z",
     "iopub.status.idle": "2023-10-05T14:17:03.101673Z",
     "shell.execute_reply": "2023-10-05T14:17:03.100513Z",
     "shell.execute_reply.started": "2023-10-05T14:17:03.094877Z"
    },
    "tags": []
   },
   "outputs": [],
   "source": [
    "#construct the fips code to match with the geography data\n",
    "#usa_counties['fips'] = usa_counties['STATEFP'] + usa_counties['COUNTYFP']\n",
    "#usa_counties.head()"
   ]
  },
  {
   "cell_type": "code",
   "execution_count": 40,
   "metadata": {
    "execution": {
     "iopub.execute_input": "2023-10-05T14:17:03.262434Z",
     "iopub.status.busy": "2023-10-05T14:17:03.261394Z",
     "iopub.status.idle": "2023-10-05T14:17:03.268695Z",
     "shell.execute_reply": "2023-10-05T14:17:03.267179Z",
     "shell.execute_reply.started": "2023-10-05T14:17:03.262355Z"
    },
    "tags": []
   },
   "outputs": [],
   "source": [
    "#merge in the new data\n",
    "#clean up the names to be a bit more presentable\n",
    "#df_map = (CA_counties.merge(df, how = 'left', on = 'fips').rename(columns = {'NAMELSAD': 'County Name', 'population': 'County Population'}))\n",
    "\n",
    "#df_map.head()"
   ]
  },
  {
   "cell_type": "code",
   "execution_count": 41,
   "metadata": {
    "execution": {
     "iopub.execute_input": "2023-10-05T14:17:03.666424Z",
     "iopub.status.busy": "2023-10-05T14:17:03.665767Z",
     "iopub.status.idle": "2023-10-05T14:17:03.672421Z",
     "shell.execute_reply": "2023-10-05T14:17:03.671445Z",
     "shell.execute_reply.started": "2023-10-05T14:17:03.666385Z"
    },
    "tags": []
   },
   "outputs": [],
   "source": [
    "#df_map.explore(\n",
    "    #column ='County Population',\n",
    "    #scheme=\"naturalbreaks\",  # use mapclassify's natural breaks scheme\n",
    "    #legend=True,  # show legend\n",
    "    #k=5,  # use 5 bins\n",
    "    #tooltip = ['County Name', 'County Population'],\n",
    "    #tiles = 'CartoDB positron', #fades into the background better than the default\n",
    "    #legend_kwds=dict(colorbar=False, color=\"gray\"))"
   ]
  },
  {
   "cell_type": "code",
   "execution_count": 42,
   "metadata": {
    "execution": {
     "iopub.execute_input": "2023-10-05T14:17:03.928127Z",
     "iopub.status.busy": "2023-10-05T14:17:03.926715Z",
     "iopub.status.idle": "2023-10-05T14:17:03.934952Z",
     "shell.execute_reply": "2023-10-05T14:17:03.933692Z",
     "shell.execute_reply.started": "2023-10-05T14:17:03.928049Z"
    },
    "tags": []
   },
   "outputs": [],
   "source": [
    "#biggest_counties = df_map[df_map['County Population'] > 5000000]\n",
    "#biggest_counties"
   ]
  },
  {
   "cell_type": "code",
   "execution_count": 43,
   "metadata": {
    "execution": {
     "iopub.execute_input": "2023-10-05T14:17:04.098158Z",
     "iopub.status.busy": "2023-10-05T14:17:04.097627Z",
     "iopub.status.idle": "2023-10-05T14:17:04.103645Z",
     "shell.execute_reply": "2023-10-05T14:17:04.102233Z",
     "shell.execute_reply.started": "2023-10-05T14:17:04.098119Z"
    },
    "tags": []
   },
   "outputs": [],
   "source": [
    "#another approach I found, but did not work well bc of size of dataset and rate limits\n",
    "#pip install geopy"
   ]
  },
  {
   "cell_type": "code",
   "execution_count": 44,
   "metadata": {
    "execution": {
     "iopub.execute_input": "2023-10-05T14:17:04.837436Z",
     "iopub.status.busy": "2023-10-05T14:17:04.836316Z",
     "iopub.status.idle": "2023-10-05T14:17:04.843308Z",
     "shell.execute_reply": "2023-10-05T14:17:04.842550Z",
     "shell.execute_reply.started": "2023-10-05T14:17:04.837356Z"
    },
    "tags": []
   },
   "outputs": [],
   "source": [
    "#note: rate limit became a problem; will need to filter down to CA data only before retrying\n",
    "#from geopy.geocoders import Nominatim\n",
    "\n",
    "#def get_zip_code(latitude, longitude): \n",
    "    #geolocator = Nominatim(user_agent=\"mafphd@icloud.com\")\n",
    "    #location = geolocator.reverse((latitude, longitude), exactly_one=True)\n",
    "    #address = location.raw['address']\n",
    "    #zip_code = address.get('postcode')\n",
    "    \n",
    "    #return zip_code"
   ]
  },
  {
   "cell_type": "code",
   "execution_count": 45,
   "metadata": {
    "execution": {
     "iopub.execute_input": "2023-10-05T14:17:07.556319Z",
     "iopub.status.busy": "2023-10-05T14:17:07.555149Z",
     "iopub.status.idle": "2023-10-05T14:17:07.822590Z",
     "shell.execute_reply": "2023-10-05T14:17:07.821947Z",
     "shell.execute_reply.started": "2023-10-05T14:17:07.556247Z"
    },
    "tags": []
   },
   "outputs": [
    {
     "name": "stdout",
     "output_type": "stream",
     "text": [
      "<class 'pandas.core.frame.DataFrame'>\n",
      "RangeIndex: 30418 entries, 0 to 30417\n",
      "Data columns (total 25 columns):\n",
      " #   Column               Non-Null Count  Dtype  \n",
      "---  ------               --------------  -----  \n",
      " 0   X                    30418 non-null  float64\n",
      " 1   Y                    30418 non-null  float64\n",
      " 2   OBJECTID             30418 non-null  int64  \n",
      " 3   FIRE_ID              30418 non-null  object \n",
      " 4   FIRE_NAME            30418 non-null  object \n",
      " 5   ASMNT_TYPE           30418 non-null  object \n",
      " 6   FIRE_TYPE            30418 non-null  object \n",
      " 7   NODATA_THRESHOLD     30418 non-null  int64  \n",
      " 8   GREENNESS_THRESHOLD  30418 non-null  int64  \n",
      " 9   LOW_THRESHOLD        30418 non-null  int64  \n",
      " 10  MODERATE_THRESHOLD   30418 non-null  int64  \n",
      " 11  HIGH_THRESHOLD       30418 non-null  int64  \n",
      " 12  IG_DATE              30418 non-null  object \n",
      " 13  LATITUDE             30418 non-null  float64\n",
      " 14  LONGITUDE            30418 non-null  float64\n",
      " 15  ACRES                30418 non-null  int64  \n",
      " 16  IRWINID              4535 non-null   object \n",
      " 17  MAP_ID               30418 non-null  int64  \n",
      " 18  MAP_PROG             30418 non-null  object \n",
      " 19  PERIM_ID             2867 non-null   object \n",
      " 20  DNBR_OFFST           30418 non-null  int64  \n",
      " 21  DNBR_STDDV           30418 non-null  int64  \n",
      " 22  COMMENTS             4723 non-null   object \n",
      " 23  PRE_ID               21265 non-null  object \n",
      " 24  POST_ID              30418 non-null  object \n",
      "dtypes: float64(4), int64(10), object(11)\n",
      "memory usage: 5.8+ MB\n"
     ]
    }
   ],
   "source": [
    "import pandas as pd\n",
    "burn = pd.read_csv('Burn_Severity_Trends.csv')\n",
    "burn.info()"
   ]
  },
  {
   "cell_type": "code",
   "execution_count": 46,
   "metadata": {
    "execution": {
     "iopub.execute_input": "2023-10-05T14:17:09.752618Z",
     "iopub.status.busy": "2023-10-05T14:17:09.751635Z",
     "iopub.status.idle": "2023-10-05T14:17:09.779600Z",
     "shell.execute_reply": "2023-10-05T14:17:09.779030Z",
     "shell.execute_reply.started": "2023-10-05T14:17:09.752551Z"
    },
    "tags": []
   },
   "outputs": [
    {
     "data": {
      "text/html": [
       "<div>\n",
       "<style scoped>\n",
       "    .dataframe tbody tr th:only-of-type {\n",
       "        vertical-align: middle;\n",
       "    }\n",
       "\n",
       "    .dataframe tbody tr th {\n",
       "        vertical-align: top;\n",
       "    }\n",
       "\n",
       "    .dataframe thead th {\n",
       "        text-align: right;\n",
       "    }\n",
       "</style>\n",
       "<table border=\"1\" class=\"dataframe\">\n",
       "  <thead>\n",
       "    <tr style=\"text-align: right;\">\n",
       "      <th></th>\n",
       "      <th>X</th>\n",
       "      <th>Y</th>\n",
       "      <th>OBJECTID</th>\n",
       "      <th>FIRE_ID</th>\n",
       "      <th>FIRE_NAME</th>\n",
       "      <th>ASMNT_TYPE</th>\n",
       "      <th>FIRE_TYPE</th>\n",
       "      <th>NODATA_THRESHOLD</th>\n",
       "      <th>GREENNESS_THRESHOLD</th>\n",
       "      <th>LOW_THRESHOLD</th>\n",
       "      <th>...</th>\n",
       "      <th>ACRES</th>\n",
       "      <th>IRWINID</th>\n",
       "      <th>MAP_ID</th>\n",
       "      <th>MAP_PROG</th>\n",
       "      <th>PERIM_ID</th>\n",
       "      <th>DNBR_OFFST</th>\n",
       "      <th>DNBR_STDDV</th>\n",
       "      <th>COMMENTS</th>\n",
       "      <th>PRE_ID</th>\n",
       "      <th>POST_ID</th>\n",
       "    </tr>\n",
       "  </thead>\n",
       "  <tbody>\n",
       "    <tr>\n",
       "      <th>0</th>\n",
       "      <td>-144.673246</td>\n",
       "      <td>64.482309</td>\n",
       "      <td>830721</td>\n",
       "      <td>AK6448214467319840607</td>\n",
       "      <td>GLACIER CREEK</td>\n",
       "      <td>Initial (SS)</td>\n",
       "      <td>Wildfire</td>\n",
       "      <td>9999</td>\n",
       "      <td>9999</td>\n",
       "      <td>550</td>\n",
       "      <td>...</td>\n",
       "      <td>1897</td>\n",
       "      <td>NaN</td>\n",
       "      <td>4534</td>\n",
       "      <td>MTBS</td>\n",
       "      <td>506601519860705</td>\n",
       "      <td>-9999</td>\n",
       "      <td>-9999</td>\n",
       "      <td>NaN</td>\n",
       "      <td>NaN</td>\n",
       "      <td>506801519840713</td>\n",
       "    </tr>\n",
       "    <tr>\n",
       "      <th>1</th>\n",
       "      <td>-102.849877</td>\n",
       "      <td>43.083926</td>\n",
       "      <td>830722</td>\n",
       "      <td>SD4308410285019840906</td>\n",
       "      <td>SANDOZ</td>\n",
       "      <td>Initial</td>\n",
       "      <td>Wildfire</td>\n",
       "      <td>-970</td>\n",
       "      <td>-150</td>\n",
       "      <td>220</td>\n",
       "      <td>...</td>\n",
       "      <td>2691</td>\n",
       "      <td>NaN</td>\n",
       "      <td>4535</td>\n",
       "      <td>MTBS</td>\n",
       "      <td>NaN</td>\n",
       "      <td>211</td>\n",
       "      <td>-9999</td>\n",
       "      <td>NaN</td>\n",
       "      <td>503303019840622</td>\n",
       "      <td>503303019840926</td>\n",
       "    </tr>\n",
       "    <tr>\n",
       "      <th>2</th>\n",
       "      <td>-113.457720</td>\n",
       "      <td>48.804345</td>\n",
       "      <td>830723</td>\n",
       "      <td>MT4880411345819840819</td>\n",
       "      <td>NAPI PEAK</td>\n",
       "      <td>Extended</td>\n",
       "      <td>Wildfire</td>\n",
       "      <td>-970</td>\n",
       "      <td>-150</td>\n",
       "      <td>160</td>\n",
       "      <td>...</td>\n",
       "      <td>3680</td>\n",
       "      <td>NaN</td>\n",
       "      <td>4536</td>\n",
       "      <td>MTBS</td>\n",
       "      <td>NaN</td>\n",
       "      <td>-62</td>\n",
       "      <td>-9999</td>\n",
       "      <td>NaN</td>\n",
       "      <td>504102619840614</td>\n",
       "      <td>504102619850719</td>\n",
       "    </tr>\n",
       "    <tr>\n",
       "      <th>3</th>\n",
       "      <td>-106.958289</td>\n",
       "      <td>45.336400</td>\n",
       "      <td>830724</td>\n",
       "      <td>MT4533610695819840826</td>\n",
       "      <td>KIRBY</td>\n",
       "      <td>Extended</td>\n",
       "      <td>Wildfire</td>\n",
       "      <td>-970</td>\n",
       "      <td>-150</td>\n",
       "      <td>150</td>\n",
       "      <td>...</td>\n",
       "      <td>1597</td>\n",
       "      <td>NaN</td>\n",
       "      <td>4537</td>\n",
       "      <td>MTBS</td>\n",
       "      <td>NaN</td>\n",
       "      <td>52</td>\n",
       "      <td>-9999</td>\n",
       "      <td>NaN</td>\n",
       "      <td>503602819840814</td>\n",
       "      <td>503602819850817</td>\n",
       "    </tr>\n",
       "    <tr>\n",
       "      <th>4</th>\n",
       "      <td>-106.322839</td>\n",
       "      <td>45.616844</td>\n",
       "      <td>830725</td>\n",
       "      <td>MT4561710632319840918</td>\n",
       "      <td>LAKE CREEK</td>\n",
       "      <td>Initial</td>\n",
       "      <td>Wildfire</td>\n",
       "      <td>-970</td>\n",
       "      <td>-150</td>\n",
       "      <td>-50</td>\n",
       "      <td>...</td>\n",
       "      <td>3617</td>\n",
       "      <td>NaN</td>\n",
       "      <td>4538</td>\n",
       "      <td>MTBS</td>\n",
       "      <td>NaN</td>\n",
       "      <td>-104</td>\n",
       "      <td>-9999</td>\n",
       "      <td>NaN</td>\n",
       "      <td>503602819840814</td>\n",
       "      <td>503602819841017</td>\n",
       "    </tr>\n",
       "  </tbody>\n",
       "</table>\n",
       "<p>5 rows × 25 columns</p>\n",
       "</div>"
      ],
      "text/plain": [
       "            X          Y  OBJECTID                FIRE_ID      FIRE_NAME  \\\n",
       "0 -144.673246  64.482309    830721  AK6448214467319840607  GLACIER CREEK   \n",
       "1 -102.849877  43.083926    830722  SD4308410285019840906         SANDOZ   \n",
       "2 -113.457720  48.804345    830723  MT4880411345819840819      NAPI PEAK   \n",
       "3 -106.958289  45.336400    830724  MT4533610695819840826          KIRBY   \n",
       "4 -106.322839  45.616844    830725  MT4561710632319840918     LAKE CREEK   \n",
       "\n",
       "     ASMNT_TYPE FIRE_TYPE  NODATA_THRESHOLD  GREENNESS_THRESHOLD  \\\n",
       "0  Initial (SS)  Wildfire              9999                 9999   \n",
       "1       Initial  Wildfire              -970                 -150   \n",
       "2      Extended  Wildfire              -970                 -150   \n",
       "3      Extended  Wildfire              -970                 -150   \n",
       "4       Initial  Wildfire              -970                 -150   \n",
       "\n",
       "   LOW_THRESHOLD  ...  ACRES  IRWINID MAP_ID  MAP_PROG         PERIM_ID  \\\n",
       "0            550  ...   1897      NaN   4534      MTBS  506601519860705   \n",
       "1            220  ...   2691      NaN   4535      MTBS              NaN   \n",
       "2            160  ...   3680      NaN   4536      MTBS              NaN   \n",
       "3            150  ...   1597      NaN   4537      MTBS              NaN   \n",
       "4            -50  ...   3617      NaN   4538      MTBS              NaN   \n",
       "\n",
       "   DNBR_OFFST DNBR_STDDV  COMMENTS           PRE_ID          POST_ID  \n",
       "0       -9999      -9999       NaN              NaN  506801519840713  \n",
       "1         211      -9999       NaN  503303019840622  503303019840926  \n",
       "2         -62      -9999       NaN  504102619840614  504102619850719  \n",
       "3          52      -9999       NaN  503602819840814  503602819850817  \n",
       "4        -104      -9999       NaN  503602819840814  503602819841017  \n",
       "\n",
       "[5 rows x 25 columns]"
      ]
     },
     "execution_count": 46,
     "metadata": {},
     "output_type": "execute_result"
    }
   ],
   "source": [
    "#burn['ZIP_CODE'] = burn.apply(lambda row: get_zip_code(row['LATITUDE'], row['LONGITUDE']), axis=1)\n",
    "burn.head()"
   ]
  },
  {
   "cell_type": "code",
   "execution_count": 47,
   "metadata": {
    "execution": {
     "iopub.execute_input": "2023-10-05T14:17:10.503146Z",
     "iopub.status.busy": "2023-10-05T14:17:10.502123Z",
     "iopub.status.idle": "2023-10-05T14:17:10.920658Z",
     "shell.execute_reply": "2023-10-05T14:17:10.920051Z",
     "shell.execute_reply.started": "2023-10-05T14:17:10.503079Z"
    },
    "tags": []
   },
   "outputs": [],
   "source": [
    "#trying to identify counties by latitude/longitude coordinates using TIGER/Line Shapefile, 2019, nation, U.S., Current County and Equivalent National Shapefile from data.gov\n",
    "import geopandas as gpd\n",
    "\n",
    "# Load the shapefile\n",
    "#gdf = gpd.read_file('/Users/isabellevea/Downloads/tl_2019_us_county/tl_2019_us_county.shp') #file is too large to commit; download from https://catalog.data.gov/dataset/tiger-line-shapefile-2019-nation-u-s-current-county-and-equivalent-national-shapefile\n",
    "\n",
    "gdf = gpd.read_file('data/census_CA.shp') #file is too large to commit; download from https://catalog.data.gov/dataset/tiger-line-shapefile-2019-nation-u-s-current-county-and-equivalent-national-shapefile\n"
   ]
  },
  {
   "cell_type": "code",
   "execution_count": null,
   "metadata": {
    "tags": []
   },
   "outputs": [],
   "source": []
  },
  {
   "cell_type": "code",
   "execution_count": 48,
   "metadata": {
    "execution": {
     "iopub.execute_input": "2023-10-05T14:17:12.534371Z",
     "iopub.status.busy": "2023-10-05T14:17:12.533245Z",
     "iopub.status.idle": "2023-10-05T14:17:12.543468Z",
     "shell.execute_reply": "2023-10-05T14:17:12.542385Z",
     "shell.execute_reply.started": "2023-10-05T14:17:12.534296Z"
    },
    "tags": []
   },
   "outputs": [
    {
     "data": {
      "text/plain": [
       "geopandas.geodataframe.GeoDataFrame"
      ]
     },
     "execution_count": 48,
     "metadata": {},
     "output_type": "execute_result"
    }
   ],
   "source": [
    "type(gdf)"
   ]
  },
  {
   "cell_type": "code",
   "execution_count": 49,
   "metadata": {
    "execution": {
     "iopub.execute_input": "2023-10-05T14:17:12.974243Z",
     "iopub.status.busy": "2023-10-05T14:17:12.973169Z",
     "iopub.status.idle": "2023-10-05T14:17:13.052503Z",
     "shell.execute_reply": "2023-10-05T14:17:13.051931Z",
     "shell.execute_reply.started": "2023-10-05T14:17:12.974170Z"
    },
    "tags": []
   },
   "outputs": [
    {
     "data": {
      "text/html": [
       "<div>\n",
       "<style scoped>\n",
       "    .dataframe tbody tr th:only-of-type {\n",
       "        vertical-align: middle;\n",
       "    }\n",
       "\n",
       "    .dataframe tbody tr th {\n",
       "        vertical-align: top;\n",
       "    }\n",
       "\n",
       "    .dataframe thead th {\n",
       "        text-align: right;\n",
       "    }\n",
       "</style>\n",
       "<table border=\"1\" class=\"dataframe\">\n",
       "  <thead>\n",
       "    <tr style=\"text-align: right;\">\n",
       "      <th></th>\n",
       "      <th>STATEFP</th>\n",
       "      <th>COUNTYFP</th>\n",
       "      <th>COUNTYNS</th>\n",
       "      <th>GEOID</th>\n",
       "      <th>NAME</th>\n",
       "      <th>NAMELSAD</th>\n",
       "      <th>LSAD</th>\n",
       "      <th>CLASSFP</th>\n",
       "      <th>MTFCC</th>\n",
       "      <th>CSAFP</th>\n",
       "      <th>CBSAFP</th>\n",
       "      <th>METDIVFP</th>\n",
       "      <th>FUNCSTAT</th>\n",
       "      <th>ALAND</th>\n",
       "      <th>AWATER</th>\n",
       "      <th>INTPTLAT</th>\n",
       "      <th>INTPTLON</th>\n",
       "      <th>geometry</th>\n",
       "    </tr>\n",
       "  </thead>\n",
       "  <tbody>\n",
       "    <tr>\n",
       "      <th>0</th>\n",
       "      <td>06</td>\n",
       "      <td>091</td>\n",
       "      <td>00277310</td>\n",
       "      <td>06091</td>\n",
       "      <td>Sierra</td>\n",
       "      <td>Sierra County</td>\n",
       "      <td>06</td>\n",
       "      <td>H1</td>\n",
       "      <td>G4020</td>\n",
       "      <td>NaN</td>\n",
       "      <td>NaN</td>\n",
       "      <td>NaN</td>\n",
       "      <td>A</td>\n",
       "      <td>2468694583</td>\n",
       "      <td>23299110</td>\n",
       "      <td>+39.5769252</td>\n",
       "      <td>-120.5219926</td>\n",
       "      <td>POLYGON ((-120.65559 39.69356, -120.65552 39.6...</td>\n",
       "    </tr>\n",
       "    <tr>\n",
       "      <th>1</th>\n",
       "      <td>06</td>\n",
       "      <td>067</td>\n",
       "      <td>00277298</td>\n",
       "      <td>06067</td>\n",
       "      <td>Sacramento</td>\n",
       "      <td>Sacramento County</td>\n",
       "      <td>06</td>\n",
       "      <td>H1</td>\n",
       "      <td>G4020</td>\n",
       "      <td>472</td>\n",
       "      <td>40900</td>\n",
       "      <td>NaN</td>\n",
       "      <td>A</td>\n",
       "      <td>2499983887</td>\n",
       "      <td>75425434</td>\n",
       "      <td>+38.4500161</td>\n",
       "      <td>-121.3404408</td>\n",
       "      <td>POLYGON ((-121.18857 38.71431, -121.18731 38.7...</td>\n",
       "    </tr>\n",
       "    <tr>\n",
       "      <th>2</th>\n",
       "      <td>06</td>\n",
       "      <td>083</td>\n",
       "      <td>00277306</td>\n",
       "      <td>06083</td>\n",
       "      <td>Santa Barbara</td>\n",
       "      <td>Santa Barbara County</td>\n",
       "      <td>06</td>\n",
       "      <td>H1</td>\n",
       "      <td>G4020</td>\n",
       "      <td>NaN</td>\n",
       "      <td>42200</td>\n",
       "      <td>NaN</td>\n",
       "      <td>A</td>\n",
       "      <td>7084063392</td>\n",
       "      <td>2729751706</td>\n",
       "      <td>+34.5370572</td>\n",
       "      <td>-120.0399729</td>\n",
       "      <td>MULTIPOLYGON (((-120.73429 34.90069, -120.7343...</td>\n",
       "    </tr>\n",
       "    <tr>\n",
       "      <th>3</th>\n",
       "      <td>06</td>\n",
       "      <td>009</td>\n",
       "      <td>01675885</td>\n",
       "      <td>06009</td>\n",
       "      <td>Calaveras</td>\n",
       "      <td>Calaveras County</td>\n",
       "      <td>06</td>\n",
       "      <td>H1</td>\n",
       "      <td>G4020</td>\n",
       "      <td>NaN</td>\n",
       "      <td>NaN</td>\n",
       "      <td>NaN</td>\n",
       "      <td>A</td>\n",
       "      <td>2641784992</td>\n",
       "      <td>43841871</td>\n",
       "      <td>+38.1838996</td>\n",
       "      <td>-120.5614415</td>\n",
       "      <td>POLYGON ((-120.63093 38.34110, -120.63057 38.3...</td>\n",
       "    </tr>\n",
       "    <tr>\n",
       "      <th>4</th>\n",
       "      <td>06</td>\n",
       "      <td>111</td>\n",
       "      <td>00277320</td>\n",
       "      <td>06111</td>\n",
       "      <td>Ventura</td>\n",
       "      <td>Ventura County</td>\n",
       "      <td>06</td>\n",
       "      <td>H1</td>\n",
       "      <td>G4020</td>\n",
       "      <td>348</td>\n",
       "      <td>37100</td>\n",
       "      <td>NaN</td>\n",
       "      <td>A</td>\n",
       "      <td>4771987962</td>\n",
       "      <td>947345370</td>\n",
       "      <td>+34.3587415</td>\n",
       "      <td>-119.1331432</td>\n",
       "      <td>MULTIPOLYGON (((-119.32922 34.22784, -119.3292...</td>\n",
       "    </tr>\n",
       "  </tbody>\n",
       "</table>\n",
       "</div>"
      ],
      "text/plain": [
       "  STATEFP COUNTYFP  COUNTYNS  GEOID           NAME              NAMELSAD LSAD  \\\n",
       "0      06      091  00277310  06091         Sierra         Sierra County   06   \n",
       "1      06      067  00277298  06067     Sacramento     Sacramento County   06   \n",
       "2      06      083  00277306  06083  Santa Barbara  Santa Barbara County   06   \n",
       "3      06      009  01675885  06009      Calaveras      Calaveras County   06   \n",
       "4      06      111  00277320  06111        Ventura        Ventura County   06   \n",
       "\n",
       "  CLASSFP  MTFCC CSAFP CBSAFP METDIVFP FUNCSTAT       ALAND      AWATER  \\\n",
       "0      H1  G4020   NaN    NaN      NaN        A  2468694583    23299110   \n",
       "1      H1  G4020   472  40900      NaN        A  2499983887    75425434   \n",
       "2      H1  G4020   NaN  42200      NaN        A  7084063392  2729751706   \n",
       "3      H1  G4020   NaN    NaN      NaN        A  2641784992    43841871   \n",
       "4      H1  G4020   348  37100      NaN        A  4771987962   947345370   \n",
       "\n",
       "      INTPTLAT      INTPTLON  \\\n",
       "0  +39.5769252  -120.5219926   \n",
       "1  +38.4500161  -121.3404408   \n",
       "2  +34.5370572  -120.0399729   \n",
       "3  +38.1838996  -120.5614415   \n",
       "4  +34.3587415  -119.1331432   \n",
       "\n",
       "                                            geometry  \n",
       "0  POLYGON ((-120.65559 39.69356, -120.65552 39.6...  \n",
       "1  POLYGON ((-121.18857 38.71431, -121.18731 38.7...  \n",
       "2  MULTIPOLYGON (((-120.73429 34.90069, -120.7343...  \n",
       "3  POLYGON ((-120.63093 38.34110, -120.63057 38.3...  \n",
       "4  MULTIPOLYGON (((-119.32922 34.22784, -119.3292...  "
      ]
     },
     "execution_count": 49,
     "metadata": {},
     "output_type": "execute_result"
    }
   ],
   "source": [
    "gdf.head()"
   ]
  },
  {
   "cell_type": "code",
   "execution_count": 50,
   "metadata": {
    "execution": {
     "iopub.execute_input": "2023-10-05T14:17:14.797377Z",
     "iopub.status.busy": "2023-10-05T14:17:14.796674Z",
     "iopub.status.idle": "2023-10-05T14:17:14.805786Z",
     "shell.execute_reply": "2023-10-05T14:17:14.804748Z",
     "shell.execute_reply.started": "2023-10-05T14:17:14.797335Z"
    },
    "tags": []
   },
   "outputs": [],
   "source": [
    "def get_county_name(latitude, longitude):\n",
    "    point = gpd.GeoDataFrame(geometry=gpd.points_from_xy([longitude], [latitude]))\n",
    "    county = gdf[gdf.contains(point.unary_union)]\n",
    "    return county['NAME'].iloc[0] if not county.empty else None"
   ]
  },
  {
   "cell_type": "code",
   "execution_count": 51,
   "metadata": {
    "execution": {
     "iopub.execute_input": "2023-10-05T14:18:20.450199Z",
     "iopub.status.busy": "2023-10-05T14:18:20.448562Z",
     "iopub.status.idle": "2023-10-05T14:18:20.494306Z",
     "shell.execute_reply": "2023-10-05T14:18:20.491531Z",
     "shell.execute_reply.started": "2023-10-05T14:18:20.450131Z"
    },
    "tags": []
   },
   "outputs": [
    {
     "name": "stdout",
     "output_type": "stream",
     "text": [
      "County Name: San Francisco\n"
     ]
    }
   ],
   "source": [
    "# Example usage\n",
    "latitude = 37.7749  # Example latitude\n",
    "longitude = -122.4194  # Example longitude\n",
    "\n",
    "county_name = get_county_name(latitude, longitude)\n",
    "print(\"County Name:\", county_name)\n"
   ]
  },
  {
   "cell_type": "code",
   "execution_count": 52,
   "metadata": {
    "execution": {
     "iopub.execute_input": "2023-10-05T14:18:20.996660Z",
     "iopub.status.busy": "2023-10-05T14:18:20.995891Z",
     "iopub.status.idle": "2023-10-05T14:19:24.547714Z",
     "shell.execute_reply": "2023-10-05T14:19:24.546396Z",
     "shell.execute_reply.started": "2023-10-05T14:18:20.996615Z"
    },
    "tags": []
   },
   "outputs": [],
   "source": [
    "burn['County'] = burn.apply(lambda row: get_county_name(row['LATITUDE'], row['LONGITUDE']), axis=1)"
   ]
  },
  {
   "cell_type": "code",
   "execution_count": 53,
   "metadata": {
    "execution": {
     "iopub.execute_input": "2023-10-05T14:19:24.555775Z",
     "iopub.status.busy": "2023-10-05T14:19:24.555470Z",
     "iopub.status.idle": "2023-10-05T14:19:24.562205Z",
     "shell.execute_reply": "2023-10-05T14:19:24.561668Z",
     "shell.execute_reply.started": "2023-10-05T14:19:24.555745Z"
    },
    "tags": []
   },
   "outputs": [
    {
     "data": {
      "text/plain": [
       "28432"
      ]
     },
     "execution_count": 53,
     "metadata": {},
     "output_type": "execute_result"
    }
   ],
   "source": [
    "burn['County'].isna().sum()"
   ]
  },
  {
   "cell_type": "code",
   "execution_count": 54,
   "metadata": {
    "execution": {
     "iopub.execute_input": "2023-10-05T14:19:24.563212Z",
     "iopub.status.busy": "2023-10-05T14:19:24.562942Z",
     "iopub.status.idle": "2023-10-05T14:19:24.611527Z",
     "shell.execute_reply": "2023-10-05T14:19:24.610863Z",
     "shell.execute_reply.started": "2023-10-05T14:19:24.563190Z"
    },
    "tags": []
   },
   "outputs": [
    {
     "data": {
      "text/html": [
       "<div>\n",
       "<style scoped>\n",
       "    .dataframe tbody tr th:only-of-type {\n",
       "        vertical-align: middle;\n",
       "    }\n",
       "\n",
       "    .dataframe tbody tr th {\n",
       "        vertical-align: top;\n",
       "    }\n",
       "\n",
       "    .dataframe thead th {\n",
       "        text-align: right;\n",
       "    }\n",
       "</style>\n",
       "<table border=\"1\" class=\"dataframe\">\n",
       "  <thead>\n",
       "    <tr style=\"text-align: right;\">\n",
       "      <th></th>\n",
       "      <th>LATITUDE</th>\n",
       "      <th>LONGITUDE</th>\n",
       "    </tr>\n",
       "  </thead>\n",
       "  <tbody>\n",
       "    <tr>\n",
       "      <th>12042</th>\n",
       "      <td>17.957</td>\n",
       "      <td>-66.129</td>\n",
       "    </tr>\n",
       "    <tr>\n",
       "      <th>14370</th>\n",
       "      <td>17.986</td>\n",
       "      <td>-67.039</td>\n",
       "    </tr>\n",
       "    <tr>\n",
       "      <th>12020</th>\n",
       "      <td>18.007</td>\n",
       "      <td>-66.312</td>\n",
       "    </tr>\n",
       "    <tr>\n",
       "      <th>12043</th>\n",
       "      <td>18.009</td>\n",
       "      <td>-66.210</td>\n",
       "    </tr>\n",
       "    <tr>\n",
       "      <th>12021</th>\n",
       "      <td>18.025</td>\n",
       "      <td>-66.266</td>\n",
       "    </tr>\n",
       "    <tr>\n",
       "      <th>...</th>\n",
       "      <td>...</td>\n",
       "      <td>...</td>\n",
       "    </tr>\n",
       "    <tr>\n",
       "      <th>19425</th>\n",
       "      <td>69.260</td>\n",
       "      <td>-155.391</td>\n",
       "    </tr>\n",
       "    <tr>\n",
       "      <th>13805</th>\n",
       "      <td>69.465</td>\n",
       "      <td>-148.350</td>\n",
       "    </tr>\n",
       "    <tr>\n",
       "      <th>26215</th>\n",
       "      <td>69.686</td>\n",
       "      <td>-159.607</td>\n",
       "    </tr>\n",
       "    <tr>\n",
       "      <th>26214</th>\n",
       "      <td>69.765</td>\n",
       "      <td>-159.058</td>\n",
       "    </tr>\n",
       "    <tr>\n",
       "      <th>19408</th>\n",
       "      <td>70.139</td>\n",
       "      <td>-150.593</td>\n",
       "    </tr>\n",
       "  </tbody>\n",
       "</table>\n",
       "<p>28432 rows × 2 columns</p>\n",
       "</div>"
      ],
      "text/plain": [
       "       LATITUDE  LONGITUDE\n",
       "12042    17.957    -66.129\n",
       "14370    17.986    -67.039\n",
       "12020    18.007    -66.312\n",
       "12043    18.009    -66.210\n",
       "12021    18.025    -66.266\n",
       "...         ...        ...\n",
       "19425    69.260   -155.391\n",
       "13805    69.465   -148.350\n",
       "26215    69.686   -159.607\n",
       "26214    69.765   -159.058\n",
       "19408    70.139   -150.593\n",
       "\n",
       "[28432 rows x 2 columns]"
      ]
     },
     "execution_count": 54,
     "metadata": {},
     "output_type": "execute_result"
    }
   ],
   "source": [
    "#looking at the missing counties to see if any are within approximate CA coordinates (from ChatGPT/verified on a map: min_lat = 32.5, max_lat = 37.0,min_lon = -125.0,max_lon = -114.0)\n",
    "missing_ctys = burn[burn['County'].isna()]\n",
    "missing_ctys_sorted = missing_ctys[['LATITUDE', 'LONGITUDE']]\n",
    "missing_ctys_sorted.sort_values(by='LATITUDE', ascending = True)"
   ]
  },
  {
   "cell_type": "code",
   "execution_count": 55,
   "metadata": {
    "execution": {
     "iopub.execute_input": "2023-10-05T14:19:24.618403Z",
     "iopub.status.busy": "2023-10-05T14:19:24.618139Z",
     "iopub.status.idle": "2023-10-05T14:19:29.306557Z",
     "shell.execute_reply": "2023-10-05T14:19:29.305117Z",
     "shell.execute_reply.started": "2023-10-05T14:19:24.618385Z"
    },
    "tags": []
   },
   "outputs": [],
   "source": [
    "#using BallTree nearest neighbors approach to fill in County based on closest known lat/long coordinates\n",
    "from sklearn.neighbors import BallTree\n",
    "\n",
    "# Assuming 'burn' is your original DataFrame\n",
    "\n",
    "# Create a subset DataFrame with only rows that have County information\n",
    "known_counties = burn.dropna(subset=['County'])\n",
    "\n",
    "# Extract latitude and longitude for known counties\n",
    "known_coordinates = known_counties[['LATITUDE', 'LONGITUDE']].values\n",
    "\n",
    "# Build a BallTree for efficient nearest neighbor search\n",
    "tree = BallTree(known_coordinates, leaf_size=15)\n",
    "\n",
    "# Define a function to impute missing County values based on nearest neighbors\n",
    "def impute_county(row):\n",
    "    if pd.isna(row['County']):\n",
    "        distances, indices = tree.query([[row['LATITUDE'], row['LONGITUDE']]], k=1)\n",
    "        closest_county = known_counties.iloc[indices[0][0]]['County']\n",
    "        return closest_county\n",
    "    else:\n",
    "        return row['County']\n",
    "\n",
    "# Apply the impute_county function to fill in missing values\n",
    "burn['County'] = burn.apply(impute_county, axis=1)\n"
   ]
  },
  {
   "cell_type": "code",
   "execution_count": 56,
   "metadata": {
    "execution": {
     "iopub.execute_input": "2023-10-05T14:19:29.308636Z",
     "iopub.status.busy": "2023-10-05T14:19:29.308412Z",
     "iopub.status.idle": "2023-10-05T14:19:29.319404Z",
     "shell.execute_reply": "2023-10-05T14:19:29.318804Z",
     "shell.execute_reply.started": "2023-10-05T14:19:29.308613Z"
    },
    "tags": []
   },
   "outputs": [
    {
     "data": {
      "text/plain": [
       "0"
      ]
     },
     "execution_count": 56,
     "metadata": {},
     "output_type": "execute_result"
    }
   ],
   "source": [
    "burn['County'].isna().sum()"
   ]
  },
  {
   "cell_type": "code",
   "execution_count": 57,
   "metadata": {
    "execution": {
     "iopub.execute_input": "2023-10-05T14:19:29.320527Z",
     "iopub.status.busy": "2023-10-05T14:19:29.320300Z",
     "iopub.status.idle": "2023-10-05T14:19:29.330284Z",
     "shell.execute_reply": "2023-10-05T14:19:29.329809Z",
     "shell.execute_reply.started": "2023-10-05T14:19:29.320509Z"
    },
    "tags": []
   },
   "outputs": [
    {
     "name": "stdout",
     "output_type": "stream",
     "text": [
      "<class 'geopandas.geodataframe.GeoDataFrame'>\n",
      "RangeIndex: 58 entries, 0 to 57\n",
      "Data columns (total 18 columns):\n",
      " #   Column    Non-Null Count  Dtype   \n",
      "---  ------    --------------  -----   \n",
      " 0   STATEFP   58 non-null     object  \n",
      " 1   COUNTYFP  58 non-null     object  \n",
      " 2   COUNTYNS  58 non-null     object  \n",
      " 3   GEOID     58 non-null     object  \n",
      " 4   NAME      58 non-null     object  \n",
      " 5   NAMELSAD  58 non-null     object  \n",
      " 6   LSAD      58 non-null     object  \n",
      " 7   CLASSFP   58 non-null     object  \n",
      " 8   MTFCC     58 non-null     object  \n",
      " 9   CSAFP     31 non-null     object  \n",
      " 10  CBSAFP    45 non-null     object  \n",
      " 11  METDIVFP  7 non-null      object  \n",
      " 12  FUNCSTAT  58 non-null     object  \n",
      " 13  ALAND     58 non-null     int64   \n",
      " 14  AWATER    58 non-null     int64   \n",
      " 15  INTPTLAT  58 non-null     object  \n",
      " 16  INTPTLON  58 non-null     object  \n",
      " 17  geometry  58 non-null     geometry\n",
      "dtypes: geometry(1), int64(2), object(15)\n",
      "memory usage: 8.3+ KB\n"
     ]
    }
   ],
   "source": [
    "#checking to see if I can get fips codes from the shapefile to join the two dataframes\n",
    "gdf.info()"
   ]
  },
  {
   "cell_type": "code",
   "execution_count": 58,
   "metadata": {
    "execution": {
     "iopub.execute_input": "2023-10-05T14:19:29.331434Z",
     "iopub.status.busy": "2023-10-05T14:19:29.331276Z",
     "iopub.status.idle": "2023-10-05T14:19:29.487121Z",
     "shell.execute_reply": "2023-10-05T14:19:29.486627Z",
     "shell.execute_reply.started": "2023-10-05T14:19:29.331419Z"
    },
    "tags": []
   },
   "outputs": [
    {
     "name": "stderr",
     "output_type": "stream",
     "text": [
      "/Users/isabellevea/anaconda3/lib/python3.10/site-packages/IPython/core/interactiveshell.py:3400: FutureWarning: The `op` parameter is deprecated and will be removed in a future release. Please use the `predicate` parameter instead.\n",
      "  if await self.run_code(code, result, async_=asy):\n"
     ]
    }
   ],
   "source": [
    "# bringing FP codes to the burn dataframe for joining\n",
    "# Spatial join between burn DataFrame and shapefile\n",
    "gdf = gdf[['STATEFP', 'COUNTYFP', 'geometry']]  # Select only necessary columns\n",
    "burn_gdf = gpd.GeoDataFrame(burn, geometry=gpd.points_from_xy(burn.LONGITUDE, burn.LATITUDE), crs=gdf.crs)\n",
    "merged = gpd.sjoin(burn_gdf, gdf, how='left', op='within')\n",
    "\n",
    "# Extract STATEFP and COUNTYFP values\n",
    "burn['state_fips'] = merged['STATEFP']\n",
    "burn['county_fips'] = merged['COUNTYFP']\n",
    "\n",
    "# Create 'fips' column by concatenating 'state_fips' and 'county_fips'\n",
    "burn['fips'] = burn['state_fips'].astype(str) + burn['county_fips'].astype(str)\n"
   ]
  },
  {
   "cell_type": "code",
   "execution_count": 59,
   "metadata": {
    "execution": {
     "iopub.execute_input": "2023-10-05T14:19:29.488226Z",
     "iopub.status.busy": "2023-10-05T14:19:29.488038Z",
     "iopub.status.idle": "2023-10-05T14:19:29.501156Z",
     "shell.execute_reply": "2023-10-05T14:19:29.500689Z",
     "shell.execute_reply.started": "2023-10-05T14:19:29.488210Z"
    },
    "tags": []
   },
   "outputs": [
    {
     "data": {
      "text/html": [
       "<div>\n",
       "<style scoped>\n",
       "    .dataframe tbody tr th:only-of-type {\n",
       "        vertical-align: middle;\n",
       "    }\n",
       "\n",
       "    .dataframe tbody tr th {\n",
       "        vertical-align: top;\n",
       "    }\n",
       "\n",
       "    .dataframe thead th {\n",
       "        text-align: right;\n",
       "    }\n",
       "</style>\n",
       "<table border=\"1\" class=\"dataframe\">\n",
       "  <thead>\n",
       "    <tr style=\"text-align: right;\">\n",
       "      <th></th>\n",
       "      <th>X</th>\n",
       "      <th>Y</th>\n",
       "      <th>OBJECTID</th>\n",
       "      <th>FIRE_ID</th>\n",
       "      <th>FIRE_NAME</th>\n",
       "      <th>ASMNT_TYPE</th>\n",
       "      <th>FIRE_TYPE</th>\n",
       "      <th>NODATA_THRESHOLD</th>\n",
       "      <th>GREENNESS_THRESHOLD</th>\n",
       "      <th>LOW_THRESHOLD</th>\n",
       "      <th>...</th>\n",
       "      <th>PERIM_ID</th>\n",
       "      <th>DNBR_OFFST</th>\n",
       "      <th>DNBR_STDDV</th>\n",
       "      <th>COMMENTS</th>\n",
       "      <th>PRE_ID</th>\n",
       "      <th>POST_ID</th>\n",
       "      <th>County</th>\n",
       "      <th>state_fips</th>\n",
       "      <th>county_fips</th>\n",
       "      <th>fips</th>\n",
       "    </tr>\n",
       "  </thead>\n",
       "  <tbody>\n",
       "    <tr>\n",
       "      <th>0</th>\n",
       "      <td>-144.673246</td>\n",
       "      <td>64.482309</td>\n",
       "      <td>830721</td>\n",
       "      <td>AK6448214467319840607</td>\n",
       "      <td>GLACIER CREEK</td>\n",
       "      <td>Initial (SS)</td>\n",
       "      <td>Wildfire</td>\n",
       "      <td>9999</td>\n",
       "      <td>9999</td>\n",
       "      <td>550</td>\n",
       "      <td>...</td>\n",
       "      <td>506601519860705</td>\n",
       "      <td>-9999</td>\n",
       "      <td>-9999</td>\n",
       "      <td>NaN</td>\n",
       "      <td>NaN</td>\n",
       "      <td>506801519840713</td>\n",
       "      <td>Del Norte</td>\n",
       "      <td>NaN</td>\n",
       "      <td>NaN</td>\n",
       "      <td>nannan</td>\n",
       "    </tr>\n",
       "    <tr>\n",
       "      <th>1</th>\n",
       "      <td>-102.849877</td>\n",
       "      <td>43.083926</td>\n",
       "      <td>830722</td>\n",
       "      <td>SD4308410285019840906</td>\n",
       "      <td>SANDOZ</td>\n",
       "      <td>Initial</td>\n",
       "      <td>Wildfire</td>\n",
       "      <td>-970</td>\n",
       "      <td>-150</td>\n",
       "      <td>220</td>\n",
       "      <td>...</td>\n",
       "      <td>NaN</td>\n",
       "      <td>211</td>\n",
       "      <td>-9999</td>\n",
       "      <td>NaN</td>\n",
       "      <td>503303019840622</td>\n",
       "      <td>503303019840926</td>\n",
       "      <td>San Bernardino</td>\n",
       "      <td>NaN</td>\n",
       "      <td>NaN</td>\n",
       "      <td>nannan</td>\n",
       "    </tr>\n",
       "    <tr>\n",
       "      <th>2</th>\n",
       "      <td>-113.457720</td>\n",
       "      <td>48.804345</td>\n",
       "      <td>830723</td>\n",
       "      <td>MT4880411345819840819</td>\n",
       "      <td>NAPI PEAK</td>\n",
       "      <td>Extended</td>\n",
       "      <td>Wildfire</td>\n",
       "      <td>-970</td>\n",
       "      <td>-150</td>\n",
       "      <td>160</td>\n",
       "      <td>...</td>\n",
       "      <td>NaN</td>\n",
       "      <td>-62</td>\n",
       "      <td>-9999</td>\n",
       "      <td>NaN</td>\n",
       "      <td>504102619840614</td>\n",
       "      <td>504102619850719</td>\n",
       "      <td>Modoc</td>\n",
       "      <td>NaN</td>\n",
       "      <td>NaN</td>\n",
       "      <td>nannan</td>\n",
       "    </tr>\n",
       "    <tr>\n",
       "      <th>3</th>\n",
       "      <td>-106.958289</td>\n",
       "      <td>45.336400</td>\n",
       "      <td>830724</td>\n",
       "      <td>MT4533610695819840826</td>\n",
       "      <td>KIRBY</td>\n",
       "      <td>Extended</td>\n",
       "      <td>Wildfire</td>\n",
       "      <td>-970</td>\n",
       "      <td>-150</td>\n",
       "      <td>150</td>\n",
       "      <td>...</td>\n",
       "      <td>NaN</td>\n",
       "      <td>52</td>\n",
       "      <td>-9999</td>\n",
       "      <td>NaN</td>\n",
       "      <td>503602819840814</td>\n",
       "      <td>503602819850817</td>\n",
       "      <td>San Bernardino</td>\n",
       "      <td>NaN</td>\n",
       "      <td>NaN</td>\n",
       "      <td>nannan</td>\n",
       "    </tr>\n",
       "    <tr>\n",
       "      <th>4</th>\n",
       "      <td>-106.322839</td>\n",
       "      <td>45.616844</td>\n",
       "      <td>830725</td>\n",
       "      <td>MT4561710632319840918</td>\n",
       "      <td>LAKE CREEK</td>\n",
       "      <td>Initial</td>\n",
       "      <td>Wildfire</td>\n",
       "      <td>-970</td>\n",
       "      <td>-150</td>\n",
       "      <td>-50</td>\n",
       "      <td>...</td>\n",
       "      <td>NaN</td>\n",
       "      <td>-104</td>\n",
       "      <td>-9999</td>\n",
       "      <td>NaN</td>\n",
       "      <td>503602819840814</td>\n",
       "      <td>503602819841017</td>\n",
       "      <td>San Bernardino</td>\n",
       "      <td>NaN</td>\n",
       "      <td>NaN</td>\n",
       "      <td>nannan</td>\n",
       "    </tr>\n",
       "  </tbody>\n",
       "</table>\n",
       "<p>5 rows × 29 columns</p>\n",
       "</div>"
      ],
      "text/plain": [
       "            X          Y  OBJECTID                FIRE_ID      FIRE_NAME  \\\n",
       "0 -144.673246  64.482309    830721  AK6448214467319840607  GLACIER CREEK   \n",
       "1 -102.849877  43.083926    830722  SD4308410285019840906         SANDOZ   \n",
       "2 -113.457720  48.804345    830723  MT4880411345819840819      NAPI PEAK   \n",
       "3 -106.958289  45.336400    830724  MT4533610695819840826          KIRBY   \n",
       "4 -106.322839  45.616844    830725  MT4561710632319840918     LAKE CREEK   \n",
       "\n",
       "     ASMNT_TYPE FIRE_TYPE  NODATA_THRESHOLD  GREENNESS_THRESHOLD  \\\n",
       "0  Initial (SS)  Wildfire              9999                 9999   \n",
       "1       Initial  Wildfire              -970                 -150   \n",
       "2      Extended  Wildfire              -970                 -150   \n",
       "3      Extended  Wildfire              -970                 -150   \n",
       "4       Initial  Wildfire              -970                 -150   \n",
       "\n",
       "   LOW_THRESHOLD  ...         PERIM_ID  DNBR_OFFST DNBR_STDDV  COMMENTS  \\\n",
       "0            550  ...  506601519860705       -9999      -9999       NaN   \n",
       "1            220  ...              NaN         211      -9999       NaN   \n",
       "2            160  ...              NaN         -62      -9999       NaN   \n",
       "3            150  ...              NaN          52      -9999       NaN   \n",
       "4            -50  ...              NaN        -104      -9999       NaN   \n",
       "\n",
       "            PRE_ID          POST_ID          County  state_fips county_fips  \\\n",
       "0              NaN  506801519840713       Del Norte         NaN         NaN   \n",
       "1  503303019840622  503303019840926  San Bernardino         NaN         NaN   \n",
       "2  504102619840614  504102619850719           Modoc         NaN         NaN   \n",
       "3  503602819840814  503602819850817  San Bernardino         NaN         NaN   \n",
       "4  503602819840814  503602819841017  San Bernardino         NaN         NaN   \n",
       "\n",
       "     fips  \n",
       "0  nannan  \n",
       "1  nannan  \n",
       "2  nannan  \n",
       "3  nannan  \n",
       "4  nannan  \n",
       "\n",
       "[5 rows x 29 columns]"
      ]
     },
     "execution_count": 59,
     "metadata": {},
     "output_type": "execute_result"
    }
   ],
   "source": [
    "burn.head()"
   ]
  },
  {
   "cell_type": "code",
   "execution_count": 60,
   "metadata": {
    "execution": {
     "iopub.execute_input": "2023-10-05T14:19:29.502280Z",
     "iopub.status.busy": "2023-10-05T14:19:29.502048Z",
     "iopub.status.idle": "2023-10-05T14:19:29.504618Z",
     "shell.execute_reply": "2023-10-05T14:19:29.504062Z",
     "shell.execute_reply.started": "2023-10-05T14:19:29.502264Z"
    },
    "tags": []
   },
   "outputs": [],
   "source": [
    "# filtering down to California only for both dataframes\n",
    "#Cali = df_map[df_map['STATE_NAME']=='California']\n",
    "#Cali.head()"
   ]
  },
  {
   "cell_type": "code",
   "execution_count": 61,
   "metadata": {
    "execution": {
     "iopub.execute_input": "2023-10-05T14:19:29.508173Z",
     "iopub.status.busy": "2023-10-05T14:19:29.507935Z",
     "iopub.status.idle": "2023-10-05T14:19:29.531829Z",
     "shell.execute_reply": "2023-10-05T14:19:29.531291Z",
     "shell.execute_reply.started": "2023-10-05T14:19:29.508155Z"
    },
    "tags": []
   },
   "outputs": [
    {
     "name": "stdout",
     "output_type": "stream",
     "text": [
      "<class 'pandas.core.frame.DataFrame'>\n",
      "Int64Index: 1986 entries, 23 to 30374\n",
      "Data columns (total 29 columns):\n",
      " #   Column               Non-Null Count  Dtype  \n",
      "---  ------               --------------  -----  \n",
      " 0   X                    1986 non-null   float64\n",
      " 1   Y                    1986 non-null   float64\n",
      " 2   OBJECTID             1986 non-null   int64  \n",
      " 3   FIRE_ID              1986 non-null   object \n",
      " 4   FIRE_NAME            1986 non-null   object \n",
      " 5   ASMNT_TYPE           1986 non-null   object \n",
      " 6   FIRE_TYPE            1986 non-null   object \n",
      " 7   NODATA_THRESHOLD     1986 non-null   int64  \n",
      " 8   GREENNESS_THRESHOLD  1986 non-null   int64  \n",
      " 9   LOW_THRESHOLD        1986 non-null   int64  \n",
      " 10  MODERATE_THRESHOLD   1986 non-null   int64  \n",
      " 11  HIGH_THRESHOLD       1986 non-null   int64  \n",
      " 12  IG_DATE              1986 non-null   object \n",
      " 13  LATITUDE             1986 non-null   float64\n",
      " 14  LONGITUDE            1986 non-null   float64\n",
      " 15  ACRES                1986 non-null   int64  \n",
      " 16  IRWINID              373 non-null    object \n",
      " 17  MAP_ID               1986 non-null   int64  \n",
      " 18  MAP_PROG             1986 non-null   object \n",
      " 19  PERIM_ID             344 non-null    object \n",
      " 20  DNBR_OFFST           1986 non-null   int64  \n",
      " 21  DNBR_STDDV           1986 non-null   int64  \n",
      " 22  COMMENTS             566 non-null    object \n",
      " 23  PRE_ID               1869 non-null   object \n",
      " 24  POST_ID              1986 non-null   object \n",
      " 25  County               1986 non-null   object \n",
      " 26  state_fips           1986 non-null   object \n",
      " 27  county_fips          1986 non-null   object \n",
      " 28  fips                 1986 non-null   object \n",
      "dtypes: float64(4), int64(10), object(15)\n",
      "memory usage: 465.5+ KB\n"
     ]
    }
   ],
   "source": [
    "Cali_burn = burn[burn['state_fips'] == '06']\n",
    "Cali_burn.info()"
   ]
  },
  {
   "cell_type": "code",
   "execution_count": 62,
   "metadata": {
    "execution": {
     "iopub.execute_input": "2023-10-05T14:19:29.533247Z",
     "iopub.status.busy": "2023-10-05T14:19:29.532834Z",
     "iopub.status.idle": "2023-10-05T14:19:29.557676Z",
     "shell.execute_reply": "2023-10-05T14:19:29.557195Z",
     "shell.execute_reply.started": "2023-10-05T14:19:29.533228Z"
    },
    "tags": []
   },
   "outputs": [
    {
     "name": "stdout",
     "output_type": "stream",
     "text": [
      "<class 'pandas.core.frame.DataFrame'>\n",
      "Int64Index: 1986 entries, 0 to 1985\n",
      "Data columns (total 33 columns):\n",
      " #   Column               Non-Null Count  Dtype  \n",
      "---  ------               --------------  -----  \n",
      " 0   X                    1986 non-null   float64\n",
      " 1   Y                    1986 non-null   float64\n",
      " 2   OBJECTID             1986 non-null   int64  \n",
      " 3   FIRE_ID              1986 non-null   object \n",
      " 4   FIRE_NAME            1986 non-null   object \n",
      " 5   ASMNT_TYPE           1986 non-null   object \n",
      " 6   FIRE_TYPE            1986 non-null   object \n",
      " 7   NODATA_THRESHOLD     1986 non-null   int64  \n",
      " 8   GREENNESS_THRESHOLD  1986 non-null   int64  \n",
      " 9   LOW_THRESHOLD        1986 non-null   int64  \n",
      " 10  MODERATE_THRESHOLD   1986 non-null   int64  \n",
      " 11  HIGH_THRESHOLD       1986 non-null   int64  \n",
      " 12  IG_DATE              1986 non-null   object \n",
      " 13  LATITUDE             1986 non-null   float64\n",
      " 14  LONGITUDE            1986 non-null   float64\n",
      " 15  ACRES                1986 non-null   int64  \n",
      " 16  IRWINID              373 non-null    object \n",
      " 17  MAP_ID               1986 non-null   int64  \n",
      " 18  MAP_PROG             1986 non-null   object \n",
      " 19  PERIM_ID             344 non-null    object \n",
      " 20  DNBR_OFFST           1986 non-null   int64  \n",
      " 21  DNBR_STDDV           1986 non-null   int64  \n",
      " 22  COMMENTS             566 non-null    object \n",
      " 23  PRE_ID               1869 non-null   object \n",
      " 24  POST_ID              1986 non-null   object \n",
      " 25  County               1986 non-null   object \n",
      " 26  state_fips_x         1986 non-null   object \n",
      " 27  county_fips_x        1986 non-null   object \n",
      " 28  fips                 1986 non-null   object \n",
      " 29  county_name          1986 non-null   object \n",
      " 30  population           1986 non-null   int64  \n",
      " 31  state_fips_y         1986 non-null   object \n",
      " 32  county_fips_y        1986 non-null   object \n",
      "dtypes: float64(4), int64(11), object(18)\n",
      "memory usage: 527.5+ KB\n"
     ]
    }
   ],
   "source": [
    "burn_pop_merge = Cali_burn.merge(df, how = 'left', on = 'fips')\n",
    "burn_pop_merge.info()"
   ]
  },
  {
   "cell_type": "code",
   "execution_count": 63,
   "metadata": {
    "execution": {
     "iopub.execute_input": "2023-10-05T14:19:29.558757Z",
     "iopub.status.busy": "2023-10-05T14:19:29.558574Z",
     "iopub.status.idle": "2023-10-05T14:19:29.564420Z",
     "shell.execute_reply": "2023-10-05T14:19:29.563749Z",
     "shell.execute_reply.started": "2023-10-05T14:19:29.558739Z"
    },
    "tags": []
   },
   "outputs": [
    {
     "data": {
      "text/plain": [
       "Index(['X', 'Y', 'OBJECTID', 'FIRE_ID', 'FIRE_NAME', 'ASMNT_TYPE', 'FIRE_TYPE',\n",
       "       'NODATA_THRESHOLD', 'GREENNESS_THRESHOLD', 'LOW_THRESHOLD',\n",
       "       'MODERATE_THRESHOLD', 'HIGH_THRESHOLD', 'IG_DATE', 'LATITUDE',\n",
       "       'LONGITUDE', 'ACRES', 'IRWINID', 'MAP_ID', 'MAP_PROG', 'PERIM_ID',\n",
       "       'DNBR_OFFST', 'DNBR_STDDV', 'COMMENTS', 'PRE_ID', 'POST_ID', 'County',\n",
       "       'state_fips_x', 'county_fips_x', 'fips', 'county_name', 'population',\n",
       "       'state_fips_y', 'county_fips_y'],\n",
       "      dtype='object')"
      ]
     },
     "execution_count": 63,
     "metadata": {},
     "output_type": "execute_result"
    }
   ],
   "source": [
    "burn_pop_merge.columns"
   ]
  },
  {
   "cell_type": "code",
   "execution_count": 64,
   "metadata": {
    "execution": {
     "iopub.execute_input": "2023-10-05T14:19:29.565847Z",
     "iopub.status.busy": "2023-10-05T14:19:29.565638Z",
     "iopub.status.idle": "2023-10-05T14:19:29.581665Z",
     "shell.execute_reply": "2023-10-05T14:19:29.581154Z",
     "shell.execute_reply.started": "2023-10-05T14:19:29.565831Z"
    },
    "tags": []
   },
   "outputs": [
    {
     "name": "stdout",
     "output_type": "stream",
     "text": [
      "<class 'pandas.core.frame.DataFrame'>\n",
      "Int64Index: 1986 entries, 0 to 1985\n",
      "Data columns (total 31 columns):\n",
      " #   Column               Non-Null Count  Dtype  \n",
      "---  ------               --------------  -----  \n",
      " 0   X                    1986 non-null   float64\n",
      " 1   Y                    1986 non-null   float64\n",
      " 2   OBJECTID             1986 non-null   int64  \n",
      " 3   FIRE_ID              1986 non-null   object \n",
      " 4   FIRE_NAME            1986 non-null   object \n",
      " 5   ASMNT_TYPE           1986 non-null   object \n",
      " 6   FIRE_TYPE            1986 non-null   object \n",
      " 7   NODATA_THRESHOLD     1986 non-null   int64  \n",
      " 8   GREENNESS_THRESHOLD  1986 non-null   int64  \n",
      " 9   LOW_THRESHOLD        1986 non-null   int64  \n",
      " 10  MODERATE_THRESHOLD   1986 non-null   int64  \n",
      " 11  HIGH_THRESHOLD       1986 non-null   int64  \n",
      " 12  IG_DATE              1986 non-null   object \n",
      " 13  LATITUDE             1986 non-null   float64\n",
      " 14  LONGITUDE            1986 non-null   float64\n",
      " 15  ACRES                1986 non-null   int64  \n",
      " 16  IRWINID              373 non-null    object \n",
      " 17  MAP_ID               1986 non-null   int64  \n",
      " 18  MAP_PROG             1986 non-null   object \n",
      " 19  PERIM_ID             344 non-null    object \n",
      " 20  DNBR_OFFST           1986 non-null   int64  \n",
      " 21  DNBR_STDDV           1986 non-null   int64  \n",
      " 22  COMMENTS             566 non-null    object \n",
      " 23  PRE_ID               1869 non-null   object \n",
      " 24  POST_ID              1986 non-null   object \n",
      " 25  County               1986 non-null   object \n",
      " 26  state_fips_x         1986 non-null   object \n",
      " 27  county_fips_x        1986 non-null   object \n",
      " 28  fips                 1986 non-null   object \n",
      " 29  county_name          1986 non-null   object \n",
      " 30  population           1986 non-null   int64  \n",
      "dtypes: float64(4), int64(11), object(16)\n",
      "memory usage: 496.5+ KB\n"
     ]
    }
   ],
   "source": [
    "#dropping extra columns\n",
    "burn_pop_merge.drop(['state_fips_y', 'county_fips_y'], axis=1, inplace=True)\n",
    "burn_pop_merge.info()"
   ]
  },
  {
   "cell_type": "code",
   "execution_count": 65,
   "metadata": {
    "execution": {
     "iopub.execute_input": "2023-10-05T14:19:29.582891Z",
     "iopub.status.busy": "2023-10-05T14:19:29.582665Z",
     "iopub.status.idle": "2023-10-05T14:19:29.588073Z",
     "shell.execute_reply": "2023-10-05T14:19:29.587648Z",
     "shell.execute_reply.started": "2023-10-05T14:19:29.582873Z"
    },
    "tags": []
   },
   "outputs": [
    {
     "data": {
      "text/plain": [
       "Index(['X', 'Y', 'OBJECTID', 'FIRE_ID', 'FIRE_NAME', 'ASMNT_TYPE', 'FIRE_TYPE',\n",
       "       'NODATA_THRESHOLD', 'GREENNESS_THRESHOLD', 'LOW_THRESHOLD',\n",
       "       'MODERATE_THRESHOLD', 'HIGH_THRESHOLD', 'IG_DATE', 'LATITUDE',\n",
       "       'LONGITUDE', 'ACRES', 'IRWINID', 'MAP_ID', 'MAP_PROG', 'PERIM_ID',\n",
       "       'DNBR_OFFST', 'DNBR_STDDV', 'COMMENTS', 'PRE_ID', 'POST_ID', 'County',\n",
       "       'state_fips', 'county_fips', 'fips', 'county_name', 'population'],\n",
       "      dtype='object')"
      ]
     },
     "execution_count": 65,
     "metadata": {},
     "output_type": "execute_result"
    }
   ],
   "source": [
    "burn_pop_merge.rename(columns = {'state_fips_x': 'state_fips', 'county_fips_x': 'county_fips'}, inplace=True)\n",
    "burn_pop_merge.columns"
   ]
  },
  {
   "cell_type": "code",
   "execution_count": 66,
   "metadata": {
    "execution": {
     "iopub.execute_input": "2023-10-05T14:19:29.589092Z",
     "iopub.status.busy": "2023-10-05T14:19:29.588913Z",
     "iopub.status.idle": "2023-10-05T14:19:29.626966Z",
     "shell.execute_reply": "2023-10-05T14:19:29.626388Z",
     "shell.execute_reply.started": "2023-10-05T14:19:29.589076Z"
    },
    "tags": []
   },
   "outputs": [],
   "source": [
    "#writing file to csv\n",
    "burn_pop_merge.to_csv('burn_severity_population.csv')"
   ]
  },
  {
   "cell_type": "code",
   "execution_count": 67,
   "metadata": {
    "execution": {
     "iopub.execute_input": "2023-10-05T14:19:29.628157Z",
     "iopub.status.busy": "2023-10-05T14:19:29.627961Z",
     "iopub.status.idle": "2023-10-05T14:19:29.630883Z",
     "shell.execute_reply": "2023-10-05T14:19:29.630110Z",
     "shell.execute_reply.started": "2023-10-05T14:19:29.628140Z"
    }
   },
   "outputs": [],
   "source": [
    "#extras = burn_pop_merge[burn_pop_merge['POST_ID'].isna()]\n",
    "#print(extras)\n"
   ]
  },
  {
   "cell_type": "code",
   "execution_count": 68,
   "metadata": {
    "execution": {
     "iopub.execute_input": "2023-10-05T14:19:29.632736Z",
     "iopub.status.busy": "2023-10-05T14:19:29.632468Z",
     "iopub.status.idle": "2023-10-05T14:19:29.635161Z",
     "shell.execute_reply": "2023-10-05T14:19:29.634694Z",
     "shell.execute_reply.started": "2023-10-05T14:19:29.632715Z"
    }
   },
   "outputs": [],
   "source": [
    "#extras.info()"
   ]
  },
  {
   "cell_type": "code",
   "execution_count": 69,
   "metadata": {
    "execution": {
     "iopub.execute_input": "2023-10-05T14:19:29.636176Z",
     "iopub.status.busy": "2023-10-05T14:19:29.635918Z",
     "iopub.status.idle": "2023-10-05T14:19:29.638767Z",
     "shell.execute_reply": "2023-10-05T14:19:29.638288Z",
     "shell.execute_reply.started": "2023-10-05T14:19:29.636160Z"
    }
   },
   "outputs": [],
   "source": [
    "#dropping the two extra rows that got added, since they don't seem to have any info from the burn data\n",
    "#burn_pop_merge = burn_pop_merge.dropna(subset=['POST_ID'])\n",
    "#burn_pop_merge.info()"
   ]
  },
  {
   "cell_type": "code",
   "execution_count": 70,
   "metadata": {
    "execution": {
     "iopub.execute_input": "2023-10-05T14:19:29.639773Z",
     "iopub.status.busy": "2023-10-05T14:19:29.639587Z",
     "iopub.status.idle": "2023-10-05T14:19:34.019272Z",
     "shell.execute_reply": "2023-10-05T14:19:34.018018Z",
     "shell.execute_reply.started": "2023-10-05T14:19:29.639758Z"
    }
   },
   "outputs": [
    {
     "name": "stdout",
     "output_type": "stream",
     "text": [
      "Requirement already satisfied: seaborn in /Users/isabellevea/anaconda3/lib/python3.10/site-packages (0.12.2)\n",
      "Requirement already satisfied: numpy!=1.24.0,>=1.17 in /Users/isabellevea/anaconda3/lib/python3.10/site-packages (from seaborn) (1.23.5)\n",
      "Requirement already satisfied: matplotlib!=3.6.1,>=3.1 in /Users/isabellevea/anaconda3/lib/python3.10/site-packages (from seaborn) (3.7.0)\n",
      "Requirement already satisfied: pandas>=0.25 in /Users/isabellevea/anaconda3/lib/python3.10/site-packages (from seaborn) (1.5.3)\n",
      "Requirement already satisfied: packaging>=20.0 in /Users/isabellevea/anaconda3/lib/python3.10/site-packages (from matplotlib!=3.6.1,>=3.1->seaborn) (22.0)\n",
      "Requirement already satisfied: fonttools>=4.22.0 in /Users/isabellevea/anaconda3/lib/python3.10/site-packages (from matplotlib!=3.6.1,>=3.1->seaborn) (4.25.0)\n",
      "Requirement already satisfied: pillow>=6.2.0 in /Users/isabellevea/anaconda3/lib/python3.10/site-packages (from matplotlib!=3.6.1,>=3.1->seaborn) (9.4.0)\n",
      "Requirement already satisfied: pyparsing>=2.3.1 in /Users/isabellevea/anaconda3/lib/python3.10/site-packages (from matplotlib!=3.6.1,>=3.1->seaborn) (3.0.9)\n",
      "Requirement already satisfied: kiwisolver>=1.0.1 in /Users/isabellevea/anaconda3/lib/python3.10/site-packages (from matplotlib!=3.6.1,>=3.1->seaborn) (1.4.4)\n",
      "Requirement already satisfied: python-dateutil>=2.7 in /Users/isabellevea/anaconda3/lib/python3.10/site-packages (from matplotlib!=3.6.1,>=3.1->seaborn) (2.8.2)\n",
      "Requirement already satisfied: contourpy>=1.0.1 in /Users/isabellevea/anaconda3/lib/python3.10/site-packages (from matplotlib!=3.6.1,>=3.1->seaborn) (1.0.5)\n",
      "Requirement already satisfied: cycler>=0.10 in /Users/isabellevea/anaconda3/lib/python3.10/site-packages (from matplotlib!=3.6.1,>=3.1->seaborn) (0.11.0)\n",
      "Requirement already satisfied: pytz>=2020.1 in /Users/isabellevea/anaconda3/lib/python3.10/site-packages (from pandas>=0.25->seaborn) (2022.7)\n",
      "Requirement already satisfied: six>=1.5 in /Users/isabellevea/anaconda3/lib/python3.10/site-packages (from python-dateutil>=2.7->matplotlib!=3.6.1,>=3.1->seaborn) (1.16.0)\n",
      "Note: you may need to restart the kernel to use updated packages.\n"
     ]
    }
   ],
   "source": [
    "#pip install seaborn"
   ]
  },
  {
   "cell_type": "code",
   "execution_count": 71,
   "metadata": {
    "execution": {
     "iopub.execute_input": "2023-10-05T14:19:34.021509Z",
     "iopub.status.busy": "2023-10-05T14:19:34.021226Z",
     "iopub.status.idle": "2023-10-05T14:19:34.026272Z",
     "shell.execute_reply": "2023-10-05T14:19:34.025624Z",
     "shell.execute_reply.started": "2023-10-05T14:19:34.021480Z"
    }
   },
   "outputs": [],
   "source": [
    "# quick visualization of the results\n",
    "#import matplotlib.pyplot as plt\n",
    "#import seaborn as sns\n",
    "# Group by 'County Name' and get the count of POST_ID\n",
    "#county_counts = burn_pop_merge.groupby('County Name')['POST_ID'].count()\n",
    "\n",
    "# Filter for counties with more than 5 POST_ID values\n",
    "#county_counts_filtered = county_counts[county_counts > 5]\n",
    "\n",
    "# Merge with the original DataFrame to keep 'County Population'\n",
    "#merged_df = burn_pop_merge.merge(county_counts_filtered, left_on='County Name', right_index=True, suffixes=('_original', '_count'))\n",
    "\n",
    "# Sort counties by County Population in descending order\n",
    "#sorted_df = merged_df.sort_values(by='County Population', ascending=False)\n",
    "# Create the bar chart\n",
    "#plt.figure(figsize=(20, 6))\n",
    "#sns.barplot(x=sorted_df['County Name'], y=sorted_df['POST_ID_count'],color='firebrick')\n",
    "#plt.title('Counties with > 5 fire records, Sorted by Population')\n",
    "#plt.xlabel('County Name')\n",
    "#plt.ylabel('Fires')\n",
    "#plt.xticks(rotation=90)\n",
    "#plt.show()\n"
   ]
  },
  {
   "cell_type": "code",
   "execution_count": 72,
   "metadata": {
    "execution": {
     "iopub.execute_input": "2023-10-05T14:19:34.027345Z",
     "iopub.status.busy": "2023-10-05T14:19:34.027134Z",
     "iopub.status.idle": "2023-10-05T14:19:34.584690Z",
     "shell.execute_reply": "2023-10-05T14:19:34.584134Z",
     "shell.execute_reply.started": "2023-10-05T14:19:34.027327Z"
    },
    "tags": []
   },
   "outputs": [],
   "source": [
    "#creating map visual for presentation\n",
    "import pandas as pd\n",
    "import geopandas as gpd\n",
    "import matplotlib.pyplot as plt"
   ]
  },
  {
   "cell_type": "code",
   "execution_count": 73,
   "metadata": {
    "execution": {
     "iopub.execute_input": "2023-10-05T14:19:34.585785Z",
     "iopub.status.busy": "2023-10-05T14:19:34.585531Z",
     "iopub.status.idle": "2023-10-05T14:19:34.606678Z",
     "shell.execute_reply": "2023-10-05T14:19:34.606240Z",
     "shell.execute_reply.started": "2023-10-05T14:19:34.585769Z"
    },
    "tags": []
   },
   "outputs": [
    {
     "data": {
      "text/plain": [
       "(1986, 32)"
      ]
     },
     "execution_count": 73,
     "metadata": {},
     "output_type": "execute_result"
    }
   ],
   "source": [
    "cali = pd.read_csv('burn_severity_population.csv')\n",
    "cali.shape"
   ]
  },
  {
   "cell_type": "code",
   "execution_count": 74,
   "metadata": {
    "execution": {
     "iopub.execute_input": "2023-10-05T14:19:34.607742Z",
     "iopub.status.busy": "2023-10-05T14:19:34.607531Z",
     "iopub.status.idle": "2023-10-05T14:19:34.611223Z",
     "shell.execute_reply": "2023-10-05T14:19:34.610828Z",
     "shell.execute_reply.started": "2023-10-05T14:19:34.607726Z"
    },
    "tags": []
   },
   "outputs": [
    {
     "data": {
      "text/plain": [
       "Index(['Unnamed: 0', 'X', 'Y', 'OBJECTID', 'FIRE_ID', 'FIRE_NAME',\n",
       "       'ASMNT_TYPE', 'FIRE_TYPE', 'NODATA_THRESHOLD', 'GREENNESS_THRESHOLD',\n",
       "       'LOW_THRESHOLD', 'MODERATE_THRESHOLD', 'HIGH_THRESHOLD', 'IG_DATE',\n",
       "       'LATITUDE', 'LONGITUDE', 'ACRES', 'IRWINID', 'MAP_ID', 'MAP_PROG',\n",
       "       'PERIM_ID', 'DNBR_OFFST', 'DNBR_STDDV', 'COMMENTS', 'PRE_ID', 'POST_ID',\n",
       "       'County', 'state_fips', 'county_fips', 'fips', 'county_name',\n",
       "       'population'],\n",
       "      dtype='object')"
      ]
     },
     "execution_count": 74,
     "metadata": {},
     "output_type": "execute_result"
    }
   ],
   "source": [
    "cali.columns"
   ]
  },
  {
   "cell_type": "code",
   "execution_count": 75,
   "metadata": {
    "execution": {
     "iopub.execute_input": "2023-10-05T14:19:34.612233Z",
     "iopub.status.busy": "2023-10-05T14:19:34.611999Z",
     "iopub.status.idle": "2023-10-05T14:19:34.615143Z",
     "shell.execute_reply": "2023-10-05T14:19:34.614731Z",
     "shell.execute_reply.started": "2023-10-05T14:19:34.612215Z"
    },
    "tags": []
   },
   "outputs": [],
   "source": [
    "cali['fips'] = cali['fips'].astype(int)"
   ]
  },
  {
   "cell_type": "code",
   "execution_count": 76,
   "metadata": {
    "execution": {
     "iopub.execute_input": "2023-10-05T14:19:34.616072Z",
     "iopub.status.busy": "2023-10-05T14:19:34.615893Z",
     "iopub.status.idle": "2023-10-05T14:19:34.962288Z",
     "shell.execute_reply": "2023-10-05T14:19:34.961801Z",
     "shell.execute_reply.started": "2023-10-05T14:19:34.616058Z"
    },
    "tags": []
   },
   "outputs": [],
   "source": [
    "ca_map = gpd.read_file('data/census_CA.shp')"
   ]
  },
  {
   "cell_type": "code",
   "execution_count": 77,
   "metadata": {
    "execution": {
     "iopub.execute_input": "2023-10-05T14:19:34.963326Z",
     "iopub.status.busy": "2023-10-05T14:19:34.963138Z",
     "iopub.status.idle": "2023-10-05T14:19:35.026660Z",
     "shell.execute_reply": "2023-10-05T14:19:35.026216Z",
     "shell.execute_reply.started": "2023-10-05T14:19:34.963309Z"
    },
    "tags": []
   },
   "outputs": [
    {
     "data": {
      "text/html": [
       "<div>\n",
       "<style scoped>\n",
       "    .dataframe tbody tr th:only-of-type {\n",
       "        vertical-align: middle;\n",
       "    }\n",
       "\n",
       "    .dataframe tbody tr th {\n",
       "        vertical-align: top;\n",
       "    }\n",
       "\n",
       "    .dataframe thead th {\n",
       "        text-align: right;\n",
       "    }\n",
       "</style>\n",
       "<table border=\"1\" class=\"dataframe\">\n",
       "  <thead>\n",
       "    <tr style=\"text-align: right;\">\n",
       "      <th></th>\n",
       "      <th>STATEFP</th>\n",
       "      <th>COUNTYFP</th>\n",
       "      <th>COUNTYNS</th>\n",
       "      <th>GEOID</th>\n",
       "      <th>NAME</th>\n",
       "      <th>NAMELSAD</th>\n",
       "      <th>LSAD</th>\n",
       "      <th>CLASSFP</th>\n",
       "      <th>MTFCC</th>\n",
       "      <th>CSAFP</th>\n",
       "      <th>CBSAFP</th>\n",
       "      <th>METDIVFP</th>\n",
       "      <th>FUNCSTAT</th>\n",
       "      <th>ALAND</th>\n",
       "      <th>AWATER</th>\n",
       "      <th>INTPTLAT</th>\n",
       "      <th>INTPTLON</th>\n",
       "      <th>geometry</th>\n",
       "    </tr>\n",
       "  </thead>\n",
       "  <tbody>\n",
       "    <tr>\n",
       "      <th>0</th>\n",
       "      <td>06</td>\n",
       "      <td>091</td>\n",
       "      <td>00277310</td>\n",
       "      <td>06091</td>\n",
       "      <td>Sierra</td>\n",
       "      <td>Sierra County</td>\n",
       "      <td>06</td>\n",
       "      <td>H1</td>\n",
       "      <td>G4020</td>\n",
       "      <td>NaN</td>\n",
       "      <td>NaN</td>\n",
       "      <td>NaN</td>\n",
       "      <td>A</td>\n",
       "      <td>2468694583</td>\n",
       "      <td>23299110</td>\n",
       "      <td>+39.5769252</td>\n",
       "      <td>-120.5219926</td>\n",
       "      <td>POLYGON ((-120.65559 39.69356, -120.65552 39.6...</td>\n",
       "    </tr>\n",
       "    <tr>\n",
       "      <th>1</th>\n",
       "      <td>06</td>\n",
       "      <td>067</td>\n",
       "      <td>00277298</td>\n",
       "      <td>06067</td>\n",
       "      <td>Sacramento</td>\n",
       "      <td>Sacramento County</td>\n",
       "      <td>06</td>\n",
       "      <td>H1</td>\n",
       "      <td>G4020</td>\n",
       "      <td>472</td>\n",
       "      <td>40900</td>\n",
       "      <td>NaN</td>\n",
       "      <td>A</td>\n",
       "      <td>2499983887</td>\n",
       "      <td>75425434</td>\n",
       "      <td>+38.4500161</td>\n",
       "      <td>-121.3404408</td>\n",
       "      <td>POLYGON ((-121.18857 38.71431, -121.18731 38.7...</td>\n",
       "    </tr>\n",
       "    <tr>\n",
       "      <th>2</th>\n",
       "      <td>06</td>\n",
       "      <td>083</td>\n",
       "      <td>00277306</td>\n",
       "      <td>06083</td>\n",
       "      <td>Santa Barbara</td>\n",
       "      <td>Santa Barbara County</td>\n",
       "      <td>06</td>\n",
       "      <td>H1</td>\n",
       "      <td>G4020</td>\n",
       "      <td>NaN</td>\n",
       "      <td>42200</td>\n",
       "      <td>NaN</td>\n",
       "      <td>A</td>\n",
       "      <td>7084063392</td>\n",
       "      <td>2729751706</td>\n",
       "      <td>+34.5370572</td>\n",
       "      <td>-120.0399729</td>\n",
       "      <td>MULTIPOLYGON (((-120.73429 34.90069, -120.7343...</td>\n",
       "    </tr>\n",
       "    <tr>\n",
       "      <th>3</th>\n",
       "      <td>06</td>\n",
       "      <td>009</td>\n",
       "      <td>01675885</td>\n",
       "      <td>06009</td>\n",
       "      <td>Calaveras</td>\n",
       "      <td>Calaveras County</td>\n",
       "      <td>06</td>\n",
       "      <td>H1</td>\n",
       "      <td>G4020</td>\n",
       "      <td>NaN</td>\n",
       "      <td>NaN</td>\n",
       "      <td>NaN</td>\n",
       "      <td>A</td>\n",
       "      <td>2641784992</td>\n",
       "      <td>43841871</td>\n",
       "      <td>+38.1838996</td>\n",
       "      <td>-120.5614415</td>\n",
       "      <td>POLYGON ((-120.63093 38.34110, -120.63057 38.3...</td>\n",
       "    </tr>\n",
       "    <tr>\n",
       "      <th>4</th>\n",
       "      <td>06</td>\n",
       "      <td>111</td>\n",
       "      <td>00277320</td>\n",
       "      <td>06111</td>\n",
       "      <td>Ventura</td>\n",
       "      <td>Ventura County</td>\n",
       "      <td>06</td>\n",
       "      <td>H1</td>\n",
       "      <td>G4020</td>\n",
       "      <td>348</td>\n",
       "      <td>37100</td>\n",
       "      <td>NaN</td>\n",
       "      <td>A</td>\n",
       "      <td>4771987962</td>\n",
       "      <td>947345370</td>\n",
       "      <td>+34.3587415</td>\n",
       "      <td>-119.1331432</td>\n",
       "      <td>MULTIPOLYGON (((-119.32922 34.22784, -119.3292...</td>\n",
       "    </tr>\n",
       "  </tbody>\n",
       "</table>\n",
       "</div>"
      ],
      "text/plain": [
       "  STATEFP COUNTYFP  COUNTYNS  GEOID           NAME              NAMELSAD LSAD  \\\n",
       "0      06      091  00277310  06091         Sierra         Sierra County   06   \n",
       "1      06      067  00277298  06067     Sacramento     Sacramento County   06   \n",
       "2      06      083  00277306  06083  Santa Barbara  Santa Barbara County   06   \n",
       "3      06      009  01675885  06009      Calaveras      Calaveras County   06   \n",
       "4      06      111  00277320  06111        Ventura        Ventura County   06   \n",
       "\n",
       "  CLASSFP  MTFCC CSAFP CBSAFP METDIVFP FUNCSTAT       ALAND      AWATER  \\\n",
       "0      H1  G4020   NaN    NaN      NaN        A  2468694583    23299110   \n",
       "1      H1  G4020   472  40900      NaN        A  2499983887    75425434   \n",
       "2      H1  G4020   NaN  42200      NaN        A  7084063392  2729751706   \n",
       "3      H1  G4020   NaN    NaN      NaN        A  2641784992    43841871   \n",
       "4      H1  G4020   348  37100      NaN        A  4771987962   947345370   \n",
       "\n",
       "      INTPTLAT      INTPTLON  \\\n",
       "0  +39.5769252  -120.5219926   \n",
       "1  +38.4500161  -121.3404408   \n",
       "2  +34.5370572  -120.0399729   \n",
       "3  +38.1838996  -120.5614415   \n",
       "4  +34.3587415  -119.1331432   \n",
       "\n",
       "                                            geometry  \n",
       "0  POLYGON ((-120.65559 39.69356, -120.65552 39.6...  \n",
       "1  POLYGON ((-121.18857 38.71431, -121.18731 38.7...  \n",
       "2  MULTIPOLYGON (((-120.73429 34.90069, -120.7343...  \n",
       "3  POLYGON ((-120.63093 38.34110, -120.63057 38.3...  \n",
       "4  MULTIPOLYGON (((-119.32922 34.22784, -119.3292...  "
      ]
     },
     "execution_count": 77,
     "metadata": {},
     "output_type": "execute_result"
    }
   ],
   "source": [
    "ca_map.head()"
   ]
  },
  {
   "cell_type": "code",
   "execution_count": 78,
   "metadata": {
    "execution": {
     "iopub.execute_input": "2023-10-05T14:19:35.027619Z",
     "iopub.status.busy": "2023-10-05T14:19:35.027448Z",
     "iopub.status.idle": "2023-10-05T14:19:35.035545Z",
     "shell.execute_reply": "2023-10-05T14:19:35.035096Z",
     "shell.execute_reply.started": "2023-10-05T14:19:35.027603Z"
    },
    "tags": []
   },
   "outputs": [
    {
     "name": "stdout",
     "output_type": "stream",
     "text": [
      "<class 'geopandas.geodataframe.GeoDataFrame'>\n",
      "RangeIndex: 58 entries, 0 to 57\n",
      "Data columns (total 18 columns):\n",
      " #   Column    Non-Null Count  Dtype   \n",
      "---  ------    --------------  -----   \n",
      " 0   STATEFP   58 non-null     object  \n",
      " 1   COUNTYFP  58 non-null     object  \n",
      " 2   COUNTYNS  58 non-null     object  \n",
      " 3   GEOID     58 non-null     object  \n",
      " 4   NAME      58 non-null     object  \n",
      " 5   NAMELSAD  58 non-null     object  \n",
      " 6   LSAD      58 non-null     object  \n",
      " 7   CLASSFP   58 non-null     object  \n",
      " 8   MTFCC     58 non-null     object  \n",
      " 9   CSAFP     31 non-null     object  \n",
      " 10  CBSAFP    45 non-null     object  \n",
      " 11  METDIVFP  7 non-null      object  \n",
      " 12  FUNCSTAT  58 non-null     object  \n",
      " 13  ALAND     58 non-null     int64   \n",
      " 14  AWATER    58 non-null     int64   \n",
      " 15  INTPTLAT  58 non-null     object  \n",
      " 16  INTPTLON  58 non-null     object  \n",
      " 17  geometry  58 non-null     geometry\n",
      "dtypes: geometry(1), int64(2), object(15)\n",
      "memory usage: 8.3+ KB\n"
     ]
    }
   ],
   "source": [
    "ca_map.info()"
   ]
  },
  {
   "cell_type": "code",
   "execution_count": 79,
   "metadata": {
    "execution": {
     "iopub.execute_input": "2023-10-05T14:19:35.041414Z",
     "iopub.status.busy": "2023-10-05T14:19:35.041191Z",
     "iopub.status.idle": "2023-10-05T14:19:35.044353Z",
     "shell.execute_reply": "2023-10-05T14:19:35.043960Z",
     "shell.execute_reply.started": "2023-10-05T14:19:35.041396Z"
    },
    "tags": []
   },
   "outputs": [],
   "source": [
    "ca_map['COUNTYFP'] = ca_map['COUNTYFP'].astype(int)"
   ]
  },
  {
   "cell_type": "code",
   "execution_count": 80,
   "metadata": {
    "execution": {
     "iopub.execute_input": "2023-10-05T14:19:35.045658Z",
     "iopub.status.busy": "2023-10-05T14:19:35.045350Z",
     "iopub.status.idle": "2023-10-05T14:19:35.053556Z",
     "shell.execute_reply": "2023-10-05T14:19:35.053111Z",
     "shell.execute_reply.started": "2023-10-05T14:19:35.045640Z"
    },
    "tags": []
   },
   "outputs": [
    {
     "name": "stdout",
     "output_type": "stream",
     "text": [
      "<class 'geopandas.geodataframe.GeoDataFrame'>\n",
      "RangeIndex: 58 entries, 0 to 57\n",
      "Data columns (total 18 columns):\n",
      " #   Column    Non-Null Count  Dtype   \n",
      "---  ------    --------------  -----   \n",
      " 0   STATEFP   58 non-null     object  \n",
      " 1   COUNTYFP  58 non-null     int64   \n",
      " 2   COUNTYNS  58 non-null     object  \n",
      " 3   GEOID     58 non-null     object  \n",
      " 4   NAME      58 non-null     object  \n",
      " 5   NAMELSAD  58 non-null     object  \n",
      " 6   LSAD      58 non-null     object  \n",
      " 7   CLASSFP   58 non-null     object  \n",
      " 8   MTFCC     58 non-null     object  \n",
      " 9   CSAFP     31 non-null     object  \n",
      " 10  CBSAFP    45 non-null     object  \n",
      " 11  METDIVFP  7 non-null      object  \n",
      " 12  FUNCSTAT  58 non-null     object  \n",
      " 13  ALAND     58 non-null     int64   \n",
      " 14  AWATER    58 non-null     int64   \n",
      " 15  INTPTLAT  58 non-null     object  \n",
      " 16  INTPTLON  58 non-null     object  \n",
      " 17  geometry  58 non-null     geometry\n",
      "dtypes: geometry(1), int64(3), object(14)\n",
      "memory usage: 8.3+ KB\n"
     ]
    }
   ],
   "source": [
    "ca_map.info()"
   ]
  },
  {
   "cell_type": "code",
   "execution_count": 81,
   "metadata": {
    "execution": {
     "iopub.execute_input": "2023-10-05T14:19:35.054581Z",
     "iopub.status.busy": "2023-10-05T14:19:35.054406Z",
     "iopub.status.idle": "2023-10-05T14:19:35.065117Z",
     "shell.execute_reply": "2023-10-05T14:19:35.064575Z",
     "shell.execute_reply.started": "2023-10-05T14:19:35.054564Z"
    },
    "tags": []
   },
   "outputs": [],
   "source": [
    "map_df = pd.merge(\n",
    "    left=ca_map,\n",
    "    right=cali,\n",
    "    left_on='COUNTYFP',\n",
    "    right_on='county_fips',\n",
    "    how='left'\n",
    ")"
   ]
  },
  {
   "cell_type": "code",
   "execution_count": 82,
   "metadata": {
    "execution": {
     "iopub.execute_input": "2023-10-05T14:19:35.066267Z",
     "iopub.status.busy": "2023-10-05T14:19:35.066012Z",
     "iopub.status.idle": "2023-10-05T14:19:35.082561Z",
     "shell.execute_reply": "2023-10-05T14:19:35.081989Z",
     "shell.execute_reply.started": "2023-10-05T14:19:35.066251Z"
    },
    "tags": []
   },
   "outputs": [
    {
     "data": {
      "text/html": [
       "<div>\n",
       "<style scoped>\n",
       "    .dataframe tbody tr th:only-of-type {\n",
       "        vertical-align: middle;\n",
       "    }\n",
       "\n",
       "    .dataframe tbody tr th {\n",
       "        vertical-align: top;\n",
       "    }\n",
       "\n",
       "    .dataframe thead th {\n",
       "        text-align: right;\n",
       "    }\n",
       "</style>\n",
       "<table border=\"1\" class=\"dataframe\">\n",
       "  <thead>\n",
       "    <tr style=\"text-align: right;\">\n",
       "      <th></th>\n",
       "      <th>STATEFP</th>\n",
       "      <th>COUNTYFP</th>\n",
       "      <th>COUNTYNS</th>\n",
       "      <th>GEOID</th>\n",
       "      <th>NAME</th>\n",
       "      <th>NAMELSAD</th>\n",
       "      <th>LSAD</th>\n",
       "      <th>CLASSFP</th>\n",
       "      <th>MTFCC</th>\n",
       "      <th>CSAFP</th>\n",
       "      <th>...</th>\n",
       "      <th>DNBR_STDDV</th>\n",
       "      <th>COMMENTS</th>\n",
       "      <th>PRE_ID</th>\n",
       "      <th>POST_ID</th>\n",
       "      <th>County</th>\n",
       "      <th>state_fips</th>\n",
       "      <th>county_fips</th>\n",
       "      <th>fips</th>\n",
       "      <th>county_name</th>\n",
       "      <th>population</th>\n",
       "    </tr>\n",
       "  </thead>\n",
       "  <tbody>\n",
       "    <tr>\n",
       "      <th>0</th>\n",
       "      <td>06</td>\n",
       "      <td>91</td>\n",
       "      <td>00277310</td>\n",
       "      <td>06091</td>\n",
       "      <td>Sierra</td>\n",
       "      <td>Sierra County</td>\n",
       "      <td>06</td>\n",
       "      <td>H1</td>\n",
       "      <td>G4020</td>\n",
       "      <td>NaN</td>\n",
       "      <td>...</td>\n",
       "      <td>-9999.0</td>\n",
       "      <td>NaN</td>\n",
       "      <td>504303219850717</td>\n",
       "      <td>504303219870707</td>\n",
       "      <td>Sierra</td>\n",
       "      <td>6.0</td>\n",
       "      <td>91.0</td>\n",
       "      <td>6091.0</td>\n",
       "      <td>Sierra County, California</td>\n",
       "      <td>3236.0</td>\n",
       "    </tr>\n",
       "    <tr>\n",
       "      <th>1</th>\n",
       "      <td>06</td>\n",
       "      <td>91</td>\n",
       "      <td>00277310</td>\n",
       "      <td>06091</td>\n",
       "      <td>Sierra</td>\n",
       "      <td>Sierra County</td>\n",
       "      <td>06</td>\n",
       "      <td>H1</td>\n",
       "      <td>G4020</td>\n",
       "      <td>NaN</td>\n",
       "      <td>...</td>\n",
       "      <td>-9999.0</td>\n",
       "      <td>NaN</td>\n",
       "      <td>504403319870714</td>\n",
       "      <td>504403319880716</td>\n",
       "      <td>Sierra</td>\n",
       "      <td>6.0</td>\n",
       "      <td>91.0</td>\n",
       "      <td>6091.0</td>\n",
       "      <td>Sierra County, California</td>\n",
       "      <td>3236.0</td>\n",
       "    </tr>\n",
       "    <tr>\n",
       "      <th>2</th>\n",
       "      <td>06</td>\n",
       "      <td>91</td>\n",
       "      <td>00277310</td>\n",
       "      <td>06091</td>\n",
       "      <td>Sierra</td>\n",
       "      <td>Sierra County</td>\n",
       "      <td>06</td>\n",
       "      <td>H1</td>\n",
       "      <td>G4020</td>\n",
       "      <td>NaN</td>\n",
       "      <td>...</td>\n",
       "      <td>-9999.0</td>\n",
       "      <td>NaN</td>\n",
       "      <td>504303219880826</td>\n",
       "      <td>504303219900816</td>\n",
       "      <td>Sierra</td>\n",
       "      <td>6.0</td>\n",
       "      <td>91.0</td>\n",
       "      <td>6091.0</td>\n",
       "      <td>Sierra County, California</td>\n",
       "      <td>3236.0</td>\n",
       "    </tr>\n",
       "    <tr>\n",
       "      <th>3</th>\n",
       "      <td>06</td>\n",
       "      <td>91</td>\n",
       "      <td>00277310</td>\n",
       "      <td>06091</td>\n",
       "      <td>Sierra</td>\n",
       "      <td>Sierra County</td>\n",
       "      <td>06</td>\n",
       "      <td>H1</td>\n",
       "      <td>G4020</td>\n",
       "      <td>NaN</td>\n",
       "      <td>...</td>\n",
       "      <td>44.0</td>\n",
       "      <td>some edit made to mapping on 4/2023</td>\n",
       "      <td>504303319930808</td>\n",
       "      <td>504303319950814</td>\n",
       "      <td>Sierra</td>\n",
       "      <td>6.0</td>\n",
       "      <td>91.0</td>\n",
       "      <td>6091.0</td>\n",
       "      <td>Sierra County, California</td>\n",
       "      <td>3236.0</td>\n",
       "    </tr>\n",
       "    <tr>\n",
       "      <th>4</th>\n",
       "      <td>06</td>\n",
       "      <td>91</td>\n",
       "      <td>00277310</td>\n",
       "      <td>06091</td>\n",
       "      <td>Sierra</td>\n",
       "      <td>Sierra County</td>\n",
       "      <td>06</td>\n",
       "      <td>H1</td>\n",
       "      <td>G4020</td>\n",
       "      <td>NaN</td>\n",
       "      <td>...</td>\n",
       "      <td>-9999.0</td>\n",
       "      <td>Used CA provided perimeter for some of North a...</td>\n",
       "      <td>504303319930808</td>\n",
       "      <td>504303319950814</td>\n",
       "      <td>Sierra</td>\n",
       "      <td>6.0</td>\n",
       "      <td>91.0</td>\n",
       "      <td>6091.0</td>\n",
       "      <td>Sierra County, California</td>\n",
       "      <td>3236.0</td>\n",
       "    </tr>\n",
       "  </tbody>\n",
       "</table>\n",
       "<p>5 rows × 50 columns</p>\n",
       "</div>"
      ],
      "text/plain": [
       "  STATEFP  COUNTYFP  COUNTYNS  GEOID    NAME       NAMELSAD LSAD CLASSFP  \\\n",
       "0      06        91  00277310  06091  Sierra  Sierra County   06      H1   \n",
       "1      06        91  00277310  06091  Sierra  Sierra County   06      H1   \n",
       "2      06        91  00277310  06091  Sierra  Sierra County   06      H1   \n",
       "3      06        91  00277310  06091  Sierra  Sierra County   06      H1   \n",
       "4      06        91  00277310  06091  Sierra  Sierra County   06      H1   \n",
       "\n",
       "   MTFCC CSAFP  ... DNBR_STDDV  \\\n",
       "0  G4020   NaN  ...    -9999.0   \n",
       "1  G4020   NaN  ...    -9999.0   \n",
       "2  G4020   NaN  ...    -9999.0   \n",
       "3  G4020   NaN  ...       44.0   \n",
       "4  G4020   NaN  ...    -9999.0   \n",
       "\n",
       "                                            COMMENTS           PRE_ID  \\\n",
       "0                                                NaN  504303219850717   \n",
       "1                                                NaN  504403319870714   \n",
       "2                                                NaN  504303219880826   \n",
       "3                some edit made to mapping on 4/2023  504303319930808   \n",
       "4  Used CA provided perimeter for some of North a...  504303319930808   \n",
       "\n",
       "           POST_ID  County state_fips county_fips    fips  \\\n",
       "0  504303219870707  Sierra        6.0        91.0  6091.0   \n",
       "1  504403319880716  Sierra        6.0        91.0  6091.0   \n",
       "2  504303219900816  Sierra        6.0        91.0  6091.0   \n",
       "3  504303319950814  Sierra        6.0        91.0  6091.0   \n",
       "4  504303319950814  Sierra        6.0        91.0  6091.0   \n",
       "\n",
       "                 county_name  population  \n",
       "0  Sierra County, California      3236.0  \n",
       "1  Sierra County, California      3236.0  \n",
       "2  Sierra County, California      3236.0  \n",
       "3  Sierra County, California      3236.0  \n",
       "4  Sierra County, California      3236.0  \n",
       "\n",
       "[5 rows x 50 columns]"
      ]
     },
     "execution_count": 82,
     "metadata": {},
     "output_type": "execute_result"
    }
   ],
   "source": [
    "map_df.head()"
   ]
  },
  {
   "cell_type": "code",
   "execution_count": 83,
   "metadata": {
    "execution": {
     "iopub.execute_input": "2023-10-05T14:19:35.083895Z",
     "iopub.status.busy": "2023-10-05T14:19:35.083630Z",
     "iopub.status.idle": "2023-10-05T14:19:35.087532Z",
     "shell.execute_reply": "2023-10-05T14:19:35.087129Z",
     "shell.execute_reply.started": "2023-10-05T14:19:35.083876Z"
    },
    "tags": []
   },
   "outputs": [
    {
     "data": {
      "text/plain": [
       "Index(['STATEFP', 'COUNTYFP', 'COUNTYNS', 'GEOID', 'NAME', 'NAMELSAD', 'LSAD',\n",
       "       'CLASSFP', 'MTFCC', 'CSAFP', 'CBSAFP', 'METDIVFP', 'FUNCSTAT', 'ALAND',\n",
       "       'AWATER', 'INTPTLAT', 'INTPTLON', 'geometry', 'Unnamed: 0', 'X', 'Y',\n",
       "       'OBJECTID', 'FIRE_ID', 'FIRE_NAME', 'ASMNT_TYPE', 'FIRE_TYPE',\n",
       "       'NODATA_THRESHOLD', 'GREENNESS_THRESHOLD', 'LOW_THRESHOLD',\n",
       "       'MODERATE_THRESHOLD', 'HIGH_THRESHOLD', 'IG_DATE', 'LATITUDE',\n",
       "       'LONGITUDE', 'ACRES', 'IRWINID', 'MAP_ID', 'MAP_PROG', 'PERIM_ID',\n",
       "       'DNBR_OFFST', 'DNBR_STDDV', 'COMMENTS', 'PRE_ID', 'POST_ID', 'County',\n",
       "       'state_fips', 'county_fips', 'fips', 'county_name', 'population'],\n",
       "      dtype='object')"
      ]
     },
     "execution_count": 83,
     "metadata": {},
     "output_type": "execute_result"
    }
   ],
   "source": [
    "map_df.columns"
   ]
  },
  {
   "cell_type": "code",
   "execution_count": 84,
   "metadata": {
    "execution": {
     "iopub.execute_input": "2023-10-05T14:19:35.088534Z",
     "iopub.status.busy": "2023-10-05T14:19:35.088372Z",
     "iopub.status.idle": "2023-10-05T14:20:23.186048Z",
     "shell.execute_reply": "2023-10-05T14:20:23.183712Z",
     "shell.execute_reply.started": "2023-10-05T14:19:35.088519Z"
    },
    "tags": []
   },
   "outputs": [
    {
     "data": {
      "image/png": "[encoded data removed]",
      "text/plain": [
       "<Figure size 1000x600 with 2 Axes>"
      ]
     },
     "metadata": {},
     "output_type": "display_data"
    }
   ],
   "source": [
    "from matplotlib.colors import ListedColormap\n",
    "import numpy as np\n",
    "import matplotlib.pyplot as plt\n",
    "\n",
    "#Calculate the count of 'POSTID' for each county\n",
    "count_per_county = map_df.groupby('county_name')['POST_ID'].count()\n",
    "\n",
    "#Convert count_per_county to a dictionary \n",
    "circle_sizes = count_per_county.to_dict()\n",
    "\n",
    "#Define circle sizes based on the count\n",
    "circle_sizes = {county_name: count * 2 for county_name, count in circle_sizes.items()}  # Adjust the multiplier to control circle sizes\n",
    "\n",
    "#Plot the map with circles\n",
    "ax = map_df.boundary.plot(figsize=(10, 6))\n",
    "\n",
    "#Define a custom colormap with more levels\n",
    "custom_cmap = ListedColormap(plt.cm.Blues(np.linspace(0, 1, 20)))\n",
    "\n",
    "# Plot counties with population\n",
    "map_df.plot(ax=ax, column='population', legend=True, cmap=custom_cmap, legend_kwds={'label': \"Population\"})\n",
    "\n",
    "# Plot circles\n",
    "for idx, row in map_df.iterrows():\n",
    "    county_name = row['county_name']\n",
    "    centroid = row['geometry'].centroid\n",
    "    plt.scatter(centroid.x, centroid.y, s=circle_sizes.get(county_name, 0), color='red', alpha=0.5)\n",
    "\n",
    "ax.set_axis_off()  #Remove axis labels\n",
    "ax.get_xaxis().set_visible(False)  #Hide x-axis\n",
    "ax.get_yaxis().set_visible(False)  #Hide y-axis\n",
    "plt.ticklabel_format(style='plain')\n",
    "\n",
    "#save map file as an image\n",
    "plt.savefig('CA_map.jpg', dpi=300, bbox_inches='tight')\n",
    "\n",
    "plt.show()"
   ]
  },
  {
   "cell_type": "markdown",
   "metadata": {},
   "source": [
    "Table including county, population and fire counts"
   ]
  },
  {
   "cell_type": "code",
   "execution_count": 85,
   "metadata": {
    "execution": {
     "iopub.execute_input": "2023-10-05T14:20:23.191217Z",
     "iopub.status.busy": "2023-10-05T14:20:23.190918Z",
     "iopub.status.idle": "2023-10-05T14:20:23.226926Z",
     "shell.execute_reply": "2023-10-05T14:20:23.226003Z",
     "shell.execute_reply.started": "2023-10-05T14:20:23.191192Z"
    },
    "tags": []
   },
   "outputs": [
    {
     "data": {
      "text/html": [
       "<div>\n",
       "<style scoped>\n",
       "    .dataframe tbody tr th:only-of-type {\n",
       "        vertical-align: middle;\n",
       "    }\n",
       "\n",
       "    .dataframe tbody tr th {\n",
       "        vertical-align: top;\n",
       "    }\n",
       "\n",
       "    .dataframe thead th {\n",
       "        text-align: right;\n",
       "    }\n",
       "</style>\n",
       "<table border=\"1\" class=\"dataframe\">\n",
       "  <thead>\n",
       "    <tr style=\"text-align: right;\">\n",
       "      <th></th>\n",
       "      <th>STATEFP</th>\n",
       "      <th>COUNTYFP</th>\n",
       "      <th>COUNTYNS</th>\n",
       "      <th>GEOID</th>\n",
       "      <th>NAME</th>\n",
       "      <th>NAMELSAD</th>\n",
       "      <th>LSAD</th>\n",
       "      <th>CLASSFP</th>\n",
       "      <th>MTFCC</th>\n",
       "      <th>CSAFP</th>\n",
       "      <th>...</th>\n",
       "      <th>DNBR_STDDV</th>\n",
       "      <th>COMMENTS</th>\n",
       "      <th>PRE_ID</th>\n",
       "      <th>POST_ID</th>\n",
       "      <th>County</th>\n",
       "      <th>state_fips</th>\n",
       "      <th>county_fips</th>\n",
       "      <th>fips</th>\n",
       "      <th>county_name</th>\n",
       "      <th>population</th>\n",
       "    </tr>\n",
       "  </thead>\n",
       "  <tbody>\n",
       "    <tr>\n",
       "      <th>0</th>\n",
       "      <td>06</td>\n",
       "      <td>91</td>\n",
       "      <td>00277310</td>\n",
       "      <td>06091</td>\n",
       "      <td>Sierra</td>\n",
       "      <td>Sierra County</td>\n",
       "      <td>06</td>\n",
       "      <td>H1</td>\n",
       "      <td>G4020</td>\n",
       "      <td>NaN</td>\n",
       "      <td>...</td>\n",
       "      <td>-9999.0</td>\n",
       "      <td>NaN</td>\n",
       "      <td>504303219850717</td>\n",
       "      <td>504303219870707</td>\n",
       "      <td>Sierra</td>\n",
       "      <td>6.0</td>\n",
       "      <td>91.0</td>\n",
       "      <td>6091.0</td>\n",
       "      <td>Sierra County, California</td>\n",
       "      <td>3236.0</td>\n",
       "    </tr>\n",
       "    <tr>\n",
       "      <th>1</th>\n",
       "      <td>06</td>\n",
       "      <td>91</td>\n",
       "      <td>00277310</td>\n",
       "      <td>06091</td>\n",
       "      <td>Sierra</td>\n",
       "      <td>Sierra County</td>\n",
       "      <td>06</td>\n",
       "      <td>H1</td>\n",
       "      <td>G4020</td>\n",
       "      <td>NaN</td>\n",
       "      <td>...</td>\n",
       "      <td>-9999.0</td>\n",
       "      <td>NaN</td>\n",
       "      <td>504403319870714</td>\n",
       "      <td>504403319880716</td>\n",
       "      <td>Sierra</td>\n",
       "      <td>6.0</td>\n",
       "      <td>91.0</td>\n",
       "      <td>6091.0</td>\n",
       "      <td>Sierra County, California</td>\n",
       "      <td>3236.0</td>\n",
       "    </tr>\n",
       "    <tr>\n",
       "      <th>2</th>\n",
       "      <td>06</td>\n",
       "      <td>91</td>\n",
       "      <td>00277310</td>\n",
       "      <td>06091</td>\n",
       "      <td>Sierra</td>\n",
       "      <td>Sierra County</td>\n",
       "      <td>06</td>\n",
       "      <td>H1</td>\n",
       "      <td>G4020</td>\n",
       "      <td>NaN</td>\n",
       "      <td>...</td>\n",
       "      <td>-9999.0</td>\n",
       "      <td>NaN</td>\n",
       "      <td>504303219880826</td>\n",
       "      <td>504303219900816</td>\n",
       "      <td>Sierra</td>\n",
       "      <td>6.0</td>\n",
       "      <td>91.0</td>\n",
       "      <td>6091.0</td>\n",
       "      <td>Sierra County, California</td>\n",
       "      <td>3236.0</td>\n",
       "    </tr>\n",
       "    <tr>\n",
       "      <th>3</th>\n",
       "      <td>06</td>\n",
       "      <td>91</td>\n",
       "      <td>00277310</td>\n",
       "      <td>06091</td>\n",
       "      <td>Sierra</td>\n",
       "      <td>Sierra County</td>\n",
       "      <td>06</td>\n",
       "      <td>H1</td>\n",
       "      <td>G4020</td>\n",
       "      <td>NaN</td>\n",
       "      <td>...</td>\n",
       "      <td>44.0</td>\n",
       "      <td>some edit made to mapping on 4/2023</td>\n",
       "      <td>504303319930808</td>\n",
       "      <td>504303319950814</td>\n",
       "      <td>Sierra</td>\n",
       "      <td>6.0</td>\n",
       "      <td>91.0</td>\n",
       "      <td>6091.0</td>\n",
       "      <td>Sierra County, California</td>\n",
       "      <td>3236.0</td>\n",
       "    </tr>\n",
       "    <tr>\n",
       "      <th>4</th>\n",
       "      <td>06</td>\n",
       "      <td>91</td>\n",
       "      <td>00277310</td>\n",
       "      <td>06091</td>\n",
       "      <td>Sierra</td>\n",
       "      <td>Sierra County</td>\n",
       "      <td>06</td>\n",
       "      <td>H1</td>\n",
       "      <td>G4020</td>\n",
       "      <td>NaN</td>\n",
       "      <td>...</td>\n",
       "      <td>-9999.0</td>\n",
       "      <td>Used CA provided perimeter for some of North a...</td>\n",
       "      <td>504303319930808</td>\n",
       "      <td>504303319950814</td>\n",
       "      <td>Sierra</td>\n",
       "      <td>6.0</td>\n",
       "      <td>91.0</td>\n",
       "      <td>6091.0</td>\n",
       "      <td>Sierra County, California</td>\n",
       "      <td>3236.0</td>\n",
       "    </tr>\n",
       "  </tbody>\n",
       "</table>\n",
       "<p>5 rows × 50 columns</p>\n",
       "</div>"
      ],
      "text/plain": [
       "  STATEFP  COUNTYFP  COUNTYNS  GEOID    NAME       NAMELSAD LSAD CLASSFP  \\\n",
       "0      06        91  00277310  06091  Sierra  Sierra County   06      H1   \n",
       "1      06        91  00277310  06091  Sierra  Sierra County   06      H1   \n",
       "2      06        91  00277310  06091  Sierra  Sierra County   06      H1   \n",
       "3      06        91  00277310  06091  Sierra  Sierra County   06      H1   \n",
       "4      06        91  00277310  06091  Sierra  Sierra County   06      H1   \n",
       "\n",
       "   MTFCC CSAFP  ... DNBR_STDDV  \\\n",
       "0  G4020   NaN  ...    -9999.0   \n",
       "1  G4020   NaN  ...    -9999.0   \n",
       "2  G4020   NaN  ...    -9999.0   \n",
       "3  G4020   NaN  ...       44.0   \n",
       "4  G4020   NaN  ...    -9999.0   \n",
       "\n",
       "                                            COMMENTS           PRE_ID  \\\n",
       "0                                                NaN  504303219850717   \n",
       "1                                                NaN  504403319870714   \n",
       "2                                                NaN  504303219880826   \n",
       "3                some edit made to mapping on 4/2023  504303319930808   \n",
       "4  Used CA provided perimeter for some of North a...  504303319930808   \n",
       "\n",
       "           POST_ID  County state_fips county_fips    fips  \\\n",
       "0  504303219870707  Sierra        6.0        91.0  6091.0   \n",
       "1  504403319880716  Sierra        6.0        91.0  6091.0   \n",
       "2  504303219900816  Sierra        6.0        91.0  6091.0   \n",
       "3  504303319950814  Sierra        6.0        91.0  6091.0   \n",
       "4  504303319950814  Sierra        6.0        91.0  6091.0   \n",
       "\n",
       "                 county_name  population  \n",
       "0  Sierra County, California      3236.0  \n",
       "1  Sierra County, California      3236.0  \n",
       "2  Sierra County, California      3236.0  \n",
       "3  Sierra County, California      3236.0  \n",
       "4  Sierra County, California      3236.0  \n",
       "\n",
       "[5 rows x 50 columns]"
      ]
     },
     "execution_count": 85,
     "metadata": {},
     "output_type": "execute_result"
    }
   ],
   "source": [
    "map_df.head()"
   ]
  },
  {
   "cell_type": "code",
   "execution_count": 86,
   "metadata": {
    "execution": {
     "iopub.execute_input": "2023-10-05T14:20:23.229216Z",
     "iopub.status.busy": "2023-10-05T14:20:23.228284Z",
     "iopub.status.idle": "2023-10-05T14:20:23.241690Z",
     "shell.execute_reply": "2023-10-05T14:20:23.241138Z",
     "shell.execute_reply.started": "2023-10-05T14:20:23.229193Z"
    },
    "tags": []
   },
   "outputs": [],
   "source": [
    "county_firecount_df = map_df.groupby('county_name').size().reset_index(name='fire_count')"
   ]
  },
  {
   "cell_type": "code",
   "execution_count": 87,
   "metadata": {
    "execution": {
     "iopub.execute_input": "2023-10-05T14:20:23.243124Z",
     "iopub.status.busy": "2023-10-05T14:20:23.242743Z",
     "iopub.status.idle": "2023-10-05T14:20:23.651193Z",
     "shell.execute_reply": "2023-10-05T14:20:23.650693Z",
     "shell.execute_reply.started": "2023-10-05T14:20:23.243100Z"
    },
    "tags": []
   },
   "outputs": [
    {
     "data": {
      "text/plain": [
       "<Axes: >"
      ]
     },
     "execution_count": 87,
     "metadata": {},
     "output_type": "execute_result"
    },
    {
     "data": {
      "image/png": "[encoded data removed]",
      "text/plain": [
       "<Figure size 640x480 with 1 Axes>"
      ]
     },
     "metadata": {},
     "output_type": "display_data"
    }
   ],
   "source": [
    "county_firecount_df.plot(kind='bar')"
   ]
  },
  {
   "cell_type": "code",
   "execution_count": 88,
   "metadata": {
    "execution": {
     "iopub.execute_input": "2023-10-05T14:20:23.652449Z",
     "iopub.status.busy": "2023-10-05T14:20:23.652218Z",
     "iopub.status.idle": "2023-10-05T14:20:23.663981Z",
     "shell.execute_reply": "2023-10-05T14:20:23.663398Z",
     "shell.execute_reply.started": "2023-10-05T14:20:23.652430Z"
    },
    "tags": []
   },
   "outputs": [],
   "source": [
    "final_df = county_firecount_df.merge(map_df[['county_name', 'population']].drop_duplicates(), on='county_name')\n"
   ]
  },
  {
   "cell_type": "code",
   "execution_count": 89,
   "metadata": {
    "execution": {
     "iopub.execute_input": "2023-10-05T14:20:23.665135Z",
     "iopub.status.busy": "2023-10-05T14:20:23.664890Z",
     "iopub.status.idle": "2023-10-05T14:20:23.671595Z",
     "shell.execute_reply": "2023-10-05T14:20:23.670909Z",
     "shell.execute_reply.started": "2023-10-05T14:20:23.665119Z"
    },
    "tags": []
   },
   "outputs": [
    {
     "data": {
      "text/html": [
       "<div>\n",
       "<style scoped>\n",
       "    .dataframe tbody tr th:only-of-type {\n",
       "        vertical-align: middle;\n",
       "    }\n",
       "\n",
       "    .dataframe tbody tr th {\n",
       "        vertical-align: top;\n",
       "    }\n",
       "\n",
       "    .dataframe thead th {\n",
       "        text-align: right;\n",
       "    }\n",
       "</style>\n",
       "<table border=\"1\" class=\"dataframe\">\n",
       "  <thead>\n",
       "    <tr style=\"text-align: right;\">\n",
       "      <th></th>\n",
       "      <th>county_name</th>\n",
       "      <th>fire_count</th>\n",
       "      <th>population</th>\n",
       "    </tr>\n",
       "  </thead>\n",
       "  <tbody>\n",
       "    <tr>\n",
       "      <th>0</th>\n",
       "      <td>Alameda County, California</td>\n",
       "      <td>6</td>\n",
       "      <td>1682353.0</td>\n",
       "    </tr>\n",
       "    <tr>\n",
       "      <th>1</th>\n",
       "      <td>Alpine County, California</td>\n",
       "      <td>11</td>\n",
       "      <td>1204.0</td>\n",
       "    </tr>\n",
       "    <tr>\n",
       "      <th>2</th>\n",
       "      <td>Amador County, California</td>\n",
       "      <td>2</td>\n",
       "      <td>40474.0</td>\n",
       "    </tr>\n",
       "    <tr>\n",
       "      <th>3</th>\n",
       "      <td>Butte County, California</td>\n",
       "      <td>34</td>\n",
       "      <td>211632.0</td>\n",
       "    </tr>\n",
       "    <tr>\n",
       "      <th>4</th>\n",
       "      <td>Calaveras County, California</td>\n",
       "      <td>25</td>\n",
       "      <td>45292.0</td>\n",
       "    </tr>\n",
       "  </tbody>\n",
       "</table>\n",
       "</div>"
      ],
      "text/plain": [
       "                    county_name  fire_count  population\n",
       "0    Alameda County, California           6   1682353.0\n",
       "1     Alpine County, California          11      1204.0\n",
       "2     Amador County, California           2     40474.0\n",
       "3      Butte County, California          34    211632.0\n",
       "4  Calaveras County, California          25     45292.0"
      ]
     },
     "execution_count": 89,
     "metadata": {},
     "output_type": "execute_result"
    }
   ],
   "source": [
    "final_df.head()"
   ]
  },
  {
   "cell_type": "markdown",
   "metadata": {},
   "source": [
    "normalize population and fire count data"
   ]
  },
  {
   "cell_type": "code",
   "execution_count": 90,
   "metadata": {
    "execution": {
     "iopub.execute_input": "2023-10-05T14:20:23.672824Z",
     "iopub.status.busy": "2023-10-05T14:20:23.672470Z",
     "iopub.status.idle": "2023-10-05T14:20:23.677206Z",
     "shell.execute_reply": "2023-10-05T14:20:23.676673Z",
     "shell.execute_reply.started": "2023-10-05T14:20:23.672805Z"
    },
    "tags": []
   },
   "outputs": [],
   "source": [
    "\n",
    "def min_max_normalize(df, column_name):\n",
    "    \"\"\"\n",
    "    Normalize a column in a DataFrame using Min-Max scaling and return a copy of the DataFrame\n",
    "    with the normalized values added as new columns.\n",
    "    \n",
    "    Parameters:\n",
    "    - df (pandas.DataFrame): The DataFrame containing the data.\n",
    "    - column_name (str): The name of the column to normalize.\n",
    "    \n",
    "    Returns:\n",
    "    - pandas.DataFrame: A copy of the input DataFrame with normalized columns added.\n",
    "    \"\"\"\n",
    "    # Check if the column exists in the DataFrame\n",
    "    if column_name not in df.columns:\n",
    "        raise ValueError(f\"Column '{column_name}' not found in the DataFrame.\")\n",
    "    \n",
    "    # Calculate min and max values of the column\n",
    "    min_val = df[column_name].min()\n",
    "    max_val = df[column_name].max()\n",
    "    \n",
    "    # Normalize the column data and add it as a new column in a copy of the DataFrame\n",
    "    normalized_column = (df[column_name] - min_val) / (max_val - min_val)\n",
    "    df_copy = df.copy()  # Create a copy of the DataFrame\n",
    "    df_copy[f'{column_name}_norm'] = normalized_column  # Add normalized column to the copy\n",
    "    return df_copy"
   ]
  },
  {
   "cell_type": "code",
   "execution_count": 91,
   "metadata": {
    "execution": {
     "iopub.execute_input": "2023-10-05T14:20:23.678100Z",
     "iopub.status.busy": "2023-10-05T14:20:23.677928Z",
     "iopub.status.idle": "2023-10-05T14:20:23.682342Z",
     "shell.execute_reply": "2023-10-05T14:20:23.681725Z",
     "shell.execute_reply.started": "2023-10-05T14:20:23.678084Z"
    },
    "tags": []
   },
   "outputs": [],
   "source": [
    "final_df_firecount_norm = min_max_normalize(final_df, 'fire_count')"
   ]
  },
  {
   "cell_type": "code",
   "execution_count": 92,
   "metadata": {
    "execution": {
     "iopub.execute_input": "2023-10-05T14:20:23.683145Z",
     "iopub.status.busy": "2023-10-05T14:20:23.682980Z",
     "iopub.status.idle": "2023-10-05T14:20:23.686905Z",
     "shell.execute_reply": "2023-10-05T14:20:23.686431Z",
     "shell.execute_reply.started": "2023-10-05T14:20:23.683130Z"
    },
    "tags": []
   },
   "outputs": [],
   "source": [
    "final_df_norm =min_max_normalize( final_df_firecount_norm, 'population')"
   ]
  },
  {
   "cell_type": "code",
   "execution_count": 93,
   "metadata": {
    "execution": {
     "iopub.execute_input": "2023-10-05T14:20:23.687989Z",
     "iopub.status.busy": "2023-10-05T14:20:23.687779Z",
     "iopub.status.idle": "2023-10-05T14:20:23.695541Z",
     "shell.execute_reply": "2023-10-05T14:20:23.694883Z",
     "shell.execute_reply.started": "2023-10-05T14:20:23.687973Z"
    },
    "tags": []
   },
   "outputs": [
    {
     "data": {
      "text/html": [
       "<div>\n",
       "<style scoped>\n",
       "    .dataframe tbody tr th:only-of-type {\n",
       "        vertical-align: middle;\n",
       "    }\n",
       "\n",
       "    .dataframe tbody tr th {\n",
       "        vertical-align: top;\n",
       "    }\n",
       "\n",
       "    .dataframe thead th {\n",
       "        text-align: right;\n",
       "    }\n",
       "</style>\n",
       "<table border=\"1\" class=\"dataframe\">\n",
       "  <thead>\n",
       "    <tr style=\"text-align: right;\">\n",
       "      <th></th>\n",
       "      <th>county_name</th>\n",
       "      <th>fire_count</th>\n",
       "      <th>population</th>\n",
       "      <th>fire_count_norm</th>\n",
       "      <th>population_norm</th>\n",
       "    </tr>\n",
       "  </thead>\n",
       "  <tbody>\n",
       "    <tr>\n",
       "      <th>0</th>\n",
       "      <td>Alameda County, California</td>\n",
       "      <td>6</td>\n",
       "      <td>1682353.0</td>\n",
       "      <td>0.031008</td>\n",
       "      <td>0.167900</td>\n",
       "    </tr>\n",
       "    <tr>\n",
       "      <th>1</th>\n",
       "      <td>Alpine County, California</td>\n",
       "      <td>11</td>\n",
       "      <td>1204.0</td>\n",
       "      <td>0.069767</td>\n",
       "      <td>0.000000</td>\n",
       "    </tr>\n",
       "    <tr>\n",
       "      <th>2</th>\n",
       "      <td>Amador County, California</td>\n",
       "      <td>2</td>\n",
       "      <td>40474.0</td>\n",
       "      <td>0.000000</td>\n",
       "      <td>0.003922</td>\n",
       "    </tr>\n",
       "    <tr>\n",
       "      <th>3</th>\n",
       "      <td>Butte County, California</td>\n",
       "      <td>34</td>\n",
       "      <td>211632.0</td>\n",
       "      <td>0.248062</td>\n",
       "      <td>0.021016</td>\n",
       "    </tr>\n",
       "    <tr>\n",
       "      <th>4</th>\n",
       "      <td>Calaveras County, California</td>\n",
       "      <td>25</td>\n",
       "      <td>45292.0</td>\n",
       "      <td>0.178295</td>\n",
       "      <td>0.004403</td>\n",
       "    </tr>\n",
       "  </tbody>\n",
       "</table>\n",
       "</div>"
      ],
      "text/plain": [
       "                    county_name  fire_count  population  fire_count_norm  \\\n",
       "0    Alameda County, California           6   1682353.0         0.031008   \n",
       "1     Alpine County, California          11      1204.0         0.069767   \n",
       "2     Amador County, California           2     40474.0         0.000000   \n",
       "3      Butte County, California          34    211632.0         0.248062   \n",
       "4  Calaveras County, California          25     45292.0         0.178295   \n",
       "\n",
       "   population_norm  \n",
       "0         0.167900  \n",
       "1         0.000000  \n",
       "2         0.003922  \n",
       "3         0.021016  \n",
       "4         0.004403  "
      ]
     },
     "execution_count": 93,
     "metadata": {},
     "output_type": "execute_result"
    }
   ],
   "source": [
    "final_df_norm.head()"
   ]
  },
  {
   "cell_type": "code",
   "execution_count": null,
   "metadata": {},
   "outputs": [],
   "source": []
  },
  {
   "cell_type": "code",
   "execution_count": null,
   "metadata": {},
   "outputs": [],
   "source": []
  },
  {
   "cell_type": "markdown",
   "metadata": {},
   "source": [
    "function that creates an index based on weighting factors"
   ]
  },
  {
   "cell_type": "code",
   "execution_count": 94,
   "metadata": {
    "execution": {
     "iopub.execute_input": "2023-10-05T14:20:23.696661Z",
     "iopub.status.busy": "2023-10-05T14:20:23.696427Z",
     "iopub.status.idle": "2023-10-05T14:20:23.701691Z",
     "shell.execute_reply": "2023-10-05T14:20:23.701034Z",
     "shell.execute_reply.started": "2023-10-05T14:20:23.696645Z"
    },
    "tags": []
   },
   "outputs": [],
   "source": [
    "def calculate_priority_index(df, normalize_columns, weights):\n",
    "    \"\"\"\n",
    "    Calculate a priority index for each row in a DataFrame based on normalized values\n",
    "    and weighting factors.\n",
    "    \n",
    "    Parameters:\n",
    "    - df (pandas.DataFrame): The DataFrame containing the data.\n",
    "    - normalize_columns (dict): A dictionary where keys are column names to normalize,\n",
    "      and values are their corresponding weights.\n",
    "    - weights (dict): A dictionary specifying the weighting factors for each normalized column.\n",
    "    \n",
    "    Returns:\n",
    "    - pandas.DataFrame: A copy of the input DataFrame with a 'priority_index' column added.\n",
    "    \"\"\"\n",
    "    # Copy the input DataFrame to avoid modifying the original DataFrame\n",
    "    df_copy = df.copy()\n",
    "    \n",
    "    # Normalize each column based on the provided weights and add them to the DataFrame\n",
    "    for column, weight in normalize_columns.items():\n",
    "        min_val = df[column].min()\n",
    "        max_val = df[column].max()\n",
    "        normalized_column = (df[column] - min_val) / (max_val - min_val)\n",
    "        df_copy[f'{column}_norm'] = normalized_column\n",
    "        df_copy[f'{column}_weighted'] = normalized_column * weights[column]\n",
    "    \n",
    "    # Calculate the priority index as the sum of the weighted, normalized columns\n",
    "    df_copy['priority_index'] = df_copy[[f'{column}_weighted' for column in normalize_columns]].sum(axis=1)\n",
    "    \n",
    "    return df_copy"
   ]
  },
  {
   "cell_type": "code",
   "execution_count": 95,
   "metadata": {
    "execution": {
     "iopub.execute_input": "2023-10-05T14:20:23.702708Z",
     "iopub.status.busy": "2023-10-05T14:20:23.702529Z",
     "iopub.status.idle": "2023-10-05T14:20:23.705322Z",
     "shell.execute_reply": "2023-10-05T14:20:23.704880Z",
     "shell.execute_reply.started": "2023-10-05T14:20:23.702692Z"
    },
    "tags": []
   },
   "outputs": [],
   "source": [
    "normalize_columns = {\n",
    "    'fire_count': 0.4,\n",
    "    'population': 0.6,\n",
    "}"
   ]
  },
  {
   "cell_type": "code",
   "execution_count": 96,
   "metadata": {
    "execution": {
     "iopub.execute_input": "2023-10-05T14:20:23.706487Z",
     "iopub.status.busy": "2023-10-05T14:20:23.706231Z",
     "iopub.status.idle": "2023-10-05T14:20:23.713510Z",
     "shell.execute_reply": "2023-10-05T14:20:23.712944Z",
     "shell.execute_reply.started": "2023-10-05T14:20:23.706467Z"
    },
    "tags": []
   },
   "outputs": [],
   "source": [
    "final_df_with_priority = calculate_priority_index(final_df_norm, normalize_columns, weights=normalize_columns)\n",
    "\n",
    "# Sort the DataFrame by the priority index in descending order to get the counties with higher priority first\n",
    "final_df_with_priority = final_df_with_priority.sort_values(by='priority_index', ascending=False)\n"
   ]
  },
  {
   "cell_type": "code",
   "execution_count": 97,
   "metadata": {
    "execution": {
     "iopub.execute_input": "2023-10-05T14:20:23.714689Z",
     "iopub.status.busy": "2023-10-05T14:20:23.714503Z",
     "iopub.status.idle": "2023-10-05T14:20:23.723657Z",
     "shell.execute_reply": "2023-10-05T14:20:23.723112Z",
     "shell.execute_reply.started": "2023-10-05T14:20:23.714673Z"
    },
    "tags": []
   },
   "outputs": [
    {
     "data": {
      "text/html": [
       "<div>\n",
       "<style scoped>\n",
       "    .dataframe tbody tr th:only-of-type {\n",
       "        vertical-align: middle;\n",
       "    }\n",
       "\n",
       "    .dataframe tbody tr th {\n",
       "        vertical-align: top;\n",
       "    }\n",
       "\n",
       "    .dataframe thead th {\n",
       "        text-align: right;\n",
       "    }\n",
       "</style>\n",
       "<table border=\"1\" class=\"dataframe\">\n",
       "  <thead>\n",
       "    <tr style=\"text-align: right;\">\n",
       "      <th></th>\n",
       "      <th>county_name</th>\n",
       "      <th>fire_count</th>\n",
       "      <th>population</th>\n",
       "      <th>fire_count_norm</th>\n",
       "      <th>population_norm</th>\n",
       "      <th>fire_count_weighted</th>\n",
       "      <th>population_weighted</th>\n",
       "      <th>priority_index</th>\n",
       "    </tr>\n",
       "  </thead>\n",
       "  <tbody>\n",
       "    <tr>\n",
       "      <th>18</th>\n",
       "      <td>Los Angeles County, California</td>\n",
       "      <td>91</td>\n",
       "      <td>10014009.0</td>\n",
       "      <td>0.689922</td>\n",
       "      <td>1.000000</td>\n",
       "      <td>0.275969</td>\n",
       "      <td>0.600000</td>\n",
       "      <td>0.875969</td>\n",
       "    </tr>\n",
       "    <tr>\n",
       "      <th>36</th>\n",
       "      <td>San Diego County, California</td>\n",
       "      <td>126</td>\n",
       "      <td>3298634.0</td>\n",
       "      <td>0.961240</td>\n",
       "      <td>0.329321</td>\n",
       "      <td>0.384496</td>\n",
       "      <td>0.197593</td>\n",
       "      <td>0.582089</td>\n",
       "    </tr>\n",
       "    <tr>\n",
       "      <th>32</th>\n",
       "      <td>Riverside County, California</td>\n",
       "      <td>112</td>\n",
       "      <td>2418185.0</td>\n",
       "      <td>0.852713</td>\n",
       "      <td>0.241389</td>\n",
       "      <td>0.341085</td>\n",
       "      <td>0.144833</td>\n",
       "      <td>0.485919</td>\n",
       "    </tr>\n",
       "    <tr>\n",
       "      <th>14</th>\n",
       "      <td>Kern County, California</td>\n",
       "      <td>131</td>\n",
       "      <td>909235.0</td>\n",
       "      <td>1.000000</td>\n",
       "      <td>0.090687</td>\n",
       "      <td>0.400000</td>\n",
       "      <td>0.054412</td>\n",
       "      <td>0.454412</td>\n",
       "    </tr>\n",
       "    <tr>\n",
       "      <th>35</th>\n",
       "      <td>San Bernardino County, California</td>\n",
       "      <td>76</td>\n",
       "      <td>2181654.0</td>\n",
       "      <td>0.573643</td>\n",
       "      <td>0.217766</td>\n",
       "      <td>0.229457</td>\n",
       "      <td>0.130660</td>\n",
       "      <td>0.360117</td>\n",
       "    </tr>\n",
       "  </tbody>\n",
       "</table>\n",
       "</div>"
      ],
      "text/plain": [
       "                          county_name  fire_count  population  \\\n",
       "18     Los Angeles County, California          91  10014009.0   \n",
       "36       San Diego County, California         126   3298634.0   \n",
       "32       Riverside County, California         112   2418185.0   \n",
       "14            Kern County, California         131    909235.0   \n",
       "35  San Bernardino County, California          76   2181654.0   \n",
       "\n",
       "    fire_count_norm  population_norm  fire_count_weighted  \\\n",
       "18         0.689922         1.000000             0.275969   \n",
       "36         0.961240         0.329321             0.384496   \n",
       "32         0.852713         0.241389             0.341085   \n",
       "14         1.000000         0.090687             0.400000   \n",
       "35         0.573643         0.217766             0.229457   \n",
       "\n",
       "    population_weighted  priority_index  \n",
       "18             0.600000        0.875969  \n",
       "36             0.197593        0.582089  \n",
       "32             0.144833        0.485919  \n",
       "14             0.054412        0.454412  \n",
       "35             0.130660        0.360117  "
      ]
     },
     "execution_count": 97,
     "metadata": {},
     "output_type": "execute_result"
    }
   ],
   "source": [
    "final_df_with_priority.head()"
   ]
  },
  {
   "cell_type": "code",
   "execution_count": null,
   "metadata": {
    "tags": []
   },
   "outputs": [],
   "source": []
  },
  {
   "cell_type": "code",
   "execution_count": 100,
   "metadata": {
    "execution": {
     "iopub.execute_input": "2023-10-05T14:21:27.325101Z",
     "iopub.status.busy": "2023-10-05T14:21:27.323110Z",
     "iopub.status.idle": "2023-10-05T14:21:28.174710Z",
     "shell.execute_reply": "2023-10-05T14:21:28.174199Z",
     "shell.execute_reply.started": "2023-10-05T14:21:27.324996Z"
    },
    "tags": []
   },
   "outputs": [
    {
     "data": {
      "image/png": "[encoded data removed]",
      "text/plain": [
       "<Figure size 1200x600 with 2 Axes>"
      ]
     },
     "metadata": {},
     "output_type": "display_data"
    }
   ],
   "source": [
    "import pandas as pd\n",
    "import matplotlib.pyplot as plt\n",
    "import seaborn as sns\n",
    "\n",
    "# Create a plot showing the priority index and population distribution\n",
    "plt.figure(figsize=(12, 6))\n",
    "\n",
    "# Plot the priority index\n",
    "sns.barplot(x='county_name', y='priority_index', data=final_df_with_priority, palette='viridis')\n",
    "plt.xticks(rotation=45, ha='right')\n",
    "plt.xlabel('County')\n",
    "plt.ylabel('Priority Index')\n",
    "plt.title('Priority Index by County')\n",
    "\n",
    "# Create a second y-axis for population distribution\n",
    "plt.twinx()\n",
    "sns.lineplot(x='county_name', y='population', data=final_df_with_priority, color='tab:red', marker='o')\n",
    "plt.ylabel('Population')\n",
    "#plt.title('Population Distribution and Priority Index')\n",
    "\n",
    "# Show the plot\n",
    "plt.tight_layout()\n",
    "plt.show()"
   ]
  },
  {
   "cell_type": "code",
   "execution_count": null,
   "metadata": {},
   "outputs": [],
   "source": []
  },
  {
   "cell_type": "code",
   "execution_count": null,
   "metadata": {},
   "outputs": [],
   "source": []
  }
 ],
 "metadata": {
  "kernelspec": {
   "display_name": "Python 3 (ipykernel)",
   "language": "python",
   "name": "python3"
  },
  "language_info": {
   "codemirror_mode": {
    "name": "ipython",
    "version": 3
   },
   "file_extension": ".py",
   "mimetype": "text/x-python",
   "name": "python",
   "nbconvert_exporter": "python",
   "pygments_lexer": "ipython3",
   "version": "3.10.9"
  }
 },
 "nbformat": 4,
 "nbformat_minor": 4
}
