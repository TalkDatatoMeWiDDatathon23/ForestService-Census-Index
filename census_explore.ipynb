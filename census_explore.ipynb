{
 "cells": [
  {
   "cell_type": "code",
   "execution_count": 1,
   "metadata": {
    "execution": {
     "iopub.execute_input": "2023-10-06T21:22:20.638304Z",
     "iopub.status.busy": "2023-10-06T21:22:20.638082Z",
     "iopub.status.idle": "2023-10-06T21:22:21.217650Z",
     "shell.execute_reply": "2023-10-06T21:22:21.217342Z",
     "shell.execute_reply.started": "2023-10-06T21:22:20.638279Z"
    },
    "tags": []
   },
   "outputs": [],
   "source": [
    "#trying this tutorial: https://www.natekratzer.com/posts/census_map/\n",
    "import numpy as np\n",
    "import geopandas as gpd\n",
    "import requests\n",
    "import pandas as pd"
   ]
  },
  {
   "cell_type": "code",
   "execution_count": 2,
   "metadata": {
    "execution": {
     "iopub.execute_input": "2023-10-06T21:22:21.219000Z",
     "iopub.status.busy": "2023-10-06T21:22:21.218816Z",
     "iopub.status.idle": "2023-10-06T21:22:22.653173Z",
     "shell.execute_reply": "2023-10-06T21:22:22.652820Z",
     "shell.execute_reply.started": "2023-10-06T21:22:21.218989Z"
    },
    "tags": []
   },
   "outputs": [],
   "source": [
    "#reading in file and mapping counties using WI as example\n",
    "county_shp = gpd.read_file('cb_2022_us_county_500k.zip')\n",
    "CA_counties = county_shp[county_shp.STATE_NAME == 'California']"
   ]
  },
  {
   "cell_type": "code",
   "execution_count": 3,
   "metadata": {
    "execution": {
     "iopub.execute_input": "2023-10-06T21:22:22.653805Z",
     "iopub.status.busy": "2023-10-06T21:22:22.653699Z",
     "iopub.status.idle": "2023-10-06T21:22:22.655562Z",
     "shell.execute_reply": "2023-10-06T21:22:22.655284Z",
     "shell.execute_reply.started": "2023-10-06T21:22:22.653795Z"
    },
    "tags": []
   },
   "outputs": [],
   "source": [
    "#wi_counties.explore()"
   ]
  },
  {
   "cell_type": "code",
   "execution_count": 4,
   "metadata": {
    "execution": {
     "iopub.execute_input": "2023-10-06T21:22:22.656150Z",
     "iopub.status.busy": "2023-10-06T21:22:22.656042Z",
     "iopub.status.idle": "2023-10-06T21:22:23.756036Z",
     "shell.execute_reply": "2023-10-06T21:22:23.753874Z",
     "shell.execute_reply.started": "2023-10-06T21:22:22.656140Z"
    },
    "tags": []
   },
   "outputs": [],
   "source": [
    "#load API key\n",
    "with open('/Users/isabellevea/Downloads/census_api_key.txt') as key:\n",
    "    api_key=key.read().strip()\n",
    "\n",
    "#specify the data source by year and survey\n",
    "year = '2020'\n",
    "dsource = 'dec' #Decennial Census\n",
    "dname = 'dhc' #Demographic and Housing Characteristics\n",
    "base_url = f'https://api.census.gov/data/{year}/{dsource}/{dname}'\n",
    "\n",
    "#unique to this specific data request\n",
    "cols = 'NAME,P1_001N' #NAME of geography as well as the variables I want to pull\n",
    "geo = 'county:*' #county geography level\n",
    "state = 'state:*' #all states\n",
    "\n",
    "#add unique request features to the base_url\n",
    "data_url = f'{base_url}?get={cols}&for={geo}&in={state}&key={api_key}'\n",
    "\n",
    "#go get the data\n",
    "response = requests.get(data_url)\n",
    "\n"
   ]
  },
  {
   "cell_type": "code",
   "execution_count": 5,
   "metadata": {
    "execution": {
     "iopub.execute_input": "2023-10-06T21:22:23.760119Z",
     "iopub.status.busy": "2023-10-06T21:22:23.758988Z",
     "iopub.status.idle": "2023-10-06T21:22:23.778459Z",
     "shell.execute_reply": "2023-10-06T21:22:23.776478Z",
     "shell.execute_reply.started": "2023-10-06T21:22:23.760050Z"
    },
    "tags": []
   },
   "outputs": [],
   "source": [
    "#take the data in json and format it into a dataframe\n",
    "data = response.json()"
   ]
  },
  {
   "cell_type": "code",
   "execution_count": 6,
   "metadata": {
    "execution": {
     "iopub.execute_input": "2023-10-06T21:22:23.780183Z",
     "iopub.status.busy": "2023-10-06T21:22:23.779839Z",
     "iopub.status.idle": "2023-10-06T21:22:23.800726Z",
     "shell.execute_reply": "2023-10-06T21:22:23.798722Z",
     "shell.execute_reply.started": "2023-10-06T21:22:23.780152Z"
    },
    "tags": []
   },
   "outputs": [
    {
     "data": {
      "text/html": [
       "<div>\n",
       "<style scoped>\n",
       "    .dataframe tbody tr th:only-of-type {\n",
       "        vertical-align: middle;\n",
       "    }\n",
       "\n",
       "    .dataframe tbody tr th {\n",
       "        vertical-align: top;\n",
       "    }\n",
       "\n",
       "    .dataframe thead th {\n",
       "        text-align: right;\n",
       "    }\n",
       "</style>\n",
       "<table border=\"1\" class=\"dataframe\">\n",
       "  <thead>\n",
       "    <tr style=\"text-align: right;\">\n",
       "      <th></th>\n",
       "      <th>NAME</th>\n",
       "      <th>P1_001N</th>\n",
       "      <th>state</th>\n",
       "      <th>county</th>\n",
       "    </tr>\n",
       "  </thead>\n",
       "  <tbody>\n",
       "    <tr>\n",
       "      <th>0</th>\n",
       "      <td>Madera County, California</td>\n",
       "      <td>156255</td>\n",
       "      <td>06</td>\n",
       "      <td>039</td>\n",
       "    </tr>\n",
       "    <tr>\n",
       "      <th>1</th>\n",
       "      <td>Marin County, California</td>\n",
       "      <td>262321</td>\n",
       "      <td>06</td>\n",
       "      <td>041</td>\n",
       "    </tr>\n",
       "    <tr>\n",
       "      <th>2</th>\n",
       "      <td>Mariposa County, California</td>\n",
       "      <td>17131</td>\n",
       "      <td>06</td>\n",
       "      <td>043</td>\n",
       "    </tr>\n",
       "    <tr>\n",
       "      <th>3</th>\n",
       "      <td>Mendocino County, California</td>\n",
       "      <td>91601</td>\n",
       "      <td>06</td>\n",
       "      <td>045</td>\n",
       "    </tr>\n",
       "    <tr>\n",
       "      <th>4</th>\n",
       "      <td>Merced County, California</td>\n",
       "      <td>281202</td>\n",
       "      <td>06</td>\n",
       "      <td>047</td>\n",
       "    </tr>\n",
       "  </tbody>\n",
       "</table>\n",
       "</div>"
      ],
      "text/plain": [
       "                           NAME P1_001N state county\n",
       "0     Madera County, California  156255    06    039\n",
       "1      Marin County, California  262321    06    041\n",
       "2   Mariposa County, California   17131    06    043\n",
       "3  Mendocino County, California   91601    06    045\n",
       "4     Merced County, California  281202    06    047"
      ]
     },
     "execution_count": 6,
     "metadata": {},
     "output_type": "execute_result"
    }
   ],
   "source": [
    "df = pd.DataFrame(data = data[1:], columns = data[0])\n",
    "df.head()"
   ]
  },
  {
   "cell_type": "code",
   "execution_count": 7,
   "metadata": {
    "execution": {
     "iopub.execute_input": "2023-10-06T21:22:23.807269Z",
     "iopub.status.busy": "2023-10-06T21:22:23.807063Z",
     "iopub.status.idle": "2023-10-06T21:22:23.847521Z",
     "shell.execute_reply": "2023-10-06T21:22:23.847073Z",
     "shell.execute_reply.started": "2023-10-06T21:22:23.807255Z"
    },
    "tags": []
   },
   "outputs": [],
   "source": [
    "#rename columns and convert population to numeric\n",
    "df.rename(columns = {'NAME': 'county_name', 'P1_001N': 'population', 'state': 'state_fips', 'county': 'county_fips'}, inplace=True)\n",
    "df['population'] = df['population'].apply(pd.to_numeric)"
   ]
  },
  {
   "cell_type": "code",
   "execution_count": 8,
   "metadata": {
    "execution": {
     "iopub.execute_input": "2023-10-06T21:22:23.848196Z",
     "iopub.status.busy": "2023-10-06T21:22:23.848072Z",
     "iopub.status.idle": "2023-10-06T21:22:23.860935Z",
     "shell.execute_reply": "2023-10-06T21:22:23.860570Z",
     "shell.execute_reply.started": "2023-10-06T21:22:23.848184Z"
    },
    "tags": []
   },
   "outputs": [
    {
     "name": "stdout",
     "output_type": "stream",
     "text": [
      "<class 'pandas.core.frame.DataFrame'>\n",
      "RangeIndex: 3221 entries, 0 to 3220\n",
      "Data columns (total 5 columns):\n",
      " #   Column       Non-Null Count  Dtype \n",
      "---  ------       --------------  ----- \n",
      " 0   county_name  3221 non-null   object\n",
      " 1   population   3221 non-null   int64 \n",
      " 2   state_fips   3221 non-null   object\n",
      " 3   county_fips  3221 non-null   object\n",
      " 4   fips         3221 non-null   object\n",
      "dtypes: int64(1), object(4)\n",
      "memory usage: 125.9+ KB\n"
     ]
    }
   ],
   "source": [
    "df['fips'] = df['state_fips'] + df['county_fips']\n",
    "df.info()"
   ]
  },
  {
   "cell_type": "code",
   "execution_count": 9,
   "metadata": {
    "execution": {
     "iopub.execute_input": "2023-10-06T21:22:23.861682Z",
     "iopub.status.busy": "2023-10-06T21:22:23.861538Z",
     "iopub.status.idle": "2023-10-06T21:22:23.863499Z",
     "shell.execute_reply": "2023-10-06T21:22:23.863197Z",
     "shell.execute_reply.started": "2023-10-06T21:22:23.861671Z"
    },
    "tags": []
   },
   "outputs": [],
   "source": [
    "#states = county_shp.STATE_NAME.values.tolist()\n",
    "#print(states)"
   ]
  },
  {
   "cell_type": "code",
   "execution_count": 10,
   "metadata": {
    "execution": {
     "iopub.execute_input": "2023-10-06T21:22:23.864096Z",
     "iopub.status.busy": "2023-10-06T21:22:23.863980Z",
     "iopub.status.idle": "2023-10-06T21:22:23.866941Z",
     "shell.execute_reply": "2023-10-06T21:22:23.866432Z",
     "shell.execute_reply.started": "2023-10-06T21:22:23.864085Z"
    },
    "tags": []
   },
   "outputs": [],
   "source": [
    "#creating a full US map\n",
    "#usa_counties = county_shp[county_shp.STATE_NAME == states]\n"
   ]
  },
  {
   "cell_type": "code",
   "execution_count": 11,
   "metadata": {
    "execution": {
     "iopub.execute_input": "2023-10-06T21:22:23.867674Z",
     "iopub.status.busy": "2023-10-06T21:22:23.867565Z",
     "iopub.status.idle": "2023-10-06T21:22:23.869499Z",
     "shell.execute_reply": "2023-10-06T21:22:23.869184Z",
     "shell.execute_reply.started": "2023-10-06T21:22:23.867664Z"
    },
    "tags": []
   },
   "outputs": [],
   "source": [
    "#usa_counties.explore()"
   ]
  },
  {
   "cell_type": "code",
   "execution_count": 12,
   "metadata": {
    "execution": {
     "iopub.execute_input": "2023-10-06T21:22:23.870283Z",
     "iopub.status.busy": "2023-10-06T21:22:23.870092Z",
     "iopub.status.idle": "2023-10-06T21:22:23.871962Z",
     "shell.execute_reply": "2023-10-06T21:22:23.871501Z",
     "shell.execute_reply.started": "2023-10-06T21:22:23.870272Z"
    },
    "tags": []
   },
   "outputs": [],
   "source": [
    "#construct the fips code to match with the geography data\n",
    "#usa_counties['fips'] = usa_counties['STATEFP'] + usa_counties['COUNTYFP']\n",
    "#usa_counties.head()"
   ]
  },
  {
   "cell_type": "code",
   "execution_count": 13,
   "metadata": {
    "execution": {
     "iopub.execute_input": "2023-10-06T21:22:23.872937Z",
     "iopub.status.busy": "2023-10-06T21:22:23.872799Z",
     "iopub.status.idle": "2023-10-06T21:22:23.874727Z",
     "shell.execute_reply": "2023-10-06T21:22:23.874313Z",
     "shell.execute_reply.started": "2023-10-06T21:22:23.872926Z"
    },
    "tags": []
   },
   "outputs": [],
   "source": [
    "#merge in the new data\n",
    "#clean up the names to be a bit more presentable\n",
    "#df_map = (CA_counties.merge(df, how = 'left', on = 'fips').rename(columns = {'NAMELSAD': 'County Name', 'population': 'County Population'}))\n",
    "\n",
    "#df_map.head()"
   ]
  },
  {
   "cell_type": "code",
   "execution_count": 14,
   "metadata": {
    "execution": {
     "iopub.execute_input": "2023-10-06T21:22:23.875248Z",
     "iopub.status.busy": "2023-10-06T21:22:23.875143Z",
     "iopub.status.idle": "2023-10-06T21:22:23.877400Z",
     "shell.execute_reply": "2023-10-06T21:22:23.877103Z",
     "shell.execute_reply.started": "2023-10-06T21:22:23.875238Z"
    },
    "tags": []
   },
   "outputs": [],
   "source": [
    "#df_map.explore(\n",
    "    #column ='County Population',\n",
    "    #scheme=\"naturalbreaks\",  # use mapclassify's natural breaks scheme\n",
    "    #legend=True,  # show legend\n",
    "    #k=5,  # use 5 bins\n",
    "    #tooltip = ['County Name', 'County Population'],\n",
    "    #tiles = 'CartoDB positron', #fades into the background better than the default\n",
    "    #legend_kwds=dict(colorbar=False, color=\"gray\"))"
   ]
  },
  {
   "cell_type": "code",
   "execution_count": 15,
   "metadata": {
    "execution": {
     "iopub.execute_input": "2023-10-06T21:22:23.878014Z",
     "iopub.status.busy": "2023-10-06T21:22:23.877903Z",
     "iopub.status.idle": "2023-10-06T21:22:23.879654Z",
     "shell.execute_reply": "2023-10-06T21:22:23.879304Z",
     "shell.execute_reply.started": "2023-10-06T21:22:23.878004Z"
    },
    "tags": []
   },
   "outputs": [],
   "source": [
    "#biggest_counties = df_map[df_map['County Population'] > 5000000]\n",
    "#biggest_counties"
   ]
  },
  {
   "cell_type": "code",
   "execution_count": 16,
   "metadata": {
    "execution": {
     "iopub.execute_input": "2023-10-06T21:22:23.880386Z",
     "iopub.status.busy": "2023-10-06T21:22:23.880177Z",
     "iopub.status.idle": "2023-10-06T21:22:23.881983Z",
     "shell.execute_reply": "2023-10-06T21:22:23.881689Z",
     "shell.execute_reply.started": "2023-10-06T21:22:23.880376Z"
    },
    "tags": []
   },
   "outputs": [],
   "source": [
    "#another approach I found, but did not work well bc of size of dataset and rate limits\n",
    "#pip install geopy"
   ]
  },
  {
   "cell_type": "code",
   "execution_count": 17,
   "metadata": {
    "execution": {
     "iopub.execute_input": "2023-10-06T21:22:23.882503Z",
     "iopub.status.busy": "2023-10-06T21:22:23.882397Z",
     "iopub.status.idle": "2023-10-06T21:22:23.884825Z",
     "shell.execute_reply": "2023-10-06T21:22:23.884121Z",
     "shell.execute_reply.started": "2023-10-06T21:22:23.882493Z"
    },
    "tags": []
   },
   "outputs": [],
   "source": [
    "#note: rate limit became a problem; will need to filter down to CA data only before retrying\n",
    "#from geopy.geocoders import Nominatim\n",
    "\n",
    "#def get_zip_code(latitude, longitude): \n",
    "    #geolocator = Nominatim(user_agent=\"mafphd@icloud.com\")\n",
    "    #location = geolocator.reverse((latitude, longitude), exactly_one=True)\n",
    "    #address = location.raw['address']\n",
    "    #zip_code = address.get('postcode')\n",
    "    \n",
    "    #return zip_code"
   ]
  },
  {
   "cell_type": "code",
   "execution_count": 18,
   "metadata": {
    "execution": {
     "iopub.execute_input": "2023-10-06T21:22:23.886268Z",
     "iopub.status.busy": "2023-10-06T21:22:23.885809Z",
     "iopub.status.idle": "2023-10-06T21:22:24.038751Z",
     "shell.execute_reply": "2023-10-06T21:22:24.038384Z",
     "shell.execute_reply.started": "2023-10-06T21:22:23.886254Z"
    },
    "tags": []
   },
   "outputs": [
    {
     "name": "stdout",
     "output_type": "stream",
     "text": [
      "<class 'pandas.core.frame.DataFrame'>\n",
      "RangeIndex: 30418 entries, 0 to 30417\n",
      "Data columns (total 25 columns):\n",
      " #   Column               Non-Null Count  Dtype  \n",
      "---  ------               --------------  -----  \n",
      " 0   X                    30418 non-null  float64\n",
      " 1   Y                    30418 non-null  float64\n",
      " 2   OBJECTID             30418 non-null  int64  \n",
      " 3   FIRE_ID              30418 non-null  object \n",
      " 4   FIRE_NAME            30418 non-null  object \n",
      " 5   ASMNT_TYPE           30418 non-null  object \n",
      " 6   FIRE_TYPE            30418 non-null  object \n",
      " 7   NODATA_THRESHOLD     30418 non-null  int64  \n",
      " 8   GREENNESS_THRESHOLD  30418 non-null  int64  \n",
      " 9   LOW_THRESHOLD        30418 non-null  int64  \n",
      " 10  MODERATE_THRESHOLD   30418 non-null  int64  \n",
      " 11  HIGH_THRESHOLD       30418 non-null  int64  \n",
      " 12  IG_DATE              30418 non-null  object \n",
      " 13  LATITUDE             30418 non-null  float64\n",
      " 14  LONGITUDE            30418 non-null  float64\n",
      " 15  ACRES                30418 non-null  int64  \n",
      " 16  IRWINID              4535 non-null   object \n",
      " 17  MAP_ID               30418 non-null  int64  \n",
      " 18  MAP_PROG             30418 non-null  object \n",
      " 19  PERIM_ID             2867 non-null   object \n",
      " 20  DNBR_OFFST           30418 non-null  int64  \n",
      " 21  DNBR_STDDV           30418 non-null  int64  \n",
      " 22  COMMENTS             4723 non-null   object \n",
      " 23  PRE_ID               21265 non-null  object \n",
      " 24  POST_ID              30418 non-null  object \n",
      "dtypes: float64(4), int64(10), object(11)\n",
      "memory usage: 5.8+ MB\n"
     ]
    }
   ],
   "source": [
    "import pandas as pd\n",
    "burn = pd.read_csv('Burn_Severity_Trends.csv')\n",
    "burn.info()"
   ]
  },
  {
   "cell_type": "code",
   "execution_count": 19,
   "metadata": {
    "execution": {
     "iopub.execute_input": "2023-10-06T21:22:24.039487Z",
     "iopub.status.busy": "2023-10-06T21:22:24.039381Z",
     "iopub.status.idle": "2023-10-06T21:22:24.050169Z",
     "shell.execute_reply": "2023-10-06T21:22:24.049737Z",
     "shell.execute_reply.started": "2023-10-06T21:22:24.039477Z"
    },
    "tags": []
   },
   "outputs": [
    {
     "data": {
      "text/html": [
       "<div>\n",
       "<style scoped>\n",
       "    .dataframe tbody tr th:only-of-type {\n",
       "        vertical-align: middle;\n",
       "    }\n",
       "\n",
       "    .dataframe tbody tr th {\n",
       "        vertical-align: top;\n",
       "    }\n",
       "\n",
       "    .dataframe thead th {\n",
       "        text-align: right;\n",
       "    }\n",
       "</style>\n",
       "<table border=\"1\" class=\"dataframe\">\n",
       "  <thead>\n",
       "    <tr style=\"text-align: right;\">\n",
       "      <th></th>\n",
       "      <th>X</th>\n",
       "      <th>Y</th>\n",
       "      <th>OBJECTID</th>\n",
       "      <th>FIRE_ID</th>\n",
       "      <th>FIRE_NAME</th>\n",
       "      <th>ASMNT_TYPE</th>\n",
       "      <th>FIRE_TYPE</th>\n",
       "      <th>NODATA_THRESHOLD</th>\n",
       "      <th>GREENNESS_THRESHOLD</th>\n",
       "      <th>LOW_THRESHOLD</th>\n",
       "      <th>...</th>\n",
       "      <th>ACRES</th>\n",
       "      <th>IRWINID</th>\n",
       "      <th>MAP_ID</th>\n",
       "      <th>MAP_PROG</th>\n",
       "      <th>PERIM_ID</th>\n",
       "      <th>DNBR_OFFST</th>\n",
       "      <th>DNBR_STDDV</th>\n",
       "      <th>COMMENTS</th>\n",
       "      <th>PRE_ID</th>\n",
       "      <th>POST_ID</th>\n",
       "    </tr>\n",
       "  </thead>\n",
       "  <tbody>\n",
       "    <tr>\n",
       "      <th>0</th>\n",
       "      <td>-144.673246</td>\n",
       "      <td>64.482309</td>\n",
       "      <td>830721</td>\n",
       "      <td>AK6448214467319840607</td>\n",
       "      <td>GLACIER CREEK</td>\n",
       "      <td>Initial (SS)</td>\n",
       "      <td>Wildfire</td>\n",
       "      <td>9999</td>\n",
       "      <td>9999</td>\n",
       "      <td>550</td>\n",
       "      <td>...</td>\n",
       "      <td>1897</td>\n",
       "      <td>NaN</td>\n",
       "      <td>4534</td>\n",
       "      <td>MTBS</td>\n",
       "      <td>506601519860705</td>\n",
       "      <td>-9999</td>\n",
       "      <td>-9999</td>\n",
       "      <td>NaN</td>\n",
       "      <td>NaN</td>\n",
       "      <td>506801519840713</td>\n",
       "    </tr>\n",
       "    <tr>\n",
       "      <th>1</th>\n",
       "      <td>-102.849877</td>\n",
       "      <td>43.083926</td>\n",
       "      <td>830722</td>\n",
       "      <td>SD4308410285019840906</td>\n",
       "      <td>SANDOZ</td>\n",
       "      <td>Initial</td>\n",
       "      <td>Wildfire</td>\n",
       "      <td>-970</td>\n",
       "      <td>-150</td>\n",
       "      <td>220</td>\n",
       "      <td>...</td>\n",
       "      <td>2691</td>\n",
       "      <td>NaN</td>\n",
       "      <td>4535</td>\n",
       "      <td>MTBS</td>\n",
       "      <td>NaN</td>\n",
       "      <td>211</td>\n",
       "      <td>-9999</td>\n",
       "      <td>NaN</td>\n",
       "      <td>503303019840622</td>\n",
       "      <td>503303019840926</td>\n",
       "    </tr>\n",
       "    <tr>\n",
       "      <th>2</th>\n",
       "      <td>-113.457720</td>\n",
       "      <td>48.804345</td>\n",
       "      <td>830723</td>\n",
       "      <td>MT4880411345819840819</td>\n",
       "      <td>NAPI PEAK</td>\n",
       "      <td>Extended</td>\n",
       "      <td>Wildfire</td>\n",
       "      <td>-970</td>\n",
       "      <td>-150</td>\n",
       "      <td>160</td>\n",
       "      <td>...</td>\n",
       "      <td>3680</td>\n",
       "      <td>NaN</td>\n",
       "      <td>4536</td>\n",
       "      <td>MTBS</td>\n",
       "      <td>NaN</td>\n",
       "      <td>-62</td>\n",
       "      <td>-9999</td>\n",
       "      <td>NaN</td>\n",
       "      <td>504102619840614</td>\n",
       "      <td>504102619850719</td>\n",
       "    </tr>\n",
       "    <tr>\n",
       "      <th>3</th>\n",
       "      <td>-106.958289</td>\n",
       "      <td>45.336400</td>\n",
       "      <td>830724</td>\n",
       "      <td>MT4533610695819840826</td>\n",
       "      <td>KIRBY</td>\n",
       "      <td>Extended</td>\n",
       "      <td>Wildfire</td>\n",
       "      <td>-970</td>\n",
       "      <td>-150</td>\n",
       "      <td>150</td>\n",
       "      <td>...</td>\n",
       "      <td>1597</td>\n",
       "      <td>NaN</td>\n",
       "      <td>4537</td>\n",
       "      <td>MTBS</td>\n",
       "      <td>NaN</td>\n",
       "      <td>52</td>\n",
       "      <td>-9999</td>\n",
       "      <td>NaN</td>\n",
       "      <td>503602819840814</td>\n",
       "      <td>503602819850817</td>\n",
       "    </tr>\n",
       "    <tr>\n",
       "      <th>4</th>\n",
       "      <td>-106.322839</td>\n",
       "      <td>45.616844</td>\n",
       "      <td>830725</td>\n",
       "      <td>MT4561710632319840918</td>\n",
       "      <td>LAKE CREEK</td>\n",
       "      <td>Initial</td>\n",
       "      <td>Wildfire</td>\n",
       "      <td>-970</td>\n",
       "      <td>-150</td>\n",
       "      <td>-50</td>\n",
       "      <td>...</td>\n",
       "      <td>3617</td>\n",
       "      <td>NaN</td>\n",
       "      <td>4538</td>\n",
       "      <td>MTBS</td>\n",
       "      <td>NaN</td>\n",
       "      <td>-104</td>\n",
       "      <td>-9999</td>\n",
       "      <td>NaN</td>\n",
       "      <td>503602819840814</td>\n",
       "      <td>503602819841017</td>\n",
       "    </tr>\n",
       "  </tbody>\n",
       "</table>\n",
       "<p>5 rows × 25 columns</p>\n",
       "</div>"
      ],
      "text/plain": [
       "            X          Y  OBJECTID                FIRE_ID      FIRE_NAME  \\\n",
       "0 -144.673246  64.482309    830721  AK6448214467319840607  GLACIER CREEK   \n",
       "1 -102.849877  43.083926    830722  SD4308410285019840906         SANDOZ   \n",
       "2 -113.457720  48.804345    830723  MT4880411345819840819      NAPI PEAK   \n",
       "3 -106.958289  45.336400    830724  MT4533610695819840826          KIRBY   \n",
       "4 -106.322839  45.616844    830725  MT4561710632319840918     LAKE CREEK   \n",
       "\n",
       "     ASMNT_TYPE FIRE_TYPE  NODATA_THRESHOLD  GREENNESS_THRESHOLD  \\\n",
       "0  Initial (SS)  Wildfire              9999                 9999   \n",
       "1       Initial  Wildfire              -970                 -150   \n",
       "2      Extended  Wildfire              -970                 -150   \n",
       "3      Extended  Wildfire              -970                 -150   \n",
       "4       Initial  Wildfire              -970                 -150   \n",
       "\n",
       "   LOW_THRESHOLD  ...  ACRES  IRWINID MAP_ID  MAP_PROG         PERIM_ID  \\\n",
       "0            550  ...   1897      NaN   4534      MTBS  506601519860705   \n",
       "1            220  ...   2691      NaN   4535      MTBS              NaN   \n",
       "2            160  ...   3680      NaN   4536      MTBS              NaN   \n",
       "3            150  ...   1597      NaN   4537      MTBS              NaN   \n",
       "4            -50  ...   3617      NaN   4538      MTBS              NaN   \n",
       "\n",
       "   DNBR_OFFST DNBR_STDDV  COMMENTS           PRE_ID          POST_ID  \n",
       "0       -9999      -9999       NaN              NaN  506801519840713  \n",
       "1         211      -9999       NaN  503303019840622  503303019840926  \n",
       "2         -62      -9999       NaN  504102619840614  504102619850719  \n",
       "3          52      -9999       NaN  503602819840814  503602819850817  \n",
       "4        -104      -9999       NaN  503602819840814  503602819841017  \n",
       "\n",
       "[5 rows x 25 columns]"
      ]
     },
     "execution_count": 19,
     "metadata": {},
     "output_type": "execute_result"
    }
   ],
   "source": [
    "#burn['ZIP_CODE'] = burn.apply(lambda row: get_zip_code(row['LATITUDE'], row['LONGITUDE']), axis=1)\n",
    "burn.head()"
   ]
  },
  {
   "cell_type": "code",
   "execution_count": 20,
   "metadata": {
    "execution": {
     "iopub.execute_input": "2023-10-06T21:22:24.051035Z",
     "iopub.status.busy": "2023-10-06T21:22:24.050902Z",
     "iopub.status.idle": "2023-10-06T21:22:24.258352Z",
     "shell.execute_reply": "2023-10-06T21:22:24.257892Z",
     "shell.execute_reply.started": "2023-10-06T21:22:24.051025Z"
    },
    "tags": []
   },
   "outputs": [],
   "source": [
    "#trying to identify counties by latitude/longitude coordinates using TIGER/Line Shapefile, 2019, nation, U.S., Current County and Equivalent National Shapefile from data.gov\n",
    "import geopandas as gpd\n",
    "\n",
    "# Load the shapefile\n",
    "#gdf = gpd.read_file('/Users/isabellevea/Downloads/tl_2019_us_county/tl_2019_us_county.shp') #file is too large to commit; download from https://catalog.data.gov/dataset/tiger-line-shapefile-2019-nation-u-s-current-county-and-equivalent-national-shapefile\n",
    "\n",
    "gdf = gpd.read_file('data/census_CA.shp') #file is too large to commit; download from https://catalog.data.gov/dataset/tiger-line-shapefile-2019-nation-u-s-current-county-and-equivalent-national-shapefile\n"
   ]
  },
  {
   "cell_type": "code",
   "execution_count": null,
   "metadata": {
    "tags": []
   },
   "outputs": [],
   "source": []
  },
  {
   "cell_type": "code",
   "execution_count": 21,
   "metadata": {
    "execution": {
     "iopub.execute_input": "2023-10-06T21:22:24.259036Z",
     "iopub.status.busy": "2023-10-06T21:22:24.258927Z",
     "iopub.status.idle": "2023-10-06T21:22:24.261685Z",
     "shell.execute_reply": "2023-10-06T21:22:24.261357Z",
     "shell.execute_reply.started": "2023-10-06T21:22:24.259026Z"
    },
    "tags": []
   },
   "outputs": [
    {
     "data": {
      "text/plain": [
       "geopandas.geodataframe.GeoDataFrame"
      ]
     },
     "execution_count": 21,
     "metadata": {},
     "output_type": "execute_result"
    }
   ],
   "source": [
    "type(gdf)"
   ]
  },
  {
   "cell_type": "code",
   "execution_count": 22,
   "metadata": {
    "execution": {
     "iopub.execute_input": "2023-10-06T21:22:24.265816Z",
     "iopub.status.busy": "2023-10-06T21:22:24.265684Z",
     "iopub.status.idle": "2023-10-06T21:22:24.304363Z",
     "shell.execute_reply": "2023-10-06T21:22:24.304038Z",
     "shell.execute_reply.started": "2023-10-06T21:22:24.265806Z"
    },
    "tags": []
   },
   "outputs": [
    {
     "data": {
      "text/html": [
       "<div>\n",
       "<style scoped>\n",
       "    .dataframe tbody tr th:only-of-type {\n",
       "        vertical-align: middle;\n",
       "    }\n",
       "\n",
       "    .dataframe tbody tr th {\n",
       "        vertical-align: top;\n",
       "    }\n",
       "\n",
       "    .dataframe thead th {\n",
       "        text-align: right;\n",
       "    }\n",
       "</style>\n",
       "<table border=\"1\" class=\"dataframe\">\n",
       "  <thead>\n",
       "    <tr style=\"text-align: right;\">\n",
       "      <th></th>\n",
       "      <th>STATEFP</th>\n",
       "      <th>COUNTYFP</th>\n",
       "      <th>COUNTYNS</th>\n",
       "      <th>GEOID</th>\n",
       "      <th>NAME</th>\n",
       "      <th>NAMELSAD</th>\n",
       "      <th>LSAD</th>\n",
       "      <th>CLASSFP</th>\n",
       "      <th>MTFCC</th>\n",
       "      <th>CSAFP</th>\n",
       "      <th>CBSAFP</th>\n",
       "      <th>METDIVFP</th>\n",
       "      <th>FUNCSTAT</th>\n",
       "      <th>ALAND</th>\n",
       "      <th>AWATER</th>\n",
       "      <th>INTPTLAT</th>\n",
       "      <th>INTPTLON</th>\n",
       "      <th>geometry</th>\n",
       "    </tr>\n",
       "  </thead>\n",
       "  <tbody>\n",
       "    <tr>\n",
       "      <th>0</th>\n",
       "      <td>06</td>\n",
       "      <td>091</td>\n",
       "      <td>00277310</td>\n",
       "      <td>06091</td>\n",
       "      <td>Sierra</td>\n",
       "      <td>Sierra County</td>\n",
       "      <td>06</td>\n",
       "      <td>H1</td>\n",
       "      <td>G4020</td>\n",
       "      <td>NaN</td>\n",
       "      <td>NaN</td>\n",
       "      <td>NaN</td>\n",
       "      <td>A</td>\n",
       "      <td>2468694583</td>\n",
       "      <td>23299110</td>\n",
       "      <td>+39.5769252</td>\n",
       "      <td>-120.5219926</td>\n",
       "      <td>POLYGON ((-120.65559 39.69356, -120.65552 39.6...</td>\n",
       "    </tr>\n",
       "    <tr>\n",
       "      <th>1</th>\n",
       "      <td>06</td>\n",
       "      <td>067</td>\n",
       "      <td>00277298</td>\n",
       "      <td>06067</td>\n",
       "      <td>Sacramento</td>\n",
       "      <td>Sacramento County</td>\n",
       "      <td>06</td>\n",
       "      <td>H1</td>\n",
       "      <td>G4020</td>\n",
       "      <td>472</td>\n",
       "      <td>40900</td>\n",
       "      <td>NaN</td>\n",
       "      <td>A</td>\n",
       "      <td>2499983887</td>\n",
       "      <td>75425434</td>\n",
       "      <td>+38.4500161</td>\n",
       "      <td>-121.3404408</td>\n",
       "      <td>POLYGON ((-121.18857 38.71431, -121.18731 38.7...</td>\n",
       "    </tr>\n",
       "    <tr>\n",
       "      <th>2</th>\n",
       "      <td>06</td>\n",
       "      <td>083</td>\n",
       "      <td>00277306</td>\n",
       "      <td>06083</td>\n",
       "      <td>Santa Barbara</td>\n",
       "      <td>Santa Barbara County</td>\n",
       "      <td>06</td>\n",
       "      <td>H1</td>\n",
       "      <td>G4020</td>\n",
       "      <td>NaN</td>\n",
       "      <td>42200</td>\n",
       "      <td>NaN</td>\n",
       "      <td>A</td>\n",
       "      <td>7084063392</td>\n",
       "      <td>2729751706</td>\n",
       "      <td>+34.5370572</td>\n",
       "      <td>-120.0399729</td>\n",
       "      <td>MULTIPOLYGON (((-120.73429 34.90069, -120.7343...</td>\n",
       "    </tr>\n",
       "    <tr>\n",
       "      <th>3</th>\n",
       "      <td>06</td>\n",
       "      <td>009</td>\n",
       "      <td>01675885</td>\n",
       "      <td>06009</td>\n",
       "      <td>Calaveras</td>\n",
       "      <td>Calaveras County</td>\n",
       "      <td>06</td>\n",
       "      <td>H1</td>\n",
       "      <td>G4020</td>\n",
       "      <td>NaN</td>\n",
       "      <td>NaN</td>\n",
       "      <td>NaN</td>\n",
       "      <td>A</td>\n",
       "      <td>2641784992</td>\n",
       "      <td>43841871</td>\n",
       "      <td>+38.1838996</td>\n",
       "      <td>-120.5614415</td>\n",
       "      <td>POLYGON ((-120.63093 38.34110, -120.63057 38.3...</td>\n",
       "    </tr>\n",
       "    <tr>\n",
       "      <th>4</th>\n",
       "      <td>06</td>\n",
       "      <td>111</td>\n",
       "      <td>00277320</td>\n",
       "      <td>06111</td>\n",
       "      <td>Ventura</td>\n",
       "      <td>Ventura County</td>\n",
       "      <td>06</td>\n",
       "      <td>H1</td>\n",
       "      <td>G4020</td>\n",
       "      <td>348</td>\n",
       "      <td>37100</td>\n",
       "      <td>NaN</td>\n",
       "      <td>A</td>\n",
       "      <td>4771987962</td>\n",
       "      <td>947345370</td>\n",
       "      <td>+34.3587415</td>\n",
       "      <td>-119.1331432</td>\n",
       "      <td>MULTIPOLYGON (((-119.32922 34.22784, -119.3292...</td>\n",
       "    </tr>\n",
       "  </tbody>\n",
       "</table>\n",
       "</div>"
      ],
      "text/plain": [
       "  STATEFP COUNTYFP  COUNTYNS  GEOID           NAME              NAMELSAD LSAD  \\\n",
       "0      06      091  00277310  06091         Sierra         Sierra County   06   \n",
       "1      06      067  00277298  06067     Sacramento     Sacramento County   06   \n",
       "2      06      083  00277306  06083  Santa Barbara  Santa Barbara County   06   \n",
       "3      06      009  01675885  06009      Calaveras      Calaveras County   06   \n",
       "4      06      111  00277320  06111        Ventura        Ventura County   06   \n",
       "\n",
       "  CLASSFP  MTFCC CSAFP CBSAFP METDIVFP FUNCSTAT       ALAND      AWATER  \\\n",
       "0      H1  G4020   NaN    NaN      NaN        A  2468694583    23299110   \n",
       "1      H1  G4020   472  40900      NaN        A  2499983887    75425434   \n",
       "2      H1  G4020   NaN  42200      NaN        A  7084063392  2729751706   \n",
       "3      H1  G4020   NaN    NaN      NaN        A  2641784992    43841871   \n",
       "4      H1  G4020   348  37100      NaN        A  4771987962   947345370   \n",
       "\n",
       "      INTPTLAT      INTPTLON  \\\n",
       "0  +39.5769252  -120.5219926   \n",
       "1  +38.4500161  -121.3404408   \n",
       "2  +34.5370572  -120.0399729   \n",
       "3  +38.1838996  -120.5614415   \n",
       "4  +34.3587415  -119.1331432   \n",
       "\n",
       "                                            geometry  \n",
       "0  POLYGON ((-120.65559 39.69356, -120.65552 39.6...  \n",
       "1  POLYGON ((-121.18857 38.71431, -121.18731 38.7...  \n",
       "2  MULTIPOLYGON (((-120.73429 34.90069, -120.7343...  \n",
       "3  POLYGON ((-120.63093 38.34110, -120.63057 38.3...  \n",
       "4  MULTIPOLYGON (((-119.32922 34.22784, -119.3292...  "
      ]
     },
     "execution_count": 22,
     "metadata": {},
     "output_type": "execute_result"
    }
   ],
   "source": [
    "gdf.head()"
   ]
  },
  {
   "cell_type": "code",
   "execution_count": 23,
   "metadata": {
    "execution": {
     "iopub.execute_input": "2023-10-06T21:22:24.305097Z",
     "iopub.status.busy": "2023-10-06T21:22:24.304969Z",
     "iopub.status.idle": "2023-10-06T21:22:24.308152Z",
     "shell.execute_reply": "2023-10-06T21:22:24.307700Z",
     "shell.execute_reply.started": "2023-10-06T21:22:24.305086Z"
    },
    "tags": []
   },
   "outputs": [],
   "source": [
    "def get_county_name(latitude, longitude):\n",
    "    point = gpd.GeoDataFrame(geometry=gpd.points_from_xy([longitude], [latitude]))\n",
    "    county = gdf[gdf.contains(point.unary_union)]\n",
    "    return county['NAME'].iloc[0] if not county.empty else None"
   ]
  },
  {
   "cell_type": "code",
   "execution_count": 24,
   "metadata": {
    "execution": {
     "iopub.execute_input": "2023-10-06T21:22:24.309676Z",
     "iopub.status.busy": "2023-10-06T21:22:24.309228Z",
     "iopub.status.idle": "2023-10-06T21:22:24.320981Z",
     "shell.execute_reply": "2023-10-06T21:22:24.320661Z",
     "shell.execute_reply.started": "2023-10-06T21:22:24.309662Z"
    },
    "tags": []
   },
   "outputs": [
    {
     "name": "stdout",
     "output_type": "stream",
     "text": [
      "County Name: San Francisco\n"
     ]
    }
   ],
   "source": [
    "# Example usage\n",
    "latitude = 37.7749  # Example latitude\n",
    "longitude = -122.4194  # Example longitude\n",
    "\n",
    "county_name = get_county_name(latitude, longitude)\n",
    "print(\"County Name:\", county_name)\n"
   ]
  },
  {
   "cell_type": "code",
   "execution_count": 25,
   "metadata": {
    "execution": {
     "iopub.execute_input": "2023-10-06T21:22:24.321705Z",
     "iopub.status.busy": "2023-10-06T21:22:24.321576Z",
     "iopub.status.idle": "2023-10-06T21:22:59.917726Z",
     "shell.execute_reply": "2023-10-06T21:22:59.917252Z",
     "shell.execute_reply.started": "2023-10-06T21:22:24.321694Z"
    },
    "tags": []
   },
   "outputs": [],
   "source": [
    "burn['County'] = burn.apply(lambda row: get_county_name(row['LATITUDE'], row['LONGITUDE']), axis=1)"
   ]
  },
  {
   "cell_type": "code",
   "execution_count": 26,
   "metadata": {
    "execution": {
     "iopub.execute_input": "2023-10-06T21:22:59.918352Z",
     "iopub.status.busy": "2023-10-06T21:22:59.918230Z",
     "iopub.status.idle": "2023-10-06T21:22:59.921649Z",
     "shell.execute_reply": "2023-10-06T21:22:59.921320Z",
     "shell.execute_reply.started": "2023-10-06T21:22:59.918341Z"
    },
    "tags": []
   },
   "outputs": [
    {
     "data": {
      "text/plain": [
       "28432"
      ]
     },
     "execution_count": 26,
     "metadata": {},
     "output_type": "execute_result"
    }
   ],
   "source": [
    "burn['County'].isna().sum()"
   ]
  },
  {
   "cell_type": "code",
   "execution_count": 27,
   "metadata": {
    "execution": {
     "iopub.execute_input": "2023-10-06T21:22:59.922282Z",
     "iopub.status.busy": "2023-10-06T21:22:59.922183Z",
     "iopub.status.idle": "2023-10-06T21:22:59.940086Z",
     "shell.execute_reply": "2023-10-06T21:22:59.939641Z",
     "shell.execute_reply.started": "2023-10-06T21:22:59.922273Z"
    },
    "tags": []
   },
   "outputs": [
    {
     "data": {
      "text/html": [
       "<div>\n",
       "<style scoped>\n",
       "    .dataframe tbody tr th:only-of-type {\n",
       "        vertical-align: middle;\n",
       "    }\n",
       "\n",
       "    .dataframe tbody tr th {\n",
       "        vertical-align: top;\n",
       "    }\n",
       "\n",
       "    .dataframe thead th {\n",
       "        text-align: right;\n",
       "    }\n",
       "</style>\n",
       "<table border=\"1\" class=\"dataframe\">\n",
       "  <thead>\n",
       "    <tr style=\"text-align: right;\">\n",
       "      <th></th>\n",
       "      <th>LATITUDE</th>\n",
       "      <th>LONGITUDE</th>\n",
       "    </tr>\n",
       "  </thead>\n",
       "  <tbody>\n",
       "    <tr>\n",
       "      <th>12042</th>\n",
       "      <td>17.957</td>\n",
       "      <td>-66.129</td>\n",
       "    </tr>\n",
       "    <tr>\n",
       "      <th>14370</th>\n",
       "      <td>17.986</td>\n",
       "      <td>-67.039</td>\n",
       "    </tr>\n",
       "    <tr>\n",
       "      <th>12020</th>\n",
       "      <td>18.007</td>\n",
       "      <td>-66.312</td>\n",
       "    </tr>\n",
       "    <tr>\n",
       "      <th>12043</th>\n",
       "      <td>18.009</td>\n",
       "      <td>-66.210</td>\n",
       "    </tr>\n",
       "    <tr>\n",
       "      <th>12021</th>\n",
       "      <td>18.025</td>\n",
       "      <td>-66.266</td>\n",
       "    </tr>\n",
       "    <tr>\n",
       "      <th>...</th>\n",
       "      <td>...</td>\n",
       "      <td>...</td>\n",
       "    </tr>\n",
       "    <tr>\n",
       "      <th>19425</th>\n",
       "      <td>69.260</td>\n",
       "      <td>-155.391</td>\n",
       "    </tr>\n",
       "    <tr>\n",
       "      <th>13805</th>\n",
       "      <td>69.465</td>\n",
       "      <td>-148.350</td>\n",
       "    </tr>\n",
       "    <tr>\n",
       "      <th>26215</th>\n",
       "      <td>69.686</td>\n",
       "      <td>-159.607</td>\n",
       "    </tr>\n",
       "    <tr>\n",
       "      <th>26214</th>\n",
       "      <td>69.765</td>\n",
       "      <td>-159.058</td>\n",
       "    </tr>\n",
       "    <tr>\n",
       "      <th>19408</th>\n",
       "      <td>70.139</td>\n",
       "      <td>-150.593</td>\n",
       "    </tr>\n",
       "  </tbody>\n",
       "</table>\n",
       "<p>28432 rows × 2 columns</p>\n",
       "</div>"
      ],
      "text/plain": [
       "       LATITUDE  LONGITUDE\n",
       "12042    17.957    -66.129\n",
       "14370    17.986    -67.039\n",
       "12020    18.007    -66.312\n",
       "12043    18.009    -66.210\n",
       "12021    18.025    -66.266\n",
       "...         ...        ...\n",
       "19425    69.260   -155.391\n",
       "13805    69.465   -148.350\n",
       "26215    69.686   -159.607\n",
       "26214    69.765   -159.058\n",
       "19408    70.139   -150.593\n",
       "\n",
       "[28432 rows x 2 columns]"
      ]
     },
     "execution_count": 27,
     "metadata": {},
     "output_type": "execute_result"
    }
   ],
   "source": [
    "#looking at the missing counties to see if any are within approximate CA coordinates (from ChatGPT/verified on a map: min_lat = 32.5, max_lat = 37.0,min_lon = -125.0,max_lon = -114.0)\n",
    "missing_ctys = burn[burn['County'].isna()]\n",
    "missing_ctys_sorted = missing_ctys[['LATITUDE', 'LONGITUDE']]\n",
    "missing_ctys_sorted.sort_values(by='LATITUDE', ascending = True)"
   ]
  },
  {
   "cell_type": "code",
   "execution_count": 28,
   "metadata": {
    "execution": {
     "iopub.execute_input": "2023-10-06T21:22:59.940865Z",
     "iopub.status.busy": "2023-10-06T21:22:59.940736Z",
     "iopub.status.idle": "2023-10-06T21:23:03.671829Z",
     "shell.execute_reply": "2023-10-06T21:23:03.671409Z",
     "shell.execute_reply.started": "2023-10-06T21:22:59.940854Z"
    },
    "tags": []
   },
   "outputs": [],
   "source": [
    "#using BallTree nearest neighbors approach to fill in County based on closest known lat/long coordinates\n",
    "from sklearn.neighbors import BallTree\n",
    "\n",
    "# Assuming 'burn' is your original DataFrame\n",
    "\n",
    "# Create a subset DataFrame with only rows that have County information\n",
    "known_counties = burn.dropna(subset=['County'])\n",
    "\n",
    "# Extract latitude and longitude for known counties\n",
    "known_coordinates = known_counties[['LATITUDE', 'LONGITUDE']].values\n",
    "\n",
    "# Build a BallTree for efficient nearest neighbor search\n",
    "tree = BallTree(known_coordinates, leaf_size=15)\n",
    "\n",
    "# Define a function to impute missing County values based on nearest neighbors\n",
    "def impute_county(row):\n",
    "    if pd.isna(row['County']):\n",
    "        distances, indices = tree.query([[row['LATITUDE'], row['LONGITUDE']]], k=1)\n",
    "        closest_county = known_counties.iloc[indices[0][0]]['County']\n",
    "        return closest_county\n",
    "    else:\n",
    "        return row['County']\n",
    "\n",
    "# Apply the impute_county function to fill in missing values\n",
    "burn['County'] = burn.apply(impute_county, axis=1)\n"
   ]
  },
  {
   "cell_type": "code",
   "execution_count": 29,
   "metadata": {
    "execution": {
     "iopub.execute_input": "2023-10-06T21:23:03.672601Z",
     "iopub.status.busy": "2023-10-06T21:23:03.672402Z",
     "iopub.status.idle": "2023-10-06T21:23:03.677553Z",
     "shell.execute_reply": "2023-10-06T21:23:03.677118Z",
     "shell.execute_reply.started": "2023-10-06T21:23:03.672590Z"
    },
    "tags": []
   },
   "outputs": [
    {
     "data": {
      "text/plain": [
       "0"
      ]
     },
     "execution_count": 29,
     "metadata": {},
     "output_type": "execute_result"
    }
   ],
   "source": [
    "burn['County'].isna().sum()"
   ]
  },
  {
   "cell_type": "code",
   "execution_count": 30,
   "metadata": {
    "execution": {
     "iopub.execute_input": "2023-10-06T21:23:03.678352Z",
     "iopub.status.busy": "2023-10-06T21:23:03.678109Z",
     "iopub.status.idle": "2023-10-06T21:23:03.685862Z",
     "shell.execute_reply": "2023-10-06T21:23:03.685488Z",
     "shell.execute_reply.started": "2023-10-06T21:23:03.678342Z"
    },
    "tags": []
   },
   "outputs": [
    {
     "name": "stdout",
     "output_type": "stream",
     "text": [
      "<class 'geopandas.geodataframe.GeoDataFrame'>\n",
      "RangeIndex: 58 entries, 0 to 57\n",
      "Data columns (total 18 columns):\n",
      " #   Column    Non-Null Count  Dtype   \n",
      "---  ------    --------------  -----   \n",
      " 0   STATEFP   58 non-null     object  \n",
      " 1   COUNTYFP  58 non-null     object  \n",
      " 2   COUNTYNS  58 non-null     object  \n",
      " 3   GEOID     58 non-null     object  \n",
      " 4   NAME      58 non-null     object  \n",
      " 5   NAMELSAD  58 non-null     object  \n",
      " 6   LSAD      58 non-null     object  \n",
      " 7   CLASSFP   58 non-null     object  \n",
      " 8   MTFCC     58 non-null     object  \n",
      " 9   CSAFP     31 non-null     object  \n",
      " 10  CBSAFP    45 non-null     object  \n",
      " 11  METDIVFP  7 non-null      object  \n",
      " 12  FUNCSTAT  58 non-null     object  \n",
      " 13  ALAND     58 non-null     int64   \n",
      " 14  AWATER    58 non-null     int64   \n",
      " 15  INTPTLAT  58 non-null     object  \n",
      " 16  INTPTLON  58 non-null     object  \n",
      " 17  geometry  58 non-null     geometry\n",
      "dtypes: geometry(1), int64(2), object(15)\n",
      "memory usage: 8.3+ KB\n"
     ]
    }
   ],
   "source": [
    "#checking to see if I can get fips codes from the shapefile to join the two dataframes\n",
    "gdf.info()"
   ]
  },
  {
   "cell_type": "code",
   "execution_count": 31,
   "metadata": {
    "execution": {
     "iopub.execute_input": "2023-10-06T21:23:03.686532Z",
     "iopub.status.busy": "2023-10-06T21:23:03.686427Z",
     "iopub.status.idle": "2023-10-06T21:23:03.780910Z",
     "shell.execute_reply": "2023-10-06T21:23:03.780409Z",
     "shell.execute_reply.started": "2023-10-06T21:23:03.686523Z"
    },
    "tags": []
   },
   "outputs": [
    {
     "name": "stderr",
     "output_type": "stream",
     "text": [
      "/Users/isabellevea/anaconda3/lib/python3.10/site-packages/IPython/core/interactiveshell.py:3400: FutureWarning: The `op` parameter is deprecated and will be removed in a future release. Please use the `predicate` parameter instead.\n",
      "  if await self.run_code(code, result, async_=asy):\n"
     ]
    }
   ],
   "source": [
    "# bringing FP codes to the burn dataframe for joining\n",
    "# Spatial join between burn DataFrame and shapefile\n",
    "gdf = gdf[['STATEFP', 'COUNTYFP', 'geometry']]  # Select only necessary columns\n",
    "burn_gdf = gpd.GeoDataFrame(burn, geometry=gpd.points_from_xy(burn.LONGITUDE, burn.LATITUDE), crs=gdf.crs)\n",
    "merged = gpd.sjoin(burn_gdf, gdf, how='left', op='within')\n",
    "\n",
    "# Extract STATEFP and COUNTYFP values\n",
    "burn['state_fips'] = merged['STATEFP']\n",
    "burn['county_fips'] = merged['COUNTYFP']\n",
    "\n",
    "# Create 'fips' column by concatenating 'state_fips' and 'county_fips'\n",
    "burn['fips'] = burn['state_fips'].astype(str) + burn['county_fips'].astype(str)\n"
   ]
  },
  {
   "cell_type": "code",
   "execution_count": 32,
   "metadata": {
    "execution": {
     "iopub.execute_input": "2023-10-06T21:23:03.781576Z",
     "iopub.status.busy": "2023-10-06T21:23:03.781454Z",
     "iopub.status.idle": "2023-10-06T21:23:03.790729Z",
     "shell.execute_reply": "2023-10-06T21:23:03.790244Z",
     "shell.execute_reply.started": "2023-10-06T21:23:03.781566Z"
    },
    "tags": []
   },
   "outputs": [
    {
     "data": {
      "text/html": [
       "<div>\n",
       "<style scoped>\n",
       "    .dataframe tbody tr th:only-of-type {\n",
       "        vertical-align: middle;\n",
       "    }\n",
       "\n",
       "    .dataframe tbody tr th {\n",
       "        vertical-align: top;\n",
       "    }\n",
       "\n",
       "    .dataframe thead th {\n",
       "        text-align: right;\n",
       "    }\n",
       "</style>\n",
       "<table border=\"1\" class=\"dataframe\">\n",
       "  <thead>\n",
       "    <tr style=\"text-align: right;\">\n",
       "      <th></th>\n",
       "      <th>X</th>\n",
       "      <th>Y</th>\n",
       "      <th>OBJECTID</th>\n",
       "      <th>FIRE_ID</th>\n",
       "      <th>FIRE_NAME</th>\n",
       "      <th>ASMNT_TYPE</th>\n",
       "      <th>FIRE_TYPE</th>\n",
       "      <th>NODATA_THRESHOLD</th>\n",
       "      <th>GREENNESS_THRESHOLD</th>\n",
       "      <th>LOW_THRESHOLD</th>\n",
       "      <th>...</th>\n",
       "      <th>PERIM_ID</th>\n",
       "      <th>DNBR_OFFST</th>\n",
       "      <th>DNBR_STDDV</th>\n",
       "      <th>COMMENTS</th>\n",
       "      <th>PRE_ID</th>\n",
       "      <th>POST_ID</th>\n",
       "      <th>County</th>\n",
       "      <th>state_fips</th>\n",
       "      <th>county_fips</th>\n",
       "      <th>fips</th>\n",
       "    </tr>\n",
       "  </thead>\n",
       "  <tbody>\n",
       "    <tr>\n",
       "      <th>0</th>\n",
       "      <td>-144.673246</td>\n",
       "      <td>64.482309</td>\n",
       "      <td>830721</td>\n",
       "      <td>AK6448214467319840607</td>\n",
       "      <td>GLACIER CREEK</td>\n",
       "      <td>Initial (SS)</td>\n",
       "      <td>Wildfire</td>\n",
       "      <td>9999</td>\n",
       "      <td>9999</td>\n",
       "      <td>550</td>\n",
       "      <td>...</td>\n",
       "      <td>506601519860705</td>\n",
       "      <td>-9999</td>\n",
       "      <td>-9999</td>\n",
       "      <td>NaN</td>\n",
       "      <td>NaN</td>\n",
       "      <td>506801519840713</td>\n",
       "      <td>Del Norte</td>\n",
       "      <td>NaN</td>\n",
       "      <td>NaN</td>\n",
       "      <td>nannan</td>\n",
       "    </tr>\n",
       "    <tr>\n",
       "      <th>1</th>\n",
       "      <td>-102.849877</td>\n",
       "      <td>43.083926</td>\n",
       "      <td>830722</td>\n",
       "      <td>SD4308410285019840906</td>\n",
       "      <td>SANDOZ</td>\n",
       "      <td>Initial</td>\n",
       "      <td>Wildfire</td>\n",
       "      <td>-970</td>\n",
       "      <td>-150</td>\n",
       "      <td>220</td>\n",
       "      <td>...</td>\n",
       "      <td>NaN</td>\n",
       "      <td>211</td>\n",
       "      <td>-9999</td>\n",
       "      <td>NaN</td>\n",
       "      <td>503303019840622</td>\n",
       "      <td>503303019840926</td>\n",
       "      <td>San Bernardino</td>\n",
       "      <td>NaN</td>\n",
       "      <td>NaN</td>\n",
       "      <td>nannan</td>\n",
       "    </tr>\n",
       "    <tr>\n",
       "      <th>2</th>\n",
       "      <td>-113.457720</td>\n",
       "      <td>48.804345</td>\n",
       "      <td>830723</td>\n",
       "      <td>MT4880411345819840819</td>\n",
       "      <td>NAPI PEAK</td>\n",
       "      <td>Extended</td>\n",
       "      <td>Wildfire</td>\n",
       "      <td>-970</td>\n",
       "      <td>-150</td>\n",
       "      <td>160</td>\n",
       "      <td>...</td>\n",
       "      <td>NaN</td>\n",
       "      <td>-62</td>\n",
       "      <td>-9999</td>\n",
       "      <td>NaN</td>\n",
       "      <td>504102619840614</td>\n",
       "      <td>504102619850719</td>\n",
       "      <td>Modoc</td>\n",
       "      <td>NaN</td>\n",
       "      <td>NaN</td>\n",
       "      <td>nannan</td>\n",
       "    </tr>\n",
       "    <tr>\n",
       "      <th>3</th>\n",
       "      <td>-106.958289</td>\n",
       "      <td>45.336400</td>\n",
       "      <td>830724</td>\n",
       "      <td>MT4533610695819840826</td>\n",
       "      <td>KIRBY</td>\n",
       "      <td>Extended</td>\n",
       "      <td>Wildfire</td>\n",
       "      <td>-970</td>\n",
       "      <td>-150</td>\n",
       "      <td>150</td>\n",
       "      <td>...</td>\n",
       "      <td>NaN</td>\n",
       "      <td>52</td>\n",
       "      <td>-9999</td>\n",
       "      <td>NaN</td>\n",
       "      <td>503602819840814</td>\n",
       "      <td>503602819850817</td>\n",
       "      <td>San Bernardino</td>\n",
       "      <td>NaN</td>\n",
       "      <td>NaN</td>\n",
       "      <td>nannan</td>\n",
       "    </tr>\n",
       "    <tr>\n",
       "      <th>4</th>\n",
       "      <td>-106.322839</td>\n",
       "      <td>45.616844</td>\n",
       "      <td>830725</td>\n",
       "      <td>MT4561710632319840918</td>\n",
       "      <td>LAKE CREEK</td>\n",
       "      <td>Initial</td>\n",
       "      <td>Wildfire</td>\n",
       "      <td>-970</td>\n",
       "      <td>-150</td>\n",
       "      <td>-50</td>\n",
       "      <td>...</td>\n",
       "      <td>NaN</td>\n",
       "      <td>-104</td>\n",
       "      <td>-9999</td>\n",
       "      <td>NaN</td>\n",
       "      <td>503602819840814</td>\n",
       "      <td>503602819841017</td>\n",
       "      <td>San Bernardino</td>\n",
       "      <td>NaN</td>\n",
       "      <td>NaN</td>\n",
       "      <td>nannan</td>\n",
       "    </tr>\n",
       "  </tbody>\n",
       "</table>\n",
       "<p>5 rows × 29 columns</p>\n",
       "</div>"
      ],
      "text/plain": [
       "            X          Y  OBJECTID                FIRE_ID      FIRE_NAME  \\\n",
       "0 -144.673246  64.482309    830721  AK6448214467319840607  GLACIER CREEK   \n",
       "1 -102.849877  43.083926    830722  SD4308410285019840906         SANDOZ   \n",
       "2 -113.457720  48.804345    830723  MT4880411345819840819      NAPI PEAK   \n",
       "3 -106.958289  45.336400    830724  MT4533610695819840826          KIRBY   \n",
       "4 -106.322839  45.616844    830725  MT4561710632319840918     LAKE CREEK   \n",
       "\n",
       "     ASMNT_TYPE FIRE_TYPE  NODATA_THRESHOLD  GREENNESS_THRESHOLD  \\\n",
       "0  Initial (SS)  Wildfire              9999                 9999   \n",
       "1       Initial  Wildfire              -970                 -150   \n",
       "2      Extended  Wildfire              -970                 -150   \n",
       "3      Extended  Wildfire              -970                 -150   \n",
       "4       Initial  Wildfire              -970                 -150   \n",
       "\n",
       "   LOW_THRESHOLD  ...         PERIM_ID  DNBR_OFFST DNBR_STDDV  COMMENTS  \\\n",
       "0            550  ...  506601519860705       -9999      -9999       NaN   \n",
       "1            220  ...              NaN         211      -9999       NaN   \n",
       "2            160  ...              NaN         -62      -9999       NaN   \n",
       "3            150  ...              NaN          52      -9999       NaN   \n",
       "4            -50  ...              NaN        -104      -9999       NaN   \n",
       "\n",
       "            PRE_ID          POST_ID          County  state_fips county_fips  \\\n",
       "0              NaN  506801519840713       Del Norte         NaN         NaN   \n",
       "1  503303019840622  503303019840926  San Bernardino         NaN         NaN   \n",
       "2  504102619840614  504102619850719           Modoc         NaN         NaN   \n",
       "3  503602819840814  503602819850817  San Bernardino         NaN         NaN   \n",
       "4  503602819840814  503602819841017  San Bernardino         NaN         NaN   \n",
       "\n",
       "     fips  \n",
       "0  nannan  \n",
       "1  nannan  \n",
       "2  nannan  \n",
       "3  nannan  \n",
       "4  nannan  \n",
       "\n",
       "[5 rows x 29 columns]"
      ]
     },
     "execution_count": 32,
     "metadata": {},
     "output_type": "execute_result"
    }
   ],
   "source": [
    "burn.head()"
   ]
  },
  {
   "cell_type": "code",
   "execution_count": 33,
   "metadata": {
    "execution": {
     "iopub.execute_input": "2023-10-06T21:23:03.791692Z",
     "iopub.status.busy": "2023-10-06T21:23:03.791543Z",
     "iopub.status.idle": "2023-10-06T21:23:03.793574Z",
     "shell.execute_reply": "2023-10-06T21:23:03.793267Z",
     "shell.execute_reply.started": "2023-10-06T21:23:03.791681Z"
    },
    "tags": []
   },
   "outputs": [],
   "source": [
    "# filtering down to California only for both dataframes\n",
    "#Cali = df_map[df_map['STATE_NAME']=='California']\n",
    "#Cali.head()"
   ]
  },
  {
   "cell_type": "code",
   "execution_count": 34,
   "metadata": {
    "execution": {
     "iopub.execute_input": "2023-10-06T21:23:03.794232Z",
     "iopub.status.busy": "2023-10-06T21:23:03.794121Z",
     "iopub.status.idle": "2023-10-06T21:23:03.808358Z",
     "shell.execute_reply": "2023-10-06T21:23:03.808004Z",
     "shell.execute_reply.started": "2023-10-06T21:23:03.794221Z"
    },
    "tags": []
   },
   "outputs": [
    {
     "name": "stdout",
     "output_type": "stream",
     "text": [
      "<class 'pandas.core.frame.DataFrame'>\n",
      "Int64Index: 1986 entries, 23 to 30374\n",
      "Data columns (total 29 columns):\n",
      " #   Column               Non-Null Count  Dtype  \n",
      "---  ------               --------------  -----  \n",
      " 0   X                    1986 non-null   float64\n",
      " 1   Y                    1986 non-null   float64\n",
      " 2   OBJECTID             1986 non-null   int64  \n",
      " 3   FIRE_ID              1986 non-null   object \n",
      " 4   FIRE_NAME            1986 non-null   object \n",
      " 5   ASMNT_TYPE           1986 non-null   object \n",
      " 6   FIRE_TYPE            1986 non-null   object \n",
      " 7   NODATA_THRESHOLD     1986 non-null   int64  \n",
      " 8   GREENNESS_THRESHOLD  1986 non-null   int64  \n",
      " 9   LOW_THRESHOLD        1986 non-null   int64  \n",
      " 10  MODERATE_THRESHOLD   1986 non-null   int64  \n",
      " 11  HIGH_THRESHOLD       1986 non-null   int64  \n",
      " 12  IG_DATE              1986 non-null   object \n",
      " 13  LATITUDE             1986 non-null   float64\n",
      " 14  LONGITUDE            1986 non-null   float64\n",
      " 15  ACRES                1986 non-null   int64  \n",
      " 16  IRWINID              373 non-null    object \n",
      " 17  MAP_ID               1986 non-null   int64  \n",
      " 18  MAP_PROG             1986 non-null   object \n",
      " 19  PERIM_ID             344 non-null    object \n",
      " 20  DNBR_OFFST           1986 non-null   int64  \n",
      " 21  DNBR_STDDV           1986 non-null   int64  \n",
      " 22  COMMENTS             566 non-null    object \n",
      " 23  PRE_ID               1869 non-null   object \n",
      " 24  POST_ID              1986 non-null   object \n",
      " 25  County               1986 non-null   object \n",
      " 26  state_fips           1986 non-null   object \n",
      " 27  county_fips          1986 non-null   object \n",
      " 28  fips                 1986 non-null   object \n",
      "dtypes: float64(4), int64(10), object(15)\n",
      "memory usage: 465.5+ KB\n"
     ]
    }
   ],
   "source": [
    "Cali_burn = burn[burn['state_fips'] == '06']\n",
    "Cali_burn.info()"
   ]
  },
  {
   "cell_type": "code",
   "execution_count": 35,
   "metadata": {
    "execution": {
     "iopub.execute_input": "2023-10-06T21:23:03.809116Z",
     "iopub.status.busy": "2023-10-06T21:23:03.808947Z",
     "iopub.status.idle": "2023-10-06T21:23:03.822737Z",
     "shell.execute_reply": "2023-10-06T21:23:03.822330Z",
     "shell.execute_reply.started": "2023-10-06T21:23:03.809106Z"
    },
    "tags": []
   },
   "outputs": [
    {
     "name": "stdout",
     "output_type": "stream",
     "text": [
      "<class 'pandas.core.frame.DataFrame'>\n",
      "Int64Index: 1986 entries, 0 to 1985\n",
      "Data columns (total 33 columns):\n",
      " #   Column               Non-Null Count  Dtype  \n",
      "---  ------               --------------  -----  \n",
      " 0   X                    1986 non-null   float64\n",
      " 1   Y                    1986 non-null   float64\n",
      " 2   OBJECTID             1986 non-null   int64  \n",
      " 3   FIRE_ID              1986 non-null   object \n",
      " 4   FIRE_NAME            1986 non-null   object \n",
      " 5   ASMNT_TYPE           1986 non-null   object \n",
      " 6   FIRE_TYPE            1986 non-null   object \n",
      " 7   NODATA_THRESHOLD     1986 non-null   int64  \n",
      " 8   GREENNESS_THRESHOLD  1986 non-null   int64  \n",
      " 9   LOW_THRESHOLD        1986 non-null   int64  \n",
      " 10  MODERATE_THRESHOLD   1986 non-null   int64  \n",
      " 11  HIGH_THRESHOLD       1986 non-null   int64  \n",
      " 12  IG_DATE              1986 non-null   object \n",
      " 13  LATITUDE             1986 non-null   float64\n",
      " 14  LONGITUDE            1986 non-null   float64\n",
      " 15  ACRES                1986 non-null   int64  \n",
      " 16  IRWINID              373 non-null    object \n",
      " 17  MAP_ID               1986 non-null   int64  \n",
      " 18  MAP_PROG             1986 non-null   object \n",
      " 19  PERIM_ID             344 non-null    object \n",
      " 20  DNBR_OFFST           1986 non-null   int64  \n",
      " 21  DNBR_STDDV           1986 non-null   int64  \n",
      " 22  COMMENTS             566 non-null    object \n",
      " 23  PRE_ID               1869 non-null   object \n",
      " 24  POST_ID              1986 non-null   object \n",
      " 25  County               1986 non-null   object \n",
      " 26  state_fips_x         1986 non-null   object \n",
      " 27  county_fips_x        1986 non-null   object \n",
      " 28  fips                 1986 non-null   object \n",
      " 29  county_name          1986 non-null   object \n",
      " 30  population           1986 non-null   int64  \n",
      " 31  state_fips_y         1986 non-null   object \n",
      " 32  county_fips_y        1986 non-null   object \n",
      "dtypes: float64(4), int64(11), object(18)\n",
      "memory usage: 527.5+ KB\n"
     ]
    }
   ],
   "source": [
    "burn_pop_merge = Cali_burn.merge(df, how = 'left', on = 'fips')\n",
    "burn_pop_merge.info()"
   ]
  },
  {
   "cell_type": "code",
   "execution_count": 36,
   "metadata": {
    "execution": {
     "iopub.execute_input": "2023-10-06T21:23:03.823835Z",
     "iopub.status.busy": "2023-10-06T21:23:03.823704Z",
     "iopub.status.idle": "2023-10-06T21:23:03.827689Z",
     "shell.execute_reply": "2023-10-06T21:23:03.827238Z",
     "shell.execute_reply.started": "2023-10-06T21:23:03.823824Z"
    },
    "tags": []
   },
   "outputs": [
    {
     "data": {
      "text/plain": [
       "Index(['X', 'Y', 'OBJECTID', 'FIRE_ID', 'FIRE_NAME', 'ASMNT_TYPE', 'FIRE_TYPE',\n",
       "       'NODATA_THRESHOLD', 'GREENNESS_THRESHOLD', 'LOW_THRESHOLD',\n",
       "       'MODERATE_THRESHOLD', 'HIGH_THRESHOLD', 'IG_DATE', 'LATITUDE',\n",
       "       'LONGITUDE', 'ACRES', 'IRWINID', 'MAP_ID', 'MAP_PROG', 'PERIM_ID',\n",
       "       'DNBR_OFFST', 'DNBR_STDDV', 'COMMENTS', 'PRE_ID', 'POST_ID', 'County',\n",
       "       'state_fips_x', 'county_fips_x', 'fips', 'county_name', 'population',\n",
       "       'state_fips_y', 'county_fips_y'],\n",
       "      dtype='object')"
      ]
     },
     "execution_count": 36,
     "metadata": {},
     "output_type": "execute_result"
    }
   ],
   "source": [
    "burn_pop_merge.columns"
   ]
  },
  {
   "cell_type": "code",
   "execution_count": 37,
   "metadata": {
    "execution": {
     "iopub.execute_input": "2023-10-06T21:23:03.828398Z",
     "iopub.status.busy": "2023-10-06T21:23:03.828198Z",
     "iopub.status.idle": "2023-10-06T21:23:03.839167Z",
     "shell.execute_reply": "2023-10-06T21:23:03.838746Z",
     "shell.execute_reply.started": "2023-10-06T21:23:03.828388Z"
    },
    "tags": []
   },
   "outputs": [
    {
     "name": "stdout",
     "output_type": "stream",
     "text": [
      "<class 'pandas.core.frame.DataFrame'>\n",
      "Int64Index: 1986 entries, 0 to 1985\n",
      "Data columns (total 31 columns):\n",
      " #   Column               Non-Null Count  Dtype  \n",
      "---  ------               --------------  -----  \n",
      " 0   X                    1986 non-null   float64\n",
      " 1   Y                    1986 non-null   float64\n",
      " 2   OBJECTID             1986 non-null   int64  \n",
      " 3   FIRE_ID              1986 non-null   object \n",
      " 4   FIRE_NAME            1986 non-null   object \n",
      " 5   ASMNT_TYPE           1986 non-null   object \n",
      " 6   FIRE_TYPE            1986 non-null   object \n",
      " 7   NODATA_THRESHOLD     1986 non-null   int64  \n",
      " 8   GREENNESS_THRESHOLD  1986 non-null   int64  \n",
      " 9   LOW_THRESHOLD        1986 non-null   int64  \n",
      " 10  MODERATE_THRESHOLD   1986 non-null   int64  \n",
      " 11  HIGH_THRESHOLD       1986 non-null   int64  \n",
      " 12  IG_DATE              1986 non-null   object \n",
      " 13  LATITUDE             1986 non-null   float64\n",
      " 14  LONGITUDE            1986 non-null   float64\n",
      " 15  ACRES                1986 non-null   int64  \n",
      " 16  IRWINID              373 non-null    object \n",
      " 17  MAP_ID               1986 non-null   int64  \n",
      " 18  MAP_PROG             1986 non-null   object \n",
      " 19  PERIM_ID             344 non-null    object \n",
      " 20  DNBR_OFFST           1986 non-null   int64  \n",
      " 21  DNBR_STDDV           1986 non-null   int64  \n",
      " 22  COMMENTS             566 non-null    object \n",
      " 23  PRE_ID               1869 non-null   object \n",
      " 24  POST_ID              1986 non-null   object \n",
      " 25  County               1986 non-null   object \n",
      " 26  state_fips_x         1986 non-null   object \n",
      " 27  county_fips_x        1986 non-null   object \n",
      " 28  fips                 1986 non-null   object \n",
      " 29  county_name          1986 non-null   object \n",
      " 30  population           1986 non-null   int64  \n",
      "dtypes: float64(4), int64(11), object(16)\n",
      "memory usage: 496.5+ KB\n"
     ]
    }
   ],
   "source": [
    "#dropping extra columns\n",
    "burn_pop_merge.drop(['state_fips_y', 'county_fips_y'], axis=1, inplace=True)\n",
    "burn_pop_merge.info()"
   ]
  },
  {
   "cell_type": "code",
   "execution_count": 38,
   "metadata": {
    "execution": {
     "iopub.execute_input": "2023-10-06T21:23:03.840099Z",
     "iopub.status.busy": "2023-10-06T21:23:03.839973Z",
     "iopub.status.idle": "2023-10-06T21:23:03.844963Z",
     "shell.execute_reply": "2023-10-06T21:23:03.844596Z",
     "shell.execute_reply.started": "2023-10-06T21:23:03.840088Z"
    },
    "tags": []
   },
   "outputs": [
    {
     "data": {
      "text/plain": [
       "Index(['X', 'Y', 'OBJECTID', 'FIRE_ID', 'FIRE_NAME', 'ASMNT_TYPE', 'FIRE_TYPE',\n",
       "       'NODATA_THRESHOLD', 'GREENNESS_THRESHOLD', 'LOW_THRESHOLD',\n",
       "       'MODERATE_THRESHOLD', 'HIGH_THRESHOLD', 'IG_DATE', 'LATITUDE',\n",
       "       'LONGITUDE', 'ACRES', 'IRWINID', 'MAP_ID', 'MAP_PROG', 'PERIM_ID',\n",
       "       'DNBR_OFFST', 'DNBR_STDDV', 'COMMENTS', 'PRE_ID', 'POST_ID', 'County',\n",
       "       'state_fips', 'county_fips', 'fips', 'county_name', 'population'],\n",
       "      dtype='object')"
      ]
     },
     "execution_count": 38,
     "metadata": {},
     "output_type": "execute_result"
    }
   ],
   "source": [
    "burn_pop_merge.rename(columns = {'state_fips_x': 'state_fips', 'county_fips_x': 'county_fips'}, inplace=True)\n",
    "burn_pop_merge.columns"
   ]
  },
  {
   "cell_type": "code",
   "execution_count": 39,
   "metadata": {
    "execution": {
     "iopub.execute_input": "2023-10-06T21:23:03.845507Z",
     "iopub.status.busy": "2023-10-06T21:23:03.845395Z",
     "iopub.status.idle": "2023-10-06T21:23:03.868687Z",
     "shell.execute_reply": "2023-10-06T21:23:03.868161Z",
     "shell.execute_reply.started": "2023-10-06T21:23:03.845497Z"
    },
    "tags": []
   },
   "outputs": [],
   "source": [
    "#writing file to csv\n",
    "burn_pop_merge.to_csv('burn_severity_population.csv')"
   ]
  },
  {
   "cell_type": "code",
   "execution_count": 40,
   "metadata": {
    "execution": {
     "iopub.execute_input": "2023-10-06T21:23:03.869338Z",
     "iopub.status.busy": "2023-10-06T21:23:03.869214Z",
     "iopub.status.idle": "2023-10-06T21:23:03.871512Z",
     "shell.execute_reply": "2023-10-06T21:23:03.870976Z",
     "shell.execute_reply.started": "2023-10-06T21:23:03.869327Z"
    }
   },
   "outputs": [],
   "source": [
    "#extras = burn_pop_merge[burn_pop_merge['POST_ID'].isna()]\n",
    "#print(extras)\n"
   ]
  },
  {
   "cell_type": "code",
   "execution_count": 41,
   "metadata": {
    "execution": {
     "iopub.execute_input": "2023-10-06T21:23:03.872282Z",
     "iopub.status.busy": "2023-10-06T21:23:03.872160Z",
     "iopub.status.idle": "2023-10-06T21:23:03.874773Z",
     "shell.execute_reply": "2023-10-06T21:23:03.874140Z",
     "shell.execute_reply.started": "2023-10-06T21:23:03.872271Z"
    }
   },
   "outputs": [],
   "source": [
    "#extras.info()"
   ]
  },
  {
   "cell_type": "code",
   "execution_count": 42,
   "metadata": {
    "execution": {
     "iopub.execute_input": "2023-10-06T21:23:03.875531Z",
     "iopub.status.busy": "2023-10-06T21:23:03.875391Z",
     "iopub.status.idle": "2023-10-06T21:23:03.877683Z",
     "shell.execute_reply": "2023-10-06T21:23:03.877202Z",
     "shell.execute_reply.started": "2023-10-06T21:23:03.875513Z"
    }
   },
   "outputs": [],
   "source": [
    "#dropping the two extra rows that got added, since they don't seem to have any info from the burn data\n",
    "#burn_pop_merge = burn_pop_merge.dropna(subset=['POST_ID'])\n",
    "#burn_pop_merge.info()"
   ]
  },
  {
   "cell_type": "code",
   "execution_count": 43,
   "metadata": {
    "execution": {
     "iopub.execute_input": "2023-10-06T21:23:03.878508Z",
     "iopub.status.busy": "2023-10-06T21:23:03.878325Z",
     "iopub.status.idle": "2023-10-06T21:23:03.880901Z",
     "shell.execute_reply": "2023-10-06T21:23:03.880310Z",
     "shell.execute_reply.started": "2023-10-06T21:23:03.878495Z"
    }
   },
   "outputs": [],
   "source": [
    "#pip install seaborn"
   ]
  },
  {
   "cell_type": "code",
   "execution_count": 44,
   "metadata": {
    "execution": {
     "iopub.execute_input": "2023-10-06T21:23:03.881678Z",
     "iopub.status.busy": "2023-10-06T21:23:03.881550Z",
     "iopub.status.idle": "2023-10-06T21:23:03.883994Z",
     "shell.execute_reply": "2023-10-06T21:23:03.883654Z",
     "shell.execute_reply.started": "2023-10-06T21:23:03.881668Z"
    }
   },
   "outputs": [],
   "source": [
    "# quick visualization of the results\n",
    "#import matplotlib.pyplot as plt\n",
    "#import seaborn as sns\n",
    "# Group by 'County Name' and get the count of POST_ID\n",
    "#county_counts = burn_pop_merge.groupby('County Name')['POST_ID'].count()\n",
    "\n",
    "# Filter for counties with more than 5 POST_ID values\n",
    "#county_counts_filtered = county_counts[county_counts > 5]\n",
    "\n",
    "# Merge with the original DataFrame to keep 'County Population'\n",
    "#merged_df = burn_pop_merge.merge(county_counts_filtered, left_on='County Name', right_index=True, suffixes=('_original', '_count'))\n",
    "\n",
    "# Sort counties by County Population in descending order\n",
    "#sorted_df = merged_df.sort_values(by='County Population', ascending=False)\n",
    "# Create the bar chart\n",
    "#plt.figure(figsize=(20, 6))\n",
    "#sns.barplot(x=sorted_df['County Name'], y=sorted_df['POST_ID_count'],color='firebrick')\n",
    "#plt.title('Counties with > 5 fire records, Sorted by Population')\n",
    "#plt.xlabel('County Name')\n",
    "#plt.ylabel('Fires')\n",
    "#plt.xticks(rotation=90)\n",
    "#plt.show()\n"
   ]
  },
  {
   "cell_type": "code",
   "execution_count": 45,
   "metadata": {
    "execution": {
     "iopub.execute_input": "2023-10-06T21:23:03.884675Z",
     "iopub.status.busy": "2023-10-06T21:23:03.884519Z",
     "iopub.status.idle": "2023-10-06T21:23:04.199927Z",
     "shell.execute_reply": "2023-10-06T21:23:04.199591Z",
     "shell.execute_reply.started": "2023-10-06T21:23:03.884664Z"
    },
    "tags": []
   },
   "outputs": [],
   "source": [
    "#creating map visual for presentation\n",
    "import pandas as pd\n",
    "import geopandas as gpd\n",
    "import matplotlib.pyplot as plt"
   ]
  },
  {
   "cell_type": "code",
   "execution_count": 46,
   "metadata": {
    "execution": {
     "iopub.execute_input": "2023-10-06T21:23:04.200774Z",
     "iopub.status.busy": "2023-10-06T21:23:04.200545Z",
     "iopub.status.idle": "2023-10-06T21:23:04.214688Z",
     "shell.execute_reply": "2023-10-06T21:23:04.214400Z",
     "shell.execute_reply.started": "2023-10-06T21:23:04.200762Z"
    },
    "tags": []
   },
   "outputs": [
    {
     "data": {
      "text/plain": [
       "(1986, 32)"
      ]
     },
     "execution_count": 46,
     "metadata": {},
     "output_type": "execute_result"
    }
   ],
   "source": [
    "cali = pd.read_csv('burn_severity_population.csv')\n",
    "cali.shape"
   ]
  },
  {
   "cell_type": "code",
   "execution_count": 47,
   "metadata": {
    "execution": {
     "iopub.execute_input": "2023-10-06T21:23:04.215399Z",
     "iopub.status.busy": "2023-10-06T21:23:04.215229Z",
     "iopub.status.idle": "2023-10-06T21:23:04.218828Z",
     "shell.execute_reply": "2023-10-06T21:23:04.218490Z",
     "shell.execute_reply.started": "2023-10-06T21:23:04.215385Z"
    },
    "tags": []
   },
   "outputs": [
    {
     "data": {
      "text/plain": [
       "Index(['Unnamed: 0', 'X', 'Y', 'OBJECTID', 'FIRE_ID', 'FIRE_NAME',\n",
       "       'ASMNT_TYPE', 'FIRE_TYPE', 'NODATA_THRESHOLD', 'GREENNESS_THRESHOLD',\n",
       "       'LOW_THRESHOLD', 'MODERATE_THRESHOLD', 'HIGH_THRESHOLD', 'IG_DATE',\n",
       "       'LATITUDE', 'LONGITUDE', 'ACRES', 'IRWINID', 'MAP_ID', 'MAP_PROG',\n",
       "       'PERIM_ID', 'DNBR_OFFST', 'DNBR_STDDV', 'COMMENTS', 'PRE_ID', 'POST_ID',\n",
       "       'County', 'state_fips', 'county_fips', 'fips', 'county_name',\n",
       "       'population'],\n",
       "      dtype='object')"
      ]
     },
     "execution_count": 47,
     "metadata": {},
     "output_type": "execute_result"
    }
   ],
   "source": [
    "cali.columns"
   ]
  },
  {
   "cell_type": "code",
   "execution_count": 48,
   "metadata": {
    "execution": {
     "iopub.execute_input": "2023-10-06T21:23:04.219528Z",
     "iopub.status.busy": "2023-10-06T21:23:04.219371Z",
     "iopub.status.idle": "2023-10-06T21:23:04.221963Z",
     "shell.execute_reply": "2023-10-06T21:23:04.221537Z",
     "shell.execute_reply.started": "2023-10-06T21:23:04.219518Z"
    },
    "tags": []
   },
   "outputs": [],
   "source": [
    "cali['fips'] = cali['fips'].astype(int)"
   ]
  },
  {
   "cell_type": "code",
   "execution_count": 49,
   "metadata": {
    "execution": {
     "iopub.execute_input": "2023-10-06T21:23:04.222637Z",
     "iopub.status.busy": "2023-10-06T21:23:04.222508Z",
     "iopub.status.idle": "2023-10-06T21:23:04.420737Z",
     "shell.execute_reply": "2023-10-06T21:23:04.420265Z",
     "shell.execute_reply.started": "2023-10-06T21:23:04.222627Z"
    },
    "tags": []
   },
   "outputs": [],
   "source": [
    "ca_map = gpd.read_file('data/census_CA.shp')"
   ]
  },
  {
   "cell_type": "code",
   "execution_count": 50,
   "metadata": {
    "execution": {
     "iopub.execute_input": "2023-10-06T21:23:04.421383Z",
     "iopub.status.busy": "2023-10-06T21:23:04.421267Z",
     "iopub.status.idle": "2023-10-06T21:23:04.459924Z",
     "shell.execute_reply": "2023-10-06T21:23:04.459598Z",
     "shell.execute_reply.started": "2023-10-06T21:23:04.421373Z"
    },
    "tags": []
   },
   "outputs": [
    {
     "data": {
      "text/html": [
       "<div>\n",
       "<style scoped>\n",
       "    .dataframe tbody tr th:only-of-type {\n",
       "        vertical-align: middle;\n",
       "    }\n",
       "\n",
       "    .dataframe tbody tr th {\n",
       "        vertical-align: top;\n",
       "    }\n",
       "\n",
       "    .dataframe thead th {\n",
       "        text-align: right;\n",
       "    }\n",
       "</style>\n",
       "<table border=\"1\" class=\"dataframe\">\n",
       "  <thead>\n",
       "    <tr style=\"text-align: right;\">\n",
       "      <th></th>\n",
       "      <th>STATEFP</th>\n",
       "      <th>COUNTYFP</th>\n",
       "      <th>COUNTYNS</th>\n",
       "      <th>GEOID</th>\n",
       "      <th>NAME</th>\n",
       "      <th>NAMELSAD</th>\n",
       "      <th>LSAD</th>\n",
       "      <th>CLASSFP</th>\n",
       "      <th>MTFCC</th>\n",
       "      <th>CSAFP</th>\n",
       "      <th>CBSAFP</th>\n",
       "      <th>METDIVFP</th>\n",
       "      <th>FUNCSTAT</th>\n",
       "      <th>ALAND</th>\n",
       "      <th>AWATER</th>\n",
       "      <th>INTPTLAT</th>\n",
       "      <th>INTPTLON</th>\n",
       "      <th>geometry</th>\n",
       "    </tr>\n",
       "  </thead>\n",
       "  <tbody>\n",
       "    <tr>\n",
       "      <th>0</th>\n",
       "      <td>06</td>\n",
       "      <td>091</td>\n",
       "      <td>00277310</td>\n",
       "      <td>06091</td>\n",
       "      <td>Sierra</td>\n",
       "      <td>Sierra County</td>\n",
       "      <td>06</td>\n",
       "      <td>H1</td>\n",
       "      <td>G4020</td>\n",
       "      <td>NaN</td>\n",
       "      <td>NaN</td>\n",
       "      <td>NaN</td>\n",
       "      <td>A</td>\n",
       "      <td>2468694583</td>\n",
       "      <td>23299110</td>\n",
       "      <td>+39.5769252</td>\n",
       "      <td>-120.5219926</td>\n",
       "      <td>POLYGON ((-120.65559 39.69356, -120.65552 39.6...</td>\n",
       "    </tr>\n",
       "    <tr>\n",
       "      <th>1</th>\n",
       "      <td>06</td>\n",
       "      <td>067</td>\n",
       "      <td>00277298</td>\n",
       "      <td>06067</td>\n",
       "      <td>Sacramento</td>\n",
       "      <td>Sacramento County</td>\n",
       "      <td>06</td>\n",
       "      <td>H1</td>\n",
       "      <td>G4020</td>\n",
       "      <td>472</td>\n",
       "      <td>40900</td>\n",
       "      <td>NaN</td>\n",
       "      <td>A</td>\n",
       "      <td>2499983887</td>\n",
       "      <td>75425434</td>\n",
       "      <td>+38.4500161</td>\n",
       "      <td>-121.3404408</td>\n",
       "      <td>POLYGON ((-121.18857 38.71431, -121.18731 38.7...</td>\n",
       "    </tr>\n",
       "    <tr>\n",
       "      <th>2</th>\n",
       "      <td>06</td>\n",
       "      <td>083</td>\n",
       "      <td>00277306</td>\n",
       "      <td>06083</td>\n",
       "      <td>Santa Barbara</td>\n",
       "      <td>Santa Barbara County</td>\n",
       "      <td>06</td>\n",
       "      <td>H1</td>\n",
       "      <td>G4020</td>\n",
       "      <td>NaN</td>\n",
       "      <td>42200</td>\n",
       "      <td>NaN</td>\n",
       "      <td>A</td>\n",
       "      <td>7084063392</td>\n",
       "      <td>2729751706</td>\n",
       "      <td>+34.5370572</td>\n",
       "      <td>-120.0399729</td>\n",
       "      <td>MULTIPOLYGON (((-120.73429 34.90069, -120.7343...</td>\n",
       "    </tr>\n",
       "    <tr>\n",
       "      <th>3</th>\n",
       "      <td>06</td>\n",
       "      <td>009</td>\n",
       "      <td>01675885</td>\n",
       "      <td>06009</td>\n",
       "      <td>Calaveras</td>\n",
       "      <td>Calaveras County</td>\n",
       "      <td>06</td>\n",
       "      <td>H1</td>\n",
       "      <td>G4020</td>\n",
       "      <td>NaN</td>\n",
       "      <td>NaN</td>\n",
       "      <td>NaN</td>\n",
       "      <td>A</td>\n",
       "      <td>2641784992</td>\n",
       "      <td>43841871</td>\n",
       "      <td>+38.1838996</td>\n",
       "      <td>-120.5614415</td>\n",
       "      <td>POLYGON ((-120.63093 38.34110, -120.63057 38.3...</td>\n",
       "    </tr>\n",
       "    <tr>\n",
       "      <th>4</th>\n",
       "      <td>06</td>\n",
       "      <td>111</td>\n",
       "      <td>00277320</td>\n",
       "      <td>06111</td>\n",
       "      <td>Ventura</td>\n",
       "      <td>Ventura County</td>\n",
       "      <td>06</td>\n",
       "      <td>H1</td>\n",
       "      <td>G4020</td>\n",
       "      <td>348</td>\n",
       "      <td>37100</td>\n",
       "      <td>NaN</td>\n",
       "      <td>A</td>\n",
       "      <td>4771987962</td>\n",
       "      <td>947345370</td>\n",
       "      <td>+34.3587415</td>\n",
       "      <td>-119.1331432</td>\n",
       "      <td>MULTIPOLYGON (((-119.32922 34.22784, -119.3292...</td>\n",
       "    </tr>\n",
       "  </tbody>\n",
       "</table>\n",
       "</div>"
      ],
      "text/plain": [
       "  STATEFP COUNTYFP  COUNTYNS  GEOID           NAME              NAMELSAD LSAD  \\\n",
       "0      06      091  00277310  06091         Sierra         Sierra County   06   \n",
       "1      06      067  00277298  06067     Sacramento     Sacramento County   06   \n",
       "2      06      083  00277306  06083  Santa Barbara  Santa Barbara County   06   \n",
       "3      06      009  01675885  06009      Calaveras      Calaveras County   06   \n",
       "4      06      111  00277320  06111        Ventura        Ventura County   06   \n",
       "\n",
       "  CLASSFP  MTFCC CSAFP CBSAFP METDIVFP FUNCSTAT       ALAND      AWATER  \\\n",
       "0      H1  G4020   NaN    NaN      NaN        A  2468694583    23299110   \n",
       "1      H1  G4020   472  40900      NaN        A  2499983887    75425434   \n",
       "2      H1  G4020   NaN  42200      NaN        A  7084063392  2729751706   \n",
       "3      H1  G4020   NaN    NaN      NaN        A  2641784992    43841871   \n",
       "4      H1  G4020   348  37100      NaN        A  4771987962   947345370   \n",
       "\n",
       "      INTPTLAT      INTPTLON  \\\n",
       "0  +39.5769252  -120.5219926   \n",
       "1  +38.4500161  -121.3404408   \n",
       "2  +34.5370572  -120.0399729   \n",
       "3  +38.1838996  -120.5614415   \n",
       "4  +34.3587415  -119.1331432   \n",
       "\n",
       "                                            geometry  \n",
       "0  POLYGON ((-120.65559 39.69356, -120.65552 39.6...  \n",
       "1  POLYGON ((-121.18857 38.71431, -121.18731 38.7...  \n",
       "2  MULTIPOLYGON (((-120.73429 34.90069, -120.7343...  \n",
       "3  POLYGON ((-120.63093 38.34110, -120.63057 38.3...  \n",
       "4  MULTIPOLYGON (((-119.32922 34.22784, -119.3292...  "
      ]
     },
     "execution_count": 50,
     "metadata": {},
     "output_type": "execute_result"
    }
   ],
   "source": [
    "ca_map.head()"
   ]
  },
  {
   "cell_type": "code",
   "execution_count": 51,
   "metadata": {
    "execution": {
     "iopub.execute_input": "2023-10-06T21:23:04.460606Z",
     "iopub.status.busy": "2023-10-06T21:23:04.460469Z",
     "iopub.status.idle": "2023-10-06T21:23:04.465962Z",
     "shell.execute_reply": "2023-10-06T21:23:04.465620Z",
     "shell.execute_reply.started": "2023-10-06T21:23:04.460593Z"
    },
    "tags": []
   },
   "outputs": [
    {
     "name": "stdout",
     "output_type": "stream",
     "text": [
      "<class 'geopandas.geodataframe.GeoDataFrame'>\n",
      "RangeIndex: 58 entries, 0 to 57\n",
      "Data columns (total 18 columns):\n",
      " #   Column    Non-Null Count  Dtype   \n",
      "---  ------    --------------  -----   \n",
      " 0   STATEFP   58 non-null     object  \n",
      " 1   COUNTYFP  58 non-null     object  \n",
      " 2   COUNTYNS  58 non-null     object  \n",
      " 3   GEOID     58 non-null     object  \n",
      " 4   NAME      58 non-null     object  \n",
      " 5   NAMELSAD  58 non-null     object  \n",
      " 6   LSAD      58 non-null     object  \n",
      " 7   CLASSFP   58 non-null     object  \n",
      " 8   MTFCC     58 non-null     object  \n",
      " 9   CSAFP     31 non-null     object  \n",
      " 10  CBSAFP    45 non-null     object  \n",
      " 11  METDIVFP  7 non-null      object  \n",
      " 12  FUNCSTAT  58 non-null     object  \n",
      " 13  ALAND     58 non-null     int64   \n",
      " 14  AWATER    58 non-null     int64   \n",
      " 15  INTPTLAT  58 non-null     object  \n",
      " 16  INTPTLON  58 non-null     object  \n",
      " 17  geometry  58 non-null     geometry\n",
      "dtypes: geometry(1), int64(2), object(15)\n",
      "memory usage: 8.3+ KB\n"
     ]
    }
   ],
   "source": [
    "ca_map.info()"
   ]
  },
  {
   "cell_type": "code",
   "execution_count": 52,
   "metadata": {
    "execution": {
     "iopub.execute_input": "2023-10-06T21:23:04.466571Z",
     "iopub.status.busy": "2023-10-06T21:23:04.466419Z",
     "iopub.status.idle": "2023-10-06T21:23:04.468913Z",
     "shell.execute_reply": "2023-10-06T21:23:04.468628Z",
     "shell.execute_reply.started": "2023-10-06T21:23:04.466559Z"
    },
    "tags": []
   },
   "outputs": [],
   "source": [
    "ca_map['COUNTYFP'] = ca_map['COUNTYFP'].astype(int)"
   ]
  },
  {
   "cell_type": "code",
   "execution_count": 53,
   "metadata": {
    "execution": {
     "iopub.execute_input": "2023-10-06T21:23:04.469637Z",
     "iopub.status.busy": "2023-10-06T21:23:04.469509Z",
     "iopub.status.idle": "2023-10-06T21:23:04.475226Z",
     "shell.execute_reply": "2023-10-06T21:23:04.474758Z",
     "shell.execute_reply.started": "2023-10-06T21:23:04.469628Z"
    },
    "tags": []
   },
   "outputs": [
    {
     "name": "stdout",
     "output_type": "stream",
     "text": [
      "<class 'geopandas.geodataframe.GeoDataFrame'>\n",
      "RangeIndex: 58 entries, 0 to 57\n",
      "Data columns (total 18 columns):\n",
      " #   Column    Non-Null Count  Dtype   \n",
      "---  ------    --------------  -----   \n",
      " 0   STATEFP   58 non-null     object  \n",
      " 1   COUNTYFP  58 non-null     int64   \n",
      " 2   COUNTYNS  58 non-null     object  \n",
      " 3   GEOID     58 non-null     object  \n",
      " 4   NAME      58 non-null     object  \n",
      " 5   NAMELSAD  58 non-null     object  \n",
      " 6   LSAD      58 non-null     object  \n",
      " 7   CLASSFP   58 non-null     object  \n",
      " 8   MTFCC     58 non-null     object  \n",
      " 9   CSAFP     31 non-null     object  \n",
      " 10  CBSAFP    45 non-null     object  \n",
      " 11  METDIVFP  7 non-null      object  \n",
      " 12  FUNCSTAT  58 non-null     object  \n",
      " 13  ALAND     58 non-null     int64   \n",
      " 14  AWATER    58 non-null     int64   \n",
      " 15  INTPTLAT  58 non-null     object  \n",
      " 16  INTPTLON  58 non-null     object  \n",
      " 17  geometry  58 non-null     geometry\n",
      "dtypes: geometry(1), int64(3), object(14)\n",
      "memory usage: 8.3+ KB\n"
     ]
    }
   ],
   "source": [
    "ca_map.info()"
   ]
  },
  {
   "cell_type": "code",
   "execution_count": 54,
   "metadata": {
    "execution": {
     "iopub.execute_input": "2023-10-06T21:23:04.475930Z",
     "iopub.status.busy": "2023-10-06T21:23:04.475797Z",
     "iopub.status.idle": "2023-10-06T21:23:04.482388Z",
     "shell.execute_reply": "2023-10-06T21:23:04.482085Z",
     "shell.execute_reply.started": "2023-10-06T21:23:04.475920Z"
    },
    "tags": []
   },
   "outputs": [],
   "source": [
    "map_df = pd.merge(\n",
    "    left=ca_map,\n",
    "    right=cali,\n",
    "    left_on='COUNTYFP',\n",
    "    right_on='county_fips',\n",
    "    how='left'\n",
    ")"
   ]
  },
  {
   "cell_type": "code",
   "execution_count": 55,
   "metadata": {
    "execution": {
     "iopub.execute_input": "2023-10-06T21:23:04.482900Z",
     "iopub.status.busy": "2023-10-06T21:23:04.482799Z",
     "iopub.status.idle": "2023-10-06T21:23:04.495413Z",
     "shell.execute_reply": "2023-10-06T21:23:04.495023Z",
     "shell.execute_reply.started": "2023-10-06T21:23:04.482890Z"
    },
    "tags": []
   },
   "outputs": [
    {
     "data": {
      "text/html": [
       "<div>\n",
       "<style scoped>\n",
       "    .dataframe tbody tr th:only-of-type {\n",
       "        vertical-align: middle;\n",
       "    }\n",
       "\n",
       "    .dataframe tbody tr th {\n",
       "        vertical-align: top;\n",
       "    }\n",
       "\n",
       "    .dataframe thead th {\n",
       "        text-align: right;\n",
       "    }\n",
       "</style>\n",
       "<table border=\"1\" class=\"dataframe\">\n",
       "  <thead>\n",
       "    <tr style=\"text-align: right;\">\n",
       "      <th></th>\n",
       "      <th>STATEFP</th>\n",
       "      <th>COUNTYFP</th>\n",
       "      <th>COUNTYNS</th>\n",
       "      <th>GEOID</th>\n",
       "      <th>NAME</th>\n",
       "      <th>NAMELSAD</th>\n",
       "      <th>LSAD</th>\n",
       "      <th>CLASSFP</th>\n",
       "      <th>MTFCC</th>\n",
       "      <th>CSAFP</th>\n",
       "      <th>...</th>\n",
       "      <th>DNBR_STDDV</th>\n",
       "      <th>COMMENTS</th>\n",
       "      <th>PRE_ID</th>\n",
       "      <th>POST_ID</th>\n",
       "      <th>County</th>\n",
       "      <th>state_fips</th>\n",
       "      <th>county_fips</th>\n",
       "      <th>fips</th>\n",
       "      <th>county_name</th>\n",
       "      <th>population</th>\n",
       "    </tr>\n",
       "  </thead>\n",
       "  <tbody>\n",
       "    <tr>\n",
       "      <th>0</th>\n",
       "      <td>06</td>\n",
       "      <td>91</td>\n",
       "      <td>00277310</td>\n",
       "      <td>06091</td>\n",
       "      <td>Sierra</td>\n",
       "      <td>Sierra County</td>\n",
       "      <td>06</td>\n",
       "      <td>H1</td>\n",
       "      <td>G4020</td>\n",
       "      <td>NaN</td>\n",
       "      <td>...</td>\n",
       "      <td>-9999.0</td>\n",
       "      <td>NaN</td>\n",
       "      <td>504303219850717</td>\n",
       "      <td>504303219870707</td>\n",
       "      <td>Sierra</td>\n",
       "      <td>6.0</td>\n",
       "      <td>91.0</td>\n",
       "      <td>6091.0</td>\n",
       "      <td>Sierra County, California</td>\n",
       "      <td>3236.0</td>\n",
       "    </tr>\n",
       "    <tr>\n",
       "      <th>1</th>\n",
       "      <td>06</td>\n",
       "      <td>91</td>\n",
       "      <td>00277310</td>\n",
       "      <td>06091</td>\n",
       "      <td>Sierra</td>\n",
       "      <td>Sierra County</td>\n",
       "      <td>06</td>\n",
       "      <td>H1</td>\n",
       "      <td>G4020</td>\n",
       "      <td>NaN</td>\n",
       "      <td>...</td>\n",
       "      <td>-9999.0</td>\n",
       "      <td>NaN</td>\n",
       "      <td>504403319870714</td>\n",
       "      <td>504403319880716</td>\n",
       "      <td>Sierra</td>\n",
       "      <td>6.0</td>\n",
       "      <td>91.0</td>\n",
       "      <td>6091.0</td>\n",
       "      <td>Sierra County, California</td>\n",
       "      <td>3236.0</td>\n",
       "    </tr>\n",
       "    <tr>\n",
       "      <th>2</th>\n",
       "      <td>06</td>\n",
       "      <td>91</td>\n",
       "      <td>00277310</td>\n",
       "      <td>06091</td>\n",
       "      <td>Sierra</td>\n",
       "      <td>Sierra County</td>\n",
       "      <td>06</td>\n",
       "      <td>H1</td>\n",
       "      <td>G4020</td>\n",
       "      <td>NaN</td>\n",
       "      <td>...</td>\n",
       "      <td>-9999.0</td>\n",
       "      <td>NaN</td>\n",
       "      <td>504303219880826</td>\n",
       "      <td>504303219900816</td>\n",
       "      <td>Sierra</td>\n",
       "      <td>6.0</td>\n",
       "      <td>91.0</td>\n",
       "      <td>6091.0</td>\n",
       "      <td>Sierra County, California</td>\n",
       "      <td>3236.0</td>\n",
       "    </tr>\n",
       "    <tr>\n",
       "      <th>3</th>\n",
       "      <td>06</td>\n",
       "      <td>91</td>\n",
       "      <td>00277310</td>\n",
       "      <td>06091</td>\n",
       "      <td>Sierra</td>\n",
       "      <td>Sierra County</td>\n",
       "      <td>06</td>\n",
       "      <td>H1</td>\n",
       "      <td>G4020</td>\n",
       "      <td>NaN</td>\n",
       "      <td>...</td>\n",
       "      <td>44.0</td>\n",
       "      <td>some edit made to mapping on 4/2023</td>\n",
       "      <td>504303319930808</td>\n",
       "      <td>504303319950814</td>\n",
       "      <td>Sierra</td>\n",
       "      <td>6.0</td>\n",
       "      <td>91.0</td>\n",
       "      <td>6091.0</td>\n",
       "      <td>Sierra County, California</td>\n",
       "      <td>3236.0</td>\n",
       "    </tr>\n",
       "    <tr>\n",
       "      <th>4</th>\n",
       "      <td>06</td>\n",
       "      <td>91</td>\n",
       "      <td>00277310</td>\n",
       "      <td>06091</td>\n",
       "      <td>Sierra</td>\n",
       "      <td>Sierra County</td>\n",
       "      <td>06</td>\n",
       "      <td>H1</td>\n",
       "      <td>G4020</td>\n",
       "      <td>NaN</td>\n",
       "      <td>...</td>\n",
       "      <td>-9999.0</td>\n",
       "      <td>Used CA provided perimeter for some of North a...</td>\n",
       "      <td>504303319930808</td>\n",
       "      <td>504303319950814</td>\n",
       "      <td>Sierra</td>\n",
       "      <td>6.0</td>\n",
       "      <td>91.0</td>\n",
       "      <td>6091.0</td>\n",
       "      <td>Sierra County, California</td>\n",
       "      <td>3236.0</td>\n",
       "    </tr>\n",
       "  </tbody>\n",
       "</table>\n",
       "<p>5 rows × 50 columns</p>\n",
       "</div>"
      ],
      "text/plain": [
       "  STATEFP  COUNTYFP  COUNTYNS  GEOID    NAME       NAMELSAD LSAD CLASSFP  \\\n",
       "0      06        91  00277310  06091  Sierra  Sierra County   06      H1   \n",
       "1      06        91  00277310  06091  Sierra  Sierra County   06      H1   \n",
       "2      06        91  00277310  06091  Sierra  Sierra County   06      H1   \n",
       "3      06        91  00277310  06091  Sierra  Sierra County   06      H1   \n",
       "4      06        91  00277310  06091  Sierra  Sierra County   06      H1   \n",
       "\n",
       "   MTFCC CSAFP  ... DNBR_STDDV  \\\n",
       "0  G4020   NaN  ...    -9999.0   \n",
       "1  G4020   NaN  ...    -9999.0   \n",
       "2  G4020   NaN  ...    -9999.0   \n",
       "3  G4020   NaN  ...       44.0   \n",
       "4  G4020   NaN  ...    -9999.0   \n",
       "\n",
       "                                            COMMENTS           PRE_ID  \\\n",
       "0                                                NaN  504303219850717   \n",
       "1                                                NaN  504403319870714   \n",
       "2                                                NaN  504303219880826   \n",
       "3                some edit made to mapping on 4/2023  504303319930808   \n",
       "4  Used CA provided perimeter for some of North a...  504303319930808   \n",
       "\n",
       "           POST_ID  County state_fips county_fips    fips  \\\n",
       "0  504303219870707  Sierra        6.0        91.0  6091.0   \n",
       "1  504403319880716  Sierra        6.0        91.0  6091.0   \n",
       "2  504303219900816  Sierra        6.0        91.0  6091.0   \n",
       "3  504303319950814  Sierra        6.0        91.0  6091.0   \n",
       "4  504303319950814  Sierra        6.0        91.0  6091.0   \n",
       "\n",
       "                 county_name  population  \n",
       "0  Sierra County, California      3236.0  \n",
       "1  Sierra County, California      3236.0  \n",
       "2  Sierra County, California      3236.0  \n",
       "3  Sierra County, California      3236.0  \n",
       "4  Sierra County, California      3236.0  \n",
       "\n",
       "[5 rows x 50 columns]"
      ]
     },
     "execution_count": 55,
     "metadata": {},
     "output_type": "execute_result"
    }
   ],
   "source": [
    "map_df.head()"
   ]
  },
  {
   "cell_type": "code",
   "execution_count": 56,
   "metadata": {
    "execution": {
     "iopub.execute_input": "2023-10-06T21:23:04.496164Z",
     "iopub.status.busy": "2023-10-06T21:23:04.496028Z",
     "iopub.status.idle": "2023-10-06T21:23:04.499644Z",
     "shell.execute_reply": "2023-10-06T21:23:04.499226Z",
     "shell.execute_reply.started": "2023-10-06T21:23:04.496153Z"
    },
    "tags": []
   },
   "outputs": [
    {
     "data": {
      "text/plain": [
       "Index(['STATEFP', 'COUNTYFP', 'COUNTYNS', 'GEOID', 'NAME', 'NAMELSAD', 'LSAD',\n",
       "       'CLASSFP', 'MTFCC', 'CSAFP', 'CBSAFP', 'METDIVFP', 'FUNCSTAT', 'ALAND',\n",
       "       'AWATER', 'INTPTLAT', 'INTPTLON', 'geometry', 'Unnamed: 0', 'X', 'Y',\n",
       "       'OBJECTID', 'FIRE_ID', 'FIRE_NAME', 'ASMNT_TYPE', 'FIRE_TYPE',\n",
       "       'NODATA_THRESHOLD', 'GREENNESS_THRESHOLD', 'LOW_THRESHOLD',\n",
       "       'MODERATE_THRESHOLD', 'HIGH_THRESHOLD', 'IG_DATE', 'LATITUDE',\n",
       "       'LONGITUDE', 'ACRES', 'IRWINID', 'MAP_ID', 'MAP_PROG', 'PERIM_ID',\n",
       "       'DNBR_OFFST', 'DNBR_STDDV', 'COMMENTS', 'PRE_ID', 'POST_ID', 'County',\n",
       "       'state_fips', 'county_fips', 'fips', 'county_name', 'population'],\n",
       "      dtype='object')"
      ]
     },
     "execution_count": 56,
     "metadata": {},
     "output_type": "execute_result"
    }
   ],
   "source": [
    "map_df.columns"
   ]
  },
  {
   "cell_type": "code",
   "execution_count": 57,
   "metadata": {
    "execution": {
     "iopub.execute_input": "2023-10-06T21:23:04.500449Z",
     "iopub.status.busy": "2023-10-06T21:23:04.500292Z",
     "iopub.status.idle": "2023-10-06T21:23:31.179824Z",
     "shell.execute_reply": "2023-10-06T21:23:31.179189Z",
     "shell.execute_reply.started": "2023-10-06T21:23:04.500439Z"
    },
    "tags": []
   },
   "outputs": [
    {
     "data": {
      "image/png": "[encoded data removed]",
      "text/plain": [
       "<Figure size 1000x600 with 2 Axes>"
      ]
     },
     "metadata": {},
     "output_type": "display_data"
    }
   ],
   "source": [
    "from matplotlib.colors import ListedColormap\n",
    "import numpy as np\n",
    "import matplotlib.pyplot as plt\n",
    "\n",
    "#Calculate the count of 'POSTID' for each county\n",
    "count_per_county = map_df.groupby('county_name')['POST_ID'].count()\n",
    "\n",
    "#Convert count_per_county to a dictionary \n",
    "circle_sizes = count_per_county.to_dict()\n",
    "\n",
    "#Define circle sizes based on the count\n",
    "circle_sizes = {county_name: count * 2 for county_name, count in circle_sizes.items()}  # Adjust the multiplier to control circle sizes\n",
    "\n",
    "#Plot the map with circles\n",
    "ax = map_df.boundary.plot(figsize=(10, 6))\n",
    "\n",
    "#Define a custom colormap with more levels\n",
    "custom_cmap = ListedColormap(plt.cm.Blues(np.linspace(0, 1, 20)))\n",
    "\n",
    "# Plot counties with population\n",
    "map_df.plot(ax=ax, column='population', legend=True, cmap=custom_cmap, legend_kwds={'label': \"Population\"})\n",
    "\n",
    "# Plot circles\n",
    "for idx, row in map_df.iterrows():\n",
    "    county_name = row['county_name']\n",
    "    centroid = row['geometry'].centroid\n",
    "    plt.scatter(centroid.x, centroid.y, s=circle_sizes.get(county_name, 0), color='red', alpha=0.5)\n",
    "\n",
    "ax.set_axis_off()  #Remove axis labels\n",
    "ax.get_xaxis().set_visible(False)  #Hide x-axis\n",
    "ax.get_yaxis().set_visible(False)  #Hide y-axis\n",
    "plt.ticklabel_format(style='plain')\n",
    "\n",
    "#save map file as an image\n",
    "plt.savefig('CA_map.jpg', dpi=300, bbox_inches='tight')\n",
    "\n",
    "plt.show()"
   ]
  },
  {
   "cell_type": "markdown",
   "metadata": {},
   "source": [
    "Table including county, population and fire counts"
   ]
  },
  {
   "cell_type": "code",
   "execution_count": 58,
   "metadata": {
    "execution": {
     "iopub.execute_input": "2023-10-06T21:23:31.181036Z",
     "iopub.status.busy": "2023-10-06T21:23:31.180900Z",
     "iopub.status.idle": "2023-10-06T21:23:31.200892Z",
     "shell.execute_reply": "2023-10-06T21:23:31.200543Z",
     "shell.execute_reply.started": "2023-10-06T21:23:31.181020Z"
    },
    "tags": []
   },
   "outputs": [
    {
     "data": {
      "text/html": [
       "<div>\n",
       "<style scoped>\n",
       "    .dataframe tbody tr th:only-of-type {\n",
       "        vertical-align: middle;\n",
       "    }\n",
       "\n",
       "    .dataframe tbody tr th {\n",
       "        vertical-align: top;\n",
       "    }\n",
       "\n",
       "    .dataframe thead th {\n",
       "        text-align: right;\n",
       "    }\n",
       "</style>\n",
       "<table border=\"1\" class=\"dataframe\">\n",
       "  <thead>\n",
       "    <tr style=\"text-align: right;\">\n",
       "      <th></th>\n",
       "      <th>STATEFP</th>\n",
       "      <th>COUNTYFP</th>\n",
       "      <th>COUNTYNS</th>\n",
       "      <th>GEOID</th>\n",
       "      <th>NAME</th>\n",
       "      <th>NAMELSAD</th>\n",
       "      <th>LSAD</th>\n",
       "      <th>CLASSFP</th>\n",
       "      <th>MTFCC</th>\n",
       "      <th>CSAFP</th>\n",
       "      <th>...</th>\n",
       "      <th>DNBR_STDDV</th>\n",
       "      <th>COMMENTS</th>\n",
       "      <th>PRE_ID</th>\n",
       "      <th>POST_ID</th>\n",
       "      <th>County</th>\n",
       "      <th>state_fips</th>\n",
       "      <th>county_fips</th>\n",
       "      <th>fips</th>\n",
       "      <th>county_name</th>\n",
       "      <th>population</th>\n",
       "    </tr>\n",
       "  </thead>\n",
       "  <tbody>\n",
       "    <tr>\n",
       "      <th>0</th>\n",
       "      <td>06</td>\n",
       "      <td>91</td>\n",
       "      <td>00277310</td>\n",
       "      <td>06091</td>\n",
       "      <td>Sierra</td>\n",
       "      <td>Sierra County</td>\n",
       "      <td>06</td>\n",
       "      <td>H1</td>\n",
       "      <td>G4020</td>\n",
       "      <td>NaN</td>\n",
       "      <td>...</td>\n",
       "      <td>-9999.0</td>\n",
       "      <td>NaN</td>\n",
       "      <td>504303219850717</td>\n",
       "      <td>504303219870707</td>\n",
       "      <td>Sierra</td>\n",
       "      <td>6.0</td>\n",
       "      <td>91.0</td>\n",
       "      <td>6091.0</td>\n",
       "      <td>Sierra County, California</td>\n",
       "      <td>3236.0</td>\n",
       "    </tr>\n",
       "    <tr>\n",
       "      <th>1</th>\n",
       "      <td>06</td>\n",
       "      <td>91</td>\n",
       "      <td>00277310</td>\n",
       "      <td>06091</td>\n",
       "      <td>Sierra</td>\n",
       "      <td>Sierra County</td>\n",
       "      <td>06</td>\n",
       "      <td>H1</td>\n",
       "      <td>G4020</td>\n",
       "      <td>NaN</td>\n",
       "      <td>...</td>\n",
       "      <td>-9999.0</td>\n",
       "      <td>NaN</td>\n",
       "      <td>504403319870714</td>\n",
       "      <td>504403319880716</td>\n",
       "      <td>Sierra</td>\n",
       "      <td>6.0</td>\n",
       "      <td>91.0</td>\n",
       "      <td>6091.0</td>\n",
       "      <td>Sierra County, California</td>\n",
       "      <td>3236.0</td>\n",
       "    </tr>\n",
       "    <tr>\n",
       "      <th>2</th>\n",
       "      <td>06</td>\n",
       "      <td>91</td>\n",
       "      <td>00277310</td>\n",
       "      <td>06091</td>\n",
       "      <td>Sierra</td>\n",
       "      <td>Sierra County</td>\n",
       "      <td>06</td>\n",
       "      <td>H1</td>\n",
       "      <td>G4020</td>\n",
       "      <td>NaN</td>\n",
       "      <td>...</td>\n",
       "      <td>-9999.0</td>\n",
       "      <td>NaN</td>\n",
       "      <td>504303219880826</td>\n",
       "      <td>504303219900816</td>\n",
       "      <td>Sierra</td>\n",
       "      <td>6.0</td>\n",
       "      <td>91.0</td>\n",
       "      <td>6091.0</td>\n",
       "      <td>Sierra County, California</td>\n",
       "      <td>3236.0</td>\n",
       "    </tr>\n",
       "    <tr>\n",
       "      <th>3</th>\n",
       "      <td>06</td>\n",
       "      <td>91</td>\n",
       "      <td>00277310</td>\n",
       "      <td>06091</td>\n",
       "      <td>Sierra</td>\n",
       "      <td>Sierra County</td>\n",
       "      <td>06</td>\n",
       "      <td>H1</td>\n",
       "      <td>G4020</td>\n",
       "      <td>NaN</td>\n",
       "      <td>...</td>\n",
       "      <td>44.0</td>\n",
       "      <td>some edit made to mapping on 4/2023</td>\n",
       "      <td>504303319930808</td>\n",
       "      <td>504303319950814</td>\n",
       "      <td>Sierra</td>\n",
       "      <td>6.0</td>\n",
       "      <td>91.0</td>\n",
       "      <td>6091.0</td>\n",
       "      <td>Sierra County, California</td>\n",
       "      <td>3236.0</td>\n",
       "    </tr>\n",
       "    <tr>\n",
       "      <th>4</th>\n",
       "      <td>06</td>\n",
       "      <td>91</td>\n",
       "      <td>00277310</td>\n",
       "      <td>06091</td>\n",
       "      <td>Sierra</td>\n",
       "      <td>Sierra County</td>\n",
       "      <td>06</td>\n",
       "      <td>H1</td>\n",
       "      <td>G4020</td>\n",
       "      <td>NaN</td>\n",
       "      <td>...</td>\n",
       "      <td>-9999.0</td>\n",
       "      <td>Used CA provided perimeter for some of North a...</td>\n",
       "      <td>504303319930808</td>\n",
       "      <td>504303319950814</td>\n",
       "      <td>Sierra</td>\n",
       "      <td>6.0</td>\n",
       "      <td>91.0</td>\n",
       "      <td>6091.0</td>\n",
       "      <td>Sierra County, California</td>\n",
       "      <td>3236.0</td>\n",
       "    </tr>\n",
       "  </tbody>\n",
       "</table>\n",
       "<p>5 rows × 50 columns</p>\n",
       "</div>"
      ],
      "text/plain": [
       "  STATEFP  COUNTYFP  COUNTYNS  GEOID    NAME       NAMELSAD LSAD CLASSFP  \\\n",
       "0      06        91  00277310  06091  Sierra  Sierra County   06      H1   \n",
       "1      06        91  00277310  06091  Sierra  Sierra County   06      H1   \n",
       "2      06        91  00277310  06091  Sierra  Sierra County   06      H1   \n",
       "3      06        91  00277310  06091  Sierra  Sierra County   06      H1   \n",
       "4      06        91  00277310  06091  Sierra  Sierra County   06      H1   \n",
       "\n",
       "   MTFCC CSAFP  ... DNBR_STDDV  \\\n",
       "0  G4020   NaN  ...    -9999.0   \n",
       "1  G4020   NaN  ...    -9999.0   \n",
       "2  G4020   NaN  ...    -9999.0   \n",
       "3  G4020   NaN  ...       44.0   \n",
       "4  G4020   NaN  ...    -9999.0   \n",
       "\n",
       "                                            COMMENTS           PRE_ID  \\\n",
       "0                                                NaN  504303219850717   \n",
       "1                                                NaN  504403319870714   \n",
       "2                                                NaN  504303219880826   \n",
       "3                some edit made to mapping on 4/2023  504303319930808   \n",
       "4  Used CA provided perimeter for some of North a...  504303319930808   \n",
       "\n",
       "           POST_ID  County state_fips county_fips    fips  \\\n",
       "0  504303219870707  Sierra        6.0        91.0  6091.0   \n",
       "1  504403319880716  Sierra        6.0        91.0  6091.0   \n",
       "2  504303219900816  Sierra        6.0        91.0  6091.0   \n",
       "3  504303319950814  Sierra        6.0        91.0  6091.0   \n",
       "4  504303319950814  Sierra        6.0        91.0  6091.0   \n",
       "\n",
       "                 county_name  population  \n",
       "0  Sierra County, California      3236.0  \n",
       "1  Sierra County, California      3236.0  \n",
       "2  Sierra County, California      3236.0  \n",
       "3  Sierra County, California      3236.0  \n",
       "4  Sierra County, California      3236.0  \n",
       "\n",
       "[5 rows x 50 columns]"
      ]
     },
     "execution_count": 58,
     "metadata": {},
     "output_type": "execute_result"
    }
   ],
   "source": [
    "map_df.head()"
   ]
  },
  {
   "cell_type": "code",
   "execution_count": 139,
   "metadata": {
    "execution": {
     "iopub.execute_input": "2023-10-09T17:10:50.925723Z",
     "iopub.status.busy": "2023-10-09T17:10:50.924155Z",
     "iopub.status.idle": "2023-10-09T17:10:50.964430Z",
     "shell.execute_reply": "2023-10-09T17:10:50.962233Z",
     "shell.execute_reply.started": "2023-10-09T17:10:50.925622Z"
    },
    "tags": []
   },
   "outputs": [],
   "source": [
    "county_firecount_df = map_df.groupby('county_name').size().reset_index(name='fire_count')"
   ]
  },
  {
   "cell_type": "code",
   "execution_count": 140,
   "metadata": {
    "execution": {
     "iopub.execute_input": "2023-10-09T17:10:51.461362Z",
     "iopub.status.busy": "2023-10-09T17:10:51.460444Z",
     "iopub.status.idle": "2023-10-09T17:10:51.922989Z",
     "shell.execute_reply": "2023-10-09T17:10:51.922487Z",
     "shell.execute_reply.started": "2023-10-09T17:10:51.461293Z"
    },
    "tags": []
   },
   "outputs": [
    {
     "data": {
      "text/plain": [
       "<Axes: >"
      ]
     },
     "execution_count": 140,
     "metadata": {},
     "output_type": "execute_result"
    },
    {
     "data": {
      "image/png": "[encoded data removed]",
      "text/plain": [
       "<Figure size 640x480 with 1 Axes>"
      ]
     },
     "metadata": {},
     "output_type": "display_data"
    }
   ],
   "source": [
    "county_firecount_df.plot(kind='bar')"
   ]
  },
  {
   "cell_type": "code",
   "execution_count": 141,
   "metadata": {
    "execution": {
     "iopub.execute_input": "2023-10-09T17:10:56.691906Z",
     "iopub.status.busy": "2023-10-09T17:10:56.690773Z",
     "iopub.status.idle": "2023-10-09T17:10:56.724300Z",
     "shell.execute_reply": "2023-10-09T17:10:56.723637Z",
     "shell.execute_reply.started": "2023-10-09T17:10:56.691830Z"
    },
    "tags": []
   },
   "outputs": [],
   "source": [
    "final_df = county_firecount_df.merge(map_df[['county_name', 'population']].drop_duplicates(), on='county_name')\n"
   ]
  },
  {
   "cell_type": "code",
   "execution_count": 142,
   "metadata": {
    "execution": {
     "iopub.execute_input": "2023-10-09T17:10:57.189116Z",
     "iopub.status.busy": "2023-10-09T17:10:57.187872Z",
     "iopub.status.idle": "2023-10-09T17:10:57.205687Z",
     "shell.execute_reply": "2023-10-09T17:10:57.204814Z",
     "shell.execute_reply.started": "2023-10-09T17:10:57.189039Z"
    },
    "tags": []
   },
   "outputs": [
    {
     "data": {
      "text/html": [
       "<div>\n",
       "<style scoped>\n",
       "    .dataframe tbody tr th:only-of-type {\n",
       "        vertical-align: middle;\n",
       "    }\n",
       "\n",
       "    .dataframe tbody tr th {\n",
       "        vertical-align: top;\n",
       "    }\n",
       "\n",
       "    .dataframe thead th {\n",
       "        text-align: right;\n",
       "    }\n",
       "</style>\n",
       "<table border=\"1\" class=\"dataframe\">\n",
       "  <thead>\n",
       "    <tr style=\"text-align: right;\">\n",
       "      <th></th>\n",
       "      <th>county_name</th>\n",
       "      <th>fire_count</th>\n",
       "      <th>population</th>\n",
       "    </tr>\n",
       "  </thead>\n",
       "  <tbody>\n",
       "    <tr>\n",
       "      <th>0</th>\n",
       "      <td>Alameda County, California</td>\n",
       "      <td>6</td>\n",
       "      <td>1682353.0</td>\n",
       "    </tr>\n",
       "    <tr>\n",
       "      <th>1</th>\n",
       "      <td>Alpine County, California</td>\n",
       "      <td>11</td>\n",
       "      <td>1204.0</td>\n",
       "    </tr>\n",
       "    <tr>\n",
       "      <th>2</th>\n",
       "      <td>Amador County, California</td>\n",
       "      <td>2</td>\n",
       "      <td>40474.0</td>\n",
       "    </tr>\n",
       "    <tr>\n",
       "      <th>3</th>\n",
       "      <td>Butte County, California</td>\n",
       "      <td>34</td>\n",
       "      <td>211632.0</td>\n",
       "    </tr>\n",
       "    <tr>\n",
       "      <th>4</th>\n",
       "      <td>Calaveras County, California</td>\n",
       "      <td>25</td>\n",
       "      <td>45292.0</td>\n",
       "    </tr>\n",
       "  </tbody>\n",
       "</table>\n",
       "</div>"
      ],
      "text/plain": [
       "                    county_name  fire_count  population\n",
       "0    Alameda County, California           6   1682353.0\n",
       "1     Alpine County, California          11      1204.0\n",
       "2     Amador County, California           2     40474.0\n",
       "3      Butte County, California          34    211632.0\n",
       "4  Calaveras County, California          25     45292.0"
      ]
     },
     "execution_count": 142,
     "metadata": {},
     "output_type": "execute_result"
    }
   ],
   "source": [
    "final_df.head()"
   ]
  },
  {
   "cell_type": "markdown",
   "metadata": {},
   "source": [
    "## Scaling merged dataset"
   ]
  },
  {
   "cell_type": "markdown",
   "metadata": {},
   "source": [
    "### Standardization of population and severe fire occurences."
   ]
  },
  {
   "cell_type": "code",
   "execution_count": 143,
   "metadata": {
    "execution": {
     "iopub.execute_input": "2023-10-09T17:11:00.491565Z",
     "iopub.status.busy": "2023-10-09T17:11:00.490743Z",
     "iopub.status.idle": "2023-10-09T17:11:00.511190Z",
     "shell.execute_reply": "2023-10-09T17:11:00.510151Z",
     "shell.execute_reply.started": "2023-10-09T17:11:00.491499Z"
    },
    "tags": []
   },
   "outputs": [],
   "source": [
    "def standardize_column(df, column_name):\n",
    "    \"\"\"\n",
    "    Standardize a column in a DataFrame using z-score normalization and return a copy of the DataFrame\n",
    "    with the standardized values added as a new column.\n",
    "    \n",
    "    Parameters:\n",
    "    - df (pandas.DataFrame): The DataFrame containing the data.\n",
    "    - column_name (str): The name of the column to standardize.\n",
    "    \n",
    "    Returns:\n",
    "    - pandas.DataFrame: A copy of the input DataFrame with standardized columns added.\n",
    "    \"\"\"\n",
    "    # Check if the column exists in the DataFrame\n",
    "    if column_name not in df.columns:\n",
    "        raise ValueError(f\"Column '{column_name}' not found in the DataFrame.\")\n",
    "    \n",
    "    # Calculate mean and standard deviation of the column\n",
    "    mean_val = df[column_name].mean()\n",
    "    std_val = df[column_name].std()\n",
    "    \n",
    "    # Standardize the column data and add it as a new column in a copy of the DataFrame\n",
    "    standardized_column = (df[column_name] - mean_val) / std_val\n",
    "    df_copy = df.copy()  # Create a copy of the DataFrame\n",
    "    df_copy[f'{column_name}_std'] = standardized_column  # Add standardized column to the copy\n",
    "    return df_copy"
   ]
  },
  {
   "cell_type": "code",
   "execution_count": 144,
   "metadata": {
    "execution": {
     "iopub.execute_input": "2023-10-09T17:11:02.223626Z",
     "iopub.status.busy": "2023-10-09T17:11:02.222823Z",
     "iopub.status.idle": "2023-10-09T17:11:02.252915Z",
     "shell.execute_reply": "2023-10-09T17:11:02.251933Z",
     "shell.execute_reply.started": "2023-10-09T17:11:02.223577Z"
    },
    "tags": []
   },
   "outputs": [
    {
     "data": {
      "text/html": [
       "<div>\n",
       "<style scoped>\n",
       "    .dataframe tbody tr th:only-of-type {\n",
       "        vertical-align: middle;\n",
       "    }\n",
       "\n",
       "    .dataframe tbody tr th {\n",
       "        vertical-align: top;\n",
       "    }\n",
       "\n",
       "    .dataframe thead th {\n",
       "        text-align: right;\n",
       "    }\n",
       "</style>\n",
       "<table border=\"1\" class=\"dataframe\">\n",
       "  <thead>\n",
       "    <tr style=\"text-align: right;\">\n",
       "      <th></th>\n",
       "      <th>county_name</th>\n",
       "      <th>fire_count</th>\n",
       "      <th>population</th>\n",
       "      <th>fire_count_std</th>\n",
       "      <th>population_std</th>\n",
       "    </tr>\n",
       "  </thead>\n",
       "  <tbody>\n",
       "    <tr>\n",
       "      <th>0</th>\n",
       "      <td>Alameda County, California</td>\n",
       "      <td>6</td>\n",
       "      <td>1682353.0</td>\n",
       "      <td>-0.845503</td>\n",
       "      <td>0.674995</td>\n",
       "    </tr>\n",
       "    <tr>\n",
       "      <th>1</th>\n",
       "      <td>Alpine County, California</td>\n",
       "      <td>11</td>\n",
       "      <td>1204.0</td>\n",
       "      <td>-0.702024</td>\n",
       "      <td>-0.453486</td>\n",
       "    </tr>\n",
       "    <tr>\n",
       "      <th>2</th>\n",
       "      <td>Amador County, California</td>\n",
       "      <td>2</td>\n",
       "      <td>40474.0</td>\n",
       "      <td>-0.960287</td>\n",
       "      <td>-0.427126</td>\n",
       "    </tr>\n",
       "    <tr>\n",
       "      <th>3</th>\n",
       "      <td>Butte County, California</td>\n",
       "      <td>34</td>\n",
       "      <td>211632.0</td>\n",
       "      <td>-0.042019</td>\n",
       "      <td>-0.312235</td>\n",
       "    </tr>\n",
       "    <tr>\n",
       "      <th>4</th>\n",
       "      <td>Calaveras County, California</td>\n",
       "      <td>25</td>\n",
       "      <td>45292.0</td>\n",
       "      <td>-0.300282</td>\n",
       "      <td>-0.423892</td>\n",
       "    </tr>\n",
       "  </tbody>\n",
       "</table>\n",
       "</div>"
      ],
      "text/plain": [
       "                    county_name  fire_count  population  fire_count_std  \\\n",
       "0    Alameda County, California           6   1682353.0       -0.845503   \n",
       "1     Alpine County, California          11      1204.0       -0.702024   \n",
       "2     Amador County, California           2     40474.0       -0.960287   \n",
       "3      Butte County, California          34    211632.0       -0.042019   \n",
       "4  Calaveras County, California          25     45292.0       -0.300282   \n",
       "\n",
       "   population_std  \n",
       "0        0.674995  \n",
       "1       -0.453486  \n",
       "2       -0.427126  \n",
       "3       -0.312235  \n",
       "4       -0.423892  "
      ]
     },
     "execution_count": 144,
     "metadata": {},
     "output_type": "execute_result"
    }
   ],
   "source": [
    "# standardize\n",
    "final_df_firecount_stand = standardize_column(final_df, 'fire_count')\n",
    "final_df_stand =standardize_column(final_df_firecount_stand, 'population')\n",
    "final_df_stand.head()"
   ]
  },
  {
   "cell_type": "code",
   "execution_count": 145,
   "metadata": {
    "execution": {
     "iopub.execute_input": "2023-10-09T17:11:03.253742Z",
     "iopub.status.busy": "2023-10-09T17:11:03.252632Z",
     "iopub.status.idle": "2023-10-09T17:11:03.620370Z",
     "shell.execute_reply": "2023-10-09T17:11:03.619859Z",
     "shell.execute_reply.started": "2023-10-09T17:11:03.253665Z"
    },
    "tags": []
   },
   "outputs": [
    {
     "data": {
      "text/plain": [
       "<Axes: title={'center': 'Standardized population'}>"
      ]
     },
     "execution_count": 145,
     "metadata": {},
     "output_type": "execute_result"
    },
    {
     "data": {
      "image/png": "[encoded data removed]",
      "text/plain": [
       "<Figure size 640x480 with 1 Axes>"
      ]
     },
     "metadata": {},
     "output_type": "display_data"
    }
   ],
   "source": [
    "final_df_stand.population_std.sort_values().plot(kind='bar', title='Standardized population')"
   ]
  },
  {
   "cell_type": "code",
   "execution_count": 146,
   "metadata": {
    "execution": {
     "iopub.execute_input": "2023-10-09T17:11:05.789522Z",
     "iopub.status.busy": "2023-10-09T17:11:05.788429Z",
     "iopub.status.idle": "2023-10-09T17:11:06.169195Z",
     "shell.execute_reply": "2023-10-09T17:11:06.168663Z",
     "shell.execute_reply.started": "2023-10-09T17:11:05.789448Z"
    },
    "tags": []
   },
   "outputs": [
    {
     "data": {
      "text/plain": [
       "<Axes: title={'center': 'Standardized Fire counts'}>"
      ]
     },
     "execution_count": 146,
     "metadata": {},
     "output_type": "execute_result"
    },
    {
     "data": {
      "image/png": "[encoded data removed]",
      "text/plain": [
       "<Figure size 640x480 with 1 Axes>"
      ]
     },
     "metadata": {},
     "output_type": "display_data"
    }
   ],
   "source": [
    "final_df_stand.fire_count_std.sort_values().plot(kind='bar', title='Standardized Fire counts')"
   ]
  },
  {
   "cell_type": "code",
   "execution_count": null,
   "metadata": {},
   "outputs": [],
   "source": []
  },
  {
   "cell_type": "code",
   "execution_count": null,
   "metadata": {},
   "outputs": [],
   "source": []
  },
  {
   "cell_type": "markdown",
   "metadata": {},
   "source": [
    "## Integrating standardization with creating index based on weighting factors"
   ]
  },
  {
   "cell_type": "code",
   "execution_count": null,
   "metadata": {},
   "outputs": [],
   "source": []
  },
  {
   "cell_type": "code",
   "execution_count": 147,
   "metadata": {
    "execution": {
     "iopub.execute_input": "2023-10-09T17:11:10.268745Z",
     "iopub.status.busy": "2023-10-09T17:11:10.267266Z",
     "iopub.status.idle": "2023-10-09T17:11:10.284623Z",
     "shell.execute_reply": "2023-10-09T17:11:10.283703Z",
     "shell.execute_reply.started": "2023-10-09T17:11:10.268652Z"
    },
    "tags": []
   },
   "outputs": [],
   "source": [
    "def calculate_priority_index(df, standardize_columns, weights):\n",
    "    \"\"\"\n",
    "    Calculate a priority index for each row in a DataFrame based on standardized values\n",
    "    and weighting factors.\n",
    "    \n",
    "    Parameters:\n",
    "    - df (pandas.DataFrame): The DataFrame containing the data.\n",
    "    - standardize_columns (dict): A dictionary where keys are column names to standardize,\n",
    "      and values are their corresponding weights.\n",
    "    - weights (dict): A dictionary specifying the weighting factors for each standardized column.\n",
    "    \n",
    "    Returns:\n",
    "    - pandas.DataFrame: A copy of the input DataFrame with a 'priority_index' column added.\n",
    "    \"\"\"\n",
    "    # Copy the input DataFrame to avoid modifying the original DataFrame\n",
    "    df_copy = df.copy()\n",
    "    \n",
    "    # Standardize each column based on the provided weights and add them to the DataFrame\n",
    "    for column, weight in normalize_columns.items():\n",
    "        mean_val = df[column].mean()\n",
    "        std_val = df[column].std()\n",
    "        standardized_column = (df[column] - mean_val) / std_val\n",
    "        df_copy[f'{column}_std'] = standardized_column\n",
    "        df_copy[f'{column}_weighted'] = standardized_column * weights[column]\n",
    "    \n",
    "    # Calculate the priority index as the sum of the weighted, standardized columns\n",
    "    df_copy['priority_index'] = df_copy[[f'{column}_weighted' for column in standardize_columns]].sum(axis=1)\n",
    "    \n",
    "    return df_copy\n"
   ]
  },
  {
   "cell_type": "code",
   "execution_count": 148,
   "metadata": {
    "execution": {
     "iopub.execute_input": "2023-10-09T17:11:12.181331Z",
     "iopub.status.busy": "2023-10-09T17:11:12.180392Z",
     "iopub.status.idle": "2023-10-09T17:11:12.189321Z",
     "shell.execute_reply": "2023-10-09T17:11:12.188128Z",
     "shell.execute_reply.started": "2023-10-09T17:11:12.181260Z"
    },
    "tags": []
   },
   "outputs": [],
   "source": [
    "standardize_columns = {\n",
    "    'fire_count': 0.4,\n",
    "    'population': 0.6,\n",
    "}"
   ]
  },
  {
   "cell_type": "code",
   "execution_count": 149,
   "metadata": {
    "execution": {
     "iopub.execute_input": "2023-10-09T17:11:13.008414Z",
     "iopub.status.busy": "2023-10-09T17:11:13.007230Z",
     "iopub.status.idle": "2023-10-09T17:11:13.026469Z",
     "shell.execute_reply": "2023-10-09T17:11:13.025625Z",
     "shell.execute_reply.started": "2023-10-09T17:11:13.008335Z"
    },
    "tags": []
   },
   "outputs": [],
   "source": [
    "final_df_with_priority = calculate_priority_index(final_df_stand, standardize_columns, weights=standardize_columns)\n",
    "\n",
    "# Sort the DataFrame by the priority index in descending order to get the counties with higher priority first\n",
    "final_df_with_priority = final_df_with_priority.sort_values(by='priority_index', ascending=False)\n"
   ]
  },
  {
   "cell_type": "code",
   "execution_count": 150,
   "metadata": {
    "execution": {
     "iopub.execute_input": "2023-10-09T17:11:14.401283Z",
     "iopub.status.busy": "2023-10-09T17:11:14.400161Z",
     "iopub.status.idle": "2023-10-09T17:11:14.422156Z",
     "shell.execute_reply": "2023-10-09T17:11:14.421030Z",
     "shell.execute_reply.started": "2023-10-09T17:11:14.401213Z"
    },
    "tags": []
   },
   "outputs": [
    {
     "data": {
      "text/html": [
       "<div>\n",
       "<style scoped>\n",
       "    .dataframe tbody tr th:only-of-type {\n",
       "        vertical-align: middle;\n",
       "    }\n",
       "\n",
       "    .dataframe tbody tr th {\n",
       "        vertical-align: top;\n",
       "    }\n",
       "\n",
       "    .dataframe thead th {\n",
       "        text-align: right;\n",
       "    }\n",
       "</style>\n",
       "<table border=\"1\" class=\"dataframe\">\n",
       "  <thead>\n",
       "    <tr style=\"text-align: right;\">\n",
       "      <th></th>\n",
       "      <th>county_name</th>\n",
       "      <th>fire_count</th>\n",
       "      <th>population</th>\n",
       "      <th>fire_count_std</th>\n",
       "      <th>population_std</th>\n",
       "      <th>fire_count_weighted</th>\n",
       "      <th>population_weighted</th>\n",
       "      <th>priority_index</th>\n",
       "    </tr>\n",
       "  </thead>\n",
       "  <tbody>\n",
       "    <tr>\n",
       "      <th>18</th>\n",
       "      <td>Los Angeles County, California</td>\n",
       "      <td>91</td>\n",
       "      <td>10014009.0</td>\n",
       "      <td>1.593645</td>\n",
       "      <td>6.267667</td>\n",
       "      <td>0.637458</td>\n",
       "      <td>3.760600</td>\n",
       "      <td>4.398058</td>\n",
       "    </tr>\n",
       "    <tr>\n",
       "      <th>36</th>\n",
       "      <td>San Diego County, California</td>\n",
       "      <td>126</td>\n",
       "      <td>3298634.0</td>\n",
       "      <td>2.598001</td>\n",
       "      <td>1.759933</td>\n",
       "      <td>1.039200</td>\n",
       "      <td>1.055960</td>\n",
       "      <td>2.095160</td>\n",
       "    </tr>\n",
       "    <tr>\n",
       "      <th>32</th>\n",
       "      <td>Riverside County, California</td>\n",
       "      <td>112</td>\n",
       "      <td>2418185.0</td>\n",
       "      <td>2.196259</td>\n",
       "      <td>1.168927</td>\n",
       "      <td>0.878503</td>\n",
       "      <td>0.701356</td>\n",
       "      <td>1.579859</td>\n",
       "    </tr>\n",
       "    <tr>\n",
       "      <th>14</th>\n",
       "      <td>Kern County, California</td>\n",
       "      <td>131</td>\n",
       "      <td>909235.0</td>\n",
       "      <td>2.741480</td>\n",
       "      <td>0.156035</td>\n",
       "      <td>1.096592</td>\n",
       "      <td>0.093621</td>\n",
       "      <td>1.190213</td>\n",
       "    </tr>\n",
       "    <tr>\n",
       "      <th>35</th>\n",
       "      <td>San Bernardino County, California</td>\n",
       "      <td>76</td>\n",
       "      <td>2181654.0</td>\n",
       "      <td>1.163207</td>\n",
       "      <td>1.010154</td>\n",
       "      <td>0.465283</td>\n",
       "      <td>0.606092</td>\n",
       "      <td>1.071375</td>\n",
       "    </tr>\n",
       "  </tbody>\n",
       "</table>\n",
       "</div>"
      ],
      "text/plain": [
       "                          county_name  fire_count  population  fire_count_std  \\\n",
       "18     Los Angeles County, California          91  10014009.0        1.593645   \n",
       "36       San Diego County, California         126   3298634.0        2.598001   \n",
       "32       Riverside County, California         112   2418185.0        2.196259   \n",
       "14            Kern County, California         131    909235.0        2.741480   \n",
       "35  San Bernardino County, California          76   2181654.0        1.163207   \n",
       "\n",
       "    population_std  fire_count_weighted  population_weighted  priority_index  \n",
       "18        6.267667             0.637458             3.760600        4.398058  \n",
       "36        1.759933             1.039200             1.055960        2.095160  \n",
       "32        1.168927             0.878503             0.701356        1.579859  \n",
       "14        0.156035             1.096592             0.093621        1.190213  \n",
       "35        1.010154             0.465283             0.606092        1.071375  "
      ]
     },
     "execution_count": 150,
     "metadata": {},
     "output_type": "execute_result"
    }
   ],
   "source": [
    "final_df_with_priority.head()"
   ]
  },
  {
   "cell_type": "code",
   "execution_count": 151,
   "metadata": {
    "execution": {
     "iopub.execute_input": "2023-10-09T17:11:23.377176Z",
     "iopub.status.busy": "2023-10-09T17:11:23.376496Z",
     "iopub.status.idle": "2023-10-09T17:11:24.797341Z",
     "shell.execute_reply": "2023-10-09T17:11:24.796811Z",
     "shell.execute_reply.started": "2023-10-09T17:11:23.377143Z"
    },
    "tags": []
   },
   "outputs": [
    {
     "data": {
      "image/png": "[encoded data removed]",
      "text/plain": [
       "<Figure size 1200x600 with 2 Axes>"
      ]
     },
     "metadata": {},
     "output_type": "display_data"
    }
   ],
   "source": [
    "import pandas as pd\n",
    "import matplotlib.pyplot as plt\n",
    "import seaborn as sns\n",
    "\n",
    "# Create a plot showing the priority index and population distribution\n",
    "plt.figure(figsize=(12, 6))\n",
    "\n",
    "# Plot the priority index\n",
    "sns.barplot(x='county_name', y='priority_index', data=final_df_with_priority, palette='viridis')\n",
    "plt.xticks(rotation=45, ha='right')\n",
    "plt.xlabel('County')\n",
    "plt.ylabel('Priority Index')\n",
    "plt.title('Priority Index by County')\n",
    "\n",
    "# Create a second y-axis for population distribution\n",
    "plt.twinx()\n",
    "sns.lineplot(x='county_name', y='population', data=final_df_with_priority, color='tab:red', marker='o')\n",
    "plt.ylabel('Population')\n",
    "#plt.title('Population Distribution and Priority Index')\n",
    "\n",
    "# Show the plot\n",
    "plt.tight_layout()\n",
    "plt.show()"
   ]
  },
  {
   "cell_type": "code",
   "execution_count": 152,
   "metadata": {
    "execution": {
     "iopub.execute_input": "2023-10-09T17:11:27.903482Z",
     "iopub.status.busy": "2023-10-09T17:11:27.902348Z",
     "iopub.status.idle": "2023-10-09T17:11:27.916328Z",
     "shell.execute_reply": "2023-10-09T17:11:27.915490Z",
     "shell.execute_reply.started": "2023-10-09T17:11:27.903434Z"
    },
    "tags": []
   },
   "outputs": [],
   "source": [
    "### Create bins to index\n",
    "#https://towardsdatascience.com/data-preprocessing-with-python-pandas-part-5-binning-c5bd5fd1b950\n",
    "\n",
    "import jenkspy\n",
    "breaks = jenkspy.jenks_breaks(final_df_with_priority['priority_index'], n_classes=5)\n"
   ]
  },
  {
   "cell_type": "code",
   "execution_count": 153,
   "metadata": {
    "execution": {
     "iopub.execute_input": "2023-10-09T17:11:39.103630Z",
     "iopub.status.busy": "2023-10-09T17:11:39.102491Z",
     "iopub.status.idle": "2023-10-09T17:11:39.110586Z",
     "shell.execute_reply": "2023-10-09T17:11:39.109338Z",
     "shell.execute_reply.started": "2023-10-09T17:11:39.103558Z"
    },
    "tags": []
   },
   "outputs": [],
   "source": [
    "labels = ['priority 5','priority 4', 'priority 3', 'priority 2', 'priority 1']"
   ]
  },
  {
   "cell_type": "code",
   "execution_count": 154,
   "metadata": {
    "execution": {
     "iopub.execute_input": "2023-10-09T17:11:39.776921Z",
     "iopub.status.busy": "2023-10-09T17:11:39.776254Z",
     "iopub.status.idle": "2023-10-09T17:11:39.791680Z",
     "shell.execute_reply": "2023-10-09T17:11:39.790796Z",
     "shell.execute_reply.started": "2023-10-09T17:11:39.776886Z"
    },
    "tags": []
   },
   "outputs": [],
   "source": [
    "final_df_with_priority['bin_cut_break'] = pd.cut(final_df_with_priority['priority_index'] , bins=breaks, labels=labels, include_lowest=True)"
   ]
  },
  {
   "cell_type": "code",
   "execution_count": 155,
   "metadata": {
    "execution": {
     "iopub.execute_input": "2023-10-09T17:11:40.439398Z",
     "iopub.status.busy": "2023-10-09T17:11:40.438219Z",
     "iopub.status.idle": "2023-10-09T17:11:40.564615Z",
     "shell.execute_reply": "2023-10-09T17:11:40.563931Z",
     "shell.execute_reply.started": "2023-10-09T17:11:40.439318Z"
    },
    "tags": []
   },
   "outputs": [
    {
     "data": {
      "image/png": "[encoded data removed]",
      "text/plain": [
       "<Figure size 640x480 with 1 Axes>"
      ]
     },
     "metadata": {},
     "output_type": "display_data"
    }
   ],
   "source": [
    "plt.hist(final_df_with_priority['bin_cut_break'], bins=5)\n",
    "plt.show()"
   ]
  },
  {
   "cell_type": "code",
   "execution_count": 156,
   "metadata": {
    "execution": {
     "iopub.execute_input": "2023-10-09T17:11:48.664225Z",
     "iopub.status.busy": "2023-10-09T17:11:48.662934Z",
     "iopub.status.idle": "2023-10-09T17:11:48.676670Z",
     "shell.execute_reply": "2023-10-09T17:11:48.675501Z",
     "shell.execute_reply.started": "2023-10-09T17:11:48.664137Z"
    },
    "tags": []
   },
   "outputs": [
    {
     "data": {
      "text/plain": [
       "18    priority 1\n",
       "36    priority 2\n",
       "32    priority 2\n",
       "14    priority 3\n",
       "35    priority 3\n",
       "29    priority 3\n",
       "44    priority 3\n",
       "9     priority 3\n",
       "51    priority 3\n",
       "26    priority 3\n",
       "40    priority 4\n",
       "42    priority 4\n",
       "50    priority 4\n",
       "53    priority 4\n",
       "38    priority 4\n",
       "39    priority 4\n",
       "17    priority 4\n",
       "0     priority 4\n",
       "52    priority 4\n",
       "33    priority 4\n",
       "21    priority 4\n",
       "49    priority 4\n",
       "24    priority 4\n",
       "6     priority 5\n",
       "3     priority 5\n",
       "22    priority 5\n",
       "37    priority 5\n",
       "47    priority 5\n",
       "23    priority 5\n",
       "46    priority 5\n",
       "31    priority 5\n",
       "16    priority 5\n",
       "13    priority 5\n",
       "30    priority 5\n",
       "25    priority 5\n",
       "11    priority 5\n",
       "4     priority 5\n",
       "45    priority 5\n",
       "54    priority 5\n",
       "19    priority 5\n",
       "8     priority 5\n",
       "15    priority 5\n",
       "34    priority 5\n",
       "12    priority 5\n",
       "27    priority 5\n",
       "41    priority 5\n",
       "55    priority 5\n",
       "20    priority 5\n",
       "1     priority 5\n",
       "10    priority 5\n",
       "28    priority 5\n",
       "43    priority 5\n",
       "5     priority 5\n",
       "7     priority 5\n",
       "48    priority 5\n",
       "2     priority 5\n",
       "Name: bin_cut_break, dtype: category\n",
       "Categories (5, object): ['priority 5' < 'priority 4' < 'priority 3' < 'priority 2' < 'priority 1']"
      ]
     },
     "execution_count": 156,
     "metadata": {},
     "output_type": "execute_result"
    }
   ],
   "source": [
    "final_df_with_priority['bin_cut_break']"
   ]
  },
  {
   "cell_type": "code",
   "execution_count": 157,
   "metadata": {
    "execution": {
     "iopub.execute_input": "2023-10-09T17:11:52.074443Z",
     "iopub.status.busy": "2023-10-09T17:11:52.072398Z",
     "iopub.status.idle": "2023-10-09T17:11:52.186554Z",
     "shell.execute_reply": "2023-10-09T17:11:52.185973Z",
     "shell.execute_reply.started": "2023-10-09T17:11:52.074328Z"
    },
    "tags": []
   },
   "outputs": [
    {
     "data": {
      "text/html": [
       "<div>\n",
       "<style scoped>\n",
       "    .dataframe tbody tr th:only-of-type {\n",
       "        vertical-align: middle;\n",
       "    }\n",
       "\n",
       "    .dataframe tbody tr th {\n",
       "        vertical-align: top;\n",
       "    }\n",
       "\n",
       "    .dataframe thead th {\n",
       "        text-align: right;\n",
       "    }\n",
       "</style>\n",
       "<table border=\"1\" class=\"dataframe\">\n",
       "  <thead>\n",
       "    <tr style=\"text-align: right;\">\n",
       "      <th></th>\n",
       "      <th>STATEFP</th>\n",
       "      <th>COUNTYFP</th>\n",
       "      <th>COUNTYNS</th>\n",
       "      <th>GEOID</th>\n",
       "      <th>NAME</th>\n",
       "      <th>NAMELSAD</th>\n",
       "      <th>LSAD</th>\n",
       "      <th>CLASSFP</th>\n",
       "      <th>MTFCC</th>\n",
       "      <th>CSAFP</th>\n",
       "      <th>CBSAFP</th>\n",
       "      <th>METDIVFP</th>\n",
       "      <th>FUNCSTAT</th>\n",
       "      <th>ALAND</th>\n",
       "      <th>AWATER</th>\n",
       "      <th>INTPTLAT</th>\n",
       "      <th>INTPTLON</th>\n",
       "      <th>geometry</th>\n",
       "    </tr>\n",
       "  </thead>\n",
       "  <tbody>\n",
       "    <tr>\n",
       "      <th>0</th>\n",
       "      <td>06</td>\n",
       "      <td>91</td>\n",
       "      <td>00277310</td>\n",
       "      <td>06091</td>\n",
       "      <td>Sierra</td>\n",
       "      <td>Sierra County</td>\n",
       "      <td>06</td>\n",
       "      <td>H1</td>\n",
       "      <td>G4020</td>\n",
       "      <td>NaN</td>\n",
       "      <td>NaN</td>\n",
       "      <td>NaN</td>\n",
       "      <td>A</td>\n",
       "      <td>2468694583</td>\n",
       "      <td>23299110</td>\n",
       "      <td>+39.5769252</td>\n",
       "      <td>-120.5219926</td>\n",
       "      <td>POLYGON ((-120.65559 39.69356, -120.65552 39.6...</td>\n",
       "    </tr>\n",
       "    <tr>\n",
       "      <th>1</th>\n",
       "      <td>06</td>\n",
       "      <td>67</td>\n",
       "      <td>00277298</td>\n",
       "      <td>06067</td>\n",
       "      <td>Sacramento</td>\n",
       "      <td>Sacramento County</td>\n",
       "      <td>06</td>\n",
       "      <td>H1</td>\n",
       "      <td>G4020</td>\n",
       "      <td>472</td>\n",
       "      <td>40900</td>\n",
       "      <td>NaN</td>\n",
       "      <td>A</td>\n",
       "      <td>2499983887</td>\n",
       "      <td>75425434</td>\n",
       "      <td>+38.4500161</td>\n",
       "      <td>-121.3404408</td>\n",
       "      <td>POLYGON ((-121.18857 38.71431, -121.18731 38.7...</td>\n",
       "    </tr>\n",
       "    <tr>\n",
       "      <th>2</th>\n",
       "      <td>06</td>\n",
       "      <td>83</td>\n",
       "      <td>00277306</td>\n",
       "      <td>06083</td>\n",
       "      <td>Santa Barbara</td>\n",
       "      <td>Santa Barbara County</td>\n",
       "      <td>06</td>\n",
       "      <td>H1</td>\n",
       "      <td>G4020</td>\n",
       "      <td>NaN</td>\n",
       "      <td>42200</td>\n",
       "      <td>NaN</td>\n",
       "      <td>A</td>\n",
       "      <td>7084063392</td>\n",
       "      <td>2729751706</td>\n",
       "      <td>+34.5370572</td>\n",
       "      <td>-120.0399729</td>\n",
       "      <td>MULTIPOLYGON (((-120.73429 34.90069, -120.7343...</td>\n",
       "    </tr>\n",
       "    <tr>\n",
       "      <th>3</th>\n",
       "      <td>06</td>\n",
       "      <td>9</td>\n",
       "      <td>01675885</td>\n",
       "      <td>06009</td>\n",
       "      <td>Calaveras</td>\n",
       "      <td>Calaveras County</td>\n",
       "      <td>06</td>\n",
       "      <td>H1</td>\n",
       "      <td>G4020</td>\n",
       "      <td>NaN</td>\n",
       "      <td>NaN</td>\n",
       "      <td>NaN</td>\n",
       "      <td>A</td>\n",
       "      <td>2641784992</td>\n",
       "      <td>43841871</td>\n",
       "      <td>+38.1838996</td>\n",
       "      <td>-120.5614415</td>\n",
       "      <td>POLYGON ((-120.63093 38.34110, -120.63057 38.3...</td>\n",
       "    </tr>\n",
       "    <tr>\n",
       "      <th>4</th>\n",
       "      <td>06</td>\n",
       "      <td>111</td>\n",
       "      <td>00277320</td>\n",
       "      <td>06111</td>\n",
       "      <td>Ventura</td>\n",
       "      <td>Ventura County</td>\n",
       "      <td>06</td>\n",
       "      <td>H1</td>\n",
       "      <td>G4020</td>\n",
       "      <td>348</td>\n",
       "      <td>37100</td>\n",
       "      <td>NaN</td>\n",
       "      <td>A</td>\n",
       "      <td>4771987962</td>\n",
       "      <td>947345370</td>\n",
       "      <td>+34.3587415</td>\n",
       "      <td>-119.1331432</td>\n",
       "      <td>MULTIPOLYGON (((-119.32922 34.22784, -119.3292...</td>\n",
       "    </tr>\n",
       "  </tbody>\n",
       "</table>\n",
       "</div>"
      ],
      "text/plain": [
       "  STATEFP  COUNTYFP  COUNTYNS  GEOID           NAME              NAMELSAD  \\\n",
       "0      06        91  00277310  06091         Sierra         Sierra County   \n",
       "1      06        67  00277298  06067     Sacramento     Sacramento County   \n",
       "2      06        83  00277306  06083  Santa Barbara  Santa Barbara County   \n",
       "3      06         9  01675885  06009      Calaveras      Calaveras County   \n",
       "4      06       111  00277320  06111        Ventura        Ventura County   \n",
       "\n",
       "  LSAD CLASSFP  MTFCC CSAFP CBSAFP METDIVFP FUNCSTAT       ALAND      AWATER  \\\n",
       "0   06      H1  G4020   NaN    NaN      NaN        A  2468694583    23299110   \n",
       "1   06      H1  G4020   472  40900      NaN        A  2499983887    75425434   \n",
       "2   06      H1  G4020   NaN  42200      NaN        A  7084063392  2729751706   \n",
       "3   06      H1  G4020   NaN    NaN      NaN        A  2641784992    43841871   \n",
       "4   06      H1  G4020   348  37100      NaN        A  4771987962   947345370   \n",
       "\n",
       "      INTPTLAT      INTPTLON  \\\n",
       "0  +39.5769252  -120.5219926   \n",
       "1  +38.4500161  -121.3404408   \n",
       "2  +34.5370572  -120.0399729   \n",
       "3  +38.1838996  -120.5614415   \n",
       "4  +34.3587415  -119.1331432   \n",
       "\n",
       "                                            geometry  \n",
       "0  POLYGON ((-120.65559 39.69356, -120.65552 39.6...  \n",
       "1  POLYGON ((-121.18857 38.71431, -121.18731 38.7...  \n",
       "2  MULTIPOLYGON (((-120.73429 34.90069, -120.7343...  \n",
       "3  POLYGON ((-120.63093 38.34110, -120.63057 38.3...  \n",
       "4  MULTIPOLYGON (((-119.32922 34.22784, -119.3292...  "
      ]
     },
     "execution_count": 157,
     "metadata": {},
     "output_type": "execute_result"
    }
   ],
   "source": [
    "#merge with ca_map\n",
    "ca_map.head()"
   ]
  },
  {
   "cell_type": "code",
   "execution_count": 158,
   "metadata": {
    "execution": {
     "iopub.execute_input": "2023-10-09T17:11:56.085377Z",
     "iopub.status.busy": "2023-10-09T17:11:56.084666Z",
     "iopub.status.idle": "2023-10-09T17:11:56.110299Z",
     "shell.execute_reply": "2023-10-09T17:11:56.105194Z",
     "shell.execute_reply.started": "2023-10-09T17:11:56.085343Z"
    },
    "tags": []
   },
   "outputs": [
    {
     "data": {
      "text/html": [
       "<div>\n",
       "<style scoped>\n",
       "    .dataframe tbody tr th:only-of-type {\n",
       "        vertical-align: middle;\n",
       "    }\n",
       "\n",
       "    .dataframe tbody tr th {\n",
       "        vertical-align: top;\n",
       "    }\n",
       "\n",
       "    .dataframe thead th {\n",
       "        text-align: right;\n",
       "    }\n",
       "</style>\n",
       "<table border=\"1\" class=\"dataframe\">\n",
       "  <thead>\n",
       "    <tr style=\"text-align: right;\">\n",
       "      <th></th>\n",
       "      <th>county_name</th>\n",
       "      <th>fire_count</th>\n",
       "      <th>population</th>\n",
       "      <th>fire_count_std</th>\n",
       "      <th>population_std</th>\n",
       "      <th>fire_count_weighted</th>\n",
       "      <th>population_weighted</th>\n",
       "      <th>priority_index</th>\n",
       "      <th>bin_cut_break</th>\n",
       "    </tr>\n",
       "  </thead>\n",
       "  <tbody>\n",
       "    <tr>\n",
       "      <th>18</th>\n",
       "      <td>Los Angeles County, California</td>\n",
       "      <td>91</td>\n",
       "      <td>10014009.0</td>\n",
       "      <td>1.593645</td>\n",
       "      <td>6.267667</td>\n",
       "      <td>0.637458</td>\n",
       "      <td>3.760600</td>\n",
       "      <td>4.398058</td>\n",
       "      <td>priority 1</td>\n",
       "    </tr>\n",
       "    <tr>\n",
       "      <th>36</th>\n",
       "      <td>San Diego County, California</td>\n",
       "      <td>126</td>\n",
       "      <td>3298634.0</td>\n",
       "      <td>2.598001</td>\n",
       "      <td>1.759933</td>\n",
       "      <td>1.039200</td>\n",
       "      <td>1.055960</td>\n",
       "      <td>2.095160</td>\n",
       "      <td>priority 2</td>\n",
       "    </tr>\n",
       "    <tr>\n",
       "      <th>32</th>\n",
       "      <td>Riverside County, California</td>\n",
       "      <td>112</td>\n",
       "      <td>2418185.0</td>\n",
       "      <td>2.196259</td>\n",
       "      <td>1.168927</td>\n",
       "      <td>0.878503</td>\n",
       "      <td>0.701356</td>\n",
       "      <td>1.579859</td>\n",
       "      <td>priority 2</td>\n",
       "    </tr>\n",
       "    <tr>\n",
       "      <th>14</th>\n",
       "      <td>Kern County, California</td>\n",
       "      <td>131</td>\n",
       "      <td>909235.0</td>\n",
       "      <td>2.741480</td>\n",
       "      <td>0.156035</td>\n",
       "      <td>1.096592</td>\n",
       "      <td>0.093621</td>\n",
       "      <td>1.190213</td>\n",
       "      <td>priority 3</td>\n",
       "    </tr>\n",
       "    <tr>\n",
       "      <th>35</th>\n",
       "      <td>San Bernardino County, California</td>\n",
       "      <td>76</td>\n",
       "      <td>2181654.0</td>\n",
       "      <td>1.163207</td>\n",
       "      <td>1.010154</td>\n",
       "      <td>0.465283</td>\n",
       "      <td>0.606092</td>\n",
       "      <td>1.071375</td>\n",
       "      <td>priority 3</td>\n",
       "    </tr>\n",
       "  </tbody>\n",
       "</table>\n",
       "</div>"
      ],
      "text/plain": [
       "                          county_name  fire_count  population  fire_count_std  \\\n",
       "18     Los Angeles County, California          91  10014009.0        1.593645   \n",
       "36       San Diego County, California         126   3298634.0        2.598001   \n",
       "32       Riverside County, California         112   2418185.0        2.196259   \n",
       "14            Kern County, California         131    909235.0        2.741480   \n",
       "35  San Bernardino County, California          76   2181654.0        1.163207   \n",
       "\n",
       "    population_std  fire_count_weighted  population_weighted  priority_index  \\\n",
       "18        6.267667             0.637458             3.760600        4.398058   \n",
       "36        1.759933             1.039200             1.055960        2.095160   \n",
       "32        1.168927             0.878503             0.701356        1.579859   \n",
       "14        0.156035             1.096592             0.093621        1.190213   \n",
       "35        1.010154             0.465283             0.606092        1.071375   \n",
       "\n",
       "   bin_cut_break  \n",
       "18    priority 1  \n",
       "36    priority 2  \n",
       "32    priority 2  \n",
       "14    priority 3  \n",
       "35    priority 3  "
      ]
     },
     "execution_count": 158,
     "metadata": {},
     "output_type": "execute_result"
    }
   ],
   "source": [
    "final_df_with_priority.head()"
   ]
  },
  {
   "cell_type": "code",
   "execution_count": 159,
   "metadata": {
    "execution": {
     "iopub.execute_input": "2023-10-09T17:11:57.457718Z",
     "iopub.status.busy": "2023-10-09T17:11:57.456568Z",
     "iopub.status.idle": "2023-10-09T17:11:57.468743Z",
     "shell.execute_reply": "2023-10-09T17:11:57.467638Z",
     "shell.execute_reply.started": "2023-10-09T17:11:57.457645Z"
    },
    "tags": []
   },
   "outputs": [],
   "source": [
    "final_df_with_priority['name'] = final_df_with_priority['county_name'].str.split(', ').str[0].str.replace(' County', '')"
   ]
  },
  {
   "cell_type": "code",
   "execution_count": 160,
   "metadata": {
    "execution": {
     "iopub.execute_input": "2023-10-09T17:11:59.774479Z",
     "iopub.status.busy": "2023-10-09T17:11:59.773728Z",
     "iopub.status.idle": "2023-10-09T17:11:59.795176Z",
     "shell.execute_reply": "2023-10-09T17:11:59.793818Z",
     "shell.execute_reply.started": "2023-10-09T17:11:59.774445Z"
    },
    "tags": []
   },
   "outputs": [
    {
     "data": {
      "text/html": [
       "<div>\n",
       "<style scoped>\n",
       "    .dataframe tbody tr th:only-of-type {\n",
       "        vertical-align: middle;\n",
       "    }\n",
       "\n",
       "    .dataframe tbody tr th {\n",
       "        vertical-align: top;\n",
       "    }\n",
       "\n",
       "    .dataframe thead th {\n",
       "        text-align: right;\n",
       "    }\n",
       "</style>\n",
       "<table border=\"1\" class=\"dataframe\">\n",
       "  <thead>\n",
       "    <tr style=\"text-align: right;\">\n",
       "      <th></th>\n",
       "      <th>county_name</th>\n",
       "      <th>fire_count</th>\n",
       "      <th>population</th>\n",
       "      <th>fire_count_std</th>\n",
       "      <th>population_std</th>\n",
       "      <th>fire_count_weighted</th>\n",
       "      <th>population_weighted</th>\n",
       "      <th>priority_index</th>\n",
       "      <th>bin_cut_break</th>\n",
       "      <th>name</th>\n",
       "    </tr>\n",
       "  </thead>\n",
       "  <tbody>\n",
       "    <tr>\n",
       "      <th>18</th>\n",
       "      <td>Los Angeles County, California</td>\n",
       "      <td>91</td>\n",
       "      <td>10014009.0</td>\n",
       "      <td>1.593645</td>\n",
       "      <td>6.267667</td>\n",
       "      <td>0.637458</td>\n",
       "      <td>3.760600</td>\n",
       "      <td>4.398058</td>\n",
       "      <td>priority 1</td>\n",
       "      <td>Los Angeles</td>\n",
       "    </tr>\n",
       "    <tr>\n",
       "      <th>36</th>\n",
       "      <td>San Diego County, California</td>\n",
       "      <td>126</td>\n",
       "      <td>3298634.0</td>\n",
       "      <td>2.598001</td>\n",
       "      <td>1.759933</td>\n",
       "      <td>1.039200</td>\n",
       "      <td>1.055960</td>\n",
       "      <td>2.095160</td>\n",
       "      <td>priority 2</td>\n",
       "      <td>San Diego</td>\n",
       "    </tr>\n",
       "    <tr>\n",
       "      <th>32</th>\n",
       "      <td>Riverside County, California</td>\n",
       "      <td>112</td>\n",
       "      <td>2418185.0</td>\n",
       "      <td>2.196259</td>\n",
       "      <td>1.168927</td>\n",
       "      <td>0.878503</td>\n",
       "      <td>0.701356</td>\n",
       "      <td>1.579859</td>\n",
       "      <td>priority 2</td>\n",
       "      <td>Riverside</td>\n",
       "    </tr>\n",
       "    <tr>\n",
       "      <th>14</th>\n",
       "      <td>Kern County, California</td>\n",
       "      <td>131</td>\n",
       "      <td>909235.0</td>\n",
       "      <td>2.741480</td>\n",
       "      <td>0.156035</td>\n",
       "      <td>1.096592</td>\n",
       "      <td>0.093621</td>\n",
       "      <td>1.190213</td>\n",
       "      <td>priority 3</td>\n",
       "      <td>Kern</td>\n",
       "    </tr>\n",
       "    <tr>\n",
       "      <th>35</th>\n",
       "      <td>San Bernardino County, California</td>\n",
       "      <td>76</td>\n",
       "      <td>2181654.0</td>\n",
       "      <td>1.163207</td>\n",
       "      <td>1.010154</td>\n",
       "      <td>0.465283</td>\n",
       "      <td>0.606092</td>\n",
       "      <td>1.071375</td>\n",
       "      <td>priority 3</td>\n",
       "      <td>San Bernardino</td>\n",
       "    </tr>\n",
       "  </tbody>\n",
       "</table>\n",
       "</div>"
      ],
      "text/plain": [
       "                          county_name  fire_count  population  fire_count_std  \\\n",
       "18     Los Angeles County, California          91  10014009.0        1.593645   \n",
       "36       San Diego County, California         126   3298634.0        2.598001   \n",
       "32       Riverside County, California         112   2418185.0        2.196259   \n",
       "14            Kern County, California         131    909235.0        2.741480   \n",
       "35  San Bernardino County, California          76   2181654.0        1.163207   \n",
       "\n",
       "    population_std  fire_count_weighted  population_weighted  priority_index  \\\n",
       "18        6.267667             0.637458             3.760600        4.398058   \n",
       "36        1.759933             1.039200             1.055960        2.095160   \n",
       "32        1.168927             0.878503             0.701356        1.579859   \n",
       "14        0.156035             1.096592             0.093621        1.190213   \n",
       "35        1.010154             0.465283             0.606092        1.071375   \n",
       "\n",
       "   bin_cut_break            name  \n",
       "18    priority 1     Los Angeles  \n",
       "36    priority 2       San Diego  \n",
       "32    priority 2       Riverside  \n",
       "14    priority 3            Kern  \n",
       "35    priority 3  San Bernardino  "
      ]
     },
     "execution_count": 160,
     "metadata": {},
     "output_type": "execute_result"
    }
   ],
   "source": [
    "final_df_with_priority.head()"
   ]
  },
  {
   "cell_type": "code",
   "execution_count": 161,
   "metadata": {
    "execution": {
     "iopub.execute_input": "2023-10-09T17:12:02.946218Z",
     "iopub.status.busy": "2023-10-09T17:12:02.945133Z",
     "iopub.status.idle": "2023-10-09T17:12:02.965868Z",
     "shell.execute_reply": "2023-10-09T17:12:02.964900Z",
     "shell.execute_reply.started": "2023-10-09T17:12:02.946144Z"
    },
    "tags": []
   },
   "outputs": [],
   "source": [
    "# merge ca_map and final_df_with_priority\n",
    "merged_priority = pd.merge(ca_map, final_df_with_priority, left_on='NAME', right_on= 'name', how='inner')"
   ]
  },
  {
   "cell_type": "code",
   "execution_count": 163,
   "metadata": {
    "execution": {
     "iopub.execute_input": "2023-10-09T17:12:09.496999Z",
     "iopub.status.busy": "2023-10-09T17:12:09.495845Z",
     "iopub.status.idle": "2023-10-09T17:12:09.525204Z",
     "shell.execute_reply": "2023-10-09T17:12:09.524616Z",
     "shell.execute_reply.started": "2023-10-09T17:12:09.496918Z"
    },
    "tags": []
   },
   "outputs": [
    {
     "data": {
      "text/html": [
       "<div>\n",
       "<style scoped>\n",
       "    .dataframe tbody tr th:only-of-type {\n",
       "        vertical-align: middle;\n",
       "    }\n",
       "\n",
       "    .dataframe tbody tr th {\n",
       "        vertical-align: top;\n",
       "    }\n",
       "\n",
       "    .dataframe thead th {\n",
       "        text-align: right;\n",
       "    }\n",
       "</style>\n",
       "<table border=\"1\" class=\"dataframe\">\n",
       "  <thead>\n",
       "    <tr style=\"text-align: right;\">\n",
       "      <th></th>\n",
       "      <th>STATEFP</th>\n",
       "      <th>COUNTYFP</th>\n",
       "      <th>COUNTYNS</th>\n",
       "      <th>GEOID</th>\n",
       "      <th>NAME</th>\n",
       "      <th>NAMELSAD</th>\n",
       "      <th>LSAD</th>\n",
       "      <th>CLASSFP</th>\n",
       "      <th>MTFCC</th>\n",
       "      <th>CSAFP</th>\n",
       "      <th>...</th>\n",
       "      <th>county_name</th>\n",
       "      <th>fire_count</th>\n",
       "      <th>population</th>\n",
       "      <th>fire_count_std</th>\n",
       "      <th>population_std</th>\n",
       "      <th>fire_count_weighted</th>\n",
       "      <th>population_weighted</th>\n",
       "      <th>priority_index</th>\n",
       "      <th>bin_cut_break</th>\n",
       "      <th>name</th>\n",
       "    </tr>\n",
       "  </thead>\n",
       "  <tbody>\n",
       "    <tr>\n",
       "      <th>0</th>\n",
       "      <td>06</td>\n",
       "      <td>91</td>\n",
       "      <td>00277310</td>\n",
       "      <td>06091</td>\n",
       "      <td>Sierra</td>\n",
       "      <td>Sierra County</td>\n",
       "      <td>06</td>\n",
       "      <td>H1</td>\n",
       "      <td>G4020</td>\n",
       "      <td>NaN</td>\n",
       "      <td>...</td>\n",
       "      <td>Sierra County, California</td>\n",
       "      <td>10</td>\n",
       "      <td>3236.0</td>\n",
       "      <td>-0.730720</td>\n",
       "      <td>-0.452122</td>\n",
       "      <td>-0.292288</td>\n",
       "      <td>-0.271273</td>\n",
       "      <td>-0.563561</td>\n",
       "      <td>priority 5</td>\n",
       "      <td>Sierra</td>\n",
       "    </tr>\n",
       "    <tr>\n",
       "      <th>1</th>\n",
       "      <td>06</td>\n",
       "      <td>67</td>\n",
       "      <td>00277298</td>\n",
       "      <td>06067</td>\n",
       "      <td>Sacramento</td>\n",
       "      <td>Sacramento County</td>\n",
       "      <td>06</td>\n",
       "      <td>H1</td>\n",
       "      <td>G4020</td>\n",
       "      <td>472</td>\n",
       "      <td>...</td>\n",
       "      <td>Sacramento County, California</td>\n",
       "      <td>4</td>\n",
       "      <td>1585055.0</td>\n",
       "      <td>-0.902895</td>\n",
       "      <td>0.609683</td>\n",
       "      <td>-0.361158</td>\n",
       "      <td>0.365810</td>\n",
       "      <td>0.004652</td>\n",
       "      <td>priority 4</td>\n",
       "      <td>Sacramento</td>\n",
       "    </tr>\n",
       "    <tr>\n",
       "      <th>2</th>\n",
       "      <td>06</td>\n",
       "      <td>83</td>\n",
       "      <td>00277306</td>\n",
       "      <td>06083</td>\n",
       "      <td>Santa Barbara</td>\n",
       "      <td>Santa Barbara County</td>\n",
       "      <td>06</td>\n",
       "      <td>H1</td>\n",
       "      <td>G4020</td>\n",
       "      <td>NaN</td>\n",
       "      <td>...</td>\n",
       "      <td>Santa Barbara County, California</td>\n",
       "      <td>55</td>\n",
       "      <td>448229.0</td>\n",
       "      <td>0.560594</td>\n",
       "      <td>-0.153418</td>\n",
       "      <td>0.224238</td>\n",
       "      <td>-0.092051</td>\n",
       "      <td>0.132187</td>\n",
       "      <td>priority 4</td>\n",
       "      <td>Santa Barbara</td>\n",
       "    </tr>\n",
       "    <tr>\n",
       "      <th>3</th>\n",
       "      <td>06</td>\n",
       "      <td>9</td>\n",
       "      <td>01675885</td>\n",
       "      <td>06009</td>\n",
       "      <td>Calaveras</td>\n",
       "      <td>Calaveras County</td>\n",
       "      <td>06</td>\n",
       "      <td>H1</td>\n",
       "      <td>G4020</td>\n",
       "      <td>NaN</td>\n",
       "      <td>...</td>\n",
       "      <td>Calaveras County, California</td>\n",
       "      <td>25</td>\n",
       "      <td>45292.0</td>\n",
       "      <td>-0.300282</td>\n",
       "      <td>-0.423892</td>\n",
       "      <td>-0.120113</td>\n",
       "      <td>-0.254335</td>\n",
       "      <td>-0.374448</td>\n",
       "      <td>priority 5</td>\n",
       "      <td>Calaveras</td>\n",
       "    </tr>\n",
       "    <tr>\n",
       "      <th>4</th>\n",
       "      <td>06</td>\n",
       "      <td>111</td>\n",
       "      <td>00277320</td>\n",
       "      <td>06111</td>\n",
       "      <td>Ventura</td>\n",
       "      <td>Ventura County</td>\n",
       "      <td>06</td>\n",
       "      <td>H1</td>\n",
       "      <td>G4020</td>\n",
       "      <td>348</td>\n",
       "      <td>...</td>\n",
       "      <td>Ventura County, California</td>\n",
       "      <td>46</td>\n",
       "      <td>843843.0</td>\n",
       "      <td>0.302331</td>\n",
       "      <td>0.112140</td>\n",
       "      <td>0.120933</td>\n",
       "      <td>0.067284</td>\n",
       "      <td>0.188217</td>\n",
       "      <td>priority 4</td>\n",
       "      <td>Ventura</td>\n",
       "    </tr>\n",
       "  </tbody>\n",
       "</table>\n",
       "<p>5 rows × 28 columns</p>\n",
       "</div>"
      ],
      "text/plain": [
       "  STATEFP  COUNTYFP  COUNTYNS  GEOID           NAME              NAMELSAD  \\\n",
       "0      06        91  00277310  06091         Sierra         Sierra County   \n",
       "1      06        67  00277298  06067     Sacramento     Sacramento County   \n",
       "2      06        83  00277306  06083  Santa Barbara  Santa Barbara County   \n",
       "3      06         9  01675885  06009      Calaveras      Calaveras County   \n",
       "4      06       111  00277320  06111        Ventura        Ventura County   \n",
       "\n",
       "  LSAD CLASSFP  MTFCC CSAFP  ...                       county_name fire_count  \\\n",
       "0   06      H1  G4020   NaN  ...         Sierra County, California         10   \n",
       "1   06      H1  G4020   472  ...     Sacramento County, California          4   \n",
       "2   06      H1  G4020   NaN  ...  Santa Barbara County, California         55   \n",
       "3   06      H1  G4020   NaN  ...      Calaveras County, California         25   \n",
       "4   06      H1  G4020   348  ...        Ventura County, California         46   \n",
       "\n",
       "  population  fire_count_std  population_std fire_count_weighted  \\\n",
       "0     3236.0       -0.730720       -0.452122           -0.292288   \n",
       "1  1585055.0       -0.902895        0.609683           -0.361158   \n",
       "2   448229.0        0.560594       -0.153418            0.224238   \n",
       "3    45292.0       -0.300282       -0.423892           -0.120113   \n",
       "4   843843.0        0.302331        0.112140            0.120933   \n",
       "\n",
       "  population_weighted priority_index bin_cut_break           name  \n",
       "0           -0.271273      -0.563561    priority 5         Sierra  \n",
       "1            0.365810       0.004652    priority 4     Sacramento  \n",
       "2           -0.092051       0.132187    priority 4  Santa Barbara  \n",
       "3           -0.254335      -0.374448    priority 5      Calaveras  \n",
       "4            0.067284       0.188217    priority 4        Ventura  \n",
       "\n",
       "[5 rows x 28 columns]"
      ]
     },
     "execution_count": 163,
     "metadata": {},
     "output_type": "execute_result"
    }
   ],
   "source": [
    "merged_priority.head()\n"
   ]
  },
  {
   "cell_type": "code",
   "execution_count": null,
   "metadata": {},
   "outputs": [],
   "source": []
  }
 ],
 "metadata": {
  "kernelspec": {
   "display_name": "Python 3 (ipykernel)",
   "language": "python",
   "name": "python3"
  },
  "language_info": {
   "codemirror_mode": {
    "name": "ipython",
    "version": 3
   },
   "file_extension": ".py",
   "mimetype": "text/x-python",
   "name": "python",
   "nbconvert_exporter": "python",
   "pygments_lexer": "ipython3",
   "version": "3.10.9"
  }
 },
 "nbformat": 4,
 "nbformat_minor": 4
}
