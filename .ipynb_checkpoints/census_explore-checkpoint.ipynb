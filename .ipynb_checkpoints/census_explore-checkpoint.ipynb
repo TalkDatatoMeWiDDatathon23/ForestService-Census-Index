{
 "cells": [
  {
   "cell_type": "code",
   "execution_count": 23,
   "metadata": {},
   "outputs": [],
   "source": [
    "#trying this tutorial: https://www.natekratzer.com/posts/census_map/\n",
    "import numpy as np\n",
    "import geopandas as gpd\n",
    "import requests"
   ]
  },
  {
   "cell_type": "code",
   "execution_count": 24,
   "metadata": {},
   "outputs": [],
   "source": [
    "#reading in file and mapping counties using WI as example\n",
    "county_shp = gpd.read_file('cb_2022_us_county_500k.zip')\n",
    "CA_counties = county_shp[county_shp.STATE_NAME == 'California']"
   ]
  },
  {
   "cell_type": "code",
   "execution_count": null,
   "metadata": {},
   "outputs": [],
   "source": [
    "#wi_counties.explore()"
   ]
  },
  {
   "cell_type": "code",
   "execution_count": 26,
   "metadata": {},
   "outputs": [],
   "source": [
    "#load API key\n",
    "with open('/Users/mafphd/datathon/datathon-venv/census_api_key.txt') as key:\n",
    "    api_key=key.read().strip()\n",
    "\n",
    "#specify the data source by year and survey\n",
    "year = '2020'\n",
    "dsource = 'dec' #Decennial Census\n",
    "dname = 'dhc' #Demographic and Housing Characteristics\n",
    "base_url = f'https://api.census.gov/data/{year}/{dsource}/{dname}'\n",
    "\n",
    "#unique to this specific data request\n",
    "cols = 'NAME,P1_001N' #NAME of geography as well as the variables I want to pull\n",
    "geo = 'county:*' #county geography level\n",
    "state = 'state:*' #all states\n",
    "\n",
    "#add unique request features to the base_url\n",
    "data_url = f'{base_url}?get={cols}&for={geo}&in={state}&key={api_key}'\n",
    "\n",
    "#go get the data\n",
    "response = requests.get(data_url)\n",
    "\n"
   ]
  },
  {
   "cell_type": "code",
   "execution_count": 27,
   "metadata": {},
   "outputs": [],
   "source": [
    "#take the data in json and format it into a dataframe\n",
    "data = response.json()"
   ]
  },
  {
   "cell_type": "code",
   "execution_count": 28,
   "metadata": {},
   "outputs": [
    {
     "data": {
      "text/html": [
       "<div>\n",
       "<style scoped>\n",
       "    .dataframe tbody tr th:only-of-type {\n",
       "        vertical-align: middle;\n",
       "    }\n",
       "\n",
       "    .dataframe tbody tr th {\n",
       "        vertical-align: top;\n",
       "    }\n",
       "\n",
       "    .dataframe thead th {\n",
       "        text-align: right;\n",
       "    }\n",
       "</style>\n",
       "<table border=\"1\" class=\"dataframe\">\n",
       "  <thead>\n",
       "    <tr style=\"text-align: right;\">\n",
       "      <th></th>\n",
       "      <th>NAME</th>\n",
       "      <th>P1_001N</th>\n",
       "      <th>state</th>\n",
       "      <th>county</th>\n",
       "    </tr>\n",
       "  </thead>\n",
       "  <tbody>\n",
       "    <tr>\n",
       "      <th>0</th>\n",
       "      <td>Madera County, California</td>\n",
       "      <td>156255</td>\n",
       "      <td>06</td>\n",
       "      <td>039</td>\n",
       "    </tr>\n",
       "    <tr>\n",
       "      <th>1</th>\n",
       "      <td>Marin County, California</td>\n",
       "      <td>262321</td>\n",
       "      <td>06</td>\n",
       "      <td>041</td>\n",
       "    </tr>\n",
       "    <tr>\n",
       "      <th>2</th>\n",
       "      <td>Mariposa County, California</td>\n",
       "      <td>17131</td>\n",
       "      <td>06</td>\n",
       "      <td>043</td>\n",
       "    </tr>\n",
       "    <tr>\n",
       "      <th>3</th>\n",
       "      <td>Mendocino County, California</td>\n",
       "      <td>91601</td>\n",
       "      <td>06</td>\n",
       "      <td>045</td>\n",
       "    </tr>\n",
       "    <tr>\n",
       "      <th>4</th>\n",
       "      <td>Merced County, California</td>\n",
       "      <td>281202</td>\n",
       "      <td>06</td>\n",
       "      <td>047</td>\n",
       "    </tr>\n",
       "  </tbody>\n",
       "</table>\n",
       "</div>"
      ],
      "text/plain": [
       "                           NAME P1_001N state county\n",
       "0     Madera County, California  156255    06    039\n",
       "1      Marin County, California  262321    06    041\n",
       "2   Mariposa County, California   17131    06    043\n",
       "3  Mendocino County, California   91601    06    045\n",
       "4     Merced County, California  281202    06    047"
      ]
     },
     "execution_count": 28,
     "metadata": {},
     "output_type": "execute_result"
    }
   ],
   "source": [
    "df = pd.DataFrame(data = data[1:], columns = data[0])\n",
    "df.head()"
   ]
  },
  {
   "cell_type": "code",
   "execution_count": 29,
   "metadata": {},
   "outputs": [],
   "source": [
    "#rename columns and convert population to numeric\n",
    "df.rename(columns = {'NAME': 'county_name', 'P1_001N': 'population', 'state': 'state_fips', 'county': 'county_fips'}, inplace=True)\n",
    "df['population'] = df['population'].apply(pd.to_numeric)"
   ]
  },
  {
   "cell_type": "code",
   "execution_count": 30,
   "metadata": {},
   "outputs": [
    {
     "name": "stdout",
     "output_type": "stream",
     "text": [
      "<class 'pandas.core.frame.DataFrame'>\n",
      "RangeIndex: 3221 entries, 0 to 3220\n",
      "Data columns (total 5 columns):\n",
      " #   Column       Non-Null Count  Dtype \n",
      "---  ------       --------------  ----- \n",
      " 0   county_name  3221 non-null   object\n",
      " 1   population   3221 non-null   int64 \n",
      " 2   state_fips   3221 non-null   object\n",
      " 3   county_fips  3221 non-null   object\n",
      " 4   fips         3221 non-null   object\n",
      "dtypes: int64(1), object(4)\n",
      "memory usage: 125.9+ KB\n"
     ]
    }
   ],
   "source": [
    "df['fips'] = df['state_fips'] + df['county_fips']\n",
    "df.info()"
   ]
  },
  {
   "cell_type": "code",
   "execution_count": null,
   "metadata": {},
   "outputs": [],
   "source": [
    "#states = county_shp.STATE_NAME.values.tolist()\n",
    "#print(states)"
   ]
  },
  {
   "cell_type": "code",
   "execution_count": null,
   "metadata": {},
   "outputs": [],
   "source": [
    "#creating a full US map\n",
    "#usa_counties = county_shp[county_shp.STATE_NAME == states]\n"
   ]
  },
  {
   "cell_type": "code",
   "execution_count": null,
   "metadata": {},
   "outputs": [],
   "source": [
    "#usa_counties.explore()"
   ]
  },
  {
   "cell_type": "code",
   "execution_count": null,
   "metadata": {},
   "outputs": [],
   "source": [
    "#construct the fips code to match with the geography data\n",
    "#usa_counties['fips'] = usa_counties['STATEFP'] + usa_counties['COUNTYFP']\n",
    "#usa_counties.head()"
   ]
  },
  {
   "cell_type": "code",
   "execution_count": 32,
   "metadata": {},
   "outputs": [],
   "source": [
    "#merge in the new data\n",
    "#clean up the names to be a bit more presentable\n",
    "#df_map = (CA_counties.merge(df, how = 'left', on = 'fips').rename(columns = {'NAMELSAD': 'County Name', 'population': 'County Population'}))\n",
    "\n",
    "#df_map.head()"
   ]
  },
  {
   "cell_type": "code",
   "execution_count": null,
   "metadata": {},
   "outputs": [],
   "source": [
    "#df_map.explore(\n",
    "    #column ='County Population',\n",
    "    #scheme=\"naturalbreaks\",  # use mapclassify's natural breaks scheme\n",
    "    #legend=True,  # show legend\n",
    "    #k=5,  # use 5 bins\n",
    "    #tooltip = ['County Name', 'County Population'],\n",
    "    #tiles = 'CartoDB positron', #fades into the background better than the default\n",
    "    #legend_kwds=dict(colorbar=False, color=\"gray\"))"
   ]
  },
  {
   "cell_type": "code",
   "execution_count": null,
   "metadata": {},
   "outputs": [],
   "source": [
    "#biggest_counties = df_map[df_map['County Population'] > 5000000]\n",
    "#biggest_counties"
   ]
  },
  {
   "cell_type": "code",
   "execution_count": null,
   "metadata": {},
   "outputs": [],
   "source": [
    "#another approach I found, but did not work well bc of size of dataset and rate limits\n",
    "#pip install geopy"
   ]
  },
  {
   "cell_type": "code",
   "execution_count": null,
   "metadata": {},
   "outputs": [],
   "source": [
    "#note: rate limit became a problem; will need to filter down to CA data only before retrying\n",
    "#from geopy.geocoders import Nominatim\n",
    "\n",
    "#def get_zip_code(latitude, longitude): \n",
    "    #geolocator = Nominatim(user_agent=\"mafphd@icloud.com\")\n",
    "    #location = geolocator.reverse((latitude, longitude), exactly_one=True)\n",
    "    #address = location.raw['address']\n",
    "    #zip_code = address.get('postcode')\n",
    "    \n",
    "    #return zip_code"
   ]
  },
  {
   "cell_type": "code",
   "execution_count": 33,
   "metadata": {},
   "outputs": [
    {
     "name": "stdout",
     "output_type": "stream",
     "text": [
      "<class 'pandas.core.frame.DataFrame'>\n",
      "RangeIndex: 30418 entries, 0 to 30417\n",
      "Data columns (total 25 columns):\n",
      " #   Column               Non-Null Count  Dtype  \n",
      "---  ------               --------------  -----  \n",
      " 0   X                    30418 non-null  float64\n",
      " 1   Y                    30418 non-null  float64\n",
      " 2   OBJECTID             30418 non-null  int64  \n",
      " 3   FIRE_ID              30418 non-null  object \n",
      " 4   FIRE_NAME            30418 non-null  object \n",
      " 5   ASMNT_TYPE           30418 non-null  object \n",
      " 6   FIRE_TYPE            30418 non-null  object \n",
      " 7   NODATA_THRESHOLD     30418 non-null  int64  \n",
      " 8   GREENNESS_THRESHOLD  30418 non-null  int64  \n",
      " 9   LOW_THRESHOLD        30418 non-null  int64  \n",
      " 10  MODERATE_THRESHOLD   30418 non-null  int64  \n",
      " 11  HIGH_THRESHOLD       30418 non-null  int64  \n",
      " 12  IG_DATE              30418 non-null  object \n",
      " 13  LATITUDE             30418 non-null  float64\n",
      " 14  LONGITUDE            30418 non-null  float64\n",
      " 15  ACRES                30418 non-null  int64  \n",
      " 16  IRWINID              4535 non-null   object \n",
      " 17  MAP_ID               30418 non-null  int64  \n",
      " 18  MAP_PROG             30418 non-null  object \n",
      " 19  PERIM_ID             2867 non-null   object \n",
      " 20  DNBR_OFFST           30418 non-null  int64  \n",
      " 21  DNBR_STDDV           30418 non-null  int64  \n",
      " 22  COMMENTS             4718 non-null   object \n",
      " 23  PRE_ID               21265 non-null  object \n",
      " 24  POST_ID              30418 non-null  object \n",
      "dtypes: float64(4), int64(10), object(11)\n",
      "memory usage: 5.8+ MB\n"
     ]
    }
   ],
   "source": [
    "import pandas as pd\n",
    "burn = pd.read_csv('Burn_Severity_Trends.csv')\n",
    "burn.info()"
   ]
  },
  {
   "cell_type": "code",
   "execution_count": null,
   "metadata": {},
   "outputs": [],
   "source": [
    "#burn['ZIP_CODE'] = burn.apply(lambda row: get_zip_code(row['LATITUDE'], row['LONGITUDE']), axis=1)"
   ]
  },
  {
   "cell_type": "code",
   "execution_count": 10,
   "metadata": {},
   "outputs": [
    {
     "name": "stdout",
     "output_type": "stream",
     "text": [
      "County Name: San Francisco\n"
     ]
    }
   ],
   "source": [
    "#trying to identify counties by latitude/longitude coordinates using TIGER/Line Shapefile, 2019, nation, U.S., Current County and Equivalent National Shapefile from data.gov\n",
    "import geopandas as gpd\n",
    "\n",
    "# Load the shapefile\n",
    "gdf = gpd.read_file('/Users/mafphd/datathon/datathon-venv/tl_2019_us_county/tl_2019_us_county.shp') #file is too large to commit; download from https://catalog.data.gov/dataset/tiger-line-shapefile-2019-nation-u-s-current-county-and-equivalent-national-shapefile\n",
    "def get_county_name(latitude, longitude):\n",
    "    point = gpd.GeoDataFrame(geometry=gpd.points_from_xy([longitude], [latitude]))\n",
    "    county = gdf[gdf.contains(point.unary_union)]\n",
    "    return county['NAME'].iloc[0] if not county.empty else None\n",
    "\n",
    "# Example usage\n",
    "latitude = 37.7749  # Example latitude\n",
    "longitude = -122.4194  # Example longitude\n",
    "\n",
    "county_name = get_county_name(latitude, longitude)\n",
    "print(\"County Name:\", county_name)\n"
   ]
  },
  {
   "cell_type": "code",
   "execution_count": 11,
   "metadata": {},
   "outputs": [],
   "source": [
    "burn['County'] = burn.apply(lambda row: get_county_name(row['LATITUDE'], row['LONGITUDE']), axis=1)"
   ]
  },
  {
   "cell_type": "code",
   "execution_count": 12,
   "metadata": {},
   "outputs": [
    {
     "data": {
      "text/plain": [
       "23"
      ]
     },
     "execution_count": 12,
     "metadata": {},
     "output_type": "execute_result"
    }
   ],
   "source": [
    "burn['County'].isna().sum()"
   ]
  },
  {
   "cell_type": "code",
   "execution_count": 13,
   "metadata": {},
   "outputs": [
    {
     "data": {
      "text/html": [
       "<div>\n",
       "<style scoped>\n",
       "    .dataframe tbody tr th:only-of-type {\n",
       "        vertical-align: middle;\n",
       "    }\n",
       "\n",
       "    .dataframe tbody tr th {\n",
       "        vertical-align: top;\n",
       "    }\n",
       "\n",
       "    .dataframe thead th {\n",
       "        text-align: right;\n",
       "    }\n",
       "</style>\n",
       "<table border=\"1\" class=\"dataframe\">\n",
       "  <thead>\n",
       "    <tr style=\"text-align: right;\">\n",
       "      <th></th>\n",
       "      <th>LATITUDE</th>\n",
       "      <th>LONGITUDE</th>\n",
       "    </tr>\n",
       "  </thead>\n",
       "  <tbody>\n",
       "    <tr>\n",
       "      <th>19004</th>\n",
       "      <td>31.299</td>\n",
       "      <td>-110.357</td>\n",
       "    </tr>\n",
       "    <tr>\n",
       "      <th>20577</th>\n",
       "      <td>31.312</td>\n",
       "      <td>-108.834</td>\n",
       "    </tr>\n",
       "    <tr>\n",
       "      <th>27052</th>\n",
       "      <td>31.318</td>\n",
       "      <td>-108.714</td>\n",
       "    </tr>\n",
       "    <tr>\n",
       "      <th>8894</th>\n",
       "      <td>31.329</td>\n",
       "      <td>-108.998</td>\n",
       "    </tr>\n",
       "    <tr>\n",
       "      <th>30154</th>\n",
       "      <td>31.345</td>\n",
       "      <td>-111.132</td>\n",
       "    </tr>\n",
       "    <tr>\n",
       "      <th>24091</th>\n",
       "      <td>31.346</td>\n",
       "      <td>-111.120</td>\n",
       "    </tr>\n",
       "    <tr>\n",
       "      <th>27746</th>\n",
       "      <td>32.554</td>\n",
       "      <td>-116.694</td>\n",
       "    </tr>\n",
       "    <tr>\n",
       "      <th>5611</th>\n",
       "      <td>32.559</td>\n",
       "      <td>-116.714</td>\n",
       "    </tr>\n",
       "    <tr>\n",
       "      <th>19073</th>\n",
       "      <td>32.579</td>\n",
       "      <td>-116.264</td>\n",
       "    </tr>\n",
       "    <tr>\n",
       "      <th>10783</th>\n",
       "      <td>32.585</td>\n",
       "      <td>-116.514</td>\n",
       "    </tr>\n",
       "    <tr>\n",
       "      <th>7234</th>\n",
       "      <td>32.589</td>\n",
       "      <td>-116.443</td>\n",
       "    </tr>\n",
       "    <tr>\n",
       "      <th>13809</th>\n",
       "      <td>32.609</td>\n",
       "      <td>-116.057</td>\n",
       "    </tr>\n",
       "    <tr>\n",
       "      <th>14165</th>\n",
       "      <td>48.156</td>\n",
       "      <td>-90.762</td>\n",
       "    </tr>\n",
       "    <tr>\n",
       "      <th>5410</th>\n",
       "      <td>48.225</td>\n",
       "      <td>-90.782</td>\n",
       "    </tr>\n",
       "    <tr>\n",
       "      <th>10337</th>\n",
       "      <td>49.001</td>\n",
       "      <td>-96.557</td>\n",
       "    </tr>\n",
       "    <tr>\n",
       "      <th>18794</th>\n",
       "      <td>49.003</td>\n",
       "      <td>-96.878</td>\n",
       "    </tr>\n",
       "    <tr>\n",
       "      <th>10370</th>\n",
       "      <td>49.021</td>\n",
       "      <td>-113.601</td>\n",
       "    </tr>\n",
       "    <tr>\n",
       "      <th>5207</th>\n",
       "      <td>49.025</td>\n",
       "      <td>-119.599</td>\n",
       "    </tr>\n",
       "    <tr>\n",
       "      <th>27979</th>\n",
       "      <td>62.966</td>\n",
       "      <td>-140.983</td>\n",
       "    </tr>\n",
       "    <tr>\n",
       "      <th>13710</th>\n",
       "      <td>63.234</td>\n",
       "      <td>-140.994</td>\n",
       "    </tr>\n",
       "    <tr>\n",
       "      <th>11926</th>\n",
       "      <td>64.229</td>\n",
       "      <td>-140.892</td>\n",
       "    </tr>\n",
       "    <tr>\n",
       "      <th>11330</th>\n",
       "      <td>64.831</td>\n",
       "      <td>-140.645</td>\n",
       "    </tr>\n",
       "    <tr>\n",
       "      <th>11494</th>\n",
       "      <td>65.710</td>\n",
       "      <td>-140.831</td>\n",
       "    </tr>\n",
       "  </tbody>\n",
       "</table>\n",
       "</div>"
      ],
      "text/plain": [
       "       LATITUDE  LONGITUDE\n",
       "19004    31.299   -110.357\n",
       "20577    31.312   -108.834\n",
       "27052    31.318   -108.714\n",
       "8894     31.329   -108.998\n",
       "30154    31.345   -111.132\n",
       "24091    31.346   -111.120\n",
       "27746    32.554   -116.694\n",
       "5611     32.559   -116.714\n",
       "19073    32.579   -116.264\n",
       "10783    32.585   -116.514\n",
       "7234     32.589   -116.443\n",
       "13809    32.609   -116.057\n",
       "14165    48.156    -90.762\n",
       "5410     48.225    -90.782\n",
       "10337    49.001    -96.557\n",
       "18794    49.003    -96.878\n",
       "10370    49.021   -113.601\n",
       "5207     49.025   -119.599\n",
       "27979    62.966   -140.983\n",
       "13710    63.234   -140.994\n",
       "11926    64.229   -140.892\n",
       "11330    64.831   -140.645\n",
       "11494    65.710   -140.831"
      ]
     },
     "execution_count": 13,
     "metadata": {},
     "output_type": "execute_result"
    }
   ],
   "source": [
    "#looking at the missing counties to see if any are within approximate CA coordinates (from ChatGPT/verified on a map: min_lat = 32.5, max_lat = 37.0,min_lon = -125.0,max_lon = -114.0)\n",
    "missing_ctys = burn[burn['County'].isna()]\n",
    "missing_ctys_sorted = missing_ctys[['LATITUDE', 'LONGITUDE']]\n",
    "missing_ctys_sorted.sort_values(by='LATITUDE', ascending = True)"
   ]
  },
  {
   "cell_type": "code",
   "execution_count": 14,
   "metadata": {},
   "outputs": [],
   "source": [
    "#using BallTree nearest neighbors approach to fill in County based on closest known lat/long coordinates\n",
    "from sklearn.neighbors import BallTree\n",
    "\n",
    "# Assuming 'burn' is your original DataFrame\n",
    "\n",
    "# Create a subset DataFrame with only rows that have County information\n",
    "known_counties = burn.dropna(subset=['County'])\n",
    "\n",
    "# Extract latitude and longitude for known counties\n",
    "known_coordinates = known_counties[['LATITUDE', 'LONGITUDE']].values\n",
    "\n",
    "# Build a BallTree for efficient nearest neighbor search\n",
    "tree = BallTree(known_coordinates, leaf_size=15)\n",
    "\n",
    "# Define a function to impute missing County values based on nearest neighbors\n",
    "def impute_county(row):\n",
    "    if pd.isna(row['County']):\n",
    "        distances, indices = tree.query([[row['LATITUDE'], row['LONGITUDE']]], k=1)\n",
    "        closest_county = known_counties.iloc[indices[0][0]]['County']\n",
    "        return closest_county\n",
    "    else:\n",
    "        return row['County']\n",
    "\n",
    "# Apply the impute_county function to fill in missing values\n",
    "burn['County'] = burn.apply(impute_county, axis=1)\n"
   ]
  },
  {
   "cell_type": "code",
   "execution_count": 15,
   "metadata": {},
   "outputs": [
    {
     "data": {
      "text/plain": [
       "0"
      ]
     },
     "execution_count": 15,
     "metadata": {},
     "output_type": "execute_result"
    }
   ],
   "source": [
    "burn['County'].isna().sum()"
   ]
  },
  {
   "cell_type": "code",
   "execution_count": 16,
   "metadata": {},
   "outputs": [
    {
     "name": "stdout",
     "output_type": "stream",
     "text": [
      "<class 'geopandas.geodataframe.GeoDataFrame'>\n",
      "RangeIndex: 3233 entries, 0 to 3232\n",
      "Data columns (total 18 columns):\n",
      " #   Column    Non-Null Count  Dtype   \n",
      "---  ------    --------------  -----   \n",
      " 0   STATEFP   3233 non-null   object  \n",
      " 1   COUNTYFP  3233 non-null   object  \n",
      " 2   COUNTYNS  3233 non-null   object  \n",
      " 3   GEOID     3233 non-null   object  \n",
      " 4   NAME      3233 non-null   object  \n",
      " 5   NAMELSAD  3233 non-null   object  \n",
      " 6   LSAD      3233 non-null   object  \n",
      " 7   CLASSFP   3233 non-null   object  \n",
      " 8   MTFCC     3233 non-null   object  \n",
      " 9   CSAFP     1255 non-null   object  \n",
      " 10  CBSAFP    1915 non-null   object  \n",
      " 11  METDIVFP  110 non-null    object  \n",
      " 12  FUNCSTAT  3233 non-null   object  \n",
      " 13  ALAND     3233 non-null   int64   \n",
      " 14  AWATER    3233 non-null   int64   \n",
      " 15  INTPTLAT  3233 non-null   object  \n",
      " 16  INTPTLON  3233 non-null   object  \n",
      " 17  geometry  3233 non-null   geometry\n",
      "dtypes: geometry(1), int64(2), object(15)\n",
      "memory usage: 454.8+ KB\n"
     ]
    }
   ],
   "source": [
    "#checking to see if I can get fips codes from the shapefile to join the two dataframes\n",
    "gdf.info()"
   ]
  },
  {
   "cell_type": "code",
   "execution_count": 34,
   "metadata": {},
   "outputs": [
    {
     "name": "stderr",
     "output_type": "stream",
     "text": [
      "/Users/mafphd/datathon/datathon-venv/lib/python3.9/site-packages/IPython/core/interactiveshell.py:3466: FutureWarning: The `op` parameter is deprecated and will be removed in a future release. Please use the `predicate` parameter instead.\n",
      "  if await self.run_code(code, result, async_=asy):\n"
     ]
    }
   ],
   "source": [
    "# bringing FP codes to the burn dataframe for joining\n",
    "# Spatial join between burn DataFrame and shapefile\n",
    "gdf = gdf[['STATEFP', 'COUNTYFP', 'geometry']]  # Select only necessary columns\n",
    "burn_gdf = gpd.GeoDataFrame(burn, geometry=gpd.points_from_xy(burn.LONGITUDE, burn.LATITUDE), crs=gdf.crs)\n",
    "merged = gpd.sjoin(burn_gdf, gdf, how='left', op='within')\n",
    "\n",
    "# Extract STATEFP and COUNTYFP values\n",
    "burn['state_fips'] = merged['STATEFP']\n",
    "burn['county_fips'] = merged['COUNTYFP']\n",
    "\n",
    "# Create 'fips' column by concatenating 'state_fips' and 'county_fips'\n",
    "burn['fips'] = burn['state_fips'].astype(str) + burn['county_fips'].astype(str)\n"
   ]
  },
  {
   "cell_type": "code",
   "execution_count": 18,
   "metadata": {},
   "outputs": [
    {
     "data": {
      "text/html": [
       "<div>\n",
       "<style scoped>\n",
       "    .dataframe tbody tr th:only-of-type {\n",
       "        vertical-align: middle;\n",
       "    }\n",
       "\n",
       "    .dataframe tbody tr th {\n",
       "        vertical-align: top;\n",
       "    }\n",
       "\n",
       "    .dataframe thead th {\n",
       "        text-align: right;\n",
       "    }\n",
       "</style>\n",
       "<table border=\"1\" class=\"dataframe\">\n",
       "  <thead>\n",
       "    <tr style=\"text-align: right;\">\n",
       "      <th></th>\n",
       "      <th>X</th>\n",
       "      <th>Y</th>\n",
       "      <th>OBJECTID</th>\n",
       "      <th>FIRE_ID</th>\n",
       "      <th>FIRE_NAME</th>\n",
       "      <th>ASMNT_TYPE</th>\n",
       "      <th>FIRE_TYPE</th>\n",
       "      <th>NODATA_THRESHOLD</th>\n",
       "      <th>GREENNESS_THRESHOLD</th>\n",
       "      <th>LOW_THRESHOLD</th>\n",
       "      <th>...</th>\n",
       "      <th>PERIM_ID</th>\n",
       "      <th>DNBR_OFFST</th>\n",
       "      <th>DNBR_STDDV</th>\n",
       "      <th>COMMENTS</th>\n",
       "      <th>PRE_ID</th>\n",
       "      <th>POST_ID</th>\n",
       "      <th>County</th>\n",
       "      <th>state_fips</th>\n",
       "      <th>county_fips</th>\n",
       "      <th>fips</th>\n",
       "    </tr>\n",
       "  </thead>\n",
       "  <tbody>\n",
       "    <tr>\n",
       "      <th>0</th>\n",
       "      <td>-144.673246</td>\n",
       "      <td>64.482309</td>\n",
       "      <td>830721</td>\n",
       "      <td>AK6448214467319840607</td>\n",
       "      <td>GLACIER CREEK</td>\n",
       "      <td>Initial (SS)</td>\n",
       "      <td>Wildfire</td>\n",
       "      <td>9999</td>\n",
       "      <td>9999</td>\n",
       "      <td>550</td>\n",
       "      <td>...</td>\n",
       "      <td>506601519860705</td>\n",
       "      <td>-9999</td>\n",
       "      <td>-9999</td>\n",
       "      <td>NaN</td>\n",
       "      <td>NaN</td>\n",
       "      <td>506801519840713</td>\n",
       "      <td>Southeast Fairbanks</td>\n",
       "      <td>02</td>\n",
       "      <td>240</td>\n",
       "      <td>02240</td>\n",
       "    </tr>\n",
       "    <tr>\n",
       "      <th>1</th>\n",
       "      <td>-102.849877</td>\n",
       "      <td>43.083926</td>\n",
       "      <td>830722</td>\n",
       "      <td>SD4308410285019840906</td>\n",
       "      <td>SANDOZ</td>\n",
       "      <td>Initial</td>\n",
       "      <td>Wildfire</td>\n",
       "      <td>-970</td>\n",
       "      <td>-150</td>\n",
       "      <td>220</td>\n",
       "      <td>...</td>\n",
       "      <td>NaN</td>\n",
       "      <td>211</td>\n",
       "      <td>-9999</td>\n",
       "      <td>NaN</td>\n",
       "      <td>503303019840622</td>\n",
       "      <td>503303019840926</td>\n",
       "      <td>Oglala Lakota</td>\n",
       "      <td>46</td>\n",
       "      <td>102</td>\n",
       "      <td>46102</td>\n",
       "    </tr>\n",
       "    <tr>\n",
       "      <th>2</th>\n",
       "      <td>-113.457720</td>\n",
       "      <td>48.804345</td>\n",
       "      <td>830723</td>\n",
       "      <td>MT4880411345819840819</td>\n",
       "      <td>NAPI PEAK</td>\n",
       "      <td>Extended</td>\n",
       "      <td>Wildfire</td>\n",
       "      <td>-970</td>\n",
       "      <td>-150</td>\n",
       "      <td>160</td>\n",
       "      <td>...</td>\n",
       "      <td>NaN</td>\n",
       "      <td>-62</td>\n",
       "      <td>-9999</td>\n",
       "      <td>NaN</td>\n",
       "      <td>504102619840614</td>\n",
       "      <td>504102619850719</td>\n",
       "      <td>Glacier</td>\n",
       "      <td>30</td>\n",
       "      <td>035</td>\n",
       "      <td>30035</td>\n",
       "    </tr>\n",
       "    <tr>\n",
       "      <th>3</th>\n",
       "      <td>-106.958289</td>\n",
       "      <td>45.336400</td>\n",
       "      <td>830724</td>\n",
       "      <td>MT4533610695819840826</td>\n",
       "      <td>KIRBY</td>\n",
       "      <td>Extended</td>\n",
       "      <td>Wildfire</td>\n",
       "      <td>-970</td>\n",
       "      <td>-150</td>\n",
       "      <td>150</td>\n",
       "      <td>...</td>\n",
       "      <td>NaN</td>\n",
       "      <td>52</td>\n",
       "      <td>-9999</td>\n",
       "      <td>NaN</td>\n",
       "      <td>503602819840814</td>\n",
       "      <td>503602819850817</td>\n",
       "      <td>Big Horn</td>\n",
       "      <td>30</td>\n",
       "      <td>003</td>\n",
       "      <td>30003</td>\n",
       "    </tr>\n",
       "    <tr>\n",
       "      <th>4</th>\n",
       "      <td>-106.322839</td>\n",
       "      <td>45.616844</td>\n",
       "      <td>830725</td>\n",
       "      <td>MT4561710632319840918</td>\n",
       "      <td>LAKE CREEK</td>\n",
       "      <td>Initial</td>\n",
       "      <td>Wildfire</td>\n",
       "      <td>-970</td>\n",
       "      <td>-150</td>\n",
       "      <td>-50</td>\n",
       "      <td>...</td>\n",
       "      <td>NaN</td>\n",
       "      <td>-104</td>\n",
       "      <td>-9999</td>\n",
       "      <td>NaN</td>\n",
       "      <td>503602819840814</td>\n",
       "      <td>503602819841017</td>\n",
       "      <td>Rosebud</td>\n",
       "      <td>30</td>\n",
       "      <td>087</td>\n",
       "      <td>30087</td>\n",
       "    </tr>\n",
       "  </tbody>\n",
       "</table>\n",
       "<p>5 rows × 29 columns</p>\n",
       "</div>"
      ],
      "text/plain": [
       "            X          Y  OBJECTID                FIRE_ID      FIRE_NAME  \\\n",
       "0 -144.673246  64.482309    830721  AK6448214467319840607  GLACIER CREEK   \n",
       "1 -102.849877  43.083926    830722  SD4308410285019840906         SANDOZ   \n",
       "2 -113.457720  48.804345    830723  MT4880411345819840819      NAPI PEAK   \n",
       "3 -106.958289  45.336400    830724  MT4533610695819840826          KIRBY   \n",
       "4 -106.322839  45.616844    830725  MT4561710632319840918     LAKE CREEK   \n",
       "\n",
       "     ASMNT_TYPE FIRE_TYPE  NODATA_THRESHOLD  GREENNESS_THRESHOLD  \\\n",
       "0  Initial (SS)  Wildfire              9999                 9999   \n",
       "1       Initial  Wildfire              -970                 -150   \n",
       "2      Extended  Wildfire              -970                 -150   \n",
       "3      Extended  Wildfire              -970                 -150   \n",
       "4       Initial  Wildfire              -970                 -150   \n",
       "\n",
       "   LOW_THRESHOLD  ...         PERIM_ID  DNBR_OFFST DNBR_STDDV  COMMENTS  \\\n",
       "0            550  ...  506601519860705       -9999      -9999       NaN   \n",
       "1            220  ...              NaN         211      -9999       NaN   \n",
       "2            160  ...              NaN         -62      -9999       NaN   \n",
       "3            150  ...              NaN          52      -9999       NaN   \n",
       "4            -50  ...              NaN        -104      -9999       NaN   \n",
       "\n",
       "            PRE_ID          POST_ID               County  state_fips  \\\n",
       "0              NaN  506801519840713  Southeast Fairbanks          02   \n",
       "1  503303019840622  503303019840926        Oglala Lakota          46   \n",
       "2  504102619840614  504102619850719              Glacier          30   \n",
       "3  503602819840814  503602819850817             Big Horn          30   \n",
       "4  503602819840814  503602819841017              Rosebud          30   \n",
       "\n",
       "  county_fips   fips  \n",
       "0         240  02240  \n",
       "1         102  46102  \n",
       "2         035  30035  \n",
       "3         003  30003  \n",
       "4         087  30087  \n",
       "\n",
       "[5 rows x 29 columns]"
      ]
     },
     "execution_count": 18,
     "metadata": {},
     "output_type": "execute_result"
    }
   ],
   "source": [
    "burn.head()"
   ]
  },
  {
   "cell_type": "code",
   "execution_count": 35,
   "metadata": {},
   "outputs": [],
   "source": [
    "# filtering down to California only for both dataframes\n",
    "#Cali = df_map[df_map['STATE_NAME']=='California']\n",
    "#Cali.head()"
   ]
  },
  {
   "cell_type": "code",
   "execution_count": 36,
   "metadata": {},
   "outputs": [
    {
     "name": "stdout",
     "output_type": "stream",
     "text": [
      "<class 'pandas.core.frame.DataFrame'>\n",
      "Index: 1986 entries, 23 to 30374\n",
      "Data columns (total 28 columns):\n",
      " #   Column               Non-Null Count  Dtype  \n",
      "---  ------               --------------  -----  \n",
      " 0   X                    1986 non-null   float64\n",
      " 1   Y                    1986 non-null   float64\n",
      " 2   OBJECTID             1986 non-null   int64  \n",
      " 3   FIRE_ID              1986 non-null   object \n",
      " 4   FIRE_NAME            1986 non-null   object \n",
      " 5   ASMNT_TYPE           1986 non-null   object \n",
      " 6   FIRE_TYPE            1986 non-null   object \n",
      " 7   NODATA_THRESHOLD     1986 non-null   int64  \n",
      " 8   GREENNESS_THRESHOLD  1986 non-null   int64  \n",
      " 9   LOW_THRESHOLD        1986 non-null   int64  \n",
      " 10  MODERATE_THRESHOLD   1986 non-null   int64  \n",
      " 11  HIGH_THRESHOLD       1986 non-null   int64  \n",
      " 12  IG_DATE              1986 non-null   object \n",
      " 13  LATITUDE             1986 non-null   float64\n",
      " 14  LONGITUDE            1986 non-null   float64\n",
      " 15  ACRES                1986 non-null   int64  \n",
      " 16  IRWINID              373 non-null    object \n",
      " 17  MAP_ID               1986 non-null   int64  \n",
      " 18  MAP_PROG             1986 non-null   object \n",
      " 19  PERIM_ID             344 non-null    object \n",
      " 20  DNBR_OFFST           1986 non-null   int64  \n",
      " 21  DNBR_STDDV           1986 non-null   int64  \n",
      " 22  COMMENTS             566 non-null    object \n",
      " 23  PRE_ID               1869 non-null   object \n",
      " 24  POST_ID              1986 non-null   object \n",
      " 25  state_fips           1986 non-null   object \n",
      " 26  county_fips          1986 non-null   object \n",
      " 27  fips                 1986 non-null   object \n",
      "dtypes: float64(4), int64(10), object(14)\n",
      "memory usage: 450.0+ KB\n"
     ]
    }
   ],
   "source": [
    "Cali_burn = burn[burn['state_fips'] == '06']\n",
    "Cali_burn.info()"
   ]
  },
  {
   "cell_type": "code",
   "execution_count": 41,
   "metadata": {},
   "outputs": [
    {
     "name": "stdout",
     "output_type": "stream",
     "text": [
      "<class 'pandas.core.frame.DataFrame'>\n",
      "RangeIndex: 1986 entries, 0 to 1985\n",
      "Data columns (total 32 columns):\n",
      " #   Column               Non-Null Count  Dtype  \n",
      "---  ------               --------------  -----  \n",
      " 0   X                    1986 non-null   float64\n",
      " 1   Y                    1986 non-null   float64\n",
      " 2   OBJECTID             1986 non-null   int64  \n",
      " 3   FIRE_ID              1986 non-null   object \n",
      " 4   FIRE_NAME            1986 non-null   object \n",
      " 5   ASMNT_TYPE           1986 non-null   object \n",
      " 6   FIRE_TYPE            1986 non-null   object \n",
      " 7   NODATA_THRESHOLD     1986 non-null   int64  \n",
      " 8   GREENNESS_THRESHOLD  1986 non-null   int64  \n",
      " 9   LOW_THRESHOLD        1986 non-null   int64  \n",
      " 10  MODERATE_THRESHOLD   1986 non-null   int64  \n",
      " 11  HIGH_THRESHOLD       1986 non-null   int64  \n",
      " 12  IG_DATE              1986 non-null   object \n",
      " 13  LATITUDE             1986 non-null   float64\n",
      " 14  LONGITUDE            1986 non-null   float64\n",
      " 15  ACRES                1986 non-null   int64  \n",
      " 16  IRWINID              373 non-null    object \n",
      " 17  MAP_ID               1986 non-null   int64  \n",
      " 18  MAP_PROG             1986 non-null   object \n",
      " 19  PERIM_ID             344 non-null    object \n",
      " 20  DNBR_OFFST           1986 non-null   int64  \n",
      " 21  DNBR_STDDV           1986 non-null   int64  \n",
      " 22  COMMENTS             566 non-null    object \n",
      " 23  PRE_ID               1869 non-null   object \n",
      " 24  POST_ID              1986 non-null   object \n",
      " 25  state_fips_x         1986 non-null   object \n",
      " 26  county_fips_x        1986 non-null   object \n",
      " 27  fips                 1986 non-null   object \n",
      " 28  county_name          1986 non-null   object \n",
      " 29  population           1986 non-null   int64  \n",
      " 30  state_fips_y         1986 non-null   object \n",
      " 31  county_fips_y        1986 non-null   object \n",
      "dtypes: float64(4), int64(11), object(17)\n",
      "memory usage: 496.6+ KB\n"
     ]
    }
   ],
   "source": [
    "burn_pop_merge = Cali_burn.merge(df, how = 'left', on = 'fips')\n",
    "burn_pop_merge.info()"
   ]
  },
  {
   "cell_type": "code",
   "execution_count": 42,
   "metadata": {},
   "outputs": [
    {
     "data": {
      "text/plain": [
       "Index(['X', 'Y', 'OBJECTID', 'FIRE_ID', 'FIRE_NAME', 'ASMNT_TYPE', 'FIRE_TYPE',\n",
       "       'NODATA_THRESHOLD', 'GREENNESS_THRESHOLD', 'LOW_THRESHOLD',\n",
       "       'MODERATE_THRESHOLD', 'HIGH_THRESHOLD', 'IG_DATE', 'LATITUDE',\n",
       "       'LONGITUDE', 'ACRES', 'IRWINID', 'MAP_ID', 'MAP_PROG', 'PERIM_ID',\n",
       "       'DNBR_OFFST', 'DNBR_STDDV', 'COMMENTS', 'PRE_ID', 'POST_ID',\n",
       "       'state_fips_x', 'county_fips_x', 'fips', 'county_name', 'population',\n",
       "       'state_fips_y', 'county_fips_y'],\n",
       "      dtype='object')"
      ]
     },
     "execution_count": 42,
     "metadata": {},
     "output_type": "execute_result"
    }
   ],
   "source": [
    "burn_pop_merge.columns"
   ]
  },
  {
   "cell_type": "code",
   "execution_count": 43,
   "metadata": {},
   "outputs": [
    {
     "name": "stdout",
     "output_type": "stream",
     "text": [
      "<class 'pandas.core.frame.DataFrame'>\n",
      "RangeIndex: 1986 entries, 0 to 1985\n",
      "Data columns (total 30 columns):\n",
      " #   Column               Non-Null Count  Dtype  \n",
      "---  ------               --------------  -----  \n",
      " 0   X                    1986 non-null   float64\n",
      " 1   Y                    1986 non-null   float64\n",
      " 2   OBJECTID             1986 non-null   int64  \n",
      " 3   FIRE_ID              1986 non-null   object \n",
      " 4   FIRE_NAME            1986 non-null   object \n",
      " 5   ASMNT_TYPE           1986 non-null   object \n",
      " 6   FIRE_TYPE            1986 non-null   object \n",
      " 7   NODATA_THRESHOLD     1986 non-null   int64  \n",
      " 8   GREENNESS_THRESHOLD  1986 non-null   int64  \n",
      " 9   LOW_THRESHOLD        1986 non-null   int64  \n",
      " 10  MODERATE_THRESHOLD   1986 non-null   int64  \n",
      " 11  HIGH_THRESHOLD       1986 non-null   int64  \n",
      " 12  IG_DATE              1986 non-null   object \n",
      " 13  LATITUDE             1986 non-null   float64\n",
      " 14  LONGITUDE            1986 non-null   float64\n",
      " 15  ACRES                1986 non-null   int64  \n",
      " 16  IRWINID              373 non-null    object \n",
      " 17  MAP_ID               1986 non-null   int64  \n",
      " 18  MAP_PROG             1986 non-null   object \n",
      " 19  PERIM_ID             344 non-null    object \n",
      " 20  DNBR_OFFST           1986 non-null   int64  \n",
      " 21  DNBR_STDDV           1986 non-null   int64  \n",
      " 22  COMMENTS             566 non-null    object \n",
      " 23  PRE_ID               1869 non-null   object \n",
      " 24  POST_ID              1986 non-null   object \n",
      " 25  state_fips_x         1986 non-null   object \n",
      " 26  county_fips_x        1986 non-null   object \n",
      " 27  fips                 1986 non-null   object \n",
      " 28  county_name          1986 non-null   object \n",
      " 29  population           1986 non-null   int64  \n",
      "dtypes: float64(4), int64(11), object(15)\n",
      "memory usage: 465.6+ KB\n"
     ]
    }
   ],
   "source": [
    "#dropping extra columns\n",
    "burn_pop_merge.drop(['state_fips_y', 'county_fips_y'], axis=1, inplace=True)\n",
    "burn_pop_merge.info()"
   ]
  },
  {
   "cell_type": "code",
   "execution_count": 45,
   "metadata": {},
   "outputs": [
    {
     "data": {
      "text/plain": [
       "Index(['X', 'Y', 'OBJECTID', 'FIRE_ID', 'FIRE_NAME', 'ASMNT_TYPE', 'FIRE_TYPE',\n",
       "       'NODATA_THRESHOLD', 'GREENNESS_THRESHOLD', 'LOW_THRESHOLD',\n",
       "       'MODERATE_THRESHOLD', 'HIGH_THRESHOLD', 'IG_DATE', 'LATITUDE',\n",
       "       'LONGITUDE', 'ACRES', 'IRWINID', 'MAP_ID', 'MAP_PROG', 'PERIM_ID',\n",
       "       'DNBR_OFFST', 'DNBR_STDDV', 'COMMENTS', 'PRE_ID', 'POST_ID',\n",
       "       'state_fips', 'county_fips', 'fips', 'county_name', 'population'],\n",
       "      dtype='object')"
      ]
     },
     "execution_count": 45,
     "metadata": {},
     "output_type": "execute_result"
    }
   ],
   "source": [
    "burn_pop_merge.rename(columns = {'state_fips_x': 'state_fips', 'county_fips_x': 'county_fips'}, inplace=True)\n",
    "burn_pop_merge.columns"
   ]
  },
  {
   "cell_type": "code",
   "execution_count": 46,
   "metadata": {},
   "outputs": [],
   "source": [
    "#writing file to csv\n",
    "burn_pop_merge.to_csv('burn_severity_population.csv')"
   ]
  },
  {
   "cell_type": "code",
   "execution_count": null,
   "metadata": {},
   "outputs": [],
   "source": [
    "#extras = burn_pop_merge[burn_pop_merge['POST_ID'].isna()]\n",
    "#print(extras)\n"
   ]
  },
  {
   "cell_type": "code",
   "execution_count": null,
   "metadata": {},
   "outputs": [],
   "source": [
    "#extras.info()"
   ]
  },
  {
   "cell_type": "code",
   "execution_count": null,
   "metadata": {},
   "outputs": [],
   "source": [
    "#dropping the two extra rows that got added, since they don't seem to have any info from the burn data\n",
    "#burn_pop_merge = burn_pop_merge.dropna(subset=['POST_ID'])\n",
    "#burn_pop_merge.info()"
   ]
  },
  {
   "cell_type": "code",
   "execution_count": null,
   "metadata": {},
   "outputs": [],
   "source": [
    "pip install seaborn"
   ]
  },
  {
   "cell_type": "code",
   "execution_count": null,
   "metadata": {},
   "outputs": [],
   "source": [
    "# quick visualization of the results\n",
    "import matplotlib.pyplot as plt\n",
    "import seaborn as sns\n",
    "# Group by 'County Name' and get the count of POST_ID\n",
    "county_counts = burn_pop_merge.groupby('County Name')['POST_ID'].count()\n",
    "\n",
    "# Filter for counties with more than 5 POST_ID values\n",
    "county_counts_filtered = county_counts[county_counts > 5]\n",
    "\n",
    "# Merge with the original DataFrame to keep 'County Population'\n",
    "merged_df = burn_pop_merge.merge(county_counts_filtered, left_on='County Name', right_index=True, suffixes=('_original', '_count'))\n",
    "\n",
    "# Sort counties by County Population in descending order\n",
    "sorted_df = merged_df.sort_values(by='County Population', ascending=False)\n",
    "# Create the bar chart\n",
    "plt.figure(figsize=(20, 6))\n",
    "sns.barplot(x=sorted_df['County Name'], y=sorted_df['POST_ID_count'],color='firebrick')\n",
    "plt.title('Counties with > 5 fire records, Sorted by Population')\n",
    "plt.xlabel('County Name')\n",
    "plt.ylabel('Fires')\n",
    "plt.xticks(rotation=90)\n",
    "plt.show()\n"
   ]
  }
 ],
 "metadata": {
  "kernelspec": {
   "display_name": "datathon-venv",
   "language": "python",
   "name": "python3"
  },
  "language_info": {
   "codemirror_mode": {
    "name": "ipython",
    "version": 3
   },
   "file_extension": ".py",
   "mimetype": "text/x-python",
   "name": "python",
   "nbconvert_exporter": "python",
   "pygments_lexer": "ipython3",
   "version": "3.9.7"
  },
  "orig_nbformat": 4
 },
 "nbformat": 4,
 "nbformat_minor": 2
}
