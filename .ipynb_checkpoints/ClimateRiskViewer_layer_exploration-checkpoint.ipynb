{
 "cells": [
  {
   "cell_type": "markdown",
   "id": "4a8692c9-df18-431e-aa3b-0e95fcf87438",
   "metadata": {},
   "source": [
    "# Data exploration of Climate Risk Viewer"
   ]
  },
  {
   "cell_type": "code",
   "execution_count": 1,
   "id": "82a066b7-98ba-4827-96f2-222b638a1ca7",
   "metadata": {
    "execution": {
     "iopub.execute_input": "2023-10-03T19:14:17.829514Z",
     "iopub.status.busy": "2023-10-03T19:14:17.828966Z",
     "iopub.status.idle": "2023-10-03T19:14:19.615683Z",
     "shell.execute_reply": "2023-10-03T19:14:19.615175Z",
     "shell.execute_reply.started": "2023-10-03T19:14:17.829481Z"
    },
    "tags": []
   },
   "outputs": [],
   "source": [
    "#libraries\n",
    "\n",
    "import pandas as pd\n",
    "import numpy as np\n",
    "import geopandas as gpd\n",
    "import requests\n",
    "import pyarrow"
   ]
  },
  {
   "cell_type": "markdown",
   "id": "5f618b05-b79a-4896-97e7-7b2f14c4f487",
   "metadata": {},
   "source": [
    "# To do\n",
    "\n",
    "## Select a few layers we want to work with census\n",
    "\n",
    "## identify values that we can transform\n",
    "\n",
    "## Find features that will help us merge the data\n",
    "\n",
    "## Calculate an index based on weight of each value that is overlaped\n",
    "\n",
    "## Map the index "
   ]
  },
  {
   "cell_type": "code",
   "execution_count": 2,
   "id": "9c5af452-bddc-4ad9-819f-de403ecccc10",
   "metadata": {
    "execution": {
     "iopub.execute_input": "2023-09-28T16:12:03.124666Z",
     "iopub.status.busy": "2023-09-28T16:12:03.116005Z",
     "iopub.status.idle": "2023-09-28T16:12:03.622683Z",
     "shell.execute_reply": "2023-09-28T16:12:03.622196Z",
     "shell.execute_reply.started": "2023-09-28T16:12:03.124557Z"
    }
   },
   "outputs": [
    {
     "data": {
      "text/plain": [
       "58500"
      ]
     },
     "execution_count": 2,
     "metadata": {},
     "output_type": "execute_result"
    }
   ],
   "source": [
    "# downloading files from the CRV\n"
   ]
  },
  {
   "cell_type": "code",
   "execution_count": 25,
   "id": "806d6b90-feb1-463f-8c75-0ae870eeadba",
   "metadata": {
    "execution": {
     "iopub.execute_input": "2023-10-03T19:29:51.004920Z",
     "iopub.status.busy": "2023-10-03T19:29:51.003226Z",
     "iopub.status.idle": "2023-10-03T19:30:01.943879Z",
     "shell.execute_reply": "2023-10-03T19:30:01.943343Z",
     "shell.execute_reply.started": "2023-10-03T19:29:51.004826Z"
    },
    "tags": []
   },
   "outputs": [
    {
     "data": {
      "text/html": [
       "<div>\n",
       "<style scoped>\n",
       "    .dataframe tbody tr th:only-of-type {\n",
       "        vertical-align: middle;\n",
       "    }\n",
       "\n",
       "    .dataframe tbody tr th {\n",
       "        vertical-align: top;\n",
       "    }\n",
       "\n",
       "    .dataframe thead th {\n",
       "        text-align: right;\n",
       "    }\n",
       "</style>\n",
       "<table border=\"1\" class=\"dataframe\">\n",
       "  <thead>\n",
       "    <tr style=\"text-align: right;\">\n",
       "      <th></th>\n",
       "      <th>STATEFP</th>\n",
       "      <th>COUNTYFP</th>\n",
       "      <th>COUNTYNS</th>\n",
       "      <th>GEOID</th>\n",
       "      <th>NAME</th>\n",
       "      <th>NAMELSAD</th>\n",
       "      <th>LSAD</th>\n",
       "      <th>CLASSFP</th>\n",
       "      <th>MTFCC</th>\n",
       "      <th>CSAFP</th>\n",
       "      <th>CBSAFP</th>\n",
       "      <th>METDIVFP</th>\n",
       "      <th>FUNCSTAT</th>\n",
       "      <th>ALAND</th>\n",
       "      <th>AWATER</th>\n",
       "      <th>INTPTLAT</th>\n",
       "      <th>INTPTLON</th>\n",
       "      <th>geometry</th>\n",
       "    </tr>\n",
       "  </thead>\n",
       "  <tbody>\n",
       "    <tr>\n",
       "      <th>0</th>\n",
       "      <td>31</td>\n",
       "      <td>039</td>\n",
       "      <td>00835841</td>\n",
       "      <td>31039</td>\n",
       "      <td>Cuming</td>\n",
       "      <td>Cuming County</td>\n",
       "      <td>06</td>\n",
       "      <td>H1</td>\n",
       "      <td>G4020</td>\n",
       "      <td>NaN</td>\n",
       "      <td>NaN</td>\n",
       "      <td>NaN</td>\n",
       "      <td>A</td>\n",
       "      <td>1477652222</td>\n",
       "      <td>10690952</td>\n",
       "      <td>+41.9158651</td>\n",
       "      <td>-096.7885168</td>\n",
       "      <td>POLYGON ((-97.01952 42.00410, -97.01952 42.004...</td>\n",
       "    </tr>\n",
       "    <tr>\n",
       "      <th>1</th>\n",
       "      <td>53</td>\n",
       "      <td>069</td>\n",
       "      <td>01513275</td>\n",
       "      <td>53069</td>\n",
       "      <td>Wahkiakum</td>\n",
       "      <td>Wahkiakum County</td>\n",
       "      <td>06</td>\n",
       "      <td>H1</td>\n",
       "      <td>G4020</td>\n",
       "      <td>NaN</td>\n",
       "      <td>NaN</td>\n",
       "      <td>NaN</td>\n",
       "      <td>A</td>\n",
       "      <td>680962890</td>\n",
       "      <td>61582307</td>\n",
       "      <td>+46.2946377</td>\n",
       "      <td>-123.4244583</td>\n",
       "      <td>POLYGON ((-123.43639 46.23820, -123.44759 46.2...</td>\n",
       "    </tr>\n",
       "    <tr>\n",
       "      <th>2</th>\n",
       "      <td>35</td>\n",
       "      <td>011</td>\n",
       "      <td>00933054</td>\n",
       "      <td>35011</td>\n",
       "      <td>De Baca</td>\n",
       "      <td>De Baca County</td>\n",
       "      <td>06</td>\n",
       "      <td>H1</td>\n",
       "      <td>G4020</td>\n",
       "      <td>NaN</td>\n",
       "      <td>NaN</td>\n",
       "      <td>NaN</td>\n",
       "      <td>A</td>\n",
       "      <td>6016819475</td>\n",
       "      <td>29089486</td>\n",
       "      <td>+34.3592729</td>\n",
       "      <td>-104.3686961</td>\n",
       "      <td>POLYGON ((-104.56739 33.99757, -104.56772 33.9...</td>\n",
       "    </tr>\n",
       "    <tr>\n",
       "      <th>3</th>\n",
       "      <td>31</td>\n",
       "      <td>109</td>\n",
       "      <td>00835876</td>\n",
       "      <td>31109</td>\n",
       "      <td>Lancaster</td>\n",
       "      <td>Lancaster County</td>\n",
       "      <td>06</td>\n",
       "      <td>H1</td>\n",
       "      <td>G4020</td>\n",
       "      <td>339</td>\n",
       "      <td>30700</td>\n",
       "      <td>NaN</td>\n",
       "      <td>A</td>\n",
       "      <td>2169270569</td>\n",
       "      <td>22849484</td>\n",
       "      <td>+40.7835474</td>\n",
       "      <td>-096.6886584</td>\n",
       "      <td>POLYGON ((-96.91075 40.78494, -96.91075 40.790...</td>\n",
       "    </tr>\n",
       "    <tr>\n",
       "      <th>4</th>\n",
       "      <td>31</td>\n",
       "      <td>129</td>\n",
       "      <td>00835886</td>\n",
       "      <td>31129</td>\n",
       "      <td>Nuckolls</td>\n",
       "      <td>Nuckolls County</td>\n",
       "      <td>06</td>\n",
       "      <td>H1</td>\n",
       "      <td>G4020</td>\n",
       "      <td>NaN</td>\n",
       "      <td>NaN</td>\n",
       "      <td>NaN</td>\n",
       "      <td>A</td>\n",
       "      <td>1489645188</td>\n",
       "      <td>1718484</td>\n",
       "      <td>+40.1764918</td>\n",
       "      <td>-098.0468422</td>\n",
       "      <td>POLYGON ((-98.27367 40.08940, -98.27367 40.089...</td>\n",
       "    </tr>\n",
       "  </tbody>\n",
       "</table>\n",
       "</div>"
      ],
      "text/plain": [
       "  STATEFP COUNTYFP  COUNTYNS  GEOID       NAME          NAMELSAD LSAD CLASSFP  \\\n",
       "0      31      039  00835841  31039     Cuming     Cuming County   06      H1   \n",
       "1      53      069  01513275  53069  Wahkiakum  Wahkiakum County   06      H1   \n",
       "2      35      011  00933054  35011    De Baca    De Baca County   06      H1   \n",
       "3      31      109  00835876  31109  Lancaster  Lancaster County   06      H1   \n",
       "4      31      129  00835886  31129   Nuckolls   Nuckolls County   06      H1   \n",
       "\n",
       "   MTFCC CSAFP CBSAFP METDIVFP FUNCSTAT       ALAND    AWATER     INTPTLAT  \\\n",
       "0  G4020   NaN    NaN      NaN        A  1477652222  10690952  +41.9158651   \n",
       "1  G4020   NaN    NaN      NaN        A   680962890  61582307  +46.2946377   \n",
       "2  G4020   NaN    NaN      NaN        A  6016819475  29089486  +34.3592729   \n",
       "3  G4020   339  30700      NaN        A  2169270569  22849484  +40.7835474   \n",
       "4  G4020   NaN    NaN      NaN        A  1489645188   1718484  +40.1764918   \n",
       "\n",
       "       INTPTLON                                           geometry  \n",
       "0  -096.7885168  POLYGON ((-97.01952 42.00410, -97.01952 42.004...  \n",
       "1  -123.4244583  POLYGON ((-123.43639 46.23820, -123.44759 46.2...  \n",
       "2  -104.3686961  POLYGON ((-104.56739 33.99757, -104.56772 33.9...  \n",
       "3  -096.6886584  POLYGON ((-96.91075 40.78494, -96.91075 40.790...  \n",
       "4  -098.0468422  POLYGON ((-98.27367 40.08940, -98.27367 40.089...  "
      ]
     },
     "execution_count": 25,
     "metadata": {},
     "output_type": "execute_result"
    }
   ],
   "source": [
    "#trying to identify counties by latitude/longitude coordinates using TIGER/Line Shapefile, 2019, nation, U.S., Current County and Equivalent National Shapefile from data.gov\n",
    "\n",
    "# Load the shapefile\n",
    "gdf = gpd.read_file('tl_2019_us_county/tl_2019_us_county.shp') #file is too large to commit; download from https://catalog.data.gov/dataset/tiger-line-shapefile-2019-nation-u-s-current-county-and-equivalent-national-shapefile\n",
    "\n",
    "gdf.head()"
   ]
  },
  {
   "cell_type": "code",
   "execution_count": 69,
   "id": "f46a584c-8b1d-475c-814b-9e2c28e1283d",
   "metadata": {
    "execution": {
     "iopub.execute_input": "2023-10-03T19:38:28.595495Z",
     "iopub.status.busy": "2023-10-03T19:38:28.594427Z",
     "iopub.status.idle": "2023-10-03T19:38:28.626948Z",
     "shell.execute_reply": "2023-10-03T19:38:28.625609Z",
     "shell.execute_reply.started": "2023-10-03T19:38:28.595426Z"
    },
    "tags": []
   },
   "outputs": [
    {
     "data": {
      "text/html": [
       "<div>\n",
       "<style scoped>\n",
       "    .dataframe tbody tr th:only-of-type {\n",
       "        vertical-align: middle;\n",
       "    }\n",
       "\n",
       "    .dataframe tbody tr th {\n",
       "        vertical-align: top;\n",
       "    }\n",
       "\n",
       "    .dataframe thead th {\n",
       "        text-align: right;\n",
       "    }\n",
       "</style>\n",
       "<table border=\"1\" class=\"dataframe\">\n",
       "  <thead>\n",
       "    <tr style=\"text-align: right;\">\n",
       "      <th></th>\n",
       "      <th>STATE_NAME</th>\n",
       "      <th>FP</th>\n",
       "      <th>ST</th>\n",
       "    </tr>\n",
       "  </thead>\n",
       "  <tbody>\n",
       "    <tr>\n",
       "      <th>0</th>\n",
       "      <td>Alabama</td>\n",
       "      <td>1</td>\n",
       "      <td>AL</td>\n",
       "    </tr>\n",
       "    <tr>\n",
       "      <th>1</th>\n",
       "      <td>Alaska</td>\n",
       "      <td>2</td>\n",
       "      <td>AK</td>\n",
       "    </tr>\n",
       "    <tr>\n",
       "      <th>2</th>\n",
       "      <td>Arizona</td>\n",
       "      <td>4</td>\n",
       "      <td>AZ</td>\n",
       "    </tr>\n",
       "    <tr>\n",
       "      <th>3</th>\n",
       "      <td>Arkansas</td>\n",
       "      <td>5</td>\n",
       "      <td>AR</td>\n",
       "    </tr>\n",
       "    <tr>\n",
       "      <th>4</th>\n",
       "      <td>California</td>\n",
       "      <td>6</td>\n",
       "      <td>CA</td>\n",
       "    </tr>\n",
       "  </tbody>\n",
       "</table>\n",
       "</div>"
      ],
      "text/plain": [
       "   STATE_NAME  FP  ST\n",
       "0     Alabama   1  AL\n",
       "1      Alaska   2  AK\n",
       "2     Arizona   4  AZ\n",
       "3    Arkansas   5  AR\n",
       "4  California   6  CA"
      ]
     },
     "execution_count": 69,
     "metadata": {},
     "output_type": "execute_result"
    }
   ],
   "source": [
    "#load state FIPS info from https://gist.github.com/dantonnoriega/bf1acd2290e15b91e6710b6fd3be0a53#file-us-state-ansi-fips-csv\n",
    "\n",
    "fips = pd.read_csv(\"data/us-state-ansi-fips.csv\")\n",
    "fips['ST'] = fips['ST'].str.replace(' ', '')\n",
    "fips.head()"
   ]
  },
  {
   "cell_type": "code",
   "execution_count": 70,
   "id": "32904126-c480-47cc-a8b9-699fce39affe",
   "metadata": {
    "execution": {
     "iopub.execute_input": "2023-10-03T19:38:29.999271Z",
     "iopub.status.busy": "2023-10-03T19:38:29.998176Z",
     "iopub.status.idle": "2023-10-03T19:38:30.006931Z",
     "shell.execute_reply": "2023-10-03T19:38:30.005966Z",
     "shell.execute_reply.started": "2023-10-03T19:38:29.999202Z"
    },
    "tags": []
   },
   "outputs": [],
   "source": [
    "fips.FP = [str(num).zfill(2) for num in fips.FP]"
   ]
  },
  {
   "cell_type": "code",
   "execution_count": 71,
   "id": "4ce3b410-98ee-475c-809d-dc1833867657",
   "metadata": {
    "execution": {
     "iopub.execute_input": "2023-10-03T19:38:30.463354Z",
     "iopub.status.busy": "2023-10-03T19:38:30.462300Z",
     "iopub.status.idle": "2023-10-03T19:38:30.478005Z",
     "shell.execute_reply": "2023-10-03T19:38:30.477246Z",
     "shell.execute_reply.started": "2023-10-03T19:38:30.463285Z"
    },
    "tags": []
   },
   "outputs": [
    {
     "data": {
      "text/html": [
       "<div>\n",
       "<style scoped>\n",
       "    .dataframe tbody tr th:only-of-type {\n",
       "        vertical-align: middle;\n",
       "    }\n",
       "\n",
       "    .dataframe tbody tr th {\n",
       "        vertical-align: top;\n",
       "    }\n",
       "\n",
       "    .dataframe thead th {\n",
       "        text-align: right;\n",
       "    }\n",
       "</style>\n",
       "<table border=\"1\" class=\"dataframe\">\n",
       "  <thead>\n",
       "    <tr style=\"text-align: right;\">\n",
       "      <th></th>\n",
       "      <th>STATE_NAME</th>\n",
       "      <th>FP</th>\n",
       "      <th>ST</th>\n",
       "    </tr>\n",
       "  </thead>\n",
       "  <tbody>\n",
       "    <tr>\n",
       "      <th>0</th>\n",
       "      <td>Alabama</td>\n",
       "      <td>01</td>\n",
       "      <td>AL</td>\n",
       "    </tr>\n",
       "    <tr>\n",
       "      <th>1</th>\n",
       "      <td>Alaska</td>\n",
       "      <td>02</td>\n",
       "      <td>AK</td>\n",
       "    </tr>\n",
       "    <tr>\n",
       "      <th>2</th>\n",
       "      <td>Arizona</td>\n",
       "      <td>04</td>\n",
       "      <td>AZ</td>\n",
       "    </tr>\n",
       "    <tr>\n",
       "      <th>3</th>\n",
       "      <td>Arkansas</td>\n",
       "      <td>05</td>\n",
       "      <td>AR</td>\n",
       "    </tr>\n",
       "    <tr>\n",
       "      <th>4</th>\n",
       "      <td>California</td>\n",
       "      <td>06</td>\n",
       "      <td>CA</td>\n",
       "    </tr>\n",
       "  </tbody>\n",
       "</table>\n",
       "</div>"
      ],
      "text/plain": [
       "   STATE_NAME  FP  ST\n",
       "0     Alabama  01  AL\n",
       "1      Alaska  02  AK\n",
       "2     Arizona  04  AZ\n",
       "3    Arkansas  05  AR\n",
       "4  California  06  CA"
      ]
     },
     "execution_count": 71,
     "metadata": {},
     "output_type": "execute_result"
    }
   ],
   "source": [
    "fips.head()"
   ]
  },
  {
   "cell_type": "code",
   "execution_count": 72,
   "id": "76d9e6e9-8238-475d-b54d-7809aa58a582",
   "metadata": {
    "execution": {
     "iopub.execute_input": "2023-10-03T19:38:30.853613Z",
     "iopub.status.busy": "2023-10-03T19:38:30.852851Z",
     "iopub.status.idle": "2023-10-03T19:38:30.861700Z",
     "shell.execute_reply": "2023-10-03T19:38:30.860516Z",
     "shell.execute_reply.started": "2023-10-03T19:38:30.853571Z"
    },
    "tags": []
   },
   "outputs": [],
   "source": [
    "fips = fips[['FP','ST']]"
   ]
  },
  {
   "cell_type": "code",
   "execution_count": 64,
   "id": "6310060d-1305-41c7-a1fd-8de010879d98",
   "metadata": {
    "execution": {
     "iopub.execute_input": "2023-10-03T19:37:57.393252Z",
     "iopub.status.busy": "2023-10-03T19:37:57.392219Z",
     "iopub.status.idle": "2023-10-03T19:37:57.401716Z",
     "shell.execute_reply": "2023-10-03T19:37:57.400710Z",
     "shell.execute_reply.started": "2023-10-03T19:37:57.393190Z"
    },
    "tags": []
   },
   "outputs": [
    {
     "data": {
      "text/plain": [
       "(3233, 18)"
      ]
     },
     "execution_count": 64,
     "metadata": {},
     "output_type": "execute_result"
    }
   ],
   "source": [
    "gdf.shape"
   ]
  },
  {
   "cell_type": "code",
   "execution_count": 65,
   "id": "106d4d6e-4230-4df2-b5dc-2c518a9ea0e3",
   "metadata": {
    "execution": {
     "iopub.execute_input": "2023-10-03T19:37:57.955647Z",
     "iopub.status.busy": "2023-10-03T19:37:57.954608Z",
     "iopub.status.idle": "2023-10-03T19:37:57.970363Z",
     "shell.execute_reply": "2023-10-03T19:37:57.969322Z",
     "shell.execute_reply.started": "2023-10-03T19:37:57.955579Z"
    },
    "tags": []
   },
   "outputs": [],
   "source": [
    "gdf_CA = gdf[gdf['STATEFP']=='06']"
   ]
  },
  {
   "cell_type": "code",
   "execution_count": 5,
   "id": "ce836baf-3bd1-47c5-a2de-65941b199175",
   "metadata": {
    "execution": {
     "iopub.execute_input": "2023-09-28T16:43:47.237481Z",
     "iopub.status.busy": "2023-09-28T16:43:47.236432Z",
     "iopub.status.idle": "2023-09-28T16:43:47.246046Z",
     "shell.execute_reply": "2023-09-28T16:43:47.244982Z",
     "shell.execute_reply.started": "2023-09-28T16:43:47.237414Z"
    },
    "tags": []
   },
   "outputs": [
    {
     "data": {
      "text/plain": [
       "(58, 18)"
      ]
     },
     "execution_count": 5,
     "metadata": {},
     "output_type": "execute_result"
    }
   ],
   "source": [
    "gdf_CA.shape"
   ]
  },
  {
   "cell_type": "code",
   "execution_count": 6,
   "id": "a91deb47-cbb2-4128-956c-8407e23a255d",
   "metadata": {
    "execution": {
     "iopub.execute_input": "2023-09-28T16:43:49.824093Z",
     "iopub.status.busy": "2023-09-28T16:43:49.823034Z",
     "iopub.status.idle": "2023-09-28T16:43:49.968269Z",
     "shell.execute_reply": "2023-09-28T16:43:49.967868Z",
     "shell.execute_reply.started": "2023-09-28T16:43:49.824017Z"
    },
    "tags": []
   },
   "outputs": [],
   "source": [
    "gdf_CA.to_csv('gdf_CA.csv')"
   ]
  },
  {
   "cell_type": "code",
   "execution_count": 7,
   "id": "4acc617f-808c-442e-8e2a-19f4c7fec232",
   "metadata": {
    "execution": {
     "iopub.execute_input": "2023-09-28T16:43:50.217484Z",
     "iopub.status.busy": "2023-09-28T16:43:50.216739Z",
     "iopub.status.idle": "2023-09-28T16:43:51.380258Z",
     "shell.execute_reply": "2023-09-28T16:43:51.379875Z",
     "shell.execute_reply.started": "2023-09-28T16:43:50.217423Z"
    },
    "tags": []
   },
   "outputs": [],
   "source": [
    "gdf_CA.to_parquet('gdf_CA.parquet.gzip',\n",
    "              compression='gzip')  \n",
    "#pd.read_parquet('df.parquet.gzip')  "
   ]
  },
  {
   "cell_type": "code",
   "execution_count": 55,
   "id": "1907dfff-0800-4571-bf41-8c0e20bd8af6",
   "metadata": {
    "execution": {
     "iopub.execute_input": "2023-10-03T19:34:27.788901Z",
     "iopub.status.busy": "2023-10-03T19:34:27.787455Z",
     "iopub.status.idle": "2023-10-03T19:34:27.799377Z",
     "shell.execute_reply": "2023-10-03T19:34:27.798557Z",
     "shell.execute_reply.started": "2023-10-03T19:34:27.788825Z"
    },
    "tags": []
   },
   "outputs": [
    {
     "data": {
      "text/plain": [
       "' AK'"
      ]
     },
     "execution_count": 55,
     "metadata": {},
     "output_type": "execute_result"
    }
   ],
   "source": [
    "str(fips['ST'][1])\n"
   ]
  },
  {
   "cell_type": "code",
   "execution_count": 73,
   "id": "13ed90ea-0bb2-45c0-bd9f-d6f6ff59e5b2",
   "metadata": {
    "execution": {
     "iopub.execute_input": "2023-10-03T19:38:34.477202Z",
     "iopub.status.busy": "2023-10-03T19:38:34.476148Z",
     "iopub.status.idle": "2023-10-03T19:38:34.490685Z",
     "shell.execute_reply": "2023-10-03T19:38:34.489728Z",
     "shell.execute_reply.started": "2023-10-03T19:38:34.477128Z"
    },
    "tags": []
   },
   "outputs": [
    {
     "data": {
      "text/html": [
       "<div>\n",
       "<style scoped>\n",
       "    .dataframe tbody tr th:only-of-type {\n",
       "        vertical-align: middle;\n",
       "    }\n",
       "\n",
       "    .dataframe tbody tr th {\n",
       "        vertical-align: top;\n",
       "    }\n",
       "\n",
       "    .dataframe thead th {\n",
       "        text-align: right;\n",
       "    }\n",
       "</style>\n",
       "<table border=\"1\" class=\"dataframe\">\n",
       "  <thead>\n",
       "    <tr style=\"text-align: right;\">\n",
       "      <th></th>\n",
       "      <th>FP</th>\n",
       "      <th>ST</th>\n",
       "    </tr>\n",
       "  </thead>\n",
       "  <tbody>\n",
       "    <tr>\n",
       "      <th>4</th>\n",
       "      <td>06</td>\n",
       "      <td>CA</td>\n",
       "    </tr>\n",
       "  </tbody>\n",
       "</table>\n",
       "</div>"
      ],
      "text/plain": [
       "   FP  ST\n",
       "4  06  CA"
      ]
     },
     "execution_count": 73,
     "metadata": {},
     "output_type": "execute_result"
    }
   ],
   "source": [
    "fips[fips['ST'] == 'CA']"
   ]
  },
  {
   "cell_type": "code",
   "execution_count": null,
   "id": "af9c1b8e-6088-4821-a8da-fef442b9c203",
   "metadata": {
    "tags": []
   },
   "outputs": [],
   "source": []
  },
  {
   "cell_type": "code",
   "execution_count": 113,
   "id": "454fd387-d041-4232-b6dd-9605c96057d9",
   "metadata": {
    "execution": {
     "iopub.execute_input": "2023-10-03T19:46:26.868456Z",
     "iopub.status.busy": "2023-10-03T19:46:26.867392Z",
     "iopub.status.idle": "2023-10-03T19:46:26.874703Z",
     "shell.execute_reply": "2023-10-03T19:46:26.873802Z",
     "shell.execute_reply.started": "2023-10-03T19:46:26.868397Z"
    },
    "tags": []
   },
   "outputs": [],
   "source": [
    "def filter_state(state):\n",
    "    fp_state = fips[fips['ST'] == state]\n",
    "    gdf_state = gdf[gdf['STATEFP'] == str(fp_state.iloc[0,0])]\n",
    "    \n",
    "    return state, gdf_state\n",
    "    "
   ]
  },
  {
   "cell_type": "code",
   "execution_count": 112,
   "id": "b991e7ef-c687-4b2c-b637-67ffabff2ff0",
   "metadata": {
    "execution": {
     "iopub.execute_input": "2023-10-03T19:46:20.988753Z",
     "iopub.status.busy": "2023-10-03T19:46:20.987685Z",
     "iopub.status.idle": "2023-10-03T19:46:21.047485Z",
     "shell.execute_reply": "2023-10-03T19:46:21.046911Z",
     "shell.execute_reply.started": "2023-10-03T19:46:20.988683Z"
    },
    "tags": []
   },
   "outputs": [
    {
     "name": "stdout",
     "output_type": "stream",
     "text": [
      "17\n"
     ]
    },
    {
     "data": {
      "text/plain": [
       "('IL',\n",
       "      STATEFP COUNTYFP  COUNTYNS  GEOID       NAME          NAMELSAD LSAD  \\\n",
       " 85        17      067  00424235  17067    Hancock    Hancock County   06   \n",
       " 92        17      025  00424214  17025       Clay       Clay County   06   \n",
       " 131       17      185  00424293  17185     Wabash     Wabash County   06   \n",
       " 148       17      113  01784833  17113     McLean     McLean County   06   \n",
       " 158       17      005  00424204  17005       Bond       Bond County   06   \n",
       " ...      ...      ...       ...    ...        ...               ...  ...   \n",
       " 2901      17      111  01784815  17111    McHenry    McHenry County   06   \n",
       " 2922      17      015  00424209  17015    Carroll    Carroll County   06   \n",
       " 2987      17      047  00424225  17047    Edwards    Edwards County   06   \n",
       " 2996      17      071  00424237  17071  Henderson  Henderson County   06   \n",
       " 3090      17      077  00424240  17077    Jackson    Jackson County   06   \n",
       " \n",
       "      CLASSFP  MTFCC CSAFP CBSAFP METDIVFP FUNCSTAT       ALAND    AWATER  \\\n",
       " 85        H1  G4020   161  22800      NaN        A  2055798692  53563370   \n",
       " 92        H1  G4020   NaN    NaN      NaN        A  1212815740   3271820   \n",
       " 131       H1  G4020   NaN    NaN      NaN        A   578403998  10973558   \n",
       " 148       H1  G4020   145  14010      NaN        A  3064600918   7801224   \n",
       " 158       H1  G4020   476  41180      NaN        A   985073265   6462629   \n",
       " ...      ...    ...   ...    ...      ...      ...         ...       ...   \n",
       " 2901      H1  G4020   176  16980    16984        A  1562786765  19872668   \n",
       " 2922      H1  G4020   NaN    NaN      NaN        A  1153597403  55881824   \n",
       " 2987      H1  G4020   NaN    NaN      NaN        A   576012469    781202   \n",
       " 2996      H1  G4020   161  15460      NaN        A   981077355  42557372   \n",
       " 3090      H1  G4020   NaN  16060      NaN        A  1511439610  48312227   \n",
       " \n",
       "          INTPTLAT      INTPTLON  \\\n",
       " 85    +40.4013180  -091.1688008   \n",
       " 92    +38.7468187  -088.4823254   \n",
       " 131   +38.4458209  -087.8391674   \n",
       " 148   +40.4945594  -088.8445391   \n",
       " 158   +38.8859240  -089.4365916   \n",
       " ...           ...           ...   \n",
       " 2901  +42.3242982  -088.4522450   \n",
       " 2922  +42.0709000  -089.9241894   \n",
       " 2987  +38.4170954  -088.0479408   \n",
       " 2996  +40.8144710  -090.9412464   \n",
       " 3090  +37.7860959  -089.3812119   \n",
       " \n",
       "                                                geometry  \n",
       " 85    POLYGON ((-91.37421 40.46399, -91.37385 40.464...  \n",
       " 92    POLYGON ((-88.69517 38.82630, -88.69516 38.826...  \n",
       " 131   POLYGON ((-87.94460 38.44581, -87.94405 38.446...  \n",
       " 148   POLYGON ((-89.26650 40.48555, -89.26653 40.486...  \n",
       " 158   POLYGON ((-89.36179 39.02772, -89.35987 39.027...  \n",
       " ...                                                 ...  \n",
       " 2901  POLYGON ((-88.23789 42.49489, -88.23428 42.494...  \n",
       " 2922  POLYGON ((-90.16133 42.10972, -90.16135 42.110...  \n",
       " 2987  POLYGON ((-88.14813 38.44393, -88.14812 38.445...  \n",
       " 2996  POLYGON ((-91.01390 40.89562, -91.01324 40.896...  \n",
       " 3090  POLYGON ((-89.64979 37.86879, -89.64637 37.874...  \n",
       " \n",
       " [102 rows x 18 columns])"
      ]
     },
     "execution_count": 112,
     "metadata": {},
     "output_type": "execute_result"
    }
   ],
   "source": [
    "filter_state('IL')"
   ]
  },
  {
   "cell_type": "code",
   "execution_count": 15,
   "id": "12966565-bf93-47f9-a3d8-3097b94920c3",
   "metadata": {
    "execution": {
     "iopub.execute_input": "2023-09-28T16:33:28.568791Z",
     "iopub.status.busy": "2023-09-28T16:33:28.567868Z",
     "iopub.status.idle": "2023-09-28T16:33:28.594390Z",
     "shell.execute_reply": "2023-09-28T16:33:28.593853Z",
     "shell.execute_reply.started": "2023-09-28T16:33:28.568726Z"
    }
   },
   "outputs": [
    {
     "name": "stdout",
     "output_type": "stream",
     "text": [
      "County Name: San Francisco\n"
     ]
    }
   ],
   "source": [
    "def get_county_name(latitude, longitude):\n",
    "    point = gpd.GeoDataFrame(geometry=gpd.points_from_xy([longitude], [latitude]))\n",
    "    county = gdf_CA[gdf_CA.contains(point.unary_union)]\n",
    "    return county['NAME'].iloc[0] if not county.empty else None\n",
    "\n",
    "# Example usage\n",
    "latitude = 37.7749  # Example latitude\n",
    "longitude = -122.4194  # Example longitude\n",
    "\n",
    "county_name = get_county_name(latitude, longitude)\n",
    "print(\"County Name:\", county_name)\n"
   ]
  },
  {
   "cell_type": "markdown",
   "id": "aa6d8591-c91d-43b0-ae11-e3ed08ddbfad",
   "metadata": {},
   "source": [
    "Exploring NorWeST_Stream_Temperatures_2040s_(Feature_Layer) downloaded as csv file from https://data-usfs.hub.arcgis.com/datasets/0cd39b50f7bb4539aac2a472bc93afe0_1/explore?location=39.832923%2C-112.988051%2C5.95"
   ]
  },
  {
   "cell_type": "code",
   "execution_count": 6,
   "id": "68d46476-b25f-4830-b8c4-728755aa7310",
   "metadata": {
    "execution": {
     "iopub.execute_input": "2023-09-21T22:02:02.770899Z",
     "iopub.status.busy": "2023-09-21T22:02:02.769843Z",
     "iopub.status.idle": "2023-09-21T22:02:05.169949Z",
     "shell.execute_reply": "2023-09-21T22:02:05.168570Z",
     "shell.execute_reply.started": "2023-09-21T22:02:02.770817Z"
    },
    "tags": []
   },
   "outputs": [],
   "source": [
    "stream = pd.read_csv(\"NorWeST_Stream_Temperatures_2040s_Feature_Layer.csv\")"
   ]
  },
  {
   "cell_type": "code",
   "execution_count": 7,
   "id": "dc220959-b0f3-4c06-8077-920da9fb79c6",
   "metadata": {
    "execution": {
     "iopub.execute_input": "2023-09-21T22:02:11.374005Z",
     "iopub.status.busy": "2023-09-21T22:02:11.372830Z",
     "iopub.status.idle": "2023-09-21T22:02:11.412392Z",
     "shell.execute_reply": "2023-09-21T22:02:11.410865Z",
     "shell.execute_reply.started": "2023-09-21T22:02:11.373932Z"
    }
   },
   "outputs": [
    {
     "data": {
      "text/html": [
       "<div>\n",
       "<style scoped>\n",
       "    .dataframe tbody tr th:only-of-type {\n",
       "        vertical-align: middle;\n",
       "    }\n",
       "\n",
       "    .dataframe tbody tr th {\n",
       "        vertical-align: top;\n",
       "    }\n",
       "\n",
       "    .dataframe thead th {\n",
       "        text-align: right;\n",
       "    }\n",
       "</style>\n",
       "<table border=\"1\" class=\"dataframe\">\n",
       "  <thead>\n",
       "    <tr style=\"text-align: right;\">\n",
       "      <th></th>\n",
       "      <th>OBJECTID</th>\n",
       "      <th>OBSPRED_ID</th>\n",
       "      <th>S1_93_11</th>\n",
       "      <th>S30_2040D</th>\n",
       "      <th>S32_2080D</th>\n",
       "      <th>COMID</th>\n",
       "      <th>GNIS_NAME</th>\n",
       "      <th>NHDV</th>\n",
       "      <th>SHAPELEN</th>\n",
       "    </tr>\n",
       "  </thead>\n",
       "  <tbody>\n",
       "    <tr>\n",
       "      <th>0</th>\n",
       "      <td>49243889</td>\n",
       "      <td>100189</td>\n",
       "      <td>21.30</td>\n",
       "      <td>21.65</td>\n",
       "      <td>21.91</td>\n",
       "      <td>15934665</td>\n",
       "      <td></td>\n",
       "      <td>2</td>\n",
       "      <td>0.010215</td>\n",
       "    </tr>\n",
       "    <tr>\n",
       "      <th>1</th>\n",
       "      <td>49243890</td>\n",
       "      <td>100190</td>\n",
       "      <td>21.41</td>\n",
       "      <td>21.76</td>\n",
       "      <td>22.03</td>\n",
       "      <td>15934665</td>\n",
       "      <td></td>\n",
       "      <td>2</td>\n",
       "      <td>0.010162</td>\n",
       "    </tr>\n",
       "    <tr>\n",
       "      <th>2</th>\n",
       "      <td>49243891</td>\n",
       "      <td>100191</td>\n",
       "      <td>21.50</td>\n",
       "      <td>21.85</td>\n",
       "      <td>22.11</td>\n",
       "      <td>15934665</td>\n",
       "      <td></td>\n",
       "      <td>2</td>\n",
       "      <td>0.010135</td>\n",
       "    </tr>\n",
       "    <tr>\n",
       "      <th>3</th>\n",
       "      <td>49243892</td>\n",
       "      <td>100192</td>\n",
       "      <td>21.58</td>\n",
       "      <td>21.93</td>\n",
       "      <td>22.19</td>\n",
       "      <td>15934665</td>\n",
       "      <td></td>\n",
       "      <td>2</td>\n",
       "      <td>0.009902</td>\n",
       "    </tr>\n",
       "    <tr>\n",
       "      <th>4</th>\n",
       "      <td>49243893</td>\n",
       "      <td>100193</td>\n",
       "      <td>21.62</td>\n",
       "      <td>21.98</td>\n",
       "      <td>22.24</td>\n",
       "      <td>15934665</td>\n",
       "      <td></td>\n",
       "      <td>2</td>\n",
       "      <td>0.009975</td>\n",
       "    </tr>\n",
       "  </tbody>\n",
       "</table>\n",
       "</div>"
      ],
      "text/plain": [
       "   OBJECTID  OBSPRED_ID  S1_93_11  S30_2040D  S32_2080D     COMID GNIS_NAME  \\\n",
       "0  49243889      100189     21.30      21.65      21.91  15934665             \n",
       "1  49243890      100190     21.41      21.76      22.03  15934665             \n",
       "2  49243891      100191     21.50      21.85      22.11  15934665             \n",
       "3  49243892      100192     21.58      21.93      22.19  15934665             \n",
       "4  49243893      100193     21.62      21.98      22.24  15934665             \n",
       "\n",
       "   NHDV  SHAPELEN  \n",
       "0     2  0.010215  \n",
       "1     2  0.010162  \n",
       "2     2  0.010135  \n",
       "3     2  0.009902  \n",
       "4     2  0.009975  "
      ]
     },
     "execution_count": 7,
     "metadata": {},
     "output_type": "execute_result"
    }
   ],
   "source": [
    "stream.head()"
   ]
  },
  {
   "cell_type": "code",
   "execution_count": null,
   "id": "ca6fc567-071f-48b6-b8d7-08089769b987",
   "metadata": {},
   "outputs": [],
   "source": []
  }
 ],
 "metadata": {
  "kernelspec": {
   "display_name": "Python 3 (ipykernel)",
   "language": "python",
   "name": "python3"
  },
  "language_info": {
   "codemirror_mode": {
    "name": "ipython",
    "version": 3
   },
   "file_extension": ".py",
   "mimetype": "text/x-python",
   "name": "python",
   "nbconvert_exporter": "python",
   "pygments_lexer": "ipython3",
   "version": "3.10.9"
  }
 },
 "nbformat": 4,
 "nbformat_minor": 5
}
