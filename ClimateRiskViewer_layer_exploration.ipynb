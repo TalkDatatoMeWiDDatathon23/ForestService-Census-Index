{
 "cells": [
  {
   "cell_type": "markdown",
   "id": "4a8692c9-df18-431e-aa3b-0e95fcf87438",
   "metadata": {},
   "source": [
    "# Data exploration of Climate Risk Viewer"
   ]
  },
  {
   "cell_type": "code",
   "execution_count": 4,
   "id": "82a066b7-98ba-4827-96f2-222b638a1ca7",
   "metadata": {
    "execution": {
     "iopub.execute_input": "2023-09-21T22:01:34.970884Z",
     "iopub.status.busy": "2023-09-21T22:01:34.969688Z",
     "iopub.status.idle": "2023-09-21T22:01:35.888464Z",
     "shell.execute_reply": "2023-09-21T22:01:35.887874Z",
     "shell.execute_reply.started": "2023-09-21T22:01:34.970829Z"
    }
   },
   "outputs": [],
   "source": [
    "#libraries\n",
    "\n",
    "import pandas as pd\n",
    "import numpy as np\n",
    "import geopandas as gpd"
   ]
  },
  {
   "cell_type": "markdown",
   "id": "5f618b05-b79a-4896-97e7-7b2f14c4f487",
   "metadata": {},
   "source": [
    "# To do\n",
    "\n",
    "## Select a few layers we want to work with census\n",
    "\n",
    "## identify values that we can transform\n",
    "\n",
    "## Find features that will help us merge the data\n",
    "\n",
    "## Calculate an index based on weight of each value that is overlaped\n",
    "\n",
    "## Map the index "
   ]
  },
  {
   "cell_type": "markdown",
   "id": "aa6d8591-c91d-43b0-ae11-e3ed08ddbfad",
   "metadata": {},
   "source": [
    "Exploring NorWeST_Stream_Temperatures_2040s_(Feature_Layer) downloaded as csv file from https://data-usfs.hub.arcgis.com/datasets/0cd39b50f7bb4539aac2a472bc93afe0_1/explore?location=39.832923%2C-112.988051%2C5.95"
   ]
  },
  {
   "cell_type": "code",
   "execution_count": 6,
   "id": "68d46476-b25f-4830-b8c4-728755aa7310",
   "metadata": {
    "execution": {
     "iopub.execute_input": "2023-09-21T22:02:02.770899Z",
     "iopub.status.busy": "2023-09-21T22:02:02.769843Z",
     "iopub.status.idle": "2023-09-21T22:02:05.169949Z",
     "shell.execute_reply": "2023-09-21T22:02:05.168570Z",
     "shell.execute_reply.started": "2023-09-21T22:02:02.770817Z"
    },
    "tags": []
   },
   "outputs": [],
   "source": [
    "stream = pd.read_csv(\"NorWeST_Stream_Temperatures_2040s_Feature_Layer.csv\")"
   ]
  },
  {
   "cell_type": "code",
   "execution_count": 7,
   "id": "dc220959-b0f3-4c06-8077-920da9fb79c6",
   "metadata": {
    "execution": {
     "iopub.execute_input": "2023-09-21T22:02:11.374005Z",
     "iopub.status.busy": "2023-09-21T22:02:11.372830Z",
     "iopub.status.idle": "2023-09-21T22:02:11.412392Z",
     "shell.execute_reply": "2023-09-21T22:02:11.410865Z",
     "shell.execute_reply.started": "2023-09-21T22:02:11.373932Z"
    }
   },
   "outputs": [
    {
     "data": {
      "text/html": [
       "<div>\n",
       "<style scoped>\n",
       "    .dataframe tbody tr th:only-of-type {\n",
       "        vertical-align: middle;\n",
       "    }\n",
       "\n",
       "    .dataframe tbody tr th {\n",
       "        vertical-align: top;\n",
       "    }\n",
       "\n",
       "    .dataframe thead th {\n",
       "        text-align: right;\n",
       "    }\n",
       "</style>\n",
       "<table border=\"1\" class=\"dataframe\">\n",
       "  <thead>\n",
       "    <tr style=\"text-align: right;\">\n",
       "      <th></th>\n",
       "      <th>OBJECTID</th>\n",
       "      <th>OBSPRED_ID</th>\n",
       "      <th>S1_93_11</th>\n",
       "      <th>S30_2040D</th>\n",
       "      <th>S32_2080D</th>\n",
       "      <th>COMID</th>\n",
       "      <th>GNIS_NAME</th>\n",
       "      <th>NHDV</th>\n",
       "      <th>SHAPELEN</th>\n",
       "    </tr>\n",
       "  </thead>\n",
       "  <tbody>\n",
       "    <tr>\n",
       "      <th>0</th>\n",
       "      <td>49243889</td>\n",
       "      <td>100189</td>\n",
       "      <td>21.30</td>\n",
       "      <td>21.65</td>\n",
       "      <td>21.91</td>\n",
       "      <td>15934665</td>\n",
       "      <td></td>\n",
       "      <td>2</td>\n",
       "      <td>0.010215</td>\n",
       "    </tr>\n",
       "    <tr>\n",
       "      <th>1</th>\n",
       "      <td>49243890</td>\n",
       "      <td>100190</td>\n",
       "      <td>21.41</td>\n",
       "      <td>21.76</td>\n",
       "      <td>22.03</td>\n",
       "      <td>15934665</td>\n",
       "      <td></td>\n",
       "      <td>2</td>\n",
       "      <td>0.010162</td>\n",
       "    </tr>\n",
       "    <tr>\n",
       "      <th>2</th>\n",
       "      <td>49243891</td>\n",
       "      <td>100191</td>\n",
       "      <td>21.50</td>\n",
       "      <td>21.85</td>\n",
       "      <td>22.11</td>\n",
       "      <td>15934665</td>\n",
       "      <td></td>\n",
       "      <td>2</td>\n",
       "      <td>0.010135</td>\n",
       "    </tr>\n",
       "    <tr>\n",
       "      <th>3</th>\n",
       "      <td>49243892</td>\n",
       "      <td>100192</td>\n",
       "      <td>21.58</td>\n",
       "      <td>21.93</td>\n",
       "      <td>22.19</td>\n",
       "      <td>15934665</td>\n",
       "      <td></td>\n",
       "      <td>2</td>\n",
       "      <td>0.009902</td>\n",
       "    </tr>\n",
       "    <tr>\n",
       "      <th>4</th>\n",
       "      <td>49243893</td>\n",
       "      <td>100193</td>\n",
       "      <td>21.62</td>\n",
       "      <td>21.98</td>\n",
       "      <td>22.24</td>\n",
       "      <td>15934665</td>\n",
       "      <td></td>\n",
       "      <td>2</td>\n",
       "      <td>0.009975</td>\n",
       "    </tr>\n",
       "  </tbody>\n",
       "</table>\n",
       "</div>"
      ],
      "text/plain": [
       "   OBJECTID  OBSPRED_ID  S1_93_11  S30_2040D  S32_2080D     COMID GNIS_NAME  \\\n",
       "0  49243889      100189     21.30      21.65      21.91  15934665             \n",
       "1  49243890      100190     21.41      21.76      22.03  15934665             \n",
       "2  49243891      100191     21.50      21.85      22.11  15934665             \n",
       "3  49243892      100192     21.58      21.93      22.19  15934665             \n",
       "4  49243893      100193     21.62      21.98      22.24  15934665             \n",
       "\n",
       "   NHDV  SHAPELEN  \n",
       "0     2  0.010215  \n",
       "1     2  0.010162  \n",
       "2     2  0.010135  \n",
       "3     2  0.009902  \n",
       "4     2  0.009975  "
      ]
     },
     "execution_count": 7,
     "metadata": {},
     "output_type": "execute_result"
    }
   ],
   "source": [
    "stream.head()"
   ]
  },
  {
   "cell_type": "code",
   "execution_count": null,
   "id": "ca6fc567-071f-48b6-b8d7-08089769b987",
   "metadata": {},
   "outputs": [],
   "source": []
  }
 ],
 "metadata": {
  "kernelspec": {
   "display_name": "Python 3 (ipykernel)",
   "language": "python",
   "name": "python3"
  },
  "language_info": {
   "codemirror_mode": {
    "name": "ipython",
    "version": 3
   },
   "file_extension": ".py",
   "mimetype": "text/x-python",
   "name": "python",
   "nbconvert_exporter": "python",
   "pygments_lexer": "ipython3",
   "version": "3.10.9"
  }
 },
 "nbformat": 4,
 "nbformat_minor": 5
}
