{
 "cells": [
  {
   "cell_type": "markdown",
   "id": "4a8692c9-df18-431e-aa3b-0e95fcf87438",
   "metadata": {},
   "source": [
    "# Data exploration of Climate Risk Viewer"
   ]
  },
  {
   "cell_type": "code",
   "execution_count": 1,
   "id": "82a066b7-98ba-4827-96f2-222b638a1ca7",
   "metadata": {
    "execution": {
     "iopub.execute_input": "2023-09-28T16:43:33.688623Z",
     "iopub.status.busy": "2023-09-28T16:43:33.687425Z",
     "iopub.status.idle": "2023-09-28T16:43:34.193693Z",
     "shell.execute_reply": "2023-09-28T16:43:34.193351Z",
     "shell.execute_reply.started": "2023-09-28T16:43:33.688529Z"
    },
    "tags": []
   },
   "outputs": [],
   "source": [
    "#libraries\n",
    "\n",
    "import pandas as pd\n",
    "import numpy as np\n",
    "import geopandas as gpd\n",
    "import requests\n",
    "import pyarrow"
   ]
  },
  {
   "cell_type": "markdown",
   "id": "5f618b05-b79a-4896-97e7-7b2f14c4f487",
   "metadata": {},
   "source": [
    "# To do\n",
    "\n",
    "## Select a few layers we want to work with census\n",
    "\n",
    "## identify values that we can transform\n",
    "\n",
    "## Find features that will help us merge the data\n",
    "\n",
    "## Calculate an index based on weight of each value that is overlaped\n",
    "\n",
    "## Map the index "
   ]
  },
  {
   "cell_type": "code",
   "execution_count": 2,
   "id": "9c5af452-bddc-4ad9-819f-de403ecccc10",
   "metadata": {
    "execution": {
     "iopub.execute_input": "2023-09-28T16:12:03.124666Z",
     "iopub.status.busy": "2023-09-28T16:12:03.116005Z",
     "iopub.status.idle": "2023-09-28T16:12:03.622683Z",
     "shell.execute_reply": "2023-09-28T16:12:03.622196Z",
     "shell.execute_reply.started": "2023-09-28T16:12:03.124557Z"
    }
   },
   "outputs": [
    {
     "data": {
      "text/plain": [
       "58500"
      ]
     },
     "execution_count": 2,
     "metadata": {},
     "output_type": "execute_result"
    }
   ],
   "source": [
    "# downloading files from the CRV\n"
   ]
  },
  {
   "cell_type": "code",
   "execution_count": 2,
   "id": "806d6b90-feb1-463f-8c75-0ae870eeadba",
   "metadata": {
    "execution": {
     "iopub.execute_input": "2023-09-28T16:43:36.584656Z",
     "iopub.status.busy": "2023-09-28T16:43:36.583218Z",
     "iopub.status.idle": "2023-09-28T16:43:43.141188Z",
     "shell.execute_reply": "2023-09-28T16:43:43.140877Z",
     "shell.execute_reply.started": "2023-09-28T16:43:36.584595Z"
    },
    "tags": []
   },
   "outputs": [
    {
     "data": {
      "text/html": [
       "<div>\n",
       "<style scoped>\n",
       "    .dataframe tbody tr th:only-of-type {\n",
       "        vertical-align: middle;\n",
       "    }\n",
       "\n",
       "    .dataframe tbody tr th {\n",
       "        vertical-align: top;\n",
       "    }\n",
       "\n",
       "    .dataframe thead th {\n",
       "        text-align: right;\n",
       "    }\n",
       "</style>\n",
       "<table border=\"1\" class=\"dataframe\">\n",
       "  <thead>\n",
       "    <tr style=\"text-align: right;\">\n",
       "      <th></th>\n",
       "      <th>STATEFP</th>\n",
       "      <th>COUNTYFP</th>\n",
       "      <th>COUNTYNS</th>\n",
       "      <th>GEOID</th>\n",
       "      <th>NAME</th>\n",
       "      <th>NAMELSAD</th>\n",
       "      <th>LSAD</th>\n",
       "      <th>CLASSFP</th>\n",
       "      <th>MTFCC</th>\n",
       "      <th>CSAFP</th>\n",
       "      <th>CBSAFP</th>\n",
       "      <th>METDIVFP</th>\n",
       "      <th>FUNCSTAT</th>\n",
       "      <th>ALAND</th>\n",
       "      <th>AWATER</th>\n",
       "      <th>INTPTLAT</th>\n",
       "      <th>INTPTLON</th>\n",
       "      <th>geometry</th>\n",
       "    </tr>\n",
       "  </thead>\n",
       "  <tbody>\n",
       "    <tr>\n",
       "      <th>0</th>\n",
       "      <td>31</td>\n",
       "      <td>039</td>\n",
       "      <td>00835841</td>\n",
       "      <td>31039</td>\n",
       "      <td>Cuming</td>\n",
       "      <td>Cuming County</td>\n",
       "      <td>06</td>\n",
       "      <td>H1</td>\n",
       "      <td>G4020</td>\n",
       "      <td>NaN</td>\n",
       "      <td>NaN</td>\n",
       "      <td>NaN</td>\n",
       "      <td>A</td>\n",
       "      <td>1477652222</td>\n",
       "      <td>10690952</td>\n",
       "      <td>+41.9158651</td>\n",
       "      <td>-096.7885168</td>\n",
       "      <td>POLYGON ((-97.01952 42.00410, -97.01952 42.004...</td>\n",
       "    </tr>\n",
       "    <tr>\n",
       "      <th>1</th>\n",
       "      <td>53</td>\n",
       "      <td>069</td>\n",
       "      <td>01513275</td>\n",
       "      <td>53069</td>\n",
       "      <td>Wahkiakum</td>\n",
       "      <td>Wahkiakum County</td>\n",
       "      <td>06</td>\n",
       "      <td>H1</td>\n",
       "      <td>G4020</td>\n",
       "      <td>NaN</td>\n",
       "      <td>NaN</td>\n",
       "      <td>NaN</td>\n",
       "      <td>A</td>\n",
       "      <td>680962890</td>\n",
       "      <td>61582307</td>\n",
       "      <td>+46.2946377</td>\n",
       "      <td>-123.4244583</td>\n",
       "      <td>POLYGON ((-123.43639 46.23820, -123.44759 46.2...</td>\n",
       "    </tr>\n",
       "    <tr>\n",
       "      <th>2</th>\n",
       "      <td>35</td>\n",
       "      <td>011</td>\n",
       "      <td>00933054</td>\n",
       "      <td>35011</td>\n",
       "      <td>De Baca</td>\n",
       "      <td>De Baca County</td>\n",
       "      <td>06</td>\n",
       "      <td>H1</td>\n",
       "      <td>G4020</td>\n",
       "      <td>NaN</td>\n",
       "      <td>NaN</td>\n",
       "      <td>NaN</td>\n",
       "      <td>A</td>\n",
       "      <td>6016819475</td>\n",
       "      <td>29089486</td>\n",
       "      <td>+34.3592729</td>\n",
       "      <td>-104.3686961</td>\n",
       "      <td>POLYGON ((-104.56739 33.99757, -104.56772 33.9...</td>\n",
       "    </tr>\n",
       "    <tr>\n",
       "      <th>3</th>\n",
       "      <td>31</td>\n",
       "      <td>109</td>\n",
       "      <td>00835876</td>\n",
       "      <td>31109</td>\n",
       "      <td>Lancaster</td>\n",
       "      <td>Lancaster County</td>\n",
       "      <td>06</td>\n",
       "      <td>H1</td>\n",
       "      <td>G4020</td>\n",
       "      <td>339</td>\n",
       "      <td>30700</td>\n",
       "      <td>NaN</td>\n",
       "      <td>A</td>\n",
       "      <td>2169270569</td>\n",
       "      <td>22849484</td>\n",
       "      <td>+40.7835474</td>\n",
       "      <td>-096.6886584</td>\n",
       "      <td>POLYGON ((-96.91075 40.78494, -96.91075 40.790...</td>\n",
       "    </tr>\n",
       "    <tr>\n",
       "      <th>4</th>\n",
       "      <td>31</td>\n",
       "      <td>129</td>\n",
       "      <td>00835886</td>\n",
       "      <td>31129</td>\n",
       "      <td>Nuckolls</td>\n",
       "      <td>Nuckolls County</td>\n",
       "      <td>06</td>\n",
       "      <td>H1</td>\n",
       "      <td>G4020</td>\n",
       "      <td>NaN</td>\n",
       "      <td>NaN</td>\n",
       "      <td>NaN</td>\n",
       "      <td>A</td>\n",
       "      <td>1489645188</td>\n",
       "      <td>1718484</td>\n",
       "      <td>+40.1764918</td>\n",
       "      <td>-098.0468422</td>\n",
       "      <td>POLYGON ((-98.27367 40.08940, -98.27367 40.089...</td>\n",
       "    </tr>\n",
       "  </tbody>\n",
       "</table>\n",
       "</div>"
      ],
      "text/plain": [
       "  STATEFP COUNTYFP  COUNTYNS  GEOID       NAME          NAMELSAD LSAD CLASSFP  \\\n",
       "0      31      039  00835841  31039     Cuming     Cuming County   06      H1   \n",
       "1      53      069  01513275  53069  Wahkiakum  Wahkiakum County   06      H1   \n",
       "2      35      011  00933054  35011    De Baca    De Baca County   06      H1   \n",
       "3      31      109  00835876  31109  Lancaster  Lancaster County   06      H1   \n",
       "4      31      129  00835886  31129   Nuckolls   Nuckolls County   06      H1   \n",
       "\n",
       "   MTFCC CSAFP CBSAFP METDIVFP FUNCSTAT       ALAND    AWATER     INTPTLAT  \\\n",
       "0  G4020   NaN    NaN      NaN        A  1477652222  10690952  +41.9158651   \n",
       "1  G4020   NaN    NaN      NaN        A   680962890  61582307  +46.2946377   \n",
       "2  G4020   NaN    NaN      NaN        A  6016819475  29089486  +34.3592729   \n",
       "3  G4020   339  30700      NaN        A  2169270569  22849484  +40.7835474   \n",
       "4  G4020   NaN    NaN      NaN        A  1489645188   1718484  +40.1764918   \n",
       "\n",
       "       INTPTLON                                           geometry  \n",
       "0  -096.7885168  POLYGON ((-97.01952 42.00410, -97.01952 42.004...  \n",
       "1  -123.4244583  POLYGON ((-123.43639 46.23820, -123.44759 46.2...  \n",
       "2  -104.3686961  POLYGON ((-104.56739 33.99757, -104.56772 33.9...  \n",
       "3  -096.6886584  POLYGON ((-96.91075 40.78494, -96.91075 40.790...  \n",
       "4  -098.0468422  POLYGON ((-98.27367 40.08940, -98.27367 40.089...  "
      ]
     },
     "execution_count": 2,
     "metadata": {},
     "output_type": "execute_result"
    }
   ],
   "source": [
    "#trying to identify counties by latitude/longitude coordinates using TIGER/Line Shapefile, 2019, nation, U.S., Current County and Equivalent National Shapefile from data.gov\n",
    "\n",
    "# Load the shapefile\n",
    "gdf = gpd.read_file('tl_2019_us_county/tl_2019_us_county.shp') #file is too large to commit; download from https://catalog.data.gov/dataset/tiger-line-shapefile-2019-nation-u-s-current-county-and-equivalent-national-shapefile\n",
    "\n",
    "gdf.head()"
   ]
  },
  {
   "cell_type": "code",
   "execution_count": 3,
   "id": "6310060d-1305-41c7-a1fd-8de010879d98",
   "metadata": {
    "execution": {
     "iopub.execute_input": "2023-09-28T16:43:46.041428Z",
     "iopub.status.busy": "2023-09-28T16:43:46.040362Z",
     "iopub.status.idle": "2023-09-28T16:43:46.049542Z",
     "shell.execute_reply": "2023-09-28T16:43:46.048352Z",
     "shell.execute_reply.started": "2023-09-28T16:43:46.041362Z"
    },
    "tags": []
   },
   "outputs": [
    {
     "data": {
      "text/plain": [
       "(3233, 18)"
      ]
     },
     "execution_count": 3,
     "metadata": {},
     "output_type": "execute_result"
    }
   ],
   "source": [
    "gdf.shape"
   ]
  },
  {
   "cell_type": "code",
   "execution_count": 4,
   "id": "106d4d6e-4230-4df2-b5dc-2c518a9ea0e3",
   "metadata": {
    "execution": {
     "iopub.execute_input": "2023-09-28T16:43:46.489062Z",
     "iopub.status.busy": "2023-09-28T16:43:46.487979Z",
     "iopub.status.idle": "2023-09-28T16:43:46.505095Z",
     "shell.execute_reply": "2023-09-28T16:43:46.504171Z",
     "shell.execute_reply.started": "2023-09-28T16:43:46.488998Z"
    },
    "tags": []
   },
   "outputs": [],
   "source": [
    "gdf_CA = gdf[gdf['STATEFP']=='06']"
   ]
  },
  {
   "cell_type": "code",
   "execution_count": 5,
   "id": "ce836baf-3bd1-47c5-a2de-65941b199175",
   "metadata": {
    "execution": {
     "iopub.execute_input": "2023-09-28T16:43:47.237481Z",
     "iopub.status.busy": "2023-09-28T16:43:47.236432Z",
     "iopub.status.idle": "2023-09-28T16:43:47.246046Z",
     "shell.execute_reply": "2023-09-28T16:43:47.244982Z",
     "shell.execute_reply.started": "2023-09-28T16:43:47.237414Z"
    },
    "tags": []
   },
   "outputs": [
    {
     "data": {
      "text/plain": [
       "(58, 18)"
      ]
     },
     "execution_count": 5,
     "metadata": {},
     "output_type": "execute_result"
    }
   ],
   "source": [
    "gdf_CA.shape"
   ]
  },
  {
   "cell_type": "code",
   "execution_count": 6,
   "id": "a91deb47-cbb2-4128-956c-8407e23a255d",
   "metadata": {
    "execution": {
     "iopub.execute_input": "2023-09-28T16:43:49.824093Z",
     "iopub.status.busy": "2023-09-28T16:43:49.823034Z",
     "iopub.status.idle": "2023-09-28T16:43:49.968269Z",
     "shell.execute_reply": "2023-09-28T16:43:49.967868Z",
     "shell.execute_reply.started": "2023-09-28T16:43:49.824017Z"
    },
    "tags": []
   },
   "outputs": [],
   "source": [
    "gdf_CA.to_csv('gdf_CA.csv')\n",
    "#to write to shapefile format\n",
    "#gdf_CA.to_file(\"California.shp\")"
   ]
  },
  {
   "cell_type": "code",
   "execution_count": 7,
   "id": "4acc617f-808c-442e-8e2a-19f4c7fec232",
   "metadata": {
    "execution": {
     "iopub.execute_input": "2023-09-28T16:43:50.217484Z",
     "iopub.status.busy": "2023-09-28T16:43:50.216739Z",
     "iopub.status.idle": "2023-09-28T16:43:51.380258Z",
     "shell.execute_reply": "2023-09-28T16:43:51.379875Z",
     "shell.execute_reply.started": "2023-09-28T16:43:50.217423Z"
    },
    "tags": []
   },
   "outputs": [],
   "source": [
    "gdf_CA.to_parquet('gdf_CA.parquet.gzip',\n",
    "              compression='gzip')  \n",
    "#pd.read_parquet('df.parquet.gzip')  "
   ]
  },
  {
   "cell_type": "code",
   "execution_count": 15,
   "id": "12966565-bf93-47f9-a3d8-3097b94920c3",
   "metadata": {
    "execution": {
     "iopub.execute_input": "2023-09-28T16:33:28.568791Z",
     "iopub.status.busy": "2023-09-28T16:33:28.567868Z",
     "iopub.status.idle": "2023-09-28T16:33:28.594390Z",
     "shell.execute_reply": "2023-09-28T16:33:28.593853Z",
     "shell.execute_reply.started": "2023-09-28T16:33:28.568726Z"
    }
   },
   "outputs": [
    {
     "name": "stdout",
     "output_type": "stream",
     "text": [
      "County Name: San Francisco\n"
     ]
    }
   ],
   "source": [
    "def get_county_name(latitude, longitude):\n",
    "    point = gpd.GeoDataFrame(geometry=gpd.points_from_xy([longitude], [latitude]))\n",
    "    county = gdf_CA[gdf_CA.contains(point.unary_union)]\n",
    "    return county['NAME'].iloc[0] if not county.empty else None\n",
    "\n",
    "# Example usage\n",
    "latitude = 37.7749  # Example latitude\n",
    "longitude = -122.4194  # Example longitude\n",
    "\n",
    "county_name = get_county_name(latitude, longitude)\n",
    "print(\"County Name:\", county_name)\n"
   ]
  },
  {
   "cell_type": "markdown",
   "id": "aa6d8591-c91d-43b0-ae11-e3ed08ddbfad",
   "metadata": {},
   "source": [
    "Exploring NorWeST_Stream_Temperatures_2040s_(Feature_Layer) downloaded as csv file from https://data-usfs.hub.arcgis.com/datasets/0cd39b50f7bb4539aac2a472bc93afe0_1/explore?location=39.832923%2C-112.988051%2C5.95"
   ]
  },
  {
   "cell_type": "code",
   "execution_count": 6,
   "id": "68d46476-b25f-4830-b8c4-728755aa7310",
   "metadata": {
    "execution": {
     "iopub.execute_input": "2023-09-21T22:02:02.770899Z",
     "iopub.status.busy": "2023-09-21T22:02:02.769843Z",
     "iopub.status.idle": "2023-09-21T22:02:05.169949Z",
     "shell.execute_reply": "2023-09-21T22:02:05.168570Z",
     "shell.execute_reply.started": "2023-09-21T22:02:02.770817Z"
    },
    "tags": []
   },
   "outputs": [],
   "source": [
    "stream = pd.read_csv(\"NorWeST_Stream_Temperatures_2040s_Feature_Layer.csv\")"
   ]
  },
  {
   "cell_type": "code",
   "execution_count": 7,
   "id": "dc220959-b0f3-4c06-8077-920da9fb79c6",
   "metadata": {
    "execution": {
     "iopub.execute_input": "2023-09-21T22:02:11.374005Z",
     "iopub.status.busy": "2023-09-21T22:02:11.372830Z",
     "iopub.status.idle": "2023-09-21T22:02:11.412392Z",
     "shell.execute_reply": "2023-09-21T22:02:11.410865Z",
     "shell.execute_reply.started": "2023-09-21T22:02:11.373932Z"
    }
   },
   "outputs": [
    {
     "data": {
      "text/html": [
       "<div>\n",
       "<style scoped>\n",
       "    .dataframe tbody tr th:only-of-type {\n",
       "        vertical-align: middle;\n",
       "    }\n",
       "\n",
       "    .dataframe tbody tr th {\n",
       "        vertical-align: top;\n",
       "    }\n",
       "\n",
       "    .dataframe thead th {\n",
       "        text-align: right;\n",
       "    }\n",
       "</style>\n",
       "<table border=\"1\" class=\"dataframe\">\n",
       "  <thead>\n",
       "    <tr style=\"text-align: right;\">\n",
       "      <th></th>\n",
       "      <th>OBJECTID</th>\n",
       "      <th>OBSPRED_ID</th>\n",
       "      <th>S1_93_11</th>\n",
       "      <th>S30_2040D</th>\n",
       "      <th>S32_2080D</th>\n",
       "      <th>COMID</th>\n",
       "      <th>GNIS_NAME</th>\n",
       "      <th>NHDV</th>\n",
       "      <th>SHAPELEN</th>\n",
       "    </tr>\n",
       "  </thead>\n",
       "  <tbody>\n",
       "    <tr>\n",
       "      <th>0</th>\n",
       "      <td>49243889</td>\n",
       "      <td>100189</td>\n",
       "      <td>21.30</td>\n",
       "      <td>21.65</td>\n",
       "      <td>21.91</td>\n",
       "      <td>15934665</td>\n",
       "      <td></td>\n",
       "      <td>2</td>\n",
       "      <td>0.010215</td>\n",
       "    </tr>\n",
       "    <tr>\n",
       "      <th>1</th>\n",
       "      <td>49243890</td>\n",
       "      <td>100190</td>\n",
       "      <td>21.41</td>\n",
       "      <td>21.76</td>\n",
       "      <td>22.03</td>\n",
       "      <td>15934665</td>\n",
       "      <td></td>\n",
       "      <td>2</td>\n",
       "      <td>0.010162</td>\n",
       "    </tr>\n",
       "    <tr>\n",
       "      <th>2</th>\n",
       "      <td>49243891</td>\n",
       "      <td>100191</td>\n",
       "      <td>21.50</td>\n",
       "      <td>21.85</td>\n",
       "      <td>22.11</td>\n",
       "      <td>15934665</td>\n",
       "      <td></td>\n",
       "      <td>2</td>\n",
       "      <td>0.010135</td>\n",
       "    </tr>\n",
       "    <tr>\n",
       "      <th>3</th>\n",
       "      <td>49243892</td>\n",
       "      <td>100192</td>\n",
       "      <td>21.58</td>\n",
       "      <td>21.93</td>\n",
       "      <td>22.19</td>\n",
       "      <td>15934665</td>\n",
       "      <td></td>\n",
       "      <td>2</td>\n",
       "      <td>0.009902</td>\n",
       "    </tr>\n",
       "    <tr>\n",
       "      <th>4</th>\n",
       "      <td>49243893</td>\n",
       "      <td>100193</td>\n",
       "      <td>21.62</td>\n",
       "      <td>21.98</td>\n",
       "      <td>22.24</td>\n",
       "      <td>15934665</td>\n",
       "      <td></td>\n",
       "      <td>2</td>\n",
       "      <td>0.009975</td>\n",
       "    </tr>\n",
       "  </tbody>\n",
       "</table>\n",
       "</div>"
      ],
      "text/plain": [
       "   OBJECTID  OBSPRED_ID  S1_93_11  S30_2040D  S32_2080D     COMID GNIS_NAME  \\\n",
       "0  49243889      100189     21.30      21.65      21.91  15934665             \n",
       "1  49243890      100190     21.41      21.76      22.03  15934665             \n",
       "2  49243891      100191     21.50      21.85      22.11  15934665             \n",
       "3  49243892      100192     21.58      21.93      22.19  15934665             \n",
       "4  49243893      100193     21.62      21.98      22.24  15934665             \n",
       "\n",
       "   NHDV  SHAPELEN  \n",
       "0     2  0.010215  \n",
       "1     2  0.010162  \n",
       "2     2  0.010135  \n",
       "3     2  0.009902  \n",
       "4     2  0.009975  "
      ]
     },
     "execution_count": 7,
     "metadata": {},
     "output_type": "execute_result"
    }
   ],
   "source": [
    "stream.head()"
   ]
  },
  {
   "cell_type": "code",
   "execution_count": null,
   "id": "ca6fc567-071f-48b6-b8d7-08089769b987",
   "metadata": {},
   "outputs": [],
   "source": []
  }
 ],
 "metadata": {
  "kernelspec": {
   "display_name": "Python 3 (ipykernel)",
   "language": "python",
   "name": "python3"
  },
  "language_info": {
   "codemirror_mode": {
    "name": "ipython",
    "version": 3
   },
   "file_extension": ".py",
   "mimetype": "text/x-python",
   "name": "python",
   "nbconvert_exporter": "python",
   "pygments_lexer": "ipython3",
   "version": "3.9.7"
  }
 },
 "nbformat": 4,
 "nbformat_minor": 5
}
